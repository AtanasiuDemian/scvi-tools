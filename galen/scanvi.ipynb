{
 "cells": [
  {
   "cell_type": "code",
   "execution_count": 3,
   "metadata": {},
   "outputs": [
    {
     "name": "stdout",
     "output_type": "stream",
     "text": [
      "The autoreload extension is already loaded. To reload it, use:\n",
      "  %reload_ext autoreload\n"
     ]
    }
   ],
   "source": [
    "%load_ext autoreload\n",
    "%autoreload 2\n",
    "%aimport anndata\n",
    "%aimport os\n",
    "%aimport torch\n",
    "import numpy as np\n",
    "import pandas as pd\n",
    "import scipy as sp\n",
    "import matplotlib.pyplot as plt\n",
    "from typing import Dict, Union, List, Tuple\n",
    "from torch.utils.data import Dataset\n",
    "# Control UMAP numba warnings\n",
    "import warnings; warnings.simplefilter('ignore')\n",
    "import copy\n",
    "import scvi\n",
    "from scvi.dataset.pbmc import PurifiedPBMCDataset\n",
    "from scvi.models.scanvi import SCANVI\n",
    "\n",
    "from scvi.inference import UnsupervisedTrainer, load_posterior, SemiSupervisedTrainer\n",
    "from scvi import set_seed\n",
    "from scvi.dataset import setup_anndata\n",
    "\n",
    "# Sets torch and numpy random seeds, run after all scvi imports\n",
    "set_seed(0)\n"
   ]
  },
  {
   "cell_type": "code",
   "execution_count": 2,
   "metadata": {},
   "outputs": [
    {
     "name": "stdout",
     "output_type": "stream",
     "text": [
      "http://cf.10xgenomics.com/samples/cell-exp/1.1.0/regulatory_t/regulatory_t_filtered_gene_bc_matrices.tar.gz\n",
      "[2020-06-30 17:54:43,973] INFO - scvi.dataset.dataset | File /Users/galen/scVI/galen/data/regulatory_t/filtered_gene_bc_matrices.tar.gz already downloaded\n",
      "> /Users/galen/scVI/scvi/dataset/dataset10X.py(161)__init__()\n",
      "-> self.adata = scanpy.read_10x_h5(os.path.join(save_path, filename))\n"
     ]
    },
    {
     "name": "stdin",
     "output_type": "stream",
     "text": [
      "(Pdb)  n\n"
     ]
    },
    {
     "name": "stdout",
     "output_type": "stream",
     "text": [
      "tables.exceptions.HDF5ExtError: HDF5 error back trace\n",
      "\n",
      "  File \"H5F.c\", line 509, in H5Fopen\n",
      "    unable to open file\n",
      "  File \"H5Fint.c\", line 1652, in H5F_open\n",
      "    unable to read superblock\n",
      "  File \"H5Fsuper.c\", line 411, in H5F__super_read\n",
      "    file signature not found\n",
      "\n",
      "End of HDF5 error back trace\n",
      "\n",
      "Unable to open/create file '/Users/galen/scVI/galen/data/regulatory_t/filtered_gene_bc_matrices.tar.gz'\n",
      "> /Users/galen/scVI/scvi/dataset/dataset10X.py(161)__init__()\n",
      "-> self.adata = scanpy.read_10x_h5(os.path.join(save_path, filename))\n"
     ]
    },
    {
     "name": "stdin",
     "output_type": "stream",
     "text": [
      "(Pdb)  exit\n"
     ]
    },
    {
     "ename": "BdbQuit",
     "evalue": "",
     "output_type": "error",
     "traceback": [
      "\u001b[0;31m---------------------------------------------------------------------------\u001b[0m",
      "\u001b[0;31mBdbQuit\u001b[0m                                   Traceback (most recent call last)",
      "\u001b[0;32m<ipython-input-2-8354936b2774>\u001b[0m in \u001b[0;36m<module>\u001b[0;34m\u001b[0m\n\u001b[1;32m      4\u001b[0m \u001b[0mcell_types\u001b[0m \u001b[0;34m=\u001b[0m \u001b[0;34m[\u001b[0m\u001b[0;36m1\u001b[0m\u001b[0;34m,\u001b[0m\u001b[0;36m2\u001b[0m\u001b[0;34m,\u001b[0m\u001b[0;36m3\u001b[0m\u001b[0;34m,\u001b[0m\u001b[0;36m5\u001b[0m\u001b[0;34m]\u001b[0m\u001b[0;34m\u001b[0m\u001b[0;34m\u001b[0m\u001b[0m\n\u001b[1;32m      5\u001b[0m \u001b[0;31m#cell_types should probably be a list of str instead of ints\u001b[0m\u001b[0;34m\u001b[0m\u001b[0;34m\u001b[0m\u001b[0;34m\u001b[0m\u001b[0m\n\u001b[0;32m----> 6\u001b[0;31m \u001b[0mpbmc\u001b[0m \u001b[0;34m=\u001b[0m \u001b[0mPurifiedPBMCDataset\u001b[0m\u001b[0;34m(\u001b[0m\u001b[0msubset_datasets\u001b[0m\u001b[0;34m=\u001b[0m\u001b[0mcell_types\u001b[0m\u001b[0;34m)\u001b[0m\u001b[0;34m\u001b[0m\u001b[0;34m\u001b[0m\u001b[0m\n\u001b[0m",
      "\u001b[0;32m~/scVI/scvi/dataset/pbmc.py\u001b[0m in \u001b[0;36m__init__\u001b[0;34m(self, save_path, subset_datasets, remove_extracted_data, delayed_populating)\u001b[0m\n\u001b[1;32m    174\u001b[0m         \u001b[0mself\u001b[0m\u001b[0;34m.\u001b[0m\u001b[0mremove_extracted_data\u001b[0m \u001b[0;34m=\u001b[0m \u001b[0mremove_extracted_data\u001b[0m\u001b[0;34m\u001b[0m\u001b[0;34m\u001b[0m\u001b[0m\n\u001b[1;32m    175\u001b[0m         \u001b[0mself\u001b[0m\u001b[0;34m.\u001b[0m\u001b[0mdataset_names\u001b[0m \u001b[0;34m=\u001b[0m \u001b[0mself\u001b[0m\u001b[0;34m.\u001b[0m\u001b[0mdataset_names\u001b[0m\u001b[0;34m[\u001b[0m\u001b[0msubset_datasets\u001b[0m\u001b[0;34m]\u001b[0m\u001b[0;34m\u001b[0m\u001b[0;34m\u001b[0m\u001b[0m\n\u001b[0;32m--> 176\u001b[0;31m         \u001b[0msuper\u001b[0m\u001b[0;34m(\u001b[0m\u001b[0;34m)\u001b[0m\u001b[0;34m.\u001b[0m\u001b[0m__init__\u001b[0m\u001b[0;34m(\u001b[0m\u001b[0msave_path\u001b[0m\u001b[0;34m=\u001b[0m\u001b[0msave_path\u001b[0m\u001b[0;34m,\u001b[0m \u001b[0mdelayed_populating\u001b[0m\u001b[0;34m=\u001b[0m\u001b[0mdelayed_populating\u001b[0m\u001b[0;34m)\u001b[0m\u001b[0;34m\u001b[0m\u001b[0;34m\u001b[0m\u001b[0m\n\u001b[0m\u001b[1;32m    177\u001b[0m \u001b[0;34m\u001b[0m\u001b[0m\n\u001b[1;32m    178\u001b[0m         \u001b[0;32mif\u001b[0m \u001b[0mdelayed_populating\u001b[0m\u001b[0;34m:\u001b[0m\u001b[0;34m\u001b[0m\u001b[0;34m\u001b[0m\u001b[0m\n",
      "\u001b[0;32m~/scVI/scvi/dataset/dataset.py\u001b[0m in \u001b[0;36m__init__\u001b[0;34m(self, urls, filenames, save_path, delayed_populating)\u001b[0m\n\u001b[1;32m   1853\u001b[0m         \u001b[0mself\u001b[0m\u001b[0;34m.\u001b[0m\u001b[0mdownload\u001b[0m\u001b[0;34m(\u001b[0m\u001b[0;34m)\u001b[0m\u001b[0;34m\u001b[0m\u001b[0;34m\u001b[0m\u001b[0m\n\u001b[1;32m   1854\u001b[0m         \u001b[0;32mif\u001b[0m \u001b[0;32mnot\u001b[0m \u001b[0mdelayed_populating\u001b[0m\u001b[0;34m:\u001b[0m\u001b[0;34m\u001b[0m\u001b[0;34m\u001b[0m\u001b[0m\n\u001b[0;32m-> 1855\u001b[0;31m             \u001b[0mself\u001b[0m\u001b[0;34m.\u001b[0m\u001b[0mpopulate\u001b[0m\u001b[0;34m(\u001b[0m\u001b[0;34m)\u001b[0m\u001b[0;34m\u001b[0m\u001b[0;34m\u001b[0m\u001b[0m\n\u001b[0m\u001b[1;32m   1856\u001b[0m \u001b[0;34m\u001b[0m\u001b[0m\n\u001b[1;32m   1857\u001b[0m     \u001b[0;32mdef\u001b[0m \u001b[0mdownload\u001b[0m\u001b[0;34m(\u001b[0m\u001b[0mself\u001b[0m\u001b[0;34m)\u001b[0m\u001b[0;34m:\u001b[0m\u001b[0;34m\u001b[0m\u001b[0;34m\u001b[0m\u001b[0m\n",
      "\u001b[0;32m~/scVI/scvi/dataset/pbmc.py\u001b[0m in \u001b[0;36mpopulate\u001b[0;34m(self)\u001b[0m\n\u001b[1;32m    193\u001b[0m                 \u001b[0mdataset_name\u001b[0m\u001b[0;34m,\u001b[0m\u001b[0;34m\u001b[0m\u001b[0;34m\u001b[0m\u001b[0m\n\u001b[1;32m    194\u001b[0m                 \u001b[0msave_path\u001b[0m\u001b[0;34m=\u001b[0m\u001b[0mself\u001b[0m\u001b[0;34m.\u001b[0m\u001b[0msave_path\u001b[0m\u001b[0;34m,\u001b[0m\u001b[0;34m\u001b[0m\u001b[0;34m\u001b[0m\u001b[0m\n\u001b[0;32m--> 195\u001b[0;31m                 \u001b[0mremove_extracted_data\u001b[0m\u001b[0;34m=\u001b[0m\u001b[0mself\u001b[0m\u001b[0;34m.\u001b[0m\u001b[0mremove_extracted_data\u001b[0m\u001b[0;34m,\u001b[0m\u001b[0;34m\u001b[0m\u001b[0;34m\u001b[0m\u001b[0m\n\u001b[0m\u001b[1;32m    196\u001b[0m             )\n\u001b[1;32m    197\u001b[0m             dataset.initialize_mapped_attribute(\n",
      "\u001b[0;32m~/scVI/scvi/dataset/dataset10X.py\u001b[0m in \u001b[0;36m__init__\u001b[0;34m(self, dataset_name, filename, save_path, url, type, dense, measurement_names_column, remove_extracted_data, delayed_populating)\u001b[0m\n\u001b[1;32m    159\u001b[0m         \u001b[0;31m# path_to_data, suffix = self.find_path_to_data()\u001b[0m\u001b[0;34m\u001b[0m\u001b[0;34m\u001b[0m\u001b[0;34m\u001b[0m\u001b[0m\n\u001b[1;32m    160\u001b[0m         \u001b[0;31m# print(path_to_data)\u001b[0m\u001b[0;34m\u001b[0m\u001b[0;34m\u001b[0m\u001b[0;34m\u001b[0m\u001b[0m\n\u001b[0;32m--> 161\u001b[0;31m         \u001b[0mself\u001b[0m\u001b[0;34m.\u001b[0m\u001b[0madata\u001b[0m \u001b[0;34m=\u001b[0m \u001b[0mscanpy\u001b[0m\u001b[0;34m.\u001b[0m\u001b[0mread_10x_h5\u001b[0m\u001b[0;34m(\u001b[0m\u001b[0mos\u001b[0m\u001b[0;34m.\u001b[0m\u001b[0mpath\u001b[0m\u001b[0;34m.\u001b[0m\u001b[0mjoin\u001b[0m\u001b[0;34m(\u001b[0m\u001b[0msave_path\u001b[0m\u001b[0;34m,\u001b[0m \u001b[0mfilename\u001b[0m\u001b[0;34m)\u001b[0m\u001b[0;34m)\u001b[0m\u001b[0;34m\u001b[0m\u001b[0;34m\u001b[0m\u001b[0m\n\u001b[0m\u001b[1;32m    162\u001b[0m         \u001b[0mself\u001b[0m\u001b[0;34m.\u001b[0m\u001b[0madata\u001b[0m \u001b[0;34m=\u001b[0m \u001b[0mscanpy\u001b[0m\u001b[0;34m.\u001b[0m\u001b[0mread_10x_mtx\u001b[0m\u001b[0;34m(\u001b[0m\u001b[0mpath_to_data\u001b[0m\u001b[0;34m)\u001b[0m\u001b[0;34m\u001b[0m\u001b[0;34m\u001b[0m\u001b[0m\n\u001b[1;32m    163\u001b[0m         \u001b[0;31m# setup_anndata(adata, )\u001b[0m\u001b[0;34m\u001b[0m\u001b[0;34m\u001b[0m\u001b[0;34m\u001b[0m\u001b[0m\n",
      "\u001b[0;32m~/anaconda3/envs/scvi/lib/python3.6/bdb.py\u001b[0m in \u001b[0;36mtrace_dispatch\u001b[0;34m(self, frame, event, arg)\u001b[0m\n\u001b[1;32m     55\u001b[0m             \u001b[0;32mreturn\u001b[0m \u001b[0mself\u001b[0m\u001b[0;34m.\u001b[0m\u001b[0mdispatch_return\u001b[0m\u001b[0;34m(\u001b[0m\u001b[0mframe\u001b[0m\u001b[0;34m,\u001b[0m \u001b[0marg\u001b[0m\u001b[0;34m)\u001b[0m\u001b[0;34m\u001b[0m\u001b[0;34m\u001b[0m\u001b[0m\n\u001b[1;32m     56\u001b[0m         \u001b[0;32mif\u001b[0m \u001b[0mevent\u001b[0m \u001b[0;34m==\u001b[0m \u001b[0;34m'exception'\u001b[0m\u001b[0;34m:\u001b[0m\u001b[0;34m\u001b[0m\u001b[0;34m\u001b[0m\u001b[0m\n\u001b[0;32m---> 57\u001b[0;31m             \u001b[0;32mreturn\u001b[0m \u001b[0mself\u001b[0m\u001b[0;34m.\u001b[0m\u001b[0mdispatch_exception\u001b[0m\u001b[0;34m(\u001b[0m\u001b[0mframe\u001b[0m\u001b[0;34m,\u001b[0m \u001b[0marg\u001b[0m\u001b[0;34m)\u001b[0m\u001b[0;34m\u001b[0m\u001b[0;34m\u001b[0m\u001b[0m\n\u001b[0m\u001b[1;32m     58\u001b[0m         \u001b[0;32mif\u001b[0m \u001b[0mevent\u001b[0m \u001b[0;34m==\u001b[0m \u001b[0;34m'c_call'\u001b[0m\u001b[0;34m:\u001b[0m\u001b[0;34m\u001b[0m\u001b[0;34m\u001b[0m\u001b[0m\n\u001b[1;32m     59\u001b[0m             \u001b[0;32mreturn\u001b[0m \u001b[0mself\u001b[0m\u001b[0;34m.\u001b[0m\u001b[0mtrace_dispatch\u001b[0m\u001b[0;34m\u001b[0m\u001b[0;34m\u001b[0m\u001b[0m\n",
      "\u001b[0;32m~/anaconda3/envs/scvi/lib/python3.6/bdb.py\u001b[0m in \u001b[0;36mdispatch_exception\u001b[0;34m(self, frame, arg)\u001b[0m\n\u001b[1;32m    111\u001b[0m                     and arg[0] is StopIteration and arg[2] is None):\n\u001b[1;32m    112\u001b[0m                 \u001b[0mself\u001b[0m\u001b[0;34m.\u001b[0m\u001b[0muser_exception\u001b[0m\u001b[0;34m(\u001b[0m\u001b[0mframe\u001b[0m\u001b[0;34m,\u001b[0m \u001b[0marg\u001b[0m\u001b[0;34m)\u001b[0m\u001b[0;34m\u001b[0m\u001b[0;34m\u001b[0m\u001b[0m\n\u001b[0;32m--> 113\u001b[0;31m                 \u001b[0;32mif\u001b[0m \u001b[0mself\u001b[0m\u001b[0;34m.\u001b[0m\u001b[0mquitting\u001b[0m\u001b[0;34m:\u001b[0m \u001b[0;32mraise\u001b[0m \u001b[0mBdbQuit\u001b[0m\u001b[0;34m\u001b[0m\u001b[0;34m\u001b[0m\u001b[0m\n\u001b[0m\u001b[1;32m    114\u001b[0m         \u001b[0;31m# Stop at the StopIteration or GeneratorExit exception when the user\u001b[0m\u001b[0;34m\u001b[0m\u001b[0;34m\u001b[0m\u001b[0;34m\u001b[0m\u001b[0m\n\u001b[1;32m    115\u001b[0m         \u001b[0;31m# has set stopframe in a generator by issuing a return command, or a\u001b[0m\u001b[0;34m\u001b[0m\u001b[0;34m\u001b[0m\u001b[0;34m\u001b[0m\u001b[0m\n",
      "\u001b[0;31mBdbQuit\u001b[0m: "
     ]
    }
   ],
   "source": [
    "use_cuda = False\n",
    "\n",
    "cell_types = [\"regulatory_t\", \"naive_t\", \"memory_t\",  \"naive_cytotoxic\"]\n",
    "cell_types = [1,2,3,5]\n",
    "#cell_types should probably be a list of str instead of ints\n",
    "pbmc = PurifiedPBMCDataset(subset_datasets=cell_types)"
   ]
  },
  {
   "cell_type": "code",
   "execution_count": null,
   "metadata": {},
   "outputs": [],
   "source": [
    "import scanpy\n",
    "subset = [\"CD4\", \"FOXP3\", \"TNFRSF18\", \"IL2RA\", \"CTLA4\", \"CD44\", \"TCF7\", \"CD8B\", \"CCR7\", \"CD69\", \"PTPRC\", \"S100A4\"]\n",
    "\n",
    "adata = pbmc.to_anndata()\n",
    "adata.var_names_make_unique()\n",
    "\n",
    "#where to subset\n",
    "# adata = adata[:,subset]\n",
    "\n",
    "#target sum follows what chenling uses\n",
    "scanpy.pp.normalize_total(adata, target_sum = 1e4) \n",
    "scanpy.pp.log1p(adata)\n",
    "#corresponding chenling code\n",
    "#expression = np.log(1 + 1e4 * expression[:, idx] / np.sum(expression, axis=1)[:, np.newaxis])\n",
    "\n",
    "#second subset option\n",
    "adata = adata[:,subset]\n",
    "\n",
    "#scale data to mean 0, std 1\n",
    "scanpy.pp.scale(adata)\n",
    "\n",
    "#chenling code:\n",
    "# expression = expression - np.mean(expression, axis=0)\n",
    "# expression = expression / np.std(expression, axis=0)\n",
    "\n",
    "#make sure no inf values\n",
    "assert len(np.where(np.isinf(adata.X))[0]) == 0\n"
   ]
  },
  {
   "cell_type": "code",
   "execution_count": null,
   "metadata": {},
   "outputs": [],
   "source": [
    "#get the score for a set of genes\n",
    "def get_score(normalized_adata, gene_set):\n",
    "    score = np.zeros(normalized_adata.n_obs)\n",
    "    for gene in gene_set['positive']:\n",
    "        expression = np.array(adata[:, gene].X)\n",
    "        score = np.add(score, expression.flatten())\n",
    "    for gene in gene_set['negative']:\n",
    "        expression = np.array(adata[:, gene].X)\n",
    "        score = np.subtract(score, expression.flatten())\n",
    "    return score\n",
    "\n",
    "#get a mask over the genes\n",
    "def get_gene_mask(normalized_adata, gene_set):\n",
    "    score = get_score(normalized_adata, gene_set)\n",
    "    cell_idx = score.argsort()[-50:]\n",
    "    mask = np.zeros(normalized_adata.n_obs)\n",
    "    mask[cell_idx] = 1\n",
    "    return mask.astype(bool)\n",
    "\n",
    "    "
   ]
  },
  {
   "cell_type": "code",
   "execution_count": null,
   "metadata": {},
   "outputs": [],
   "source": [
    "cd4_reg_geneset = {\"positive\":[\"TNFRSF18\", \"CTLA4\", \"FOXP3\", \"IL2RA\"],\n",
    "                   \"negative\":[\"S100A4\" ,\"PTPRC\" ,\"CD8B\"]}\n",
    "\n",
    "cd8_naive_geneset = {\"positive\":[\"CD8B\", \"CCR7\"],\n",
    "                   \"negative\":[\"CD4\"]}\n",
    "\n",
    "cd4_naive_geneset = {\"positive\":[\"CCR7\",\"CD4\"],\n",
    "                   \"negative\":[\"S100A4\", \"PTPRC\", \"FOXP3\", \"IL2RA\", \"CD69\" ]}\n",
    "\n",
    "cd4_mem_geneset = {\"positive\":[\"S100A4\"],\n",
    "                   \"negative\":[\"IL2RA\" ,\"FOXP3\",\"TNFRSF18\", \"CCR7\"]}\n",
    "\n",
    "cd4_reg_mask = get_gene_mask(adata, cd4_reg_geneset,) #38, 4\n",
    "cd8_naive_mask = get_gene_mask(adata, cd8_naive_geneset,) #100, 0\n",
    "cd4_naive_mask = get_gene_mask(adata, cd4_naive_geneset,)#72, 0 \n",
    "cd4_mem_mask = get_gene_mask(adata, cd4_mem_geneset,)#100, 0 \n",
    "full_mask = cd4_reg_mask | cd8_naive_mask | cd4_naive_mask | cd4_mem_mask\n",
    "indicator_lab = np.zeros(len(pbmc))\n",
    "indicator_lab[full_mask] = 1"
   ]
  },
  {
   "cell_type": "code",
   "execution_count": null,
   "metadata": {},
   "outputs": [],
   "source": [
    "raw_adata = pbmc.to_anndata()\n",
    "raw_adata.obs['scanvi_labeled_mask'] = indicator_lab\n",
    "setup_anndata(raw_adata, batch_key = 'batch_indices', scanvi_labeled_idx_key = 'scanvi_labeled_mask', labels_key = 'cell_types')\n"
   ]
  },
  {
   "cell_type": "code",
   "execution_count": null,
   "metadata": {},
   "outputs": [],
   "source": [
    "scanvi = SCANVI(raw_adata.uns['scvi_summary_stats']['n_genes'], n_batch = 0, n_labels=6, n_layers=2, classifier_parameters = {'dropout_rate':0.2, 'n_hidden':256, 'n_layers':2})\n",
    "trainer_scanvi = SemiSupervisedTrainer(scanvi, raw_adata, classification_ratio=100,\n",
    "                                       n_epochs_classifier=1, lr_classification=5 * 1e-3,  frequency=5)\n",
    "\n",
    "trainer_scanvi.labelled_set = trainer_scanvi.create_posterior(indices=(indicator_lab == 1))\n",
    "trainer_scanvi.unlabelled_set = trainer_scanvi.create_posterior(indices=(indicator_lab == 0))\n",
    "trainer_scanvi.labelled_set.to_monitor = ['reconstruction_error', 'accuracy']\n",
    "trainer_scanvi.unlabelled_set.to_monitor = ['reconstruction_error', 'accuracy']\n",
    "\n",
    "trainer_scanvi.train(n_epochs=1)\n",
    "trainer_scanvi.model.eval()\n",
    "\n",
    "full_scanvi = trainer_scanvi.create_posterior(trainer_scanvi.model, raw_adata, )\n",
    "# latent_scanvi, batch_indices, labels = full_scanvi.sequential().get_latent()\n",
    "\n",
    "\n"
   ]
  },
  {
   "cell_type": "code",
   "execution_count": 17,
   "metadata": {},
   "outputs": [
    {
     "name": "stdout",
     "output_type": "stream",
     "text": [
      "0.05982685089111328\n",
      "1\n"
     ]
    }
   ],
   "source": [
    "import time\n",
    "a = time.time()\n",
    "i = 0\n",
    "for e, f in enumerate(full_scanvi):\n",
    "    i+=1\n",
    "    y = f\n",
    "    break\n",
    "b = time.time()\n",
    "print(b-a)\n",
    "print(i)"
   ]
  },
  {
   "cell_type": "code",
   "execution_count": 16,
   "metadata": {},
   "outputs": [
    {
     "data": {
      "text/plain": [
       "torch.Size([1, 2360704])"
      ]
     },
     "execution_count": 16,
     "metadata": {},
     "output_type": "execute_result"
    }
   ],
   "source": [
    "y['X'].shape"
   ]
  },
  {
   "cell_type": "code",
   "execution_count": 59,
   "metadata": {},
   "outputs": [
    {
     "ename": "AttributeError",
     "evalue": "'PurifiedPBMCDataset' object has no attribute 'uns'",
     "output_type": "error",
     "traceback": [
      "\u001b[0;31m---------------------------------------------------------------------------\u001b[0m",
      "\u001b[0;31mAttributeError\u001b[0m                            Traceback (most recent call last)",
      "\u001b[0;32m<ipython-input-59-6d2f874e08cf>\u001b[0m in \u001b[0;36m<module>\u001b[0;34m\u001b[0m\n\u001b[1;32m      8\u001b[0m \u001b[0mscanvi\u001b[0m \u001b[0;34m=\u001b[0m \u001b[0mSCANVI\u001b[0m\u001b[0;34m(\u001b[0m\u001b[0mgene_dataset\u001b[0m\u001b[0;34m.\u001b[0m\u001b[0mnb_genes\u001b[0m\u001b[0;34m,\u001b[0m\u001b[0mn_batch\u001b[0m \u001b[0;34m=\u001b[0m \u001b[0;36m0\u001b[0m\u001b[0;34m,\u001b[0m \u001b[0mn_labels\u001b[0m\u001b[0;34m=\u001b[0m\u001b[0;36m6\u001b[0m\u001b[0;34m,\u001b[0m \u001b[0mn_layers\u001b[0m\u001b[0;34m=\u001b[0m\u001b[0;36m2\u001b[0m\u001b[0;34m,\u001b[0m \u001b[0mclassifier_parameters\u001b[0m \u001b[0;34m=\u001b[0m \u001b[0;34m{\u001b[0m\u001b[0;34m'dropout_rate'\u001b[0m\u001b[0;34m:\u001b[0m\u001b[0;36m0.2\u001b[0m\u001b[0;34m,\u001b[0m \u001b[0;34m'n_hidden'\u001b[0m\u001b[0;34m:\u001b[0m\u001b[0;36m256\u001b[0m\u001b[0;34m,\u001b[0m \u001b[0;34m'n_layers'\u001b[0m\u001b[0;34m:\u001b[0m\u001b[0;36m2\u001b[0m\u001b[0;34m}\u001b[0m\u001b[0;34m)\u001b[0m\u001b[0;34m\u001b[0m\u001b[0;34m\u001b[0m\u001b[0m\n\u001b[1;32m      9\u001b[0m trainer_scanvi = SemiSupervisedTrainer(scanvi, gene_dataset, classification_ratio=100,\n\u001b[0;32m---> 10\u001b[0;31m                                        n_epochs_classifier=1, lr_classification=5 * 1e-3,  frequency=5)\n\u001b[0m\u001b[1;32m     11\u001b[0m \u001b[0;34m\u001b[0m\u001b[0m\n\u001b[1;32m     12\u001b[0m \u001b[0mtrainer_scanvi\u001b[0m\u001b[0;34m.\u001b[0m\u001b[0mlabelled_set\u001b[0m \u001b[0;34m=\u001b[0m \u001b[0mtrainer_scanvi\u001b[0m\u001b[0;34m.\u001b[0m\u001b[0mcreate_posterior\u001b[0m\u001b[0;34m(\u001b[0m\u001b[0mindices\u001b[0m\u001b[0;34m=\u001b[0m\u001b[0;34m(\u001b[0m\u001b[0mindicator_lab\u001b[0m \u001b[0;34m==\u001b[0m \u001b[0;36m1\u001b[0m\u001b[0;34m)\u001b[0m\u001b[0;34m)\u001b[0m\u001b[0;34m\u001b[0m\u001b[0;34m\u001b[0m\u001b[0m\n",
      "\u001b[0;32m~/scVI/scvi/inference/annotation.py\u001b[0m in \u001b[0;36m__init__\u001b[0;34m(self, model, adata, n_labelled_samples_per_class, n_epochs_classifier, lr_classification, classification_ratio, seed, **kwargs)\u001b[0m\n\u001b[1;32m    242\u001b[0m         n_labelled_samples_per_class_array = [\n\u001b[1;32m    243\u001b[0m             \u001b[0mn_labelled_samples_per_class\u001b[0m\u001b[0;34m\u001b[0m\u001b[0;34m\u001b[0m\u001b[0m\n\u001b[0;32m--> 244\u001b[0;31m         ] * self.adata.uns[\"scvi_summary_stats\"][\"n_labels\"]\n\u001b[0m\u001b[1;32m    245\u001b[0m         \u001b[0mlabels\u001b[0m \u001b[0;34m=\u001b[0m \u001b[0mnp\u001b[0m\u001b[0;34m.\u001b[0m\u001b[0marray\u001b[0m\u001b[0;34m(\u001b[0m\u001b[0mget_from_registry\u001b[0m\u001b[0;34m(\u001b[0m\u001b[0mself\u001b[0m\u001b[0;34m.\u001b[0m\u001b[0madata\u001b[0m\u001b[0;34m,\u001b[0m \u001b[0m_LABELS_KEY\u001b[0m\u001b[0;34m)\u001b[0m\u001b[0;34m)\u001b[0m\u001b[0;34m.\u001b[0m\u001b[0mravel\u001b[0m\u001b[0;34m(\u001b[0m\u001b[0;34m)\u001b[0m\u001b[0;34m\u001b[0m\u001b[0;34m\u001b[0m\u001b[0m\n\u001b[1;32m    246\u001b[0m         \u001b[0mnp\u001b[0m\u001b[0;34m.\u001b[0m\u001b[0mrandom\u001b[0m\u001b[0;34m.\u001b[0m\u001b[0mseed\u001b[0m\u001b[0;34m(\u001b[0m\u001b[0mseed\u001b[0m\u001b[0;34m=\u001b[0m\u001b[0mseed\u001b[0m\u001b[0;34m)\u001b[0m\u001b[0;34m\u001b[0m\u001b[0;34m\u001b[0m\u001b[0m\n",
      "\u001b[0;31mAttributeError\u001b[0m: 'PurifiedPBMCDataset' object has no attribute 'uns'"
     ]
    }
   ],
   "source": [
    "# gene_dataset = pbmc\n",
    "\n",
    "# #indicator mask\n",
    "# full_mask = cd4_reg_mask | cd8_naive_mask | cd4_naive_mask | cd4_mem_mask\n",
    "# indicator_lab = np.zeros(len(gene_dataset))\n",
    "# indicator_lab[full_mask] = 1\n",
    "\n",
    "# scanvi = SCANVI(gene_dataset.nb_genes,n_batch = 0, n_labels=6, n_layers=2, classifier_parameters = {'dropout_rate':0.2, 'n_hidden':256, 'n_layers':2})\n",
    "# trainer_scanvi = SemiSupervisedTrainer(scanvi, gene_dataset, classification_ratio=100,\n",
    "#                                        n_epochs_classifier=1, lr_classification=5 * 1e-3,  frequency=5)\n",
    "\n",
    "# trainer_scanvi.labelled_set = trainer_scanvi.create_posterior(indices=(indicator_lab == 1))\n",
    "# trainer_scanvi.unlabelled_set = trainer_scanvi.create_posterior(indices=(indicator_lab == 0))\n",
    "# trainer_scanvi.labelled_set.to_monitor = ['reconstruction_error', 'accuracy']\n",
    "# trainer_scanvi.unlabelled_set.to_monitor = ['reconstruction_error', 'accuracy']\n",
    "\n",
    "# trainer_scanvi.train(n_epochs=1)\n",
    "# trainer_scanvi.model.eval()\n",
    "\n",
    "# full_scanvi = trainer_scanvi.create_posterior(trainer_scanvi.model, gene_dataset, indices=np.arange(len(gene_dataset)))\n",
    "\n",
    "\n"
   ]
  },
  {
   "cell_type": "code",
   "execution_count": 62,
   "metadata": {},
   "outputs": [
    {
     "name": "stdout",
     "output_type": "stream",
     "text": [
      "2.4591050148010254\n",
      "336\n"
     ]
    }
   ],
   "source": [
    "import time\n",
    "a = time.time()\n",
    "i = 0\n",
    "for e, f in enumerate(full_scanvi):\n",
    "    i+=1\n",
    "#     print(f)\n",
    "#     break\n",
    "b = time.time()\n",
    "print(b-a)\n",
    "print(i)"
   ]
  },
  {
   "cell_type": "code",
   "execution_count": 39,
   "metadata": {},
   "outputs": [
    {
     "name": "stderr",
     "output_type": "stream",
     "text": [
      "Variable names are not unique. To make them unique, call `.var_names_make_unique`.\n"
     ]
    }
   ],
   "source": [
    "raw_adata = pbmc.to_anndata()\n",
    "raw_adata.obs['scanvi_labeled_mask'] = indicator_lab"
   ]
  },
  {
   "cell_type": "code",
   "execution_count": 64,
   "metadata": {},
   "outputs": [
    {
     "data": {
      "text/plain": [
       "False"
      ]
     },
     "execution_count": 64,
     "metadata": {},
     "output_type": "execute_result"
    }
   ],
   "source": [
    "import pandas as pd\n",
    "isinstance(raw_adata.X, pd.Series)"
   ]
  },
  {
   "cell_type": "code",
   "execution_count": 46,
   "metadata": {},
   "outputs": [],
   "source": [
    "raw_adata.X = raw_adata.X.toarray()"
   ]
  },
  {
   "cell_type": "code",
   "execution_count": 79,
   "metadata": {},
   "outputs": [
    {
     "name": "stdout",
     "output_type": "stream",
     "text": [
      "74.9 µs ± 330 ns per loop (mean ± std. dev. of 7 runs, 10000 loops each)\n"
     ]
    }
   ],
   "source": [
    "%timeit raw_adata.X[10].toarray()\n"
   ]
  },
  {
   "cell_type": "code",
   "execution_count": 70,
   "metadata": {},
   "outputs": [],
   "source": [
    "raw_adata.layers['rawX'] = raw_adata.X.toarray()"
   ]
  },
  {
   "cell_type": "code",
   "execution_count": 73,
   "metadata": {},
   "outputs": [
    {
     "name": "stdout",
     "output_type": "stream",
     "text": [
      "6.72 µs ± 48.8 ns per loop (mean ± std. dev. of 7 runs, 100000 loops each)\n"
     ]
    }
   ],
   "source": [
    "%timeit raw_adata.layers['rawX'][10].flatten().astype(np.float32)"
   ]
  },
  {
   "cell_type": "code",
   "execution_count": 48,
   "metadata": {},
   "outputs": [
    {
     "data": {
      "text/plain": [
       "3166220580"
      ]
     },
     "execution_count": 48,
     "metadata": {},
     "output_type": "execute_result"
    }
   ],
   "source": [
    "from sys import getsizeof\n",
    "getsizeof(raw_adata.X)"
   ]
  },
  {
   "cell_type": "code",
   "execution_count": 40,
   "metadata": {},
   "outputs": [
    {
     "name": "stdout",
     "output_type": "stream",
     "text": [
      "[2020-06-23 23:57:21,444] INFO - scvi.dataset.utils | Using data from adata.X\n",
      "[2020-06-23 23:57:21,445] INFO - scvi.dataset.utils | Using batches from adata.obs[\"batch_indices\"]\n",
      "[2020-06-23 23:57:21,446] INFO - scvi.dataset.utils | Using labels from adata.obs[\"cell_types\"]\n",
      "[2020-06-23 23:57:21,451] INFO - scvi.dataset.utils | Computing library size prior per batch\n",
      "[2020-06-23 23:57:21,662] INFO - scvi.dataset.utils | Successfully registered anndata object containing 42919 cells, 18443 genes, and 4 batches \n",
      "Registered keys:['X', 'batch_indices', 'local_l_mean', 'local_l_var', 'labels', 'scanvi_labeled_idx']\n"
     ]
    }
   ],
   "source": [
    "\n"
   ]
  },
  {
   "cell_type": "code",
   "execution_count": 58,
   "metadata": {},
   "outputs": [
    {
     "data": {
      "text/plain": [
       "(42919, 18443)"
      ]
     },
     "execution_count": 58,
     "metadata": {},
     "output_type": "execute_result"
    }
   ],
   "source": [
    "raw_adata.X.shape"
   ]
  },
  {
   "cell_type": "code",
   "execution_count": 60,
   "metadata": {},
   "outputs": [],
   "source": []
  },
  {
   "cell_type": "code",
   "execution_count": 45,
   "metadata": {},
   "outputs": [
    {
     "name": "stdout",
     "output_type": "stream",
     "text": [
      "20.95548391342163\n",
      "336\n"
     ]
    }
   ],
   "source": [
    "import time\n",
    "a = time.time()\n",
    "i = 0\n",
    "for e, d in enumerate(full_scanvi):\n",
    "    i+=1\n",
    "#     print(b)\n",
    "b = time.time()\n",
    "print(b-a)\n",
    "print(i)"
   ]
  },
  {
   "cell_type": "code",
   "execution_count": 44,
   "metadata": {},
   "outputs": [
    {
     "name": "stdout",
     "output_type": "stream",
     "text": [
      "336\n"
     ]
    }
   ],
   "source": [
    "print(i)"
   ]
  },
  {
   "cell_type": "code",
   "execution_count": 75,
   "metadata": {},
   "outputs": [
    {
     "ename": "KeyError",
     "evalue": "'scvi_summary_stats'",
     "output_type": "error",
     "traceback": [
      "\u001b[0;31m---------------------------------------------------------------------------\u001b[0m",
      "\u001b[0;31mKeyError\u001b[0m                                  Traceback (most recent call last)",
      "\u001b[0;32m<ipython-input-75-7dfd0abe8f0f>\u001b[0m in \u001b[0;36m<module>\u001b[0;34m\u001b[0m\n\u001b[0;32m----> 1\u001b[0;31m \u001b[0mscanvi\u001b[0m \u001b[0;34m=\u001b[0m \u001b[0mSCANVI\u001b[0m\u001b[0;34m(\u001b[0m\u001b[0mraw_adata\u001b[0m\u001b[0;34m.\u001b[0m\u001b[0muns\u001b[0m\u001b[0;34m[\u001b[0m\u001b[0;34m'scvi_summary_stats'\u001b[0m\u001b[0;34m]\u001b[0m\u001b[0;34m[\u001b[0m\u001b[0;34m'n_genes'\u001b[0m\u001b[0;34m]\u001b[0m\u001b[0;34m,\u001b[0m \u001b[0mn_batch\u001b[0m \u001b[0;34m=\u001b[0m \u001b[0;36m0\u001b[0m\u001b[0;34m,\u001b[0m \u001b[0mn_labels\u001b[0m\u001b[0;34m=\u001b[0m\u001b[0;36m6\u001b[0m\u001b[0;34m,\u001b[0m \u001b[0mn_layers\u001b[0m\u001b[0;34m=\u001b[0m\u001b[0;36m2\u001b[0m\u001b[0;34m,\u001b[0m \u001b[0mclassifier_parameters\u001b[0m \u001b[0;34m=\u001b[0m \u001b[0;34m{\u001b[0m\u001b[0;34m'dropout_rate'\u001b[0m\u001b[0;34m:\u001b[0m\u001b[0;36m0.2\u001b[0m\u001b[0;34m,\u001b[0m \u001b[0;34m'n_hidden'\u001b[0m\u001b[0;34m:\u001b[0m\u001b[0;36m256\u001b[0m\u001b[0;34m,\u001b[0m \u001b[0;34m'n_layers'\u001b[0m\u001b[0;34m:\u001b[0m\u001b[0;36m2\u001b[0m\u001b[0;34m}\u001b[0m\u001b[0;34m)\u001b[0m\u001b[0;34m\u001b[0m\u001b[0;34m\u001b[0m\u001b[0m\n\u001b[0m\u001b[1;32m      2\u001b[0m trainer_scanvi = SemiSupervisedTrainer(scanvi, raw_adata, classification_ratio=100,\n\u001b[1;32m      3\u001b[0m                                        n_epochs_classifier=1, lr_classification=5 * 1e-3,  frequency=5)\n\u001b[1;32m      4\u001b[0m \u001b[0;34m\u001b[0m\u001b[0m\n\u001b[1;32m      5\u001b[0m \u001b[0mfull\u001b[0m \u001b[0;34m=\u001b[0m \u001b[0mtrainer_scanvi\u001b[0m\u001b[0;34m.\u001b[0m\u001b[0mcreate_posterior\u001b[0m\u001b[0;34m(\u001b[0m\u001b[0;34m)\u001b[0m\u001b[0;34m\u001b[0m\u001b[0;34m\u001b[0m\u001b[0m\n",
      "\u001b[0;32m~/anaconda3/envs/scvi/lib/python3.6/site-packages/anndata/compat/_overloaded_dict.py\u001b[0m in \u001b[0;36m__getitem__\u001b[0;34m(self, key)\u001b[0m\n\u001b[1;32m     98\u001b[0m             \u001b[0;32mreturn\u001b[0m \u001b[0mself\u001b[0m\u001b[0;34m.\u001b[0m\u001b[0moverloaded\u001b[0m\u001b[0;34m[\u001b[0m\u001b[0mkey\u001b[0m\u001b[0;34m]\u001b[0m\u001b[0;34m.\u001b[0m\u001b[0mget\u001b[0m\u001b[0;34m(\u001b[0m\u001b[0;34m)\u001b[0m\u001b[0;34m\u001b[0m\u001b[0;34m\u001b[0m\u001b[0m\n\u001b[1;32m     99\u001b[0m         \u001b[0;32melse\u001b[0m\u001b[0;34m:\u001b[0m\u001b[0;34m\u001b[0m\u001b[0;34m\u001b[0m\u001b[0m\n\u001b[0;32m--> 100\u001b[0;31m             \u001b[0;32mreturn\u001b[0m \u001b[0mself\u001b[0m\u001b[0;34m.\u001b[0m\u001b[0mdata\u001b[0m\u001b[0;34m[\u001b[0m\u001b[0mkey\u001b[0m\u001b[0;34m]\u001b[0m\u001b[0;34m\u001b[0m\u001b[0;34m\u001b[0m\u001b[0m\n\u001b[0m\u001b[1;32m    101\u001b[0m \u001b[0;34m\u001b[0m\u001b[0m\n\u001b[1;32m    102\u001b[0m     \u001b[0;32mdef\u001b[0m \u001b[0m__setitem__\u001b[0m\u001b[0;34m(\u001b[0m\u001b[0mself\u001b[0m\u001b[0;34m,\u001b[0m \u001b[0mkey\u001b[0m\u001b[0;34m,\u001b[0m \u001b[0mvalue\u001b[0m\u001b[0;34m)\u001b[0m\u001b[0;34m:\u001b[0m\u001b[0;34m\u001b[0m\u001b[0;34m\u001b[0m\u001b[0m\n",
      "\u001b[0;31mKeyError\u001b[0m: 'scvi_summary_stats'"
     ]
    }
   ],
   "source": [
    "scanvi = SCANVI(raw_adata.uns['scvi_summary_stats']['n_genes'], n_batch = 0, n_labels=6, n_layers=2, classifier_parameters = {'dropout_rate':0.2, 'n_hidden':256, 'n_layers':2})\n",
    "trainer_scanvi = SemiSupervisedTrainer(scanvi, raw_adata, classification_ratio=100,\n",
    "                                       n_epochs_classifier=1, lr_classification=5 * 1e-3,  frequency=5)\n",
    "\n",
    "full = trainer_scanvi.create_posterior()\n"
   ]
  },
  {
   "cell_type": "code",
   "execution_count": 74,
   "metadata": {},
   "outputs": [
    {
     "data": {
      "text/plain": [
       "18.18271803855896"
      ]
     },
     "execution_count": 74,
     "metadata": {},
     "output_type": "execute_result"
    }
   ],
   "source": [
    "import time\n",
    "a = time.time()\n",
    "for d, e in enumerate(full):\n",
    "    pass\n",
    "b = time.time()\n",
    "b-a"
   ]
  },
  {
   "cell_type": "code",
   "execution_count": null,
   "metadata": {},
   "outputs": [],
   "source": [
    "#time for regular: 1 sec\n",
    "#csr get_from_registry(self.adata, key)[idx]\n",
    "            .toarray() 22.8 sec\n",
    "#from dense 14 sec"
   ]
  },
  {
   "cell_type": "code",
   "execution_count": 31,
   "metadata": {},
   "outputs": [],
   "source": [
    "raw_adata.X = raw_adata.X.toarray()\n"
   ]
  },
  {
   "cell_type": "code",
   "execution_count": 37,
   "metadata": {},
   "outputs": [
    {
     "data": {
      "text/plain": [
       "1592954082.626915"
      ]
     },
     "execution_count": 37,
     "metadata": {},
     "output_type": "execute_result"
    }
   ],
   "source": [
    "b\n"
   ]
  },
  {
   "cell_type": "code",
   "execution_count": 38,
   "metadata": {},
   "outputs": [
    {
     "data": {
      "text/plain": [
       "335"
      ]
     },
     "execution_count": 38,
     "metadata": {},
     "output_type": "execute_result"
    }
   ],
   "source": [
    "a"
   ]
  },
  {
   "cell_type": "code",
   "execution_count": null,
   "metadata": {},
   "outputs": [],
   "source": []
  }
 ],
 "metadata": {
  "kernelspec": {
   "display_name": "Python scvi",
   "language": "python",
   "name": "scvi"
  },
  "language_info": {
   "codemirror_mode": {
    "name": "ipython",
    "version": 3
   },
   "file_extension": ".py",
   "mimetype": "text/x-python",
   "name": "python",
   "nbconvert_exporter": "python",
   "pygments_lexer": "ipython3",
   "version": "3.6.10"
  }
 },
 "nbformat": 4,
 "nbformat_minor": 2
}
