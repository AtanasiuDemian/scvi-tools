{
 "cells": [
  {
   "cell_type": "code",
   "execution_count": 37,
   "metadata": {},
   "outputs": [
    {
     "name": "stdout",
     "output_type": "stream",
     "text": [
      "The autoreload extension is already loaded. To reload it, use:\n",
      "  %reload_ext autoreload\n"
     ]
    }
   ],
   "source": [
    "%load_ext autoreload\n",
    "%autoreload 2\n",
    "%aimport anndata\n",
    "%aimport os\n",
    "%aimport torch\n",
    "import numpy as np\n",
    "import pandas as pd\n",
    "import scipy as sp\n",
    "import matplotlib.pyplot as plt\n",
    "from typing import Dict, Union, List, Tuple\n",
    "from torch.utils.data import Dataset\n",
    "# Control UMAP numba warnings\n",
    "import warnings; warnings.simplefilter('ignore')\n",
    "import copy\n",
    "import scvi\n",
    "from scvi.dataset import PurifiedPBMCDataset\n",
    "from scvi.models.scanvi import SCANVI\n",
    "\n",
    "from scvi.inference import UnsupervisedTrainer, load_posterior, SemiSupervisedTrainer\n",
    "from scvi import set_seed\n",
    "from scvi.dataset.utils import setup_anndata\n",
    "\n",
    "# Sets torch and numpy random seeds, run after all scvi imports\n",
    "set_seed(0)\n"
   ]
  },
  {
   "cell_type": "code",
   "execution_count": 3,
   "metadata": {},
   "outputs": [
    {
     "name": "stdout",
     "output_type": "stream",
     "text": [
      "[2020-06-23 23:13:43,872] INFO - scvi.dataset.dataset | File /Users/galen/scVI/galen/data/regulatory_t/filtered_gene_bc_matrices.tar.gz already downloaded\n",
      "[2020-06-23 23:13:43,873] INFO - scvi.dataset.dataset10X | Preprocessing dataset\n",
      "[2020-06-23 23:13:43,876] INFO - scvi.dataset.dataset10X | Extracting tar file\n",
      "[2020-06-23 23:13:52,738] INFO - scvi.dataset.dataset10X | Finished preprocessing dataset\n",
      "[2020-06-23 23:13:52,791] WARNING - scvi.dataset.dataset | Gene names are not unique.\n",
      "[2020-06-23 23:13:52,792] INFO - scvi.dataset.dataset | Remapping batch_indices to [0,N]\n",
      "[2020-06-23 23:13:52,793] INFO - scvi.dataset.dataset | Remapping labels to [0,N]\n",
      "[2020-06-23 23:13:52,903] INFO - scvi.dataset.dataset | Computing the library size for the new data\n",
      "[2020-06-23 23:13:52,944] INFO - scvi.dataset.dataset | Downsampled from 10263 to 10263 cells\n",
      "[2020-06-23 23:13:52,968] INFO - scvi.dataset.dataset | File /Users/galen/scVI/galen/data/naive_t/filtered_gene_bc_matrices.tar.gz already downloaded\n",
      "[2020-06-23 23:13:52,969] INFO - scvi.dataset.dataset10X | Preprocessing dataset\n",
      "[2020-06-23 23:13:52,972] INFO - scvi.dataset.dataset10X | Extracting tar file\n",
      "[2020-06-23 23:14:00,901] INFO - scvi.dataset.dataset10X | Finished preprocessing dataset\n",
      "[2020-06-23 23:14:00,966] WARNING - scvi.dataset.dataset | Gene names are not unique.\n",
      "[2020-06-23 23:14:00,967] INFO - scvi.dataset.dataset | Remapping batch_indices to [0,N]\n",
      "[2020-06-23 23:14:00,968] INFO - scvi.dataset.dataset | Remapping labels to [0,N]\n",
      "[2020-06-23 23:14:01,066] INFO - scvi.dataset.dataset | Computing the library size for the new data\n",
      "[2020-06-23 23:14:01,101] INFO - scvi.dataset.dataset | Downsampled from 10479 to 10479 cells\n",
      "[2020-06-23 23:14:01,122] INFO - scvi.dataset.dataset | File /Users/galen/scVI/galen/data/memory_t/filtered_gene_bc_matrices.tar.gz already downloaded\n",
      "[2020-06-23 23:14:01,123] INFO - scvi.dataset.dataset10X | Preprocessing dataset\n",
      "[2020-06-23 23:14:01,125] INFO - scvi.dataset.dataset10X | Extracting tar file\n",
      "[2020-06-23 23:14:10,053] INFO - scvi.dataset.dataset10X | Finished preprocessing dataset\n",
      "[2020-06-23 23:14:10,128] WARNING - scvi.dataset.dataset | Gene names are not unique.\n",
      "[2020-06-23 23:14:10,129] INFO - scvi.dataset.dataset | Remapping batch_indices to [0,N]\n",
      "[2020-06-23 23:14:10,130] INFO - scvi.dataset.dataset | Remapping labels to [0,N]\n",
      "[2020-06-23 23:14:10,243] INFO - scvi.dataset.dataset | Computing the library size for the new data\n",
      "[2020-06-23 23:14:10,283] INFO - scvi.dataset.dataset | Downsampled from 10224 to 10224 cells\n",
      "[2020-06-23 23:14:10,308] INFO - scvi.dataset.dataset | File /Users/galen/scVI/galen/data/naive_cytotoxic/filtered_gene_bc_matrices.tar.gz already downloaded\n",
      "[2020-06-23 23:14:10,309] INFO - scvi.dataset.dataset10X | Preprocessing dataset\n",
      "[2020-06-23 23:14:10,312] INFO - scvi.dataset.dataset10X | Extracting tar file\n",
      "[2020-06-23 23:14:19,668] INFO - scvi.dataset.dataset10X | Finished preprocessing dataset\n",
      "[2020-06-23 23:14:19,749] WARNING - scvi.dataset.dataset | Gene names are not unique.\n",
      "[2020-06-23 23:14:19,750] INFO - scvi.dataset.dataset | Remapping batch_indices to [0,N]\n",
      "[2020-06-23 23:14:19,751] INFO - scvi.dataset.dataset | Remapping labels to [0,N]\n",
      "[2020-06-23 23:14:19,869] INFO - scvi.dataset.dataset | Computing the library size for the new data\n",
      "[2020-06-23 23:14:19,900] INFO - scvi.dataset.dataset | Downsampled from 11953 to 11953 cells\n",
      "[2020-06-23 23:14:19,917] INFO - scvi.dataset.dataset | Merging datasets. Input objects are modified in place.\n",
      "[2020-06-23 23:14:19,918] INFO - scvi.dataset.dataset | Gene names and cell measurement names are assumed to have a non-null intersection between datasets.\n",
      "[2020-06-23 23:14:20,025] INFO - scvi.dataset.dataset | Keeping 32738 genes\n",
      "[2020-06-23 23:14:20,202] INFO - scvi.dataset.dataset | Computing the library size for the new data\n",
      "[2020-06-23 23:14:20,239] INFO - scvi.dataset.dataset | Remapping batch_indices to [0,N]\n",
      "[2020-06-23 23:14:20,240] INFO - scvi.dataset.dataset | Remapping labels to [0,N]\n",
      "[2020-06-23 23:14:20,403] INFO - scvi.dataset.dataset | Computing the library size for the new data\n",
      "[2020-06-23 23:14:20,432] INFO - scvi.dataset.dataset | Remapping batch_indices to [0,N]\n",
      "[2020-06-23 23:14:20,433] INFO - scvi.dataset.dataset | Remapping labels to [0,N]\n",
      "[2020-06-23 23:14:20,613] INFO - scvi.dataset.dataset | Computing the library size for the new data\n",
      "[2020-06-23 23:14:20,645] INFO - scvi.dataset.dataset | Remapping batch_indices to [0,N]\n",
      "[2020-06-23 23:14:20,646] INFO - scvi.dataset.dataset | Remapping labels to [0,N]\n",
      "[2020-06-23 23:14:20,841] INFO - scvi.dataset.dataset | Computing the library size for the new data\n",
      "[2020-06-23 23:14:20,876] INFO - scvi.dataset.dataset | Remapping batch_indices to [0,N]\n",
      "[2020-06-23 23:14:20,877] INFO - scvi.dataset.dataset | Remapping labels to [0,N]\n",
      "[2020-06-23 23:14:21,240] INFO - scvi.dataset.dataset | Remapping batch_indices to [0,N]\n",
      "[2020-06-23 23:14:21,242] INFO - scvi.dataset.dataset | Remapping labels to [0,N]\n",
      "[2020-06-23 23:14:21,492] INFO - scvi.dataset.dataset | Downsampling from 32738 to 18443 genes\n",
      "[2020-06-23 23:14:22,141] INFO - scvi.dataset.dataset | Computing the library size for the new data\n",
      "[2020-06-23 23:14:22,268] INFO - scvi.dataset.dataset | Filtering non-expressing cells.\n",
      "[2020-06-23 23:14:22,819] INFO - scvi.dataset.dataset | Computing the library size for the new data\n",
      "[2020-06-23 23:14:22,946] INFO - scvi.dataset.dataset | Downsampled from 42919 to 42919 cells\n",
      "[2020-06-23 23:14:23,514] INFO - scvi.dataset.dataset | Computing the library size for the new data\n",
      "[2020-06-23 23:14:23,647] INFO - scvi.dataset.dataset | Downsampled from 42919 to 42919 cells\n"
     ]
    }
   ],
   "source": [
    "use_cuda = False\n",
    "\n",
    "cell_types = [\"regulatory_t\", \"naive_t\", \"memory_t\",  \"naive_cytotoxic\"]\n",
    "cell_types = [1,2,3,5]\n",
    "#cell_types should probably be a list of str instead of ints\n",
    "pbmc = PurifiedPBMCDataset(subset_datasets=cell_types)"
   ]
  },
  {
   "cell_type": "code",
   "execution_count": 4,
   "metadata": {},
   "outputs": [
    {
     "name": "stderr",
     "output_type": "stream",
     "text": [
      "Variable names are not unique. To make them unique, call `.var_names_make_unique`.\n"
     ]
    }
   ],
   "source": [
    "import scanpy\n",
    "subset = [\"CD4\", \"FOXP3\", \"TNFRSF18\", \"IL2RA\", \"CTLA4\", \"CD44\", \"TCF7\", \"CD8B\", \"CCR7\", \"CD69\", \"PTPRC\", \"S100A4\"]\n",
    "\n",
    "adata = pbmc.to_anndata()\n",
    "adata.var_names_make_unique()\n",
    "\n",
    "#where to subset\n",
    "# adata = adata[:,subset]\n",
    "\n",
    "#target sum follows what chenling uses\n",
    "scanpy.pp.normalize_total(adata, target_sum = 1e4) \n",
    "scanpy.pp.log1p(adata)\n",
    "#corresponding chenling code\n",
    "#expression = np.log(1 + 1e4 * expression[:, idx] / np.sum(expression, axis=1)[:, np.newaxis])\n",
    "\n",
    "#second subset option\n",
    "adata = adata[:,subset]\n",
    "\n",
    "#scale data to mean 0, std 1\n",
    "scanpy.pp.scale(adata)\n",
    "\n",
    "#chenling code:\n",
    "# expression = expression - np.mean(expression, axis=0)\n",
    "# expression = expression / np.std(expression, axis=0)\n",
    "\n",
    "#make sure no inf values\n",
    "assert len(np.where(np.isinf(adata.X))[0]) == 0\n"
   ]
  },
  {
   "cell_type": "code",
   "execution_count": 5,
   "metadata": {},
   "outputs": [],
   "source": [
    "#get the score for a set of genes\n",
    "def get_score(normalized_adata, gene_set):\n",
    "    score = np.zeros(normalized_adata.n_obs)\n",
    "    for gene in gene_set['positive']:\n",
    "        expression = np.array(adata[:, gene].X)\n",
    "        score = np.add(score, expression.flatten())\n",
    "    for gene in gene_set['negative']:\n",
    "        expression = np.array(adata[:, gene].X)\n",
    "        score = np.subtract(score, expression.flatten())\n",
    "    return score\n",
    "\n",
    "#get a mask over the genes\n",
    "def get_gene_mask(normalized_adata, gene_set):\n",
    "    score = get_score(normalized_adata, gene_set)\n",
    "    cell_idx = score.argsort()[-50:]\n",
    "    mask = np.zeros(normalized_adata.n_obs)\n",
    "    mask[cell_idx] = 1\n",
    "    return mask.astype(bool)\n",
    "\n",
    "    "
   ]
  },
  {
   "cell_type": "code",
   "execution_count": 6,
   "metadata": {},
   "outputs": [],
   "source": [
    "cd4_reg_geneset = {\"positive\":[\"TNFRSF18\", \"CTLA4\", \"FOXP3\", \"IL2RA\"],\n",
    "                   \"negative\":[\"S100A4\" ,\"PTPRC\" ,\"CD8B\"]}\n",
    "\n",
    "cd8_naive_geneset = {\"positive\":[\"CD8B\", \"CCR7\"],\n",
    "                   \"negative\":[\"CD4\"]}\n",
    "\n",
    "cd4_naive_geneset = {\"positive\":[\"CCR7\",\"CD4\"],\n",
    "                   \"negative\":[\"S100A4\", \"PTPRC\", \"FOXP3\", \"IL2RA\", \"CD69\" ]}\n",
    "\n",
    "cd4_mem_geneset = {\"positive\":[\"S100A4\"],\n",
    "                   \"negative\":[\"IL2RA\" ,\"FOXP3\",\"TNFRSF18\", \"CCR7\"]}\n",
    "\n",
    "cd4_reg_mask = get_gene_mask(adata, cd4_reg_geneset,) #38, 4\n",
    "cd8_naive_mask = get_gene_mask(adata, cd8_naive_geneset,) #100, 0\n",
    "cd4_naive_mask = get_gene_mask(adata, cd4_naive_geneset,)#72, 0 \n",
    "cd4_mem_mask = get_gene_mask(adata, cd4_mem_geneset,)#100, 0 \n",
    "full_mask = cd4_reg_mask | cd8_naive_mask | cd4_naive_mask | cd4_mem_mask\n",
    "indicator_lab = np.zeros(len(pbmc))\n",
    "indicator_lab[full_mask] = 1"
   ]
  },
  {
   "cell_type": "code",
   "execution_count": 30,
   "metadata": {},
   "outputs": [
    {
     "data": {
      "text/plain": [
       "200.0"
      ]
     },
     "execution_count": 30,
     "metadata": {},
     "output_type": "execute_result"
    }
   ],
   "source": [
    "np.sum(indicator_lab)"
   ]
  },
  {
   "cell_type": "code",
   "execution_count": 29,
   "metadata": {},
   "outputs": [],
   "source": [
    "gene_dataset = pbmc\n",
    "\n",
    "#indicator mask\n",
    "full_mask = cd4_reg_mask | cd8_naive_mask | cd4_naive_mask | cd4_mem_mask\n",
    "indicator_lab = np.zeros(len(gene_dataset))\n",
    "indicator_lab[full_mask] = 1\n",
    "\n",
    "scanvi = SCANVI(gene_dataset.nb_genes,n_batch = 0, n_labels=6, n_layers=2, classifier_parameters = {'dropout_rate':0.2, 'n_hidden':256, 'n_layers':2})\n",
    "trainer_scanvi = SemiSupervisedTrainer(scanvi, gene_dataset, classification_ratio=100,\n",
    "                                       n_epochs_classifier=1, lr_classification=5 * 1e-3,  frequency=5)\n",
    "\n",
    "trainer_scanvi.labelled_set = trainer_scanvi.create_posterior(indices=(indicator_lab == 1))\n",
    "trainer_scanvi.unlabelled_set = trainer_scanvi.create_posterior(indices=(indicator_lab == 0))\n",
    "trainer_scanvi.labelled_set.to_monitor = ['reconstruction_error', 'accuracy']\n",
    "trainer_scanvi.unlabelled_set.to_monitor = ['reconstruction_error', 'accuracy']\n",
    "\n",
    "trainer_scanvi.train(n_epochs=1)\n",
    "trainer_scanvi.model.eval()\n",
    "\n",
    "full_scanvi = trainer_scanvi.create_posterior(trainer_scanvi.model, gene_dataset, indices=np.arange(len(gene_dataset)))\n",
    "\n",
    "\n"
   ]
  },
  {
   "cell_type": "code",
   "execution_count": 32,
   "metadata": {},
   "outputs": [
    {
     "data": {
      "text/plain": [
       "GeneExpressionDataset object with n_cells x nb_genes = 42919 x 18443\n",
       "    gene_attribute_names: 'gene_names'\n",
       "    cell_attribute_names: 'batch_indices', 'local_means', 'local_vars', 'labels', 'barcodes'\n",
       "    cell_categorical_attribute_names: 'batch_indices', 'labels'"
      ]
     },
     "execution_count": 32,
     "metadata": {},
     "output_type": "execute_result"
    }
   ],
   "source": [
    "gene_dataset\n"
   ]
  },
  {
   "cell_type": "code",
   "execution_count": 35,
   "metadata": {},
   "outputs": [
    {
     "ename": "AttributeError",
     "evalue": "'tuple' object has no attribute 'items'",
     "output_type": "error",
     "traceback": [
      "\u001b[0;31m---------------------------------------------------------------------------\u001b[0m",
      "\u001b[0;31mAttributeError\u001b[0m                            Traceback (most recent call last)",
      "\u001b[0;32m<ipython-input-35-d3d5dc47d7fd>\u001b[0m in \u001b[0;36m<module>\u001b[0;34m\u001b[0m\n\u001b[1;32m      2\u001b[0m \u001b[0ma\u001b[0m \u001b[0;34m=\u001b[0m \u001b[0mtime\u001b[0m\u001b[0;34m.\u001b[0m\u001b[0mtime\u001b[0m\u001b[0;34m(\u001b[0m\u001b[0;34m)\u001b[0m\u001b[0;34m\u001b[0m\u001b[0;34m\u001b[0m\u001b[0m\n\u001b[1;32m      3\u001b[0m \u001b[0mi\u001b[0m \u001b[0;34m=\u001b[0m \u001b[0;36m0\u001b[0m\u001b[0;34m\u001b[0m\u001b[0;34m\u001b[0m\u001b[0m\n\u001b[0;32m----> 4\u001b[0;31m \u001b[0;32mfor\u001b[0m \u001b[0ma\u001b[0m\u001b[0;34m,\u001b[0m \u001b[0mb\u001b[0m \u001b[0;32min\u001b[0m \u001b[0menumerate\u001b[0m\u001b[0;34m(\u001b[0m\u001b[0mfull_scanvi\u001b[0m\u001b[0;34m)\u001b[0m\u001b[0;34m:\u001b[0m\u001b[0;34m\u001b[0m\u001b[0;34m\u001b[0m\u001b[0m\n\u001b[0m\u001b[1;32m      5\u001b[0m     \u001b[0mi\u001b[0m\u001b[0;34m+=\u001b[0m\u001b[0;36m1\u001b[0m\u001b[0;34m\u001b[0m\u001b[0;34m\u001b[0m\u001b[0m\n\u001b[1;32m      6\u001b[0m \u001b[0;31m#     print(b)\u001b[0m\u001b[0;34m\u001b[0m\u001b[0;34m\u001b[0m\u001b[0;34m\u001b[0m\u001b[0m\n",
      "\u001b[0;32m~/scVI/scvi/inference/posterior.py\u001b[0m in \u001b[0;36mto_cuda\u001b[0;34m(self, tensors)\u001b[0m\n\u001b[1;32m    223\u001b[0m             \u001b[0mtensors\u001b[0m \u001b[0mto\u001b[0m \u001b[0mconvert\u001b[0m\u001b[0;34m\u001b[0m\u001b[0;34m\u001b[0m\u001b[0m\n\u001b[1;32m    224\u001b[0m         \"\"\"\n\u001b[0;32m--> 225\u001b[0;31m         \u001b[0;32mreturn\u001b[0m \u001b[0;34m{\u001b[0m\u001b[0mk\u001b[0m\u001b[0;34m:\u001b[0m\u001b[0;34m(\u001b[0m\u001b[0mt\u001b[0m\u001b[0;34m.\u001b[0m\u001b[0mcuda\u001b[0m\u001b[0;34m(\u001b[0m\u001b[0;34m)\u001b[0m \u001b[0;32mif\u001b[0m \u001b[0mself\u001b[0m\u001b[0;34m.\u001b[0m\u001b[0muse_cuda\u001b[0m \u001b[0;32melse\u001b[0m \u001b[0mt\u001b[0m\u001b[0;34m)\u001b[0m \u001b[0;32mfor\u001b[0m \u001b[0mk\u001b[0m\u001b[0;34m,\u001b[0m\u001b[0mt\u001b[0m \u001b[0;32min\u001b[0m \u001b[0mtensors\u001b[0m\u001b[0;34m.\u001b[0m\u001b[0mitems\u001b[0m\u001b[0;34m(\u001b[0m\u001b[0;34m)\u001b[0m\u001b[0;34m}\u001b[0m\u001b[0;34m\u001b[0m\u001b[0;34m\u001b[0m\u001b[0m\n\u001b[0m\u001b[1;32m    226\u001b[0m         \u001b[0;31m# return [t.cuda() if self.use_cuda else t for t in tensors]\u001b[0m\u001b[0;34m\u001b[0m\u001b[0;34m\u001b[0m\u001b[0;34m\u001b[0m\u001b[0m\n\u001b[1;32m    227\u001b[0m \u001b[0;34m\u001b[0m\u001b[0m\n",
      "\u001b[0;31mAttributeError\u001b[0m: 'tuple' object has no attribute 'items'"
     ]
    }
   ],
   "source": [
    "import time\n",
    "a = time.time()\n",
    "i = 0\n",
    "for a, b in enumerate(full_scanvi):\n",
    "    i+=1\n",
    "#     print(b)\n",
    "b = time.time()\n",
    "print(b-a)\n",
    "print(i)"
   ]
  },
  {
   "cell_type": "code",
   "execution_count": 39,
   "metadata": {},
   "outputs": [
    {
     "name": "stderr",
     "output_type": "stream",
     "text": [
      "Variable names are not unique. To make them unique, call `.var_names_make_unique`.\n"
     ]
    }
   ],
   "source": [
    "raw_adata = pbmc.to_anndata()\n",
    "raw_adata.obs['scanvi_labeled_mask'] = indicator_lab"
   ]
  },
  {
   "cell_type": "code",
   "execution_count": 64,
   "metadata": {},
   "outputs": [
    {
     "data": {
      "text/plain": [
       "False"
      ]
     },
     "execution_count": 64,
     "metadata": {},
     "output_type": "execute_result"
    }
   ],
   "source": [
    "import pandas as pd\n",
    "isinstance(raw_adata.X, pd.Series)"
   ]
  },
  {
   "cell_type": "code",
   "execution_count": 46,
   "metadata": {},
   "outputs": [],
   "source": [
    "raw_adata.X = raw_adata.X.toarray()"
   ]
  },
  {
   "cell_type": "code",
   "execution_count": 79,
   "metadata": {},
   "outputs": [
    {
     "name": "stdout",
     "output_type": "stream",
     "text": [
      "74.9 µs ± 330 ns per loop (mean ± std. dev. of 7 runs, 10000 loops each)\n"
     ]
    }
   ],
   "source": [
    "%timeit raw_adata.X[10].toarray()\n"
   ]
  },
  {
   "cell_type": "code",
   "execution_count": 70,
   "metadata": {},
   "outputs": [],
   "source": [
    "raw_adata.layers['rawX'] = raw_adata.X.toarray()"
   ]
  },
  {
   "cell_type": "code",
   "execution_count": 73,
   "metadata": {},
   "outputs": [
    {
     "name": "stdout",
     "output_type": "stream",
     "text": [
      "6.72 µs ± 48.8 ns per loop (mean ± std. dev. of 7 runs, 100000 loops each)\n"
     ]
    }
   ],
   "source": [
    "%timeit raw_adata.layers['rawX'][10].flatten().astype(np.float32)"
   ]
  },
  {
   "cell_type": "code",
   "execution_count": 48,
   "metadata": {},
   "outputs": [
    {
     "data": {
      "text/plain": [
       "3166220580"
      ]
     },
     "execution_count": 48,
     "metadata": {},
     "output_type": "execute_result"
    }
   ],
   "source": [
    "from sys import getsizeof\n",
    "getsizeof(raw_adata.X)"
   ]
  },
  {
   "cell_type": "code",
   "execution_count": 40,
   "metadata": {},
   "outputs": [
    {
     "name": "stdout",
     "output_type": "stream",
     "text": [
      "[2020-06-23 23:57:21,444] INFO - scvi.dataset.utils | Using data from adata.X\n",
      "[2020-06-23 23:57:21,445] INFO - scvi.dataset.utils | Using batches from adata.obs[\"batch_indices\"]\n",
      "[2020-06-23 23:57:21,446] INFO - scvi.dataset.utils | Using labels from adata.obs[\"cell_types\"]\n",
      "[2020-06-23 23:57:21,451] INFO - scvi.dataset.utils | Computing library size prior per batch\n",
      "[2020-06-23 23:57:21,662] INFO - scvi.dataset.utils | Successfully registered anndata object containing 42919 cells, 18443 genes, and 4 batches \n",
      "Registered keys:['X', 'batch_indices', 'local_l_mean', 'local_l_var', 'labels', 'scanvi_labeled_idx']\n"
     ]
    }
   ],
   "source": [
    "setup_anndata(raw_adata, batch_key = 'batch_indices', scanvi_labeled_idx_key = 'scanvi_labeled_mask', labels_key = 'cell_types')\n",
    "\n"
   ]
  },
  {
   "cell_type": "code",
   "execution_count": 58,
   "metadata": {},
   "outputs": [
    {
     "data": {
      "text/plain": [
       "(42919, 18443)"
      ]
     },
     "execution_count": 58,
     "metadata": {},
     "output_type": "execute_result"
    }
   ],
   "source": [
    "raw_adata.X.shape"
   ]
  },
  {
   "cell_type": "code",
   "execution_count": 42,
   "metadata": {},
   "outputs": [
    {
     "ename": "ValueError",
     "evalue": "too many values to unpack (expected 5)",
     "output_type": "error",
     "traceback": [
      "\u001b[0;31m---------------------------------------------------------------------------\u001b[0m",
      "\u001b[0;31mValueError\u001b[0m                                Traceback (most recent call last)",
      "\u001b[0;32m<ipython-input-42-82ba1b624be6>\u001b[0m in \u001b[0;36m<module>\u001b[0;34m\u001b[0m\n\u001b[1;32m     12\u001b[0m \u001b[0;34m\u001b[0m\u001b[0m\n\u001b[1;32m     13\u001b[0m \u001b[0mfull_scanvi\u001b[0m \u001b[0;34m=\u001b[0m \u001b[0mtrainer_scanvi\u001b[0m\u001b[0;34m.\u001b[0m\u001b[0mcreate_posterior\u001b[0m\u001b[0;34m(\u001b[0m\u001b[0mtrainer_scanvi\u001b[0m\u001b[0;34m.\u001b[0m\u001b[0mmodel\u001b[0m\u001b[0;34m,\u001b[0m \u001b[0mraw_adata\u001b[0m\u001b[0;34m,\u001b[0m \u001b[0;34m)\u001b[0m\u001b[0;34m\u001b[0m\u001b[0;34m\u001b[0m\u001b[0m\n\u001b[0;32m---> 14\u001b[0;31m \u001b[0mlatent_scanvi\u001b[0m\u001b[0;34m,\u001b[0m \u001b[0mbatch_indices\u001b[0m\u001b[0;34m,\u001b[0m \u001b[0mlabels\u001b[0m \u001b[0;34m=\u001b[0m \u001b[0mfull_scanvi\u001b[0m\u001b[0;34m.\u001b[0m\u001b[0msequential\u001b[0m\u001b[0;34m(\u001b[0m\u001b[0;34m)\u001b[0m\u001b[0;34m.\u001b[0m\u001b[0mget_latent\u001b[0m\u001b[0;34m(\u001b[0m\u001b[0;34m)\u001b[0m\u001b[0;34m\u001b[0m\u001b[0;34m\u001b[0m\u001b[0m\n\u001b[0m",
      "\u001b[0;32m~/anaconda3/envs/scvi/lib/python3.6/site-packages/torch/autograd/grad_mode.py\u001b[0m in \u001b[0;36mdecorate_context\u001b[0;34m(*args, **kwargs)\u001b[0m\n\u001b[1;32m     13\u001b[0m         \u001b[0;32mdef\u001b[0m \u001b[0mdecorate_context\u001b[0m\u001b[0;34m(\u001b[0m\u001b[0;34m*\u001b[0m\u001b[0margs\u001b[0m\u001b[0;34m,\u001b[0m \u001b[0;34m**\u001b[0m\u001b[0mkwargs\u001b[0m\u001b[0;34m)\u001b[0m\u001b[0;34m:\u001b[0m\u001b[0;34m\u001b[0m\u001b[0;34m\u001b[0m\u001b[0m\n\u001b[1;32m     14\u001b[0m             \u001b[0;32mwith\u001b[0m \u001b[0mself\u001b[0m\u001b[0;34m:\u001b[0m\u001b[0;34m\u001b[0m\u001b[0;34m\u001b[0m\u001b[0m\n\u001b[0;32m---> 15\u001b[0;31m                 \u001b[0;32mreturn\u001b[0m \u001b[0mfunc\u001b[0m\u001b[0;34m(\u001b[0m\u001b[0;34m*\u001b[0m\u001b[0margs\u001b[0m\u001b[0;34m,\u001b[0m \u001b[0;34m**\u001b[0m\u001b[0mkwargs\u001b[0m\u001b[0;34m)\u001b[0m\u001b[0;34m\u001b[0m\u001b[0;34m\u001b[0m\u001b[0m\n\u001b[0m\u001b[1;32m     16\u001b[0m         \u001b[0;32mreturn\u001b[0m \u001b[0mdecorate_context\u001b[0m\u001b[0;34m\u001b[0m\u001b[0;34m\u001b[0m\u001b[0m\n\u001b[1;32m     17\u001b[0m \u001b[0;34m\u001b[0m\u001b[0m\n",
      "\u001b[0;32m~/scVI/scvi/inference/posterior.py\u001b[0m in \u001b[0;36mget_latent\u001b[0;34m(self, give_mean)\u001b[0m\n\u001b[1;32m    326\u001b[0m              \u001b[0;34m(\u001b[0m\u001b[0mDefault\u001b[0m \u001b[0mvalue\u001b[0m \u001b[0;34m=\u001b[0m \u001b[0;32mTrue\u001b[0m\u001b[0;34m)\u001b[0m\u001b[0;34m\u001b[0m\u001b[0;34m\u001b[0m\u001b[0m\n\u001b[1;32m    327\u001b[0m \u001b[0;34m\u001b[0m\u001b[0m\n\u001b[0;32m--> 328\u001b[0;31m         \u001b[0mReturns\u001b[0m\u001b[0;34m\u001b[0m\u001b[0;34m\u001b[0m\u001b[0m\n\u001b[0m\u001b[1;32m    329\u001b[0m         \u001b[0;34m-\u001b[0m\u001b[0;34m-\u001b[0m\u001b[0;34m-\u001b[0m\u001b[0;34m-\u001b[0m\u001b[0;34m-\u001b[0m\u001b[0;34m-\u001b[0m\u001b[0;34m-\u001b[0m\u001b[0;34m\u001b[0m\u001b[0;34m\u001b[0m\u001b[0m\n\u001b[1;32m    330\u001b[0m         \u001b[0mlatent\u001b[0m\u001b[0;34m\u001b[0m\u001b[0;34m\u001b[0m\u001b[0m\n",
      "\u001b[0;31mValueError\u001b[0m: too many values to unpack (expected 5)"
     ]
    }
   ],
   "source": [
    "scanvi = SCANVI(raw_adata.uns['scvi_summary_stats']['n_genes'], n_batch = 0, n_labels=6, n_layers=2, classifier_parameters = {'dropout_rate':0.2, 'n_hidden':256, 'n_layers':2})\n",
    "trainer_scanvi = SemiSupervisedTrainer(scanvi, raw_adata, classification_ratio=100,\n",
    "                                       n_epochs_classifier=1, lr_classification=5 * 1e-3,  frequency=5)\n",
    "\n",
    "trainer_scanvi.labelled_set = trainer_scanvi.create_posterior(indices=(indicator_lab == 1))\n",
    "trainer_scanvi.unlabelled_set = trainer_scanvi.create_posterior(indices=(indicator_lab == 0))\n",
    "trainer_scanvi.labelled_set.to_monitor = ['reconstruction_error', 'accuracy']\n",
    "trainer_scanvi.unlabelled_set.to_monitor = ['reconstruction_error', 'accuracy']\n",
    "\n",
    "# trainer_scanvi.train(n_epochs=1)\n",
    "trainer_scanvi.model.eval()\n",
    "\n",
    "full_scanvi = trainer_scanvi.create_posterior(trainer_scanvi.model, raw_adata, )\n",
    "# latent_scanvi, batch_indices, labels = full_scanvi.sequential().get_latent()\n"
   ]
  },
  {
   "cell_type": "code",
   "execution_count": 45,
   "metadata": {},
   "outputs": [
    {
     "name": "stdout",
     "output_type": "stream",
     "text": [
      "20.95548391342163\n",
      "336\n"
     ]
    }
   ],
   "source": [
    "import time\n",
    "a = time.time()\n",
    "i = 0\n",
    "for e, d in enumerate(full_scanvi):\n",
    "    i+=1\n",
    "#     print(b)\n",
    "b = time.time()\n",
    "print(b-a)\n",
    "print(i)"
   ]
  },
  {
   "cell_type": "code",
   "execution_count": 44,
   "metadata": {},
   "outputs": [
    {
     "name": "stdout",
     "output_type": "stream",
     "text": [
      "336\n"
     ]
    }
   ],
   "source": [
    "print(i)"
   ]
  },
  {
   "cell_type": "code",
   "execution_count": 75,
   "metadata": {},
   "outputs": [
    {
     "ename": "KeyError",
     "evalue": "'scvi_summary_stats'",
     "output_type": "error",
     "traceback": [
      "\u001b[0;31m---------------------------------------------------------------------------\u001b[0m",
      "\u001b[0;31mKeyError\u001b[0m                                  Traceback (most recent call last)",
      "\u001b[0;32m<ipython-input-75-7dfd0abe8f0f>\u001b[0m in \u001b[0;36m<module>\u001b[0;34m\u001b[0m\n\u001b[0;32m----> 1\u001b[0;31m \u001b[0mscanvi\u001b[0m \u001b[0;34m=\u001b[0m \u001b[0mSCANVI\u001b[0m\u001b[0;34m(\u001b[0m\u001b[0mraw_adata\u001b[0m\u001b[0;34m.\u001b[0m\u001b[0muns\u001b[0m\u001b[0;34m[\u001b[0m\u001b[0;34m'scvi_summary_stats'\u001b[0m\u001b[0;34m]\u001b[0m\u001b[0;34m[\u001b[0m\u001b[0;34m'n_genes'\u001b[0m\u001b[0;34m]\u001b[0m\u001b[0;34m,\u001b[0m \u001b[0mn_batch\u001b[0m \u001b[0;34m=\u001b[0m \u001b[0;36m0\u001b[0m\u001b[0;34m,\u001b[0m \u001b[0mn_labels\u001b[0m\u001b[0;34m=\u001b[0m\u001b[0;36m6\u001b[0m\u001b[0;34m,\u001b[0m \u001b[0mn_layers\u001b[0m\u001b[0;34m=\u001b[0m\u001b[0;36m2\u001b[0m\u001b[0;34m,\u001b[0m \u001b[0mclassifier_parameters\u001b[0m \u001b[0;34m=\u001b[0m \u001b[0;34m{\u001b[0m\u001b[0;34m'dropout_rate'\u001b[0m\u001b[0;34m:\u001b[0m\u001b[0;36m0.2\u001b[0m\u001b[0;34m,\u001b[0m \u001b[0;34m'n_hidden'\u001b[0m\u001b[0;34m:\u001b[0m\u001b[0;36m256\u001b[0m\u001b[0;34m,\u001b[0m \u001b[0;34m'n_layers'\u001b[0m\u001b[0;34m:\u001b[0m\u001b[0;36m2\u001b[0m\u001b[0;34m}\u001b[0m\u001b[0;34m)\u001b[0m\u001b[0;34m\u001b[0m\u001b[0;34m\u001b[0m\u001b[0m\n\u001b[0m\u001b[1;32m      2\u001b[0m trainer_scanvi = SemiSupervisedTrainer(scanvi, raw_adata, classification_ratio=100,\n\u001b[1;32m      3\u001b[0m                                        n_epochs_classifier=1, lr_classification=5 * 1e-3,  frequency=5)\n\u001b[1;32m      4\u001b[0m \u001b[0;34m\u001b[0m\u001b[0m\n\u001b[1;32m      5\u001b[0m \u001b[0mfull\u001b[0m \u001b[0;34m=\u001b[0m \u001b[0mtrainer_scanvi\u001b[0m\u001b[0;34m.\u001b[0m\u001b[0mcreate_posterior\u001b[0m\u001b[0;34m(\u001b[0m\u001b[0;34m)\u001b[0m\u001b[0;34m\u001b[0m\u001b[0;34m\u001b[0m\u001b[0m\n",
      "\u001b[0;32m~/anaconda3/envs/scvi/lib/python3.6/site-packages/anndata/compat/_overloaded_dict.py\u001b[0m in \u001b[0;36m__getitem__\u001b[0;34m(self, key)\u001b[0m\n\u001b[1;32m     98\u001b[0m             \u001b[0;32mreturn\u001b[0m \u001b[0mself\u001b[0m\u001b[0;34m.\u001b[0m\u001b[0moverloaded\u001b[0m\u001b[0;34m[\u001b[0m\u001b[0mkey\u001b[0m\u001b[0;34m]\u001b[0m\u001b[0;34m.\u001b[0m\u001b[0mget\u001b[0m\u001b[0;34m(\u001b[0m\u001b[0;34m)\u001b[0m\u001b[0;34m\u001b[0m\u001b[0;34m\u001b[0m\u001b[0m\n\u001b[1;32m     99\u001b[0m         \u001b[0;32melse\u001b[0m\u001b[0;34m:\u001b[0m\u001b[0;34m\u001b[0m\u001b[0;34m\u001b[0m\u001b[0m\n\u001b[0;32m--> 100\u001b[0;31m             \u001b[0;32mreturn\u001b[0m \u001b[0mself\u001b[0m\u001b[0;34m.\u001b[0m\u001b[0mdata\u001b[0m\u001b[0;34m[\u001b[0m\u001b[0mkey\u001b[0m\u001b[0;34m]\u001b[0m\u001b[0;34m\u001b[0m\u001b[0;34m\u001b[0m\u001b[0m\n\u001b[0m\u001b[1;32m    101\u001b[0m \u001b[0;34m\u001b[0m\u001b[0m\n\u001b[1;32m    102\u001b[0m     \u001b[0;32mdef\u001b[0m \u001b[0m__setitem__\u001b[0m\u001b[0;34m(\u001b[0m\u001b[0mself\u001b[0m\u001b[0;34m,\u001b[0m \u001b[0mkey\u001b[0m\u001b[0;34m,\u001b[0m \u001b[0mvalue\u001b[0m\u001b[0;34m)\u001b[0m\u001b[0;34m:\u001b[0m\u001b[0;34m\u001b[0m\u001b[0;34m\u001b[0m\u001b[0m\n",
      "\u001b[0;31mKeyError\u001b[0m: 'scvi_summary_stats'"
     ]
    }
   ],
   "source": [
    "scanvi = SCANVI(raw_adata.uns['scvi_summary_stats']['n_genes'], n_batch = 0, n_labels=6, n_layers=2, classifier_parameters = {'dropout_rate':0.2, 'n_hidden':256, 'n_layers':2})\n",
    "trainer_scanvi = SemiSupervisedTrainer(scanvi, raw_adata, classification_ratio=100,\n",
    "                                       n_epochs_classifier=1, lr_classification=5 * 1e-3,  frequency=5)\n",
    "\n",
    "full = trainer_scanvi.create_posterior()\n"
   ]
  },
  {
   "cell_type": "code",
   "execution_count": 74,
   "metadata": {},
   "outputs": [
    {
     "data": {
      "text/plain": [
       "18.18271803855896"
      ]
     },
     "execution_count": 74,
     "metadata": {},
     "output_type": "execute_result"
    }
   ],
   "source": [
    "import time\n",
    "a = time.time()\n",
    "for d, e in enumerate(full):\n",
    "    pass\n",
    "b = time.time()\n",
    "b-a"
   ]
  },
  {
   "cell_type": "code",
   "execution_count": null,
   "metadata": {},
   "outputs": [],
   "source": [
    "#time for regular: 1 sec\n",
    "#csr get_from_registry(self.adata, key)[idx]\n",
    "            .toarray() 22.8 sec\n",
    "#from dense 14 sec"
   ]
  },
  {
   "cell_type": "code",
   "execution_count": 31,
   "metadata": {},
   "outputs": [],
   "source": [
    "raw_adata.X = raw_adata.X.toarray()\n"
   ]
  },
  {
   "cell_type": "code",
   "execution_count": 37,
   "metadata": {},
   "outputs": [
    {
     "data": {
      "text/plain": [
       "1592954082.626915"
      ]
     },
     "execution_count": 37,
     "metadata": {},
     "output_type": "execute_result"
    }
   ],
   "source": [
    "b\n"
   ]
  },
  {
   "cell_type": "code",
   "execution_count": 38,
   "metadata": {},
   "outputs": [
    {
     "data": {
      "text/plain": [
       "335"
      ]
     },
     "execution_count": 38,
     "metadata": {},
     "output_type": "execute_result"
    }
   ],
   "source": [
    "a"
   ]
  },
  {
   "cell_type": "code",
   "execution_count": null,
   "metadata": {},
   "outputs": [],
   "source": []
  }
 ],
 "metadata": {
  "kernelspec": {
   "display_name": "Python scvi",
   "language": "python",
   "name": "scvi"
  },
  "language_info": {
   "codemirror_mode": {
    "name": "ipython",
    "version": 3
   },
   "file_extension": ".py",
   "mimetype": "text/x-python",
   "name": "python",
   "nbconvert_exporter": "python",
   "pygments_lexer": "ipython3",
   "version": "3.6.10"
  }
 },
 "nbformat": 4,
 "nbformat_minor": 2
}
