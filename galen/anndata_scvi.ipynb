{
 "cells": [
  {
   "cell_type": "code",
   "execution_count": 25,
   "metadata": {},
   "outputs": [
    {
     "name": "stdout",
     "output_type": "stream",
     "text": [
      "The autoreload extension is already loaded. To reload it, use:\n",
      "  %reload_ext autoreload\n"
     ]
    }
   ],
   "source": [
    "%load_ext autoreload\n",
    "%autoreload 2\n",
    "%aimport anndata\n",
    "%aimport os\n",
    "%aimport torch\n",
    "import numpy as np\n",
    "import pandas as pd\n",
    "import scipy as sp\n",
    "import matplotlib.pyplot as plt\n",
    "from typing import Dict, Union, List, Tuple\n",
    "from torch.utils.data import Dataset\n",
    "# Control UMAP numba warnings\n",
    "import warnings; warnings.simplefilter('ignore')\n",
    "import copy\n",
    "import scvi\n",
    "from scvi.dataset import CortexDataset, RetinaDataset, CsvDataset\n",
    "from scvi.models import VAE\n",
    "from scvi.inference import UnsupervisedTrainer, load_posterior\n",
    "from scvi import set_seed\n",
    "from scvi.dataset.utils import setup_anndata\n",
    "\n",
    "#STUFF THAT I MESSED AROUND WITH\n",
    "# from BioDataset import BioDataset\n",
    "# from constants import X_KEY, BATCH_KEY, LOCAL_L_MEAN_KEY, LOCAL_L_VAR_KEY, LABELS_KEY\n",
    "\n",
    "# Sets torch and numpy random seeds, run after all scvi imports\n",
    "set_seed(0)\n"
   ]
  },
  {
   "cell_type": "code",
   "execution_count": 29,
   "metadata": {},
   "outputs": [
    {
     "name": "stdout",
     "output_type": "stream",
     "text": [
      "[2020-06-17 00:13:46,211] INFO - scvi.dataset.dataset | File /Users/galen/scVI/galen/data/expression.bin already downloaded\n",
      "[2020-06-17 00:13:46,212] INFO - scvi.dataset.cortex | Loading Cortex data\n",
      "[2020-06-17 00:13:55,550] INFO - scvi.dataset.cortex | Finished preprocessing Cortex data\n",
      "[2020-06-17 00:13:56,841] INFO - scvi.dataset.dataset | Remapping labels to [0,N]\n",
      "[2020-06-17 00:13:56,843] INFO - scvi.dataset.dataset | Remapping batch_indices to [0,N]\n",
      "[2020-06-17 00:13:58,778] INFO - scvi.dataset.dataset | Downsampling from 19972 to 1000 genes\n",
      "[2020-06-17 00:13:58,905] INFO - scvi.dataset.dataset | Computing the library size for the new data\n",
      "[2020-06-17 00:13:58,918] INFO - scvi.dataset.dataset | Filtering non-expressing cells.\n",
      "[2020-06-17 00:13:58,988] INFO - scvi.dataset.dataset | Computing the library size for the new data\n",
      "[2020-06-17 00:13:58,994] INFO - scvi.dataset.dataset | Downsampled from 3005 to 3005 cells\n",
      "[2020-06-17 00:13:59,009] INFO - scvi.dataset.dataset | Making gene names lower case\n"
     ]
    }
   ],
   "source": [
    "save_path = \"data/\"\n",
    "gene_dataset = CortexDataset(save_path=save_path, total_genes=None)\n",
    "gene_dataset.subsample_genes(1000, mode=\"variance\")\n",
    "gene_dataset.make_gene_names_lower()\n"
   ]
  },
  {
   "cell_type": "code",
   "execution_count": 42,
   "metadata": {},
   "outputs": [
    {
     "name": "stdout",
     "output_type": "stream",
     "text": [
      "[2020-06-17 00:22:11,894] INFO - scvi.dataset.utils | Using data from adata.layers[\"rawX\"]\n",
      "[2020-06-17 00:22:11,894] INFO - scvi.dataset.utils | Using batches from adata.obs[\"batch_indices\"]\n",
      "[2020-06-17 00:22:11,896] INFO - scvi.dataset.utils | Using labels from adata.obs[\"precise_labels\"]\n",
      "[2020-06-17 00:22:11,900] INFO - scvi.dataset.utils | Calculating log mean and log variance per batch\n",
      "[2020-06-17 00:22:11,910] INFO - scvi.dataset.utils | Successfully registered anndata object containing 3005 cells, 1000 genes, and 1 batches \n",
      "Registered keys:['X', 'batch_indices', 'local_l_mean', 'local_l_var', 'labels']\n"
     ]
    }
   ],
   "source": [
    "adata = gene_dataset.to_anndata()\n",
    "\n",
    "adata.layers['rawX'] = adata.X\n",
    "adata.X = adata.X/10\n",
    "\n",
    "setup_anndata(adata,batch_key='batch_indices', labels_key = 'precise_labels',X_layers_key = 'rawX',  )\n"
   ]
  },
  {
   "cell_type": "code",
   "execution_count": 19,
   "metadata": {},
   "outputs": [
    {
     "data": {
      "text/plain": [
       "{'X': ('layers', 'rawX'),\n",
       " 'batch_indices': ('obs', '_scvi_batch'),\n",
       " 'local_l_mean': ('obs', '_scvi_local_l_mean'),\n",
       " 'local_l_var': ('obs', '_scvi_local_l_var'),\n",
       " 'labels': ('obs', '_scvi_labels')}"
      ]
     },
     "execution_count": 19,
     "metadata": {},
     "output_type": "execute_result"
    }
   ],
   "source": [
    "adata.uns['scvi_data_registry']"
   ]
  },
  {
   "cell_type": "code",
   "execution_count": 20,
   "metadata": {},
   "outputs": [
    {
     "data": {
      "text/html": [
       "<div>\n",
       "<style scoped>\n",
       "    .dataframe tbody tr th:only-of-type {\n",
       "        vertical-align: middle;\n",
       "    }\n",
       "\n",
       "    .dataframe tbody tr th {\n",
       "        vertical-align: top;\n",
       "    }\n",
       "\n",
       "    .dataframe thead th {\n",
       "        text-align: right;\n",
       "    }\n",
       "</style>\n",
       "<table border=\"1\" class=\"dataframe\">\n",
       "  <thead>\n",
       "    <tr style=\"text-align: right;\">\n",
       "      <th></th>\n",
       "      <th>batch_indices</th>\n",
       "      <th>cell_types</th>\n",
       "      <th>precise_labels</th>\n",
       "      <th>_scvi_batch</th>\n",
       "      <th>_scvi_labels</th>\n",
       "      <th>_scvi_local_l_mean</th>\n",
       "      <th>_scvi_local_l_var</th>\n",
       "    </tr>\n",
       "  </thead>\n",
       "  <tbody>\n",
       "    <tr>\n",
       "      <th>0</th>\n",
       "      <td>0</td>\n",
       "      <td>interneurons</td>\n",
       "      <td>1</td>\n",
       "      <td>0</td>\n",
       "      <td>0</td>\n",
       "      <td>6.376017</td>\n",
       "      <td>0.445956</td>\n",
       "    </tr>\n",
       "    <tr>\n",
       "      <th>1</th>\n",
       "      <td>0</td>\n",
       "      <td>interneurons</td>\n",
       "      <td>1</td>\n",
       "      <td>0</td>\n",
       "      <td>0</td>\n",
       "      <td>6.376017</td>\n",
       "      <td>0.445956</td>\n",
       "    </tr>\n",
       "    <tr>\n",
       "      <th>2</th>\n",
       "      <td>0</td>\n",
       "      <td>interneurons</td>\n",
       "      <td>1</td>\n",
       "      <td>0</td>\n",
       "      <td>0</td>\n",
       "      <td>6.376017</td>\n",
       "      <td>0.445956</td>\n",
       "    </tr>\n",
       "    <tr>\n",
       "      <th>3</th>\n",
       "      <td>0</td>\n",
       "      <td>interneurons</td>\n",
       "      <td>1</td>\n",
       "      <td>0</td>\n",
       "      <td>0</td>\n",
       "      <td>6.376017</td>\n",
       "      <td>0.445956</td>\n",
       "    </tr>\n",
       "    <tr>\n",
       "      <th>4</th>\n",
       "      <td>0</td>\n",
       "      <td>interneurons</td>\n",
       "      <td>1</td>\n",
       "      <td>0</td>\n",
       "      <td>0</td>\n",
       "      <td>6.376017</td>\n",
       "      <td>0.445956</td>\n",
       "    </tr>\n",
       "    <tr>\n",
       "      <th>...</th>\n",
       "      <td>...</td>\n",
       "      <td>...</td>\n",
       "      <td>...</td>\n",
       "      <td>...</td>\n",
       "      <td>...</td>\n",
       "      <td>...</td>\n",
       "      <td>...</td>\n",
       "    </tr>\n",
       "    <tr>\n",
       "      <th>3000</th>\n",
       "      <td>0</td>\n",
       "      <td>endothelial-mural</td>\n",
       "      <td>9</td>\n",
       "      <td>0</td>\n",
       "      <td>8</td>\n",
       "      <td>6.376017</td>\n",
       "      <td>0.445956</td>\n",
       "    </tr>\n",
       "    <tr>\n",
       "      <th>3001</th>\n",
       "      <td>0</td>\n",
       "      <td>endothelial-mural</td>\n",
       "      <td>9</td>\n",
       "      <td>0</td>\n",
       "      <td>8</td>\n",
       "      <td>6.376017</td>\n",
       "      <td>0.445956</td>\n",
       "    </tr>\n",
       "    <tr>\n",
       "      <th>3002</th>\n",
       "      <td>0</td>\n",
       "      <td>endothelial-mural</td>\n",
       "      <td>9</td>\n",
       "      <td>0</td>\n",
       "      <td>8</td>\n",
       "      <td>6.376017</td>\n",
       "      <td>0.445956</td>\n",
       "    </tr>\n",
       "    <tr>\n",
       "      <th>3003</th>\n",
       "      <td>0</td>\n",
       "      <td>endothelial-mural</td>\n",
       "      <td>9</td>\n",
       "      <td>0</td>\n",
       "      <td>8</td>\n",
       "      <td>6.376017</td>\n",
       "      <td>0.445956</td>\n",
       "    </tr>\n",
       "    <tr>\n",
       "      <th>3004</th>\n",
       "      <td>0</td>\n",
       "      <td>endothelial-mural</td>\n",
       "      <td>9</td>\n",
       "      <td>0</td>\n",
       "      <td>8</td>\n",
       "      <td>6.376017</td>\n",
       "      <td>0.445956</td>\n",
       "    </tr>\n",
       "  </tbody>\n",
       "</table>\n",
       "<p>3005 rows × 7 columns</p>\n",
       "</div>"
      ],
      "text/plain": [
       "      batch_indices         cell_types precise_labels  _scvi_batch  \\\n",
       "0                 0       interneurons              1            0   \n",
       "1                 0       interneurons              1            0   \n",
       "2                 0       interneurons              1            0   \n",
       "3                 0       interneurons              1            0   \n",
       "4                 0       interneurons              1            0   \n",
       "...             ...                ...            ...          ...   \n",
       "3000              0  endothelial-mural              9            0   \n",
       "3001              0  endothelial-mural              9            0   \n",
       "3002              0  endothelial-mural              9            0   \n",
       "3003              0  endothelial-mural              9            0   \n",
       "3004              0  endothelial-mural              9            0   \n",
       "\n",
       "      _scvi_labels  _scvi_local_l_mean  _scvi_local_l_var  \n",
       "0                0            6.376017           0.445956  \n",
       "1                0            6.376017           0.445956  \n",
       "2                0            6.376017           0.445956  \n",
       "3                0            6.376017           0.445956  \n",
       "4                0            6.376017           0.445956  \n",
       "...            ...                 ...                ...  \n",
       "3000             8            6.376017           0.445956  \n",
       "3001             8            6.376017           0.445956  \n",
       "3002             8            6.376017           0.445956  \n",
       "3003             8            6.376017           0.445956  \n",
       "3004             8            6.376017           0.445956  \n",
       "\n",
       "[3005 rows x 7 columns]"
      ]
     },
     "execution_count": 20,
     "metadata": {},
     "output_type": "execute_result"
    }
   ],
   "source": [
    "adata.obs"
   ]
  },
  {
   "cell_type": "code",
   "execution_count": 22,
   "metadata": {},
   "outputs": [
    {
     "name": "stdout",
     "output_type": "stream",
     "text": [
      "[2020-06-16 14:16:40,579] WARNING - scvi.dataset.biodataset | Make sure the registered X field in anndata contains unnormalized count data.\n",
      "[2020-06-16 14:16:40,615] WARNING - scvi.dataset.biodataset | Make sure the registered X field in anndata contains unnormalized count data.\n",
      "[2020-06-16 14:16:40,649] WARNING - scvi.dataset.biodataset | Make sure the registered X field in anndata contains unnormalized count data.\n",
      "[2020-06-16 14:16:40,685] WARNING - scvi.dataset.biodataset | Make sure the registered X field in anndata contains unnormalized count data.\n",
      "[2020-06-16 14:16:42,448] INFO - scvi.inference.inference | KL warmup for 2 epochs\n"
     ]
    },
    {
     "data": {
      "application/vnd.jupyter.widget-view+json": {
       "model_id": "824b77db0bf54f568de50eebfb43f417",
       "version_major": 2,
       "version_minor": 0
      },
      "text/plain": [
       "HBox(children=(FloatProgress(value=0.0, description='training', max=2.0, style=ProgressStyle(description_width…"
      ]
     },
     "metadata": {},
     "output_type": "display_data"
    },
    {
     "name": "stdout",
     "output_type": "stream",
     "text": [
      "\n",
      "[2020-06-16 14:16:48,891] INFO - scvi.inference.inference | Training is still in warming up phase. If your applications rely on the posterior quality, consider training for more epochs or reducing the kl warmup.\n"
     ]
    }
   ],
   "source": [
    "n_epochs = 2\n",
    "lr = 1e-3\n",
    "use_cuda = True\n",
    "\n",
    "#nbatch, ngenes, nproteins\n",
    "vae = VAE(adata.shape[1], n_batch = adata.uns['scvi_summary_stats']['n_batch'])\n",
    "trainer = UnsupervisedTrainer(\n",
    "    vae,\n",
    "    adata,\n",
    "    train_size=0.90,\n",
    "    n_epochs_kl_warmup = 2,\n",
    "    use_cuda=use_cuda,\n",
    "    frequency=5,\n",
    ")\n",
    "trainer.train(n_epochs = n_epochs)"
   ]
  },
  {
   "cell_type": "code",
   "execution_count": 9,
   "metadata": {},
   "outputs": [],
   "source": [
    "full = trainer.create_posterior(trainer.model, adata, indices=np.arange(len(gene_dataset)))\n",
    "\n",
    "full = full.update({\"batch_size\":32})\n"
   ]
  },
  {
   "cell_type": "code",
   "execution_count": 10,
   "metadata": {},
   "outputs": [],
   "source": [
    "latent, batch_indices, labels = full.sequential().get_latent()\n",
    "batch_indices = batch_indices.ravel()\n"
   ]
  },
  {
   "cell_type": "code",
   "execution_count": 11,
   "metadata": {},
   "outputs": [],
   "source": [
    "imputed_values = full.sequential().imputation()\n",
    "normalized_values = full.sequential().get_sample_scale()\n"
   ]
  },
  {
   "cell_type": "code",
   "execution_count": 12,
   "metadata": {},
   "outputs": [
    {
     "name": "stdout",
     "output_type": "stream",
     "text": [
      "['astrocytes_ependymal' 'endothelial-mural' 'interneurons' 'microglia'\n",
      " 'oligodendrocytes' 'pyramidal CA1' 'pyramidal SS']\n",
      "\n",
      "Differential Expression A/B for cell types\n",
      "A: oligodendrocytes\n",
      "B: pyramidal CA1\n",
      "\n"
     ]
    }
   ],
   "source": [
    "cell_types = gene_dataset.cell_types\n",
    "print(gene_dataset.cell_types)\n",
    "# oligodendrocytes (#4) VS pyramidal CA1 (#5)\n",
    "couple_celltypes = (4, 5)  # the couple types on which to study DE\n",
    "\n",
    "print(\"\\nDifferential Expression A/B for cell types\\nA: %s\\nB: %s\\n\" %\n",
    "      tuple((cell_types[couple_celltypes[i]] for i in [0, 1])))\n",
    "\n",
    "cell_idx1 = gene_dataset.labels.ravel() == couple_celltypes[0]\n",
    "cell_idx2 = gene_dataset.labels.ravel() == couple_celltypes[1]"
   ]
  },
  {
   "cell_type": "code",
   "execution_count": 13,
   "metadata": {},
   "outputs": [],
   "source": [
    "n_samples = 100\n",
    "M_permutation = 100000"
   ]
  },
  {
   "cell_type": "code",
   "execution_count": 14,
   "metadata": {},
   "outputs": [],
   "source": [
    "de_res = full.differential_expression_score(\n",
    "    cell_idx1,\n",
    "    cell_idx2,\n",
    "    n_samples=n_samples,\n",
    "    M_permutation=M_permutation,\n",
    ")\n"
   ]
  },
  {
   "cell_type": "code",
   "execution_count": 15,
   "metadata": {},
   "outputs": [
    {
     "data": {
      "text/html": [
       "<div>\n",
       "<style scoped>\n",
       "    .dataframe tbody tr th:only-of-type {\n",
       "        vertical-align: middle;\n",
       "    }\n",
       "\n",
       "    .dataframe tbody tr th {\n",
       "        vertical-align: top;\n",
       "    }\n",
       "\n",
       "    .dataframe thead th {\n",
       "        text-align: right;\n",
       "    }\n",
       "</style>\n",
       "<table border=\"1\" class=\"dataframe\">\n",
       "  <thead>\n",
       "    <tr style=\"text-align: right;\">\n",
       "      <th></th>\n",
       "      <th>proba_m1</th>\n",
       "      <th>proba_m2</th>\n",
       "      <th>bayes_factor</th>\n",
       "      <th>scale1</th>\n",
       "      <th>scale2</th>\n",
       "      <th>raw_mean1</th>\n",
       "      <th>raw_mean2</th>\n",
       "      <th>non_zeros_proportion1</th>\n",
       "      <th>non_zeros_proportion2</th>\n",
       "      <th>raw_normalized_mean1</th>\n",
       "      <th>raw_normalized_mean2</th>\n",
       "    </tr>\n",
       "  </thead>\n",
       "  <tbody>\n",
       "    <tr>\n",
       "      <th>malat1</th>\n",
       "      <td>1.0</td>\n",
       "      <td>0.0</td>\n",
       "      <td>18.420681</td>\n",
       "      <td>0.053640</td>\n",
       "      <td>0.001975</td>\n",
       "      <td>1147.784180</td>\n",
       "      <td>617.398315</td>\n",
       "      <td>1.000000</td>\n",
       "      <td>1.000000</td>\n",
       "      <td>182.325119</td>\n",
       "      <td>71.251678</td>\n",
       "    </tr>\n",
       "    <tr>\n",
       "      <th>gm6654</th>\n",
       "      <td>1.0</td>\n",
       "      <td>0.0</td>\n",
       "      <td>18.420681</td>\n",
       "      <td>0.001719</td>\n",
       "      <td>0.000811</td>\n",
       "      <td>7.589025</td>\n",
       "      <td>7.182108</td>\n",
       "      <td>0.967073</td>\n",
       "      <td>0.941427</td>\n",
       "      <td>1.330467</td>\n",
       "      <td>0.768984</td>\n",
       "    </tr>\n",
       "    <tr>\n",
       "      <th>ptn</th>\n",
       "      <td>1.0</td>\n",
       "      <td>0.0</td>\n",
       "      <td>18.420681</td>\n",
       "      <td>0.003109</td>\n",
       "      <td>0.000845</td>\n",
       "      <td>19.885366</td>\n",
       "      <td>6.935037</td>\n",
       "      <td>0.987805</td>\n",
       "      <td>0.872204</td>\n",
       "      <td>3.161307</td>\n",
       "      <td>0.770051</td>\n",
       "    </tr>\n",
       "    <tr>\n",
       "      <th>mat2a</th>\n",
       "      <td>1.0</td>\n",
       "      <td>0.0</td>\n",
       "      <td>18.420681</td>\n",
       "      <td>0.001186</td>\n",
       "      <td>0.000712</td>\n",
       "      <td>5.423171</td>\n",
       "      <td>4.882854</td>\n",
       "      <td>0.898780</td>\n",
       "      <td>0.914803</td>\n",
       "      <td>0.895768</td>\n",
       "      <td>0.522960</td>\n",
       "    </tr>\n",
       "    <tr>\n",
       "      <th>vmp1</th>\n",
       "      <td>1.0</td>\n",
       "      <td>0.0</td>\n",
       "      <td>18.420681</td>\n",
       "      <td>0.001888</td>\n",
       "      <td>0.000458</td>\n",
       "      <td>9.510976</td>\n",
       "      <td>4.067092</td>\n",
       "      <td>0.975610</td>\n",
       "      <td>0.897764</td>\n",
       "      <td>1.577580</td>\n",
       "      <td>0.444916</td>\n",
       "    </tr>\n",
       "    <tr>\n",
       "      <th>...</th>\n",
       "      <td>...</td>\n",
       "      <td>...</td>\n",
       "      <td>...</td>\n",
       "      <td>...</td>\n",
       "      <td>...</td>\n",
       "      <td>...</td>\n",
       "      <td>...</td>\n",
       "      <td>...</td>\n",
       "      <td>...</td>\n",
       "      <td>...</td>\n",
       "      <td>...</td>\n",
       "    </tr>\n",
       "    <tr>\n",
       "      <th>sub1</th>\n",
       "      <td>0.0</td>\n",
       "      <td>1.0</td>\n",
       "      <td>-18.420681</td>\n",
       "      <td>0.001081</td>\n",
       "      <td>0.002570</td>\n",
       "      <td>5.663414</td>\n",
       "      <td>34.103302</td>\n",
       "      <td>0.930488</td>\n",
       "      <td>1.000000</td>\n",
       "      <td>0.909549</td>\n",
       "      <td>3.707439</td>\n",
       "    </tr>\n",
       "    <tr>\n",
       "      <th>hspa8</th>\n",
       "      <td>0.0</td>\n",
       "      <td>1.0</td>\n",
       "      <td>-18.420681</td>\n",
       "      <td>0.001139</td>\n",
       "      <td>0.002940</td>\n",
       "      <td>7.514634</td>\n",
       "      <td>26.514378</td>\n",
       "      <td>0.934146</td>\n",
       "      <td>0.995740</td>\n",
       "      <td>1.155698</td>\n",
       "      <td>2.769989</td>\n",
       "    </tr>\n",
       "    <tr>\n",
       "      <th>npcd</th>\n",
       "      <td>0.0</td>\n",
       "      <td>1.0</td>\n",
       "      <td>-18.420681</td>\n",
       "      <td>0.000315</td>\n",
       "      <td>0.001224</td>\n",
       "      <td>1.110976</td>\n",
       "      <td>9.210862</td>\n",
       "      <td>0.314634</td>\n",
       "      <td>0.906283</td>\n",
       "      <td>0.193483</td>\n",
       "      <td>0.972725</td>\n",
       "    </tr>\n",
       "    <tr>\n",
       "      <th>snca</th>\n",
       "      <td>0.0</td>\n",
       "      <td>1.0</td>\n",
       "      <td>-18.420681</td>\n",
       "      <td>0.000601</td>\n",
       "      <td>0.003838</td>\n",
       "      <td>1.757317</td>\n",
       "      <td>31.736954</td>\n",
       "      <td>0.364634</td>\n",
       "      <td>0.998935</td>\n",
       "      <td>0.273074</td>\n",
       "      <td>3.342047</td>\n",
       "    </tr>\n",
       "    <tr>\n",
       "      <th>plk2</th>\n",
       "      <td>0.0</td>\n",
       "      <td>1.0</td>\n",
       "      <td>-18.420681</td>\n",
       "      <td>0.000340</td>\n",
       "      <td>0.001149</td>\n",
       "      <td>0.458537</td>\n",
       "      <td>9.209798</td>\n",
       "      <td>0.225610</td>\n",
       "      <td>0.989350</td>\n",
       "      <td>0.075008</td>\n",
       "      <td>1.015813</td>\n",
       "    </tr>\n",
       "  </tbody>\n",
       "</table>\n",
       "<p>1000 rows × 11 columns</p>\n",
       "</div>"
      ],
      "text/plain": [
       "        proba_m1  proba_m2  bayes_factor    scale1    scale2    raw_mean1  \\\n",
       "malat1       1.0       0.0     18.420681  0.053640  0.001975  1147.784180   \n",
       "gm6654       1.0       0.0     18.420681  0.001719  0.000811     7.589025   \n",
       "ptn          1.0       0.0     18.420681  0.003109  0.000845    19.885366   \n",
       "mat2a        1.0       0.0     18.420681  0.001186  0.000712     5.423171   \n",
       "vmp1         1.0       0.0     18.420681  0.001888  0.000458     9.510976   \n",
       "...          ...       ...           ...       ...       ...          ...   \n",
       "sub1         0.0       1.0    -18.420681  0.001081  0.002570     5.663414   \n",
       "hspa8        0.0       1.0    -18.420681  0.001139  0.002940     7.514634   \n",
       "npcd         0.0       1.0    -18.420681  0.000315  0.001224     1.110976   \n",
       "snca         0.0       1.0    -18.420681  0.000601  0.003838     1.757317   \n",
       "plk2         0.0       1.0    -18.420681  0.000340  0.001149     0.458537   \n",
       "\n",
       "         raw_mean2  non_zeros_proportion1  non_zeros_proportion2  \\\n",
       "malat1  617.398315               1.000000               1.000000   \n",
       "gm6654    7.182108               0.967073               0.941427   \n",
       "ptn       6.935037               0.987805               0.872204   \n",
       "mat2a     4.882854               0.898780               0.914803   \n",
       "vmp1      4.067092               0.975610               0.897764   \n",
       "...            ...                    ...                    ...   \n",
       "sub1     34.103302               0.930488               1.000000   \n",
       "hspa8    26.514378               0.934146               0.995740   \n",
       "npcd      9.210862               0.314634               0.906283   \n",
       "snca     31.736954               0.364634               0.998935   \n",
       "plk2      9.209798               0.225610               0.989350   \n",
       "\n",
       "        raw_normalized_mean1  raw_normalized_mean2  \n",
       "malat1            182.325119             71.251678  \n",
       "gm6654              1.330467              0.768984  \n",
       "ptn                 3.161307              0.770051  \n",
       "mat2a               0.895768              0.522960  \n",
       "vmp1                1.577580              0.444916  \n",
       "...                      ...                   ...  \n",
       "sub1                0.909549              3.707439  \n",
       "hspa8               1.155698              2.769989  \n",
       "npcd                0.193483              0.972725  \n",
       "snca                0.273074              3.342047  \n",
       "plk2                0.075008              1.015813  \n",
       "\n",
       "[1000 rows x 11 columns]"
      ]
     },
     "execution_count": 15,
     "metadata": {},
     "output_type": "execute_result"
    }
   ],
   "source": [
    "de_res"
   ]
  },
  {
   "cell_type": "code",
   "execution_count": 16,
   "metadata": {},
   "outputs": [
    {
     "data": {
      "text/html": [
       "<div>\n",
       "<style scoped>\n",
       "    .dataframe tbody tr th:only-of-type {\n",
       "        vertical-align: middle;\n",
       "    }\n",
       "\n",
       "    .dataframe tbody tr th {\n",
       "        vertical-align: top;\n",
       "    }\n",
       "\n",
       "    .dataframe thead th {\n",
       "        text-align: right;\n",
       "    }\n",
       "</style>\n",
       "<table border=\"1\" class=\"dataframe\">\n",
       "  <thead>\n",
       "    <tr style=\"text-align: right;\">\n",
       "      <th></th>\n",
       "      <th>proba_m1</th>\n",
       "      <th>proba_m2</th>\n",
       "      <th>bayes_factor</th>\n",
       "      <th>scale1</th>\n",
       "      <th>scale2</th>\n",
       "      <th>raw_mean1</th>\n",
       "      <th>raw_mean2</th>\n",
       "      <th>non_zeros_proportion1</th>\n",
       "      <th>non_zeros_proportion2</th>\n",
       "      <th>raw_normalized_mean1</th>\n",
       "      <th>raw_normalized_mean2</th>\n",
       "    </tr>\n",
       "  </thead>\n",
       "  <tbody>\n",
       "    <tr>\n",
       "      <th>thy1</th>\n",
       "      <td>0.0</td>\n",
       "      <td>1.0</td>\n",
       "      <td>-18.420681</td>\n",
       "      <td>0.000262</td>\n",
       "      <td>0.001282</td>\n",
       "      <td>0.589024</td>\n",
       "      <td>13.569755</td>\n",
       "      <td>0.219512</td>\n",
       "      <td>0.996805</td>\n",
       "      <td>0.089729</td>\n",
       "      <td>1.444312</td>\n",
       "    </tr>\n",
       "    <tr>\n",
       "      <th>mbp</th>\n",
       "      <td>1.0</td>\n",
       "      <td>0.0</td>\n",
       "      <td>18.420681</td>\n",
       "      <td>0.008135</td>\n",
       "      <td>0.000766</td>\n",
       "      <td>55.318295</td>\n",
       "      <td>2.787008</td>\n",
       "      <td>0.998780</td>\n",
       "      <td>0.452609</td>\n",
       "      <td>8.840034</td>\n",
       "      <td>0.298456</td>\n",
       "    </tr>\n",
       "  </tbody>\n",
       "</table>\n",
       "</div>"
      ],
      "text/plain": [
       "      proba_m1  proba_m2  bayes_factor    scale1    scale2  raw_mean1  \\\n",
       "thy1       0.0       1.0    -18.420681  0.000262  0.001282   0.589024   \n",
       "mbp        1.0       0.0     18.420681  0.008135  0.000766  55.318295   \n",
       "\n",
       "      raw_mean2  non_zeros_proportion1  non_zeros_proportion2  \\\n",
       "thy1  13.569755               0.219512               0.996805   \n",
       "mbp    2.787008               0.998780               0.452609   \n",
       "\n",
       "      raw_normalized_mean1  raw_normalized_mean2  \n",
       "thy1              0.089729              1.444312  \n",
       "mbp               8.840034              0.298456  "
      ]
     },
     "execution_count": 16,
     "metadata": {},
     "output_type": "execute_result"
    }
   ],
   "source": [
    "genes_of_interest = [\"thy1\", \"mbp\"]\n",
    "de_res.filter(items=genes_of_interest, axis=0)"
   ]
  },
  {
   "cell_type": "code",
   "execution_count": 17,
   "metadata": {},
   "outputs": [
    {
     "data": {
      "application/vnd.jupyter.widget-view+json": {
       "model_id": "41405615482b455e8cc9361b0f2b0ba4",
       "version_major": 2,
       "version_minor": 0
      },
      "text/plain": [
       "HBox(children=(FloatProgress(value=0.0, max=7.0), HTML(value='')))"
      ]
     },
     "metadata": {},
     "output_type": "display_data"
    },
    {
     "name": "stdout",
     "output_type": "stream",
     "text": [
      "\n"
     ]
    }
   ],
   "source": [
    "per_cluster_de, cluster_id = full.one_vs_all_degenes(cell_labels=gene_dataset.labels.ravel(), min_cells=1)\n",
    "\n",
    "markers = []\n",
    "for x in per_cluster_de:\n",
    "    markers.append(x[:10])\n",
    "markers = pd.concat(markers)\n",
    "\n",
    "genes = np.asarray(markers.index)\n",
    "expression = [x.filter(items=genes, axis=0)['raw_normalized_mean1'] for x in per_cluster_de]\n",
    "expression = pd.concat(expression, axis=1)\n",
    "expression = np.log10(1 + expression)\n",
    "expression.columns = gene_dataset.cell_types"
   ]
  },
  {
   "cell_type": "code",
   "execution_count": 19,
   "metadata": {},
   "outputs": [
    {
     "data": {
      "text/plain": [
       "<matplotlib.colorbar.Colorbar at 0x140e5afd0>"
      ]
     },
     "execution_count": 19,
     "metadata": {},
     "output_type": "execute_result"
    },
    {
     "data": {
      "image/png": "[encoded data removed]",
      "text/plain": [
       "<Figure size 1440x1440 with 2 Axes>"
      ]
     },
     "metadata": {
      "needs_background": "light"
     },
     "output_type": "display_data"
    }
   ],
   "source": [
    "%matplotlib inline\n",
    "plt.figure(figsize=(20, 20))\n",
    "im = plt.imshow(expression, cmap='viridis', interpolation='none', aspect='equal')\n",
    "ax = plt.gca()\n",
    "ax.set_xticks(np.arange(0, 7, 1))\n",
    "ax.set_xticklabels(gene_dataset.cell_types, rotation='vertical')\n",
    "ax.set_yticklabels(genes)\n",
    "ax.set_yticks(np.arange(0, 70, 1))\n",
    "ax.tick_params(labelsize=14)\n",
    "plt.colorbar(shrink=0.2)\n"
   ]
  }
 ],
 "metadata": {
  "kernelspec": {
   "display_name": "Python scvi",
   "language": "python",
   "name": "scvi"
  },
  "language_info": {
   "codemirror_mode": {
    "name": "ipython",
    "version": 3
   },
   "file_extension": ".py",
   "mimetype": "text/x-python",
   "name": "python",
   "nbconvert_exporter": "python",
   "pygments_lexer": "ipython3",
   "version": "3.6.10"
  }
 },
 "nbformat": 4,
 "nbformat_minor": 2
}
