{
 "cells": [
  {
   "cell_type": "code",
   "execution_count": 6,
   "metadata": {},
   "outputs": [
    {
     "name": "stdout",
     "output_type": "stream",
     "text": [
      "The autoreload extension is already loaded. To reload it, use:\n",
      "  %reload_ext autoreload\n"
     ]
    }
   ],
   "source": [
    "%load_ext autoreload\n",
    "%autoreload 2\n",
    "%aimport anndata\n",
    "%aimport os\n",
    "%aimport torch\n",
    "import numpy as np\n",
    "import pandas as pd\n",
    "import scipy as sp\n",
    "import matplotlib.pyplot as plt\n",
    "from typing import Dict, Union, List, Tuple\n",
    "from torch.utils.data import Dataset\n",
    "# Control UMAP numba warnings\n",
    "import warnings; warnings.simplefilter('ignore')\n",
    "import copy\n",
    "\n",
    "import scvi\n",
    "from scvi.dataset import CortexDataset, RetinaDataset, CsvDataset\n",
    "from scvi.dataset.dataset import compute_library_size\n",
    "from scvi.models import VAE\n",
    "from scvi.inference import UnsupervisedTrainer, load_posterior\n",
    "from scvi import set_seed\n",
    "\n",
    "#STUFF THAT I MESSED AROUND WITH\n",
    "from BioDataset import BioDataset\n",
    "from utils import register_anndata, get_from_registry, compute_library_size_batch\n",
    "from constants import X_KEY, BATCH_KEY, LOCAL_L_MEAN_KEY, LOCAL_L_VAR_KEY, LABELS_KEY\n",
    "\n",
    "# Sets torch and numpy random seeds, run after all scvi imports\n",
    "set_seed(0)\n"
   ]
  },
  {
   "cell_type": "code",
   "execution_count": 7,
   "metadata": {},
   "outputs": [
    {
     "name": "stdout",
     "output_type": "stream",
     "text": [
      "[2020-06-11 12:39:41,615] INFO - scvi.dataset.dataset | File /Users/galen/scVI/galen/data/expression.bin already downloaded\n",
      "[2020-06-11 12:39:41,616] INFO - scvi.dataset.cortex | Loading Cortex data\n",
      "[2020-06-11 12:39:50,087] INFO - scvi.dataset.cortex | Finished preprocessing Cortex data\n",
      "[2020-06-11 12:39:51,087] INFO - scvi.dataset.dataset | Remapping batch_indices to [0,N]\n",
      "[2020-06-11 12:39:51,088] INFO - scvi.dataset.dataset | Remapping labels to [0,N]\n",
      "[2020-06-11 12:39:53,178] INFO - scvi.dataset.dataset | Downsampling from 19972 to 1000 genes\n",
      "[2020-06-11 12:39:53,307] INFO - scvi.dataset.dataset | Computing the library size for the new data\n",
      "[2020-06-11 12:39:53,322] INFO - scvi.dataset.dataset | Filtering non-expressing cells.\n",
      "[2020-06-11 12:39:53,392] INFO - scvi.dataset.dataset | Computing the library size for the new data\n",
      "[2020-06-11 12:39:53,397] INFO - scvi.dataset.dataset | Downsampled from 3005 to 3005 cells\n",
      "[2020-06-11 12:39:53,409] INFO - scvi.dataset.dataset | Making gene names lower case\n"
     ]
    }
   ],
   "source": [
    "save_path = \"data/\"\n",
    "gene_dataset = CortexDataset(save_path=save_path, total_genes=None)\n",
    "gene_dataset.subsample_genes(1000, mode=\"variance\")\n",
    "gene_dataset.make_gene_names_lower()\n",
    "adata = gene_dataset.to_anndata()"
   ]
  },
  {
   "cell_type": "code",
   "execution_count": 10,
   "metadata": {},
   "outputs": [],
   "source": [
    "#compute library size per batch\n",
    "compute_library_size_batch(adata, 'batch_indices')\n",
    "\n",
    "data_registry = {\n",
    "                 X_KEY: (None, 'X'),\n",
    "                 BATCH_KEY:('obs', 'batch_indices'),\n",
    "                 LOCAL_L_MEAN_KEY: ('obs', '_scvi_local_l_mean'),\n",
    "                 LOCAL_L_VAR_KEY: ('obs', '_scvi_local_l_var'),\n",
    "                 LABELS_KEY: ('obs', 'precise_labels')\n",
    "                }\n",
    "\n",
    "register_anndata(adata, data_registry)\n",
    "bd = BioDataset(adata)\n"
   ]
  },
  {
   "cell_type": "code",
   "execution_count": 11,
   "metadata": {},
   "outputs": [
    {
     "name": "stdout",
     "output_type": "stream",
     "text": [
      "> /Users/galen/scVI/scvi/inference/trainer.py(165)train()\n",
      "-> begin = time.time()\n"
     ]
    },
    {
     "name": "stdin",
     "output_type": "stream",
     "text": [
      "(Pdb)  c\n"
     ]
    },
    {
     "name": "stdout",
     "output_type": "stream",
     "text": [
      "> /Users/galen/scVI/scvi/models/log_likelihood.py(24)compute_elbo()\n",
      "-> for i_batch, tensors in enumerate(posterior):\n"
     ]
    },
    {
     "name": "stdin",
     "output_type": "stream",
     "text": [
      "(Pdb)  c\n"
     ]
    },
    {
     "name": "stdout",
     "output_type": "stream",
     "text": [
      "> /Users/galen/scVI/scvi/models/log_likelihood.py(24)compute_elbo()\n",
      "-> for i_batch, tensors in enumerate(posterior):\n"
     ]
    },
    {
     "name": "stdin",
     "output_type": "stream",
     "text": [
      "(Pdb)  c\n"
     ]
    },
    {
     "name": "stdout",
     "output_type": "stream",
     "text": [
      "[2020-06-11 12:41:09,013] INFO - scvi.inference.inference | KL warmup for 2 epochs\n"
     ]
    },
    {
     "data": {
      "application/vnd.jupyter.widget-view+json": {
       "model_id": "9ba37f990631484b8b1b1978e8796911",
       "version_major": 2,
       "version_minor": 0
      },
      "text/plain": [
       "HBox(children=(FloatProgress(value=0.0, description='training', max=10.0, style=ProgressStyle(description_widt…"
      ]
     },
     "metadata": {},
     "output_type": "display_data"
    },
    {
     "name": "stdout",
     "output_type": "stream",
     "text": [
      "> /Users/galen/scVI/scvi/inference/trainer.py(193)train()\n",
      "-> if tensors_list[0][0].shape[0] < 3:\n"
     ]
    },
    {
     "name": "stdin",
     "output_type": "stream",
     "text": [
      "(Pdb)  c\n"
     ]
    },
    {
     "name": "stdout",
     "output_type": "stream",
     "text": [
      "\n"
     ]
    },
    {
     "ename": "KeyError",
     "evalue": "0",
     "output_type": "error",
     "traceback": [
      "\u001b[0;31m---------------------------------------------------------------------------\u001b[0m",
      "\u001b[0;31mKeyError\u001b[0m                                  Traceback (most recent call last)",
      "\u001b[0;32m<ipython-input-11-8574400cb6d4>\u001b[0m in \u001b[0;36m<module>\u001b[0;34m\u001b[0m\n\u001b[1;32m     13\u001b[0m )\n\u001b[1;32m     14\u001b[0m \u001b[0;34m\u001b[0m\u001b[0m\n\u001b[0;32m---> 15\u001b[0;31m \u001b[0mtrainer\u001b[0m\u001b[0;34m.\u001b[0m\u001b[0mtrain\u001b[0m\u001b[0;34m(\u001b[0m\u001b[0mn_epochs\u001b[0m \u001b[0;34m=\u001b[0m \u001b[0mn_epochs\u001b[0m\u001b[0;34m)\u001b[0m\u001b[0;34m\u001b[0m\u001b[0;34m\u001b[0m\u001b[0m\n\u001b[0m",
      "\u001b[0;32m~/scVI/scvi/inference/trainer.py\u001b[0m in \u001b[0;36mtrain\u001b[0;34m(self, n_epochs, lr, eps, params, **extras_kwargs)\u001b[0m\n\u001b[1;32m    191\u001b[0m             \u001b[0;32mfor\u001b[0m \u001b[0mtensors_list\u001b[0m \u001b[0;32min\u001b[0m \u001b[0mself\u001b[0m\u001b[0;34m.\u001b[0m\u001b[0mdata_loaders_loop\u001b[0m\u001b[0;34m(\u001b[0m\u001b[0;34m)\u001b[0m\u001b[0;34m:\u001b[0m\u001b[0;34m\u001b[0m\u001b[0;34m\u001b[0m\u001b[0m\n\u001b[1;32m    192\u001b[0m                 \u001b[0mpdb\u001b[0m\u001b[0;34m.\u001b[0m\u001b[0mset_trace\u001b[0m\u001b[0;34m(\u001b[0m\u001b[0;34m)\u001b[0m\u001b[0;34m\u001b[0m\u001b[0;34m\u001b[0m\u001b[0m\n\u001b[0;32m--> 193\u001b[0;31m                 \u001b[0;32mif\u001b[0m \u001b[0mtensors_list\u001b[0m\u001b[0;34m[\u001b[0m\u001b[0;36m0\u001b[0m\u001b[0;34m]\u001b[0m\u001b[0;34m[\u001b[0m\u001b[0;36m0\u001b[0m\u001b[0;34m]\u001b[0m\u001b[0;34m.\u001b[0m\u001b[0mshape\u001b[0m\u001b[0;34m[\u001b[0m\u001b[0;36m0\u001b[0m\u001b[0;34m]\u001b[0m \u001b[0;34m<\u001b[0m \u001b[0;36m3\u001b[0m\u001b[0;34m:\u001b[0m\u001b[0;34m\u001b[0m\u001b[0;34m\u001b[0m\u001b[0m\n\u001b[0m\u001b[1;32m    194\u001b[0m                     \u001b[0;32mcontinue\u001b[0m\u001b[0;34m\u001b[0m\u001b[0;34m\u001b[0m\u001b[0m\n\u001b[1;32m    195\u001b[0m                 \u001b[0mself\u001b[0m\u001b[0;34m.\u001b[0m\u001b[0mon_iteration_begin\u001b[0m\u001b[0;34m(\u001b[0m\u001b[0;34m)\u001b[0m\u001b[0;34m\u001b[0m\u001b[0;34m\u001b[0m\u001b[0m\n",
      "\u001b[0;31mKeyError\u001b[0m: 0"
     ]
    }
   ],
   "source": [
    "n_epochs = 10\n",
    "lr = 1e-3\n",
    "use_cuda = True\n",
    "\n",
    "vae = VAE(d.nb_genes)\n",
    "trainer = UnsupervisedTrainer(\n",
    "    vae,\n",
    "    bd,\n",
    "    train_size=0.90,\n",
    "    n_epochs_kl_warmup = 2,\n",
    "    use_cuda=use_cuda,\n",
    "    frequency=5,\n",
    ")\n",
    "\n",
    "trainer.train(n_epochs = n_epochs)"
   ]
  },
  {
   "cell_type": "code",
   "execution_count": 37,
   "metadata": {},
   "outputs": [
    {
     "data": {
      "image/png": "[encoded data removed]",
      "text/plain": [
       "<Figure size 432x288 with 1 Axes>"
      ]
     },
     "metadata": {
      "needs_background": "light"
     },
     "output_type": "display_data"
    },
    {
     "name": "stdout",
     "output_type": "stream",
     "text": [
      "[48998.48844304734, 6093.1965606508875, 4903.550414316753]\n",
      "[51965.490863787374, 5992.488060631229, 4874.147944352159]\n"
     ]
    }
   ],
   "source": [
    "%matplotlib inline\n",
    "elbo_train_set = trainer.history[\"elbo_train_set\"]\n",
    "elbo_test_set = trainer.history[\"elbo_test_set\"]\n",
    "# x = np.linspace(0, 2, (len(elbo_train_set)))\n",
    "x=[i for i in range(len(elbo_train_set))]\n",
    "plt.plot(x, elbo_train_set, label=\"train\")\n",
    "plt.plot(x, elbo_test_set, label=\"test\")\n",
    "# plt.ylim(1500, 3000)\n",
    "plt.legend()\n",
    "plt.show()\n",
    "print(elbo_train_set)\n",
    "print(elbo_test_set)\n"
   ]
  },
  {
   "cell_type": "code",
   "execution_count": 38,
   "metadata": {},
   "outputs": [],
   "source": [
    "full = trainer.create_posterior(trainer.model, d, indices=np.arange(len(gene_dataset)))\n",
    " "
   ]
  },
  {
   "cell_type": "code",
   "execution_count": 39,
   "metadata": {},
   "outputs": [],
   "source": [
    "full = full.update({\"batch_size\":32})\n",
    "latent, batch_indices, labels = full.sequential().get_latent()\n",
    "batch_indices = batch_indices.ravel()"
   ]
  },
  {
   "cell_type": "code",
   "execution_count": 39,
   "metadata": {},
   "outputs": [
    {
     "name": "stdout",
     "output_type": "stream",
     "text": [
      "1.3665342\n"
     ]
    }
   ],
   "source": [
    "log_counts = np.ma.log(adata.X).filled(0)\n",
    "local_mean = np.mean(log_counts)\n",
    "local_var = np.var(log_counts)\n",
    "print(local_var)\n",
    "\n"
   ]
  },
  {
   "cell_type": "code",
   "execution_count": null,
   "metadata": {},
   "outputs": [],
   "source": []
  },
  {
   "cell_type": "code",
   "execution_count": 40,
   "metadata": {},
   "outputs": [
    {
     "data": {
      "text/plain": [
       "0       1.099614\n",
       "1       1.099614\n",
       "2       1.099614\n",
       "3       1.099614\n",
       "4       1.099614\n",
       "          ...   \n",
       "3000    1.099614\n",
       "3001    1.099614\n",
       "3002    1.099614\n",
       "3003    1.099614\n",
       "3004    1.099614\n",
       "Name: _scvi_local_l_mean, Length: 3005, dtype: float32"
      ]
     },
     "execution_count": 40,
     "metadata": {},
     "output_type": "execute_result"
    }
   ],
   "source": [
    "adata.obs['_scvi_local_l_mean']"
   ]
  },
  {
   "cell_type": "code",
   "execution_count": 41,
   "metadata": {},
   "outputs": [],
   "source": []
  },
  {
   "cell_type": "code",
   "execution_count": 42,
   "metadata": {},
   "outputs": [
    {
     "name": "stdout",
     "output_type": "stream",
     "text": [
      "['X', 'batch_indices', 'local_l_mean', 'local_l_var', 'labels']\n"
     ]
    },
    {
     "data": {
      "text/plain": [
       "(array([100.,   0.,   0.,   0.,   0.,   0.,  28.,  68.,   0.,   0.,   0.,\n",
       "         86.,   0.,  11.,  55.,   4.,   0.,  14., 187.,   0.,   1.,  86.,\n",
       "          0.,  15.,  95., 224.,   0.,  56.,   0.,  78.,  12.,  29.,  15.,\n",
       "         45.,   6.,  80.,   0., 371.,  51.,   8.,  51.,  23.,   2.,  23.,\n",
       "          2.,  78.,  11.,   0.,   0.,   3.,  45.,   0.,   3.,  30.,  57.,\n",
       "          0.,  18.,   0.,  22.,  19.,  68.,  38.,   6.,   8.,  39.,  32.,\n",
       "         33.,   2.,  10.,   0.,   2.,   3.,  37.,   0.,  41.,   0.,   1.,\n",
       "         62.,  29.,  11.,  29.,  48.,  21.,  22.,  29.,  20.,  52.,   4.,\n",
       "         31.,  30.,   7.,  37.,  32.,  10.,   0.,  28.,  26.,  25.,   0.,\n",
       "          1.,   1.,   1.,  28.,  38.,  37.,  20.,  57.,   7.,  19.,  23.,\n",
       "          5.,   0.,  45.,   9.,  33.,  38.,  39.,  16.,  30., 118.,  67.,\n",
       "          6.,   0.,  45.,  11.,  35.,   0.,   8.,  20.,   3.,  21.,  12.,\n",
       "          6.,   0.,   0.,  23.,  15.,  31.,  30.,  34.,   4.,  34.,  32.,\n",
       "         86.,  19.,  11.,   9.,   0.,   1.,  13.,   8.,   0.,  32.,   0.,\n",
       "          1.,   0.,   5.,   0.,  81.,  34.,   0.,   5.,  48.,  12.,   9.,\n",
       "         27.,   5.,  15.,  10.,   5.,   7.,  10.,   7.,   8.,  18.,  27.,\n",
       "         13.,  13.,  82.,  14.,  15.,  21.,  11.,  14.,   0.,   5.,   0.,\n",
       "         24.,  31.,   0.,  31.,  18.,  26.,   6.,  18.,  15.,  36.,  20.,\n",
       "         14.,  14.,  13.,  34.,  10.,   1.,  11.,   0.,  20.,   8.,  22.,\n",
       "          0.,  12.,  31.,   0.,  17.,  17.,  14.,   2.,   0.,  14.,   0.,\n",
       "          1.,  11.,  30.,   0.,   1.,   0.,   7.,  24.,   0.,   1.,  17.,\n",
       "          7.,   5.,  13.,  25.,  23.,   0.,   0.,   6.,  15.,  14.,   0.,\n",
       "          0.,  34.,   5.,   3.,  17.,   0.,  11.,   6.,  16.,   2.,  15.,\n",
       "         13.,  13.,  18.,   2.,   1.,  11.,  21.,  16.,  16.,   0.,   0.,\n",
       "         19.,   5.,  21.,  16.,   9.,  13.,  18.,  16.,  27.,  18.,  29.,\n",
       "          7.,   2.,  21.,  13.,   3.,  11.,   8.,   2.,  11.,   5.,   1.,\n",
       "         12.,  34.,   4.,  19.,  25.,   8.,   8.,   2.,  12.,  10.,  18.,\n",
       "          0.,  25.,  18.,  15.,  44.,   0.,   8.,   7.,  15.,  21.,   1.,\n",
       "          3.,   4.,  29.,   0.,   2.,  14.,   6.,   0.,   0.,  23.,   7.,\n",
       "         12.,   0.,   5.,   0.,   0.,  44.,   6.,   4.,   5.,   0.,   4.,\n",
       "         36.,   9.,   0.,  11.,   0.,   4.,  69.,   0.,   7.,   8.,   8.,\n",
       "         13.,   8.,   7.,  10.,  16.,   4.,  27.,   1.,   3.,  13.,  13.,\n",
       "          0.,   6.,  33.,  11.,   8.,   7.,   7.,   0.,   3.,   1.,   0.,\n",
       "         14.,   5.,   4.,   0.,   7.,   4.,   0.,   8.,   0.,  10.,  17.,\n",
       "         22.,   0.,  21.,   0.,   2.,  17.,   7.,   7.,  19.,   4.,  10.,\n",
       "         10.,   2.,  17.,  30.,   6.,   0.,  10.,   8.,   6.,  10.,  32.,\n",
       "          9.,   0.,   7.,  13.,   2.,  12.,   9.,   0.,   5.,   6.,   1.,\n",
       "          9.,   8.,   5.,   8.,   5.,  16.,   5.,   6.,   1.,  13.,   7.,\n",
       "          3.,   5.,  13.,   0.,   7.,  14.,  12.,  14.,   8.,   2.,  14.,\n",
       "          5.,  10.,   7.,  17.,  14.,   2.,   1.,   4.,   6.,   3.,   7.,\n",
       "         11.,   5.,   8.,  15.,   5.,  13.,  20.,   1.,  12.,   4.,   7.,\n",
       "          3.,   0.,   9.,   4.,   9.,   5.,   0.,   8.,   0.,   3.,  15.,\n",
       "          0.,   9.,   0.,   8.,   0.,   4.,   0.,   8.,   7.,   7.,   6.,\n",
       "          3.,   6.,  12.,   7.,   0.,   7.,   7.,   5.,  11.,   4.,   2.,\n",
       "         11.,   4.,   7.,   1.,   8.,   0.,   0.,   5.,   4.,   5.,   2.,\n",
       "          0.,   0.,   8.,   9.,   6.,  15.,   5.,   2.,   0.,   4.,   3.,\n",
       "          4.,  22.,  12.,   1.,   0.,  10.,   5.,   6.,   5.,  11.,  18.,\n",
       "          2.,   5.,   6.,  19.,   4.,   3.,   2.,   9.,   7.,   0.,   2.,\n",
       "         17.,   5.,   0.,   8.,   3.,   0.,   0.,  22.,  39.,   4.,  14.,\n",
       "         11.,   2.,  17.,   0.,   5.,   0.,   1.,   2.,   3.,   0.,   2.,\n",
       "          1.,   2.,   3.,   3.,   0.,   9.,   0.,  11.,   0.,   2.,   3.,\n",
       "          4.,  15.,   2.,   1.,  16.,   9.,   5.,   3.,   0.,  10.,  12.,\n",
       "          4.,   0.,   4.,   2.,   0.,   1.,  10.,  16.,   8.,   7.,   8.,\n",
       "         14.,  19.,   4.,   2.,   7.,   6.,   4.,   0.,   6.,   1.,  13.,\n",
       "          6.,  14.,   0.,   6.,  29.,   6.,   7.,   9.,   0.,  11.,   2.,\n",
       "         11.,   0.,  23.,   7.,   1.,   1.,   3.,   5.,   2.,   0.,  12.,\n",
       "          0.,  20.,   6.,   9.,   8.,  14.,  15.,   1.,   0.,   1.,  12.,\n",
       "          4.,   4.,   4.,   2.,  21.,   2.,   6.,   9.,   0.,  17.,   3.,\n",
       "          6.,   8.,   0.,   0.,   8.,   6.,  18.,   7.,   3.,   1.,   0.,\n",
       "         17.,   8.,   0.,   2.,   5.,   8.,   9.,   3.,   4.,   8.,   7.,\n",
       "          4.,   5.,   0.,   7.,   4.,  18.,  17.,   7.,   0.,   9.,   4.,\n",
       "         12.,   1.,   7.,   0.,   8.,  16.,   2.,   1.,   8.,   0.,  15.,\n",
       "         29.,  25.,   0.,   8.,   9.,   4.,   0.,   6.,  22.,  14.,   0.,\n",
       "          2.,   6.,   0.,   4.,   1.,   2.,   9.,  14.,   4.,  13.,   2.,\n",
       "          4.,  16.,   3.,   1.,   0.,   3.,  21.,   7.,   8.,  18.,   7.,\n",
       "          4.,   0.,  12.,   4.,   6.,   0.,   9.,   4.,   0.,   6.,   5.,\n",
       "          1.,   3.,   5.,   9.,   0.,   0.,   0.,   0.,   6.,   0.,  14.,\n",
       "          5.,   0.,   1.,   3.,   3.,   3.,  13.,   5.,   0.,   0.,   3.,\n",
       "          2.,  15.,   3.,  11.,   0.,   2.,   3.,  11.,   3.,   6.,   4.,\n",
       "          4.,   4.,   7.,   0.,  14.,   6.,   0.,   5.,  17.,   5.,   0.,\n",
       "          2.,   3.,   2.,   2.,   8.,  15.,   2.,   0.,   2.,   7.,   2.,\n",
       "          2.,   3.,   7.,   0.,   1.,   2.,  18.,   0.,  17.,   0.,   0.,\n",
       "          7.,   0.,   7.,  11.,   8.,   2.,  15.,   1.,   0.,   0.,   1.,\n",
       "          3.,   4.,   4.,   5.,   0.,  10.,   4.,   5.,   0.,   0.,   3.,\n",
       "          4.,   0.,   8.,   3.,   1.,   9.,   0.,   3.,   1.,   0.,   2.,\n",
       "          2.,   0.,   6.,   8.,   4.,   1.,   1.,   4.,  14.,   1.,  10.,\n",
       "          6.,   5.,   5.,   2.,   7.,   0.,  15.,   0.,   7.,  13.,   3.,\n",
       "         10.,   9.,   4.,   0.,   1.,   7.,   4.,   0.,   0.,  25.,   3.,\n",
       "         10.,   6.,  17.,   4.,   4.,   1.,   0.,   1.,   9.,   3.,   2.,\n",
       "          0.,   7.,  13.,   0.,   3.,   5.,   7.,   0.,   3.,   8.,   0.,\n",
       "          2.,   4.,   0.,   4.,   6.,   0.,   1.,   8.,   7.,   5.,   9.,\n",
       "          6.,   0.,   4.,   2.,   5.,   5.,   1.,   0.,   9.,   4.,   1.,\n",
       "          0.,   5.,   7.,   4.,   0.,   3.,   4.,   5.,   7.,  11.,   4.,\n",
       "          0.,   1.,   4.,   3.,  12.,   0.,   2.,   0.,   0.,   5.,   3.,\n",
       "          1.,   6.,   8.,   0.,  13.,   7.,   0.,   4.,  12.,   0.,   7.,\n",
       "          2.,   6.,   3.,   5.,   3.,   7.,   9.,   0.,   0.,   9.,  18.,\n",
       "          8.,   4.,   8.,  13.,   7.,   3.,   4.,   7.,   0.,   0.,   0.,\n",
       "          1.,   0.,   0.,   4.,   2.,   6.,   0.,   2.,   2.,   7.,   6.,\n",
       "          2.,   0.,   0.,   0.,   2.,   4.,   6.,   5.,   5.,   6.,   7.,\n",
       "         15.,   0.,   1.,   4.,   0.,   2.,   6.,   2.,   5.,   5.,  12.,\n",
       "          0.,   7.,   0.,   7.,   0.,  10.,   1.,   0.,   1.,   5.],\n",
       "       dtype=float32),\n",
       " 0,\n",
       " 1.0996138,\n",
       " 1.3665342,\n",
       " 1)"
      ]
     },
     "execution_count": 42,
     "metadata": {},
     "output_type": "execute_result"
    }
   ],
   "source": [
    "d[1]"
   ]
  },
  {
   "cell_type": "code",
   "execution_count": 51,
   "metadata": {},
   "outputs": [
    {
     "data": {
      "text/plain": [
       "array([0], dtype=uint16)"
      ]
     },
     "execution_count": 51,
     "metadata": {},
     "output_type": "execute_result"
    }
   ],
   "source": [
    "np.unique(adata.obs['batch_indices'])"
   ]
  },
  {
   "cell_type": "code",
   "execution_count": 52,
   "metadata": {},
   "outputs": [],
   "source": [
    "register_anndata(adata, batch_key='batch_indices')\n"
   ]
  },
  {
   "cell_type": "code",
   "execution_count": 53,
   "metadata": {},
   "outputs": [
    {
     "name": "stdout",
     "output_type": "stream",
     "text": [
      "0       0\n",
      "1       0\n",
      "2       0\n",
      "3       0\n",
      "4       0\n",
      "       ..\n",
      "3000    0\n",
      "3001    0\n",
      "3002    0\n",
      "3003    0\n",
      "3004    0\n",
      "Name: batch_indices, Length: 3005, dtype: uint16\n"
     ]
    }
   ],
   "source": [
    "a = get_anndata_field(adata, 'batch_indices')\n",
    "print(a)"
   ]
  },
  {
   "cell_type": "code",
   "execution_count": 54,
   "metadata": {},
   "outputs": [
    {
     "name": "stdout",
     "output_type": "stream",
     "text": [
      "[[8.220e+02 0.000e+00 0.000e+00 ... 0.000e+00 6.000e+00 1.200e+01]\n",
      " [8.690e+02 0.000e+00 0.000e+00 ... 0.000e+00 1.000e+00 5.000e+00]\n",
      " [1.237e+03 1.000e+00 0.000e+00 ... 0.000e+00 8.000e+00 1.200e+01]\n",
      " ...\n",
      " [3.760e+02 0.000e+00 0.000e+00 ... 0.000e+00 0.000e+00 0.000e+00]\n",
      " [3.030e+02 0.000e+00 0.000e+00 ... 0.000e+00 0.000e+00 0.000e+00]\n",
      " [2.420e+02 2.800e+01 0.000e+00 ... 0.000e+00 0.000e+00 0.000e+00]]\n"
     ]
    }
   ],
   "source": [
    "a = get_anndata_field(adata, 'X')\n",
    "print(a)"
   ]
  },
  {
   "cell_type": "code",
   "execution_count": 38,
   "metadata": {},
   "outputs": [],
   "source": [
    "adata.X[1][0] = 100"
   ]
  },
  {
   "cell_type": "code",
   "execution_count": 7,
   "metadata": {},
   "outputs": [],
   "source": []
  },
  {
   "cell_type": "code",
   "execution_count": 7,
   "metadata": {},
   "outputs": [
    {
     "name": "stdout",
     "output_type": "stream",
     "text": [
      "we are in iter\n",
      "['X', 'batch_indices', 'local_l_mean', 'local_l_var', 'labels']\n",
      "['X', 'batch_indices', 'local_l_mean', 'local_l_var', 'labels']\n",
      "['X', 'batch_indices', 'local_l_mean', 'local_l_var', 'labels']\n",
      "['X', 'batch_indices', 'local_l_mean', 'local_l_var', 'labels']\n",
      "['X', 'batch_indices', 'local_l_mean', 'local_l_var', 'labels']\n",
      "['X', 'batch_indices', 'local_l_mean', 'local_l_var', 'labels']\n",
      "['X', 'batch_indices', 'local_l_mean', 'local_l_var', 'labels']\n",
      "['X', 'batch_indices', 'local_l_mean', 'local_l_var', 'labels']\n",
      "['X', 'batch_indices', 'local_l_mean', 'local_l_var', 'labels']\n",
      "['X', 'batch_indices', 'local_l_mean', 'local_l_var', 'labels']\n",
      "['X', 'batch_indices', 'local_l_mean', 'local_l_var', 'labels']\n",
      "['X', 'batch_indices', 'local_l_mean', 'local_l_var', 'labels']\n",
      "['X', 'batch_indices', 'local_l_mean', 'local_l_var', 'labels']\n",
      "['X', 'batch_indices', 'local_l_mean', 'local_l_var', 'labels']\n",
      "['X', 'batch_indices', 'local_l_mean', 'local_l_var', 'labels']\n",
      "['X', 'batch_indices', 'local_l_mean', 'local_l_var', 'labels']\n",
      "['X', 'batch_indices', 'local_l_mean', 'local_l_var', 'labels']\n",
      "['X', 'batch_indices', 'local_l_mean', 'local_l_var', 'labels']\n",
      "['X', 'batch_indices', 'local_l_mean', 'local_l_var', 'labels']\n",
      "['X', 'batch_indices', 'local_l_mean', 'local_l_var', 'labels']\n",
      "['X', 'batch_indices', 'local_l_mean', 'local_l_var', 'labels']\n",
      "['X', 'batch_indices', 'local_l_mean', 'local_l_var', 'labels']\n",
      "['X', 'batch_indices', 'local_l_mean', 'local_l_var', 'labels']\n",
      "['X', 'batch_indices', 'local_l_mean', 'local_l_var', 'labels']\n",
      "['X', 'batch_indices', 'local_l_mean', 'local_l_var', 'labels']\n",
      "['X', 'batch_indices', 'local_l_mean', 'local_l_var', 'labels']\n",
      "['X', 'batch_indices', 'local_l_mean', 'local_l_var', 'labels']\n",
      "['X', 'batch_indices', 'local_l_mean', 'local_l_var', 'labels']\n",
      "['X', 'batch_indices', 'local_l_mean', 'local_l_var', 'labels']\n",
      "['X', 'batch_indices', 'local_l_mean', 'local_l_var', 'labels']\n",
      "['X', 'batch_indices', 'local_l_mean', 'local_l_var', 'labels']\n",
      "['X', 'batch_indices', 'local_l_mean', 'local_l_var', 'labels']\n",
      "['X', 'batch_indices', 'local_l_mean', 'local_l_var', 'labels']\n",
      "['X', 'batch_indices', 'local_l_mean', 'local_l_var', 'labels']\n",
      "['X', 'batch_indices', 'local_l_mean', 'local_l_var', 'labels']\n",
      "['X', 'batch_indices', 'local_l_mean', 'local_l_var', 'labels']\n",
      "['X', 'batch_indices', 'local_l_mean', 'local_l_var', 'labels']\n",
      "['X', 'batch_indices', 'local_l_mean', 'local_l_var', 'labels']\n",
      "['X', 'batch_indices', 'local_l_mean', 'local_l_var', 'labels']\n",
      "['X', 'batch_indices', 'local_l_mean', 'local_l_var', 'labels']\n",
      "['X', 'batch_indices', 'local_l_mean', 'local_l_var', 'labels']\n",
      "['X', 'batch_indices', 'local_l_mean', 'local_l_var', 'labels']\n",
      "['X', 'batch_indices', 'local_l_mean', 'local_l_var', 'labels']\n",
      "['X', 'batch_indices', 'local_l_mean', 'local_l_var', 'labels']\n",
      "['X', 'batch_indices', 'local_l_mean', 'local_l_var', 'labels']\n",
      "['X', 'batch_indices', 'local_l_mean', 'local_l_var', 'labels']\n",
      "['X', 'batch_indices', 'local_l_mean', 'local_l_var', 'labels']\n",
      "['X', 'batch_indices', 'local_l_mean', 'local_l_var', 'labels']\n",
      "['X', 'batch_indices', 'local_l_mean', 'local_l_var', 'labels']\n",
      "['X', 'batch_indices', 'local_l_mean', 'local_l_var', 'labels']\n",
      "['X', 'batch_indices', 'local_l_mean', 'local_l_var', 'labels']\n",
      "['X', 'batch_indices', 'local_l_mean', 'local_l_var', 'labels']\n",
      "['X', 'batch_indices', 'local_l_mean', 'local_l_var', 'labels']\n",
      "['X', 'batch_indices', 'local_l_mean', 'local_l_var', 'labels']\n",
      "['X', 'batch_indices', 'local_l_mean', 'local_l_var', 'labels']\n",
      "['X', 'batch_indices', 'local_l_mean', 'local_l_var', 'labels']\n",
      "['X', 'batch_indices', 'local_l_mean', 'local_l_var', 'labels']\n",
      "['X', 'batch_indices', 'local_l_mean', 'local_l_var', 'labels']\n",
      "['X', 'batch_indices', 'local_l_mean', 'local_l_var', 'labels']\n",
      "['X', 'batch_indices', 'local_l_mean', 'local_l_var', 'labels']\n",
      "['X', 'batch_indices', 'local_l_mean', 'local_l_var', 'labels']\n",
      "['X', 'batch_indices', 'local_l_mean', 'local_l_var', 'labels']\n",
      "['X', 'batch_indices', 'local_l_mean', 'local_l_var', 'labels']\n",
      "['X', 'batch_indices', 'local_l_mean', 'local_l_var', 'labels']\n",
      "['X', 'batch_indices', 'local_l_mean', 'local_l_var', 'labels']\n",
      "['X', 'batch_indices', 'local_l_mean', 'local_l_var', 'labels']\n",
      "['X', 'batch_indices', 'local_l_mean', 'local_l_var', 'labels']\n",
      "['X', 'batch_indices', 'local_l_mean', 'local_l_var', 'labels']\n",
      "['X', 'batch_indices', 'local_l_mean', 'local_l_var', 'labels']\n",
      "['X', 'batch_indices', 'local_l_mean', 'local_l_var', 'labels']\n",
      "['X', 'batch_indices', 'local_l_mean', 'local_l_var', 'labels']\n",
      "['X', 'batch_indices', 'local_l_mean', 'local_l_var', 'labels']\n",
      "['X', 'batch_indices', 'local_l_mean', 'local_l_var', 'labels']\n",
      "['X', 'batch_indices', 'local_l_mean', 'local_l_var', 'labels']\n",
      "['X', 'batch_indices', 'local_l_mean', 'local_l_var', 'labels']\n",
      "['X', 'batch_indices', 'local_l_mean', 'local_l_var', 'labels']\n",
      "['X', 'batch_indices', 'local_l_mean', 'local_l_var', 'labels']\n",
      "['X', 'batch_indices', 'local_l_mean', 'local_l_var', 'labels']\n",
      "['X', 'batch_indices', 'local_l_mean', 'local_l_var', 'labels']\n",
      "['X', 'batch_indices', 'local_l_mean', 'local_l_var', 'labels']\n",
      "['X', 'batch_indices', 'local_l_mean', 'local_l_var', 'labels']\n",
      "['X', 'batch_indices', 'local_l_mean', 'local_l_var', 'labels']\n",
      "['X', 'batch_indices', 'local_l_mean', 'local_l_var', 'labels']\n",
      "['X', 'batch_indices', 'local_l_mean', 'local_l_var', 'labels']\n",
      "['X', 'batch_indices', 'local_l_mean', 'local_l_var', 'labels']\n",
      "['X', 'batch_indices', 'local_l_mean', 'local_l_var', 'labels']\n",
      "['X', 'batch_indices', 'local_l_mean', 'local_l_var', 'labels']\n",
      "['X', 'batch_indices', 'local_l_mean', 'local_l_var', 'labels']\n",
      "['X', 'batch_indices', 'local_l_mean', 'local_l_var', 'labels']\n",
      "['X', 'batch_indices', 'local_l_mean', 'local_l_var', 'labels']\n",
      "['X', 'batch_indices', 'local_l_mean', 'local_l_var', 'labels']\n",
      "['X', 'batch_indices', 'local_l_mean', 'local_l_var', 'labels']\n",
      "['X', 'batch_indices', 'local_l_mean', 'local_l_var', 'labels']\n",
      "['X', 'batch_indices', 'local_l_mean', 'local_l_var', 'labels']\n",
      "['X', 'batch_indices', 'local_l_mean', 'local_l_var', 'labels']\n",
      "['X', 'batch_indices', 'local_l_mean', 'local_l_var', 'labels']\n",
      "['X', 'batch_indices', 'local_l_mean', 'local_l_var', 'labels']\n",
      "['X', 'batch_indices', 'local_l_mean', 'local_l_var', 'labels']\n",
      "['X', 'batch_indices', 'local_l_mean', 'local_l_var', 'labels']\n",
      "['X', 'batch_indices', 'local_l_mean', 'local_l_var', 'labels']\n",
      "['X', 'batch_indices', 'local_l_mean', 'local_l_var', 'labels']\n",
      "['X', 'batch_indices', 'local_l_mean', 'local_l_var', 'labels']\n",
      "['X', 'batch_indices', 'local_l_mean', 'local_l_var', 'labels']\n",
      "['X', 'batch_indices', 'local_l_mean', 'local_l_var', 'labels']\n",
      "['X', 'batch_indices', 'local_l_mean', 'local_l_var', 'labels']\n",
      "['X', 'batch_indices', 'local_l_mean', 'local_l_var', 'labels']\n",
      "['X', 'batch_indices', 'local_l_mean', 'local_l_var', 'labels']\n",
      "['X', 'batch_indices', 'local_l_mean', 'local_l_var', 'labels']\n",
      "['X', 'batch_indices', 'local_l_mean', 'local_l_var', 'labels']\n",
      "['X', 'batch_indices', 'local_l_mean', 'local_l_var', 'labels']\n",
      "['X', 'batch_indices', 'local_l_mean', 'local_l_var', 'labels']\n",
      "['X', 'batch_indices', 'local_l_mean', 'local_l_var', 'labels']\n",
      "['X', 'batch_indices', 'local_l_mean', 'local_l_var', 'labels']\n",
      "['X', 'batch_indices', 'local_l_mean', 'local_l_var', 'labels']\n",
      "['X', 'batch_indices', 'local_l_mean', 'local_l_var', 'labels']\n",
      "['X', 'batch_indices', 'local_l_mean', 'local_l_var', 'labels']\n",
      "['X', 'batch_indices', 'local_l_mean', 'local_l_var', 'labels']\n",
      "['X', 'batch_indices', 'local_l_mean', 'local_l_var', 'labels']\n",
      "['X', 'batch_indices', 'local_l_mean', 'local_l_var', 'labels']\n",
      "['X', 'batch_indices', 'local_l_mean', 'local_l_var', 'labels']\n",
      "['X', 'batch_indices', 'local_l_mean', 'local_l_var', 'labels']\n",
      "['X', 'batch_indices', 'local_l_mean', 'local_l_var', 'labels']\n",
      "['X', 'batch_indices', 'local_l_mean', 'local_l_var', 'labels']\n",
      "['X', 'batch_indices', 'local_l_mean', 'local_l_var', 'labels']\n",
      "['X', 'batch_indices', 'local_l_mean', 'local_l_var', 'labels']\n",
      "['X', 'batch_indices', 'local_l_mean', 'local_l_var', 'labels']\n",
      "['X', 'batch_indices', 'local_l_mean', 'local_l_var', 'labels']\n",
      "['X', 'batch_indices', 'local_l_mean', 'local_l_var', 'labels']\n"
     ]
    },
    {
     "ename": "TypeError",
     "evalue": "can't convert np.ndarray of type numpy.uint16. The only supported types are: float64, float32, float16, int64, int32, int16, int8, uint8, and bool.",
     "output_type": "error",
     "traceback": [
      "\u001b[0;31m---------------------------------------------------------------------------\u001b[0m",
      "\u001b[0;31mTypeError\u001b[0m                                 Traceback (most recent call last)",
      "\u001b[0;32m<ipython-input-7-99de7903113a>\u001b[0m in \u001b[0;36m<module>\u001b[0;34m\u001b[0m\n\u001b[1;32m     10\u001b[0m     \u001b[0mfrequency\u001b[0m\u001b[0;34m=\u001b[0m\u001b[0;36m5\u001b[0m\u001b[0;34m,\u001b[0m\u001b[0;34m\u001b[0m\u001b[0;34m\u001b[0m\u001b[0m\n\u001b[1;32m     11\u001b[0m )\n\u001b[0;32m---> 12\u001b[0;31m \u001b[0mtrainer\u001b[0m\u001b[0;34m.\u001b[0m\u001b[0mtrain\u001b[0m\u001b[0;34m(\u001b[0m\u001b[0;34m)\u001b[0m\u001b[0;34m\u001b[0m\u001b[0;34m\u001b[0m\u001b[0m\n\u001b[0m",
      "\u001b[0;32m~/scVI/scvi/inference/trainer.py\u001b[0m in \u001b[0;36mtrain\u001b[0;34m(self, n_epochs, lr, eps, params, **extras_kwargs)\u001b[0m\n\u001b[1;32m    176\u001b[0m         \u001b[0mself\u001b[0m\u001b[0;34m.\u001b[0m\u001b[0mcompute_metrics_time\u001b[0m \u001b[0;34m=\u001b[0m \u001b[0;36m0\u001b[0m\u001b[0;34m\u001b[0m\u001b[0;34m\u001b[0m\u001b[0m\n\u001b[1;32m    177\u001b[0m         \u001b[0mself\u001b[0m\u001b[0;34m.\u001b[0m\u001b[0mn_epochs\u001b[0m \u001b[0;34m=\u001b[0m \u001b[0mn_epochs\u001b[0m\u001b[0;34m\u001b[0m\u001b[0;34m\u001b[0m\u001b[0m\n\u001b[0;32m--> 178\u001b[0;31m         \u001b[0mself\u001b[0m\u001b[0;34m.\u001b[0m\u001b[0mcompute_metrics\u001b[0m\u001b[0;34m(\u001b[0m\u001b[0;34m)\u001b[0m\u001b[0;34m\u001b[0m\u001b[0;34m\u001b[0m\u001b[0m\n\u001b[0m\u001b[1;32m    179\u001b[0m \u001b[0;34m\u001b[0m\u001b[0m\n\u001b[1;32m    180\u001b[0m         \u001b[0mself\u001b[0m\u001b[0;34m.\u001b[0m\u001b[0mon_training_begin\u001b[0m\u001b[0;34m(\u001b[0m\u001b[0;34m)\u001b[0m\u001b[0;34m\u001b[0m\u001b[0;34m\u001b[0m\u001b[0m\n",
      "\u001b[0;32m~/anaconda3/envs/scvi/lib/python3.6/site-packages/torch/autograd/grad_mode.py\u001b[0m in \u001b[0;36mdecorate_context\u001b[0;34m(*args, **kwargs)\u001b[0m\n\u001b[1;32m     13\u001b[0m         \u001b[0;32mdef\u001b[0m \u001b[0mdecorate_context\u001b[0m\u001b[0;34m(\u001b[0m\u001b[0;34m*\u001b[0m\u001b[0margs\u001b[0m\u001b[0;34m,\u001b[0m \u001b[0;34m**\u001b[0m\u001b[0mkwargs\u001b[0m\u001b[0;34m)\u001b[0m\u001b[0;34m:\u001b[0m\u001b[0;34m\u001b[0m\u001b[0;34m\u001b[0m\u001b[0m\n\u001b[1;32m     14\u001b[0m             \u001b[0;32mwith\u001b[0m \u001b[0mself\u001b[0m\u001b[0;34m:\u001b[0m\u001b[0;34m\u001b[0m\u001b[0;34m\u001b[0m\u001b[0m\n\u001b[0;32m---> 15\u001b[0;31m                 \u001b[0;32mreturn\u001b[0m \u001b[0mfunc\u001b[0m\u001b[0;34m(\u001b[0m\u001b[0;34m*\u001b[0m\u001b[0margs\u001b[0m\u001b[0;34m,\u001b[0m \u001b[0;34m**\u001b[0m\u001b[0mkwargs\u001b[0m\u001b[0;34m)\u001b[0m\u001b[0;34m\u001b[0m\u001b[0;34m\u001b[0m\u001b[0m\n\u001b[0m\u001b[1;32m     16\u001b[0m         \u001b[0;32mreturn\u001b[0m \u001b[0mdecorate_context\u001b[0m\u001b[0;34m\u001b[0m\u001b[0;34m\u001b[0m\u001b[0m\n\u001b[1;32m     17\u001b[0m \u001b[0;34m\u001b[0m\u001b[0m\n",
      "\u001b[0;32m~/scVI/scvi/inference/trainer.py\u001b[0m in \u001b[0;36mcompute_metrics\u001b[0;34m(self)\u001b[0m\n\u001b[1;32m    155\u001b[0m                                 \u001b[0mself\u001b[0m\u001b[0;34m.\u001b[0m\u001b[0mhistory\u001b[0m\u001b[0;34m[\u001b[0m\u001b[0mmetric\u001b[0m \u001b[0;34m+\u001b[0m \u001b[0;34m\"_\"\u001b[0m \u001b[0;34m+\u001b[0m \u001b[0mname\u001b[0m\u001b[0;34m]\u001b[0m \u001b[0;34m+=\u001b[0m \u001b[0;34m[\u001b[0m\u001b[0mresult\u001b[0m\u001b[0;34m]\u001b[0m\u001b[0;34m\u001b[0m\u001b[0;34m\u001b[0m\u001b[0m\n\u001b[1;32m    156\u001b[0m                     \u001b[0;32mfor\u001b[0m \u001b[0mmetric\u001b[0m \u001b[0;32min\u001b[0m \u001b[0mself\u001b[0m\u001b[0;34m.\u001b[0m\u001b[0mmetrics_to_monitor\u001b[0m\u001b[0;34m:\u001b[0m\u001b[0;34m\u001b[0m\u001b[0;34m\u001b[0m\u001b[0m\n\u001b[0;32m--> 157\u001b[0;31m                         \u001b[0mresult\u001b[0m \u001b[0;34m=\u001b[0m \u001b[0mgetattr\u001b[0m\u001b[0;34m(\u001b[0m\u001b[0mposterior\u001b[0m\u001b[0;34m,\u001b[0m \u001b[0mmetric\u001b[0m\u001b[0;34m)\u001b[0m\u001b[0;34m(\u001b[0m\u001b[0;34m)\u001b[0m\u001b[0;34m\u001b[0m\u001b[0;34m\u001b[0m\u001b[0m\n\u001b[0m\u001b[1;32m    158\u001b[0m                         \u001b[0mself\u001b[0m\u001b[0;34m.\u001b[0m\u001b[0mhistory\u001b[0m\u001b[0;34m[\u001b[0m\u001b[0mmetric\u001b[0m \u001b[0;34m+\u001b[0m \u001b[0;34m\"_\"\u001b[0m \u001b[0;34m+\u001b[0m \u001b[0mname\u001b[0m\u001b[0;34m]\u001b[0m \u001b[0;34m+=\u001b[0m \u001b[0;34m[\u001b[0m\u001b[0mresult\u001b[0m\u001b[0;34m]\u001b[0m\u001b[0;34m\u001b[0m\u001b[0;34m\u001b[0m\u001b[0m\n\u001b[1;32m    159\u001b[0m                 \u001b[0mself\u001b[0m\u001b[0;34m.\u001b[0m\u001b[0mmodel\u001b[0m\u001b[0;34m.\u001b[0m\u001b[0mtrain\u001b[0m\u001b[0;34m(\u001b[0m\u001b[0;34m)\u001b[0m\u001b[0;34m\u001b[0m\u001b[0;34m\u001b[0m\u001b[0m\n",
      "\u001b[0;32m~/anaconda3/envs/scvi/lib/python3.6/site-packages/torch/autograd/grad_mode.py\u001b[0m in \u001b[0;36mdecorate_context\u001b[0;34m(*args, **kwargs)\u001b[0m\n\u001b[1;32m     13\u001b[0m         \u001b[0;32mdef\u001b[0m \u001b[0mdecorate_context\u001b[0m\u001b[0;34m(\u001b[0m\u001b[0;34m*\u001b[0m\u001b[0margs\u001b[0m\u001b[0;34m,\u001b[0m \u001b[0;34m**\u001b[0m\u001b[0mkwargs\u001b[0m\u001b[0;34m)\u001b[0m\u001b[0;34m:\u001b[0m\u001b[0;34m\u001b[0m\u001b[0;34m\u001b[0m\u001b[0m\n\u001b[1;32m     14\u001b[0m             \u001b[0;32mwith\u001b[0m \u001b[0mself\u001b[0m\u001b[0;34m:\u001b[0m\u001b[0;34m\u001b[0m\u001b[0;34m\u001b[0m\u001b[0m\n\u001b[0;32m---> 15\u001b[0;31m                 \u001b[0;32mreturn\u001b[0m \u001b[0mfunc\u001b[0m\u001b[0;34m(\u001b[0m\u001b[0;34m*\u001b[0m\u001b[0margs\u001b[0m\u001b[0;34m,\u001b[0m \u001b[0;34m**\u001b[0m\u001b[0mkwargs\u001b[0m\u001b[0;34m)\u001b[0m\u001b[0;34m\u001b[0m\u001b[0;34m\u001b[0m\u001b[0m\n\u001b[0m\u001b[1;32m     16\u001b[0m         \u001b[0;32mreturn\u001b[0m \u001b[0mdecorate_context\u001b[0m\u001b[0;34m\u001b[0m\u001b[0;34m\u001b[0m\u001b[0m\n\u001b[1;32m     17\u001b[0m \u001b[0;34m\u001b[0m\u001b[0m\n",
      "\u001b[0;32m~/scVI/scvi/inference/posterior.py\u001b[0m in \u001b[0;36melbo\u001b[0;34m(self)\u001b[0m\n\u001b[1;32m    268\u001b[0m     \u001b[0;32mdef\u001b[0m \u001b[0melbo\u001b[0m\u001b[0;34m(\u001b[0m\u001b[0mself\u001b[0m\u001b[0;34m)\u001b[0m \u001b[0;34m->\u001b[0m \u001b[0mtorch\u001b[0m\u001b[0;34m.\u001b[0m\u001b[0mTensor\u001b[0m\u001b[0;34m:\u001b[0m\u001b[0;34m\u001b[0m\u001b[0;34m\u001b[0m\u001b[0m\n\u001b[1;32m    269\u001b[0m         \u001b[0;34m\"\"\"Returns the Evidence Lower Bound associated to the object.\"\"\"\u001b[0m\u001b[0;34m\u001b[0m\u001b[0;34m\u001b[0m\u001b[0m\n\u001b[0;32m--> 270\u001b[0;31m         \u001b[0melbo\u001b[0m \u001b[0;34m=\u001b[0m \u001b[0mcompute_elbo\u001b[0m\u001b[0;34m(\u001b[0m\u001b[0mself\u001b[0m\u001b[0;34m.\u001b[0m\u001b[0mmodel\u001b[0m\u001b[0;34m,\u001b[0m \u001b[0mself\u001b[0m\u001b[0;34m)\u001b[0m\u001b[0;34m\u001b[0m\u001b[0;34m\u001b[0m\u001b[0m\n\u001b[0m\u001b[1;32m    271\u001b[0m         \u001b[0mlogger\u001b[0m\u001b[0;34m.\u001b[0m\u001b[0mdebug\u001b[0m\u001b[0;34m(\u001b[0m\u001b[0;34m\"ELBO : %.4f\"\u001b[0m \u001b[0;34m%\u001b[0m \u001b[0melbo\u001b[0m\u001b[0;34m)\u001b[0m\u001b[0;34m\u001b[0m\u001b[0;34m\u001b[0m\u001b[0m\n\u001b[1;32m    272\u001b[0m         \u001b[0;32mreturn\u001b[0m \u001b[0melbo\u001b[0m\u001b[0;34m\u001b[0m\u001b[0;34m\u001b[0m\u001b[0m\n",
      "\u001b[0;32m~/scVI/scvi/models/log_likelihood.py\u001b[0m in \u001b[0;36mcompute_elbo\u001b[0;34m(vae, posterior, **kwargs)\u001b[0m\n\u001b[1;32m     21\u001b[0m     \u001b[0;31m# Iterate once over the posterior and compute the elbo\u001b[0m\u001b[0;34m\u001b[0m\u001b[0;34m\u001b[0m\u001b[0;34m\u001b[0m\u001b[0m\n\u001b[1;32m     22\u001b[0m     \u001b[0melbo\u001b[0m \u001b[0;34m=\u001b[0m \u001b[0;36m0\u001b[0m\u001b[0;34m\u001b[0m\u001b[0;34m\u001b[0m\u001b[0m\n\u001b[0;32m---> 23\u001b[0;31m     \u001b[0;32mfor\u001b[0m \u001b[0mi_batch\u001b[0m\u001b[0;34m,\u001b[0m \u001b[0mtensors\u001b[0m \u001b[0;32min\u001b[0m \u001b[0menumerate\u001b[0m\u001b[0;34m(\u001b[0m\u001b[0mposterior\u001b[0m\u001b[0;34m)\u001b[0m\u001b[0;34m:\u001b[0m\u001b[0;34m\u001b[0m\u001b[0;34m\u001b[0m\u001b[0m\n\u001b[0m\u001b[1;32m     24\u001b[0m         \u001b[0mprint\u001b[0m\u001b[0;34m(\u001b[0m\u001b[0mtensors\u001b[0m\u001b[0;34m)\u001b[0m\u001b[0;34m\u001b[0m\u001b[0;34m\u001b[0m\u001b[0m\n\u001b[1;32m     25\u001b[0m         \u001b[0mpdb\u001b[0m\u001b[0;34m.\u001b[0m\u001b[0mset_trace\u001b[0m\u001b[0;34m(\u001b[0m\u001b[0;34m)\u001b[0m\u001b[0;34m\u001b[0m\u001b[0;34m\u001b[0m\u001b[0m\n",
      "\u001b[0;32m~/anaconda3/envs/scvi/lib/python3.6/site-packages/torch/utils/data/dataloader.py\u001b[0m in \u001b[0;36m__next__\u001b[0;34m(self)\u001b[0m\n\u001b[1;32m    343\u001b[0m \u001b[0;34m\u001b[0m\u001b[0m\n\u001b[1;32m    344\u001b[0m     \u001b[0;32mdef\u001b[0m \u001b[0m__next__\u001b[0m\u001b[0;34m(\u001b[0m\u001b[0mself\u001b[0m\u001b[0;34m)\u001b[0m\u001b[0;34m:\u001b[0m\u001b[0;34m\u001b[0m\u001b[0;34m\u001b[0m\u001b[0m\n\u001b[0;32m--> 345\u001b[0;31m         \u001b[0mdata\u001b[0m \u001b[0;34m=\u001b[0m \u001b[0mself\u001b[0m\u001b[0;34m.\u001b[0m\u001b[0m_next_data\u001b[0m\u001b[0;34m(\u001b[0m\u001b[0;34m)\u001b[0m\u001b[0;34m\u001b[0m\u001b[0;34m\u001b[0m\u001b[0m\n\u001b[0m\u001b[1;32m    346\u001b[0m         \u001b[0mself\u001b[0m\u001b[0;34m.\u001b[0m\u001b[0m_num_yielded\u001b[0m \u001b[0;34m+=\u001b[0m \u001b[0;36m1\u001b[0m\u001b[0;34m\u001b[0m\u001b[0;34m\u001b[0m\u001b[0m\n\u001b[1;32m    347\u001b[0m         \u001b[0;32mif\u001b[0m \u001b[0mself\u001b[0m\u001b[0;34m.\u001b[0m\u001b[0m_dataset_kind\u001b[0m \u001b[0;34m==\u001b[0m \u001b[0m_DatasetKind\u001b[0m\u001b[0;34m.\u001b[0m\u001b[0mIterable\u001b[0m \u001b[0;32mand\u001b[0m\u001b[0;31m \u001b[0m\u001b[0;31m\\\u001b[0m\u001b[0;34m\u001b[0m\u001b[0;34m\u001b[0m\u001b[0m\n",
      "\u001b[0;32m~/anaconda3/envs/scvi/lib/python3.6/site-packages/torch/utils/data/dataloader.py\u001b[0m in \u001b[0;36m_next_data\u001b[0;34m(self)\u001b[0m\n\u001b[1;32m    383\u001b[0m     \u001b[0;32mdef\u001b[0m \u001b[0m_next_data\u001b[0m\u001b[0;34m(\u001b[0m\u001b[0mself\u001b[0m\u001b[0;34m)\u001b[0m\u001b[0;34m:\u001b[0m\u001b[0;34m\u001b[0m\u001b[0;34m\u001b[0m\u001b[0m\n\u001b[1;32m    384\u001b[0m         \u001b[0mindex\u001b[0m \u001b[0;34m=\u001b[0m \u001b[0mself\u001b[0m\u001b[0;34m.\u001b[0m\u001b[0m_next_index\u001b[0m\u001b[0;34m(\u001b[0m\u001b[0;34m)\u001b[0m  \u001b[0;31m# may raise StopIteration\u001b[0m\u001b[0;34m\u001b[0m\u001b[0;34m\u001b[0m\u001b[0m\n\u001b[0;32m--> 385\u001b[0;31m         \u001b[0mdata\u001b[0m \u001b[0;34m=\u001b[0m \u001b[0mself\u001b[0m\u001b[0;34m.\u001b[0m\u001b[0m_dataset_fetcher\u001b[0m\u001b[0;34m.\u001b[0m\u001b[0mfetch\u001b[0m\u001b[0;34m(\u001b[0m\u001b[0mindex\u001b[0m\u001b[0;34m)\u001b[0m  \u001b[0;31m# may raise StopIteration\u001b[0m\u001b[0;34m\u001b[0m\u001b[0;34m\u001b[0m\u001b[0m\n\u001b[0m\u001b[1;32m    386\u001b[0m         \u001b[0;32mif\u001b[0m \u001b[0mself\u001b[0m\u001b[0;34m.\u001b[0m\u001b[0m_pin_memory\u001b[0m\u001b[0;34m:\u001b[0m\u001b[0;34m\u001b[0m\u001b[0;34m\u001b[0m\u001b[0m\n\u001b[1;32m    387\u001b[0m             \u001b[0mdata\u001b[0m \u001b[0;34m=\u001b[0m \u001b[0m_utils\u001b[0m\u001b[0;34m.\u001b[0m\u001b[0mpin_memory\u001b[0m\u001b[0;34m.\u001b[0m\u001b[0mpin_memory\u001b[0m\u001b[0;34m(\u001b[0m\u001b[0mdata\u001b[0m\u001b[0;34m)\u001b[0m\u001b[0;34m\u001b[0m\u001b[0;34m\u001b[0m\u001b[0m\n",
      "\u001b[0;32m~/anaconda3/envs/scvi/lib/python3.6/site-packages/torch/utils/data/_utils/fetch.py\u001b[0m in \u001b[0;36mfetch\u001b[0;34m(self, possibly_batched_index)\u001b[0m\n\u001b[1;32m     45\u001b[0m         \u001b[0;32melse\u001b[0m\u001b[0;34m:\u001b[0m\u001b[0;34m\u001b[0m\u001b[0;34m\u001b[0m\u001b[0m\n\u001b[1;32m     46\u001b[0m             \u001b[0mdata\u001b[0m \u001b[0;34m=\u001b[0m \u001b[0mself\u001b[0m\u001b[0;34m.\u001b[0m\u001b[0mdataset\u001b[0m\u001b[0;34m[\u001b[0m\u001b[0mpossibly_batched_index\u001b[0m\u001b[0;34m]\u001b[0m\u001b[0;34m\u001b[0m\u001b[0;34m\u001b[0m\u001b[0m\n\u001b[0;32m---> 47\u001b[0;31m         \u001b[0;32mreturn\u001b[0m \u001b[0mself\u001b[0m\u001b[0;34m.\u001b[0m\u001b[0mcollate_fn\u001b[0m\u001b[0;34m(\u001b[0m\u001b[0mdata\u001b[0m\u001b[0;34m)\u001b[0m\u001b[0;34m\u001b[0m\u001b[0;34m\u001b[0m\u001b[0m\n\u001b[0m",
      "\u001b[0;32m~/anaconda3/envs/scvi/lib/python3.6/site-packages/torch/utils/data/_utils/collate.py\u001b[0m in \u001b[0;36mdefault_collate\u001b[0;34m(batch)\u001b[0m\n\u001b[1;32m     77\u001b[0m     \u001b[0;32melif\u001b[0m \u001b[0misinstance\u001b[0m\u001b[0;34m(\u001b[0m\u001b[0melem\u001b[0m\u001b[0;34m,\u001b[0m \u001b[0mcontainer_abcs\u001b[0m\u001b[0;34m.\u001b[0m\u001b[0mSequence\u001b[0m\u001b[0;34m)\u001b[0m\u001b[0;34m:\u001b[0m\u001b[0;34m\u001b[0m\u001b[0;34m\u001b[0m\u001b[0m\n\u001b[1;32m     78\u001b[0m         \u001b[0mtransposed\u001b[0m \u001b[0;34m=\u001b[0m \u001b[0mzip\u001b[0m\u001b[0;34m(\u001b[0m\u001b[0;34m*\u001b[0m\u001b[0mbatch\u001b[0m\u001b[0;34m)\u001b[0m\u001b[0;34m\u001b[0m\u001b[0;34m\u001b[0m\u001b[0m\n\u001b[0;32m---> 79\u001b[0;31m         \u001b[0;32mreturn\u001b[0m \u001b[0;34m[\u001b[0m\u001b[0mdefault_collate\u001b[0m\u001b[0;34m(\u001b[0m\u001b[0msamples\u001b[0m\u001b[0;34m)\u001b[0m \u001b[0;32mfor\u001b[0m \u001b[0msamples\u001b[0m \u001b[0;32min\u001b[0m \u001b[0mtransposed\u001b[0m\u001b[0;34m]\u001b[0m\u001b[0;34m\u001b[0m\u001b[0;34m\u001b[0m\u001b[0m\n\u001b[0m\u001b[1;32m     80\u001b[0m \u001b[0;34m\u001b[0m\u001b[0m\n\u001b[1;32m     81\u001b[0m     \u001b[0;32mraise\u001b[0m \u001b[0mTypeError\u001b[0m\u001b[0;34m(\u001b[0m\u001b[0mdefault_collate_err_msg_format\u001b[0m\u001b[0;34m.\u001b[0m\u001b[0mformat\u001b[0m\u001b[0;34m(\u001b[0m\u001b[0melem_type\u001b[0m\u001b[0;34m)\u001b[0m\u001b[0;34m)\u001b[0m\u001b[0;34m\u001b[0m\u001b[0;34m\u001b[0m\u001b[0m\n",
      "\u001b[0;32m~/anaconda3/envs/scvi/lib/python3.6/site-packages/torch/utils/data/_utils/collate.py\u001b[0m in \u001b[0;36m<listcomp>\u001b[0;34m(.0)\u001b[0m\n\u001b[1;32m     77\u001b[0m     \u001b[0;32melif\u001b[0m \u001b[0misinstance\u001b[0m\u001b[0;34m(\u001b[0m\u001b[0melem\u001b[0m\u001b[0;34m,\u001b[0m \u001b[0mcontainer_abcs\u001b[0m\u001b[0;34m.\u001b[0m\u001b[0mSequence\u001b[0m\u001b[0;34m)\u001b[0m\u001b[0;34m:\u001b[0m\u001b[0;34m\u001b[0m\u001b[0;34m\u001b[0m\u001b[0m\n\u001b[1;32m     78\u001b[0m         \u001b[0mtransposed\u001b[0m \u001b[0;34m=\u001b[0m \u001b[0mzip\u001b[0m\u001b[0;34m(\u001b[0m\u001b[0;34m*\u001b[0m\u001b[0mbatch\u001b[0m\u001b[0;34m)\u001b[0m\u001b[0;34m\u001b[0m\u001b[0;34m\u001b[0m\u001b[0m\n\u001b[0;32m---> 79\u001b[0;31m         \u001b[0;32mreturn\u001b[0m \u001b[0;34m[\u001b[0m\u001b[0mdefault_collate\u001b[0m\u001b[0;34m(\u001b[0m\u001b[0msamples\u001b[0m\u001b[0;34m)\u001b[0m \u001b[0;32mfor\u001b[0m \u001b[0msamples\u001b[0m \u001b[0;32min\u001b[0m \u001b[0mtransposed\u001b[0m\u001b[0;34m]\u001b[0m\u001b[0;34m\u001b[0m\u001b[0;34m\u001b[0m\u001b[0m\n\u001b[0m\u001b[1;32m     80\u001b[0m \u001b[0;34m\u001b[0m\u001b[0m\n\u001b[1;32m     81\u001b[0m     \u001b[0;32mraise\u001b[0m \u001b[0mTypeError\u001b[0m\u001b[0;34m(\u001b[0m\u001b[0mdefault_collate_err_msg_format\u001b[0m\u001b[0;34m.\u001b[0m\u001b[0mformat\u001b[0m\u001b[0;34m(\u001b[0m\u001b[0melem_type\u001b[0m\u001b[0;34m)\u001b[0m\u001b[0;34m)\u001b[0m\u001b[0;34m\u001b[0m\u001b[0;34m\u001b[0m\u001b[0m\n",
      "\u001b[0;32m~/anaconda3/envs/scvi/lib/python3.6/site-packages/torch/utils/data/_utils/collate.py\u001b[0m in \u001b[0;36mdefault_collate\u001b[0;34m(batch)\u001b[0m\n\u001b[1;32m     64\u001b[0m             \u001b[0;32mreturn\u001b[0m \u001b[0mdefault_collate\u001b[0m\u001b[0;34m(\u001b[0m\u001b[0;34m[\u001b[0m\u001b[0mtorch\u001b[0m\u001b[0;34m.\u001b[0m\u001b[0mas_tensor\u001b[0m\u001b[0;34m(\u001b[0m\u001b[0mb\u001b[0m\u001b[0;34m)\u001b[0m \u001b[0;32mfor\u001b[0m \u001b[0mb\u001b[0m \u001b[0;32min\u001b[0m \u001b[0mbatch\u001b[0m\u001b[0;34m]\u001b[0m\u001b[0;34m)\u001b[0m\u001b[0;34m\u001b[0m\u001b[0;34m\u001b[0m\u001b[0m\n\u001b[1;32m     65\u001b[0m         \u001b[0;32melif\u001b[0m \u001b[0melem\u001b[0m\u001b[0;34m.\u001b[0m\u001b[0mshape\u001b[0m \u001b[0;34m==\u001b[0m \u001b[0;34m(\u001b[0m\u001b[0;34m)\u001b[0m\u001b[0;34m:\u001b[0m  \u001b[0;31m# scalars\u001b[0m\u001b[0;34m\u001b[0m\u001b[0;34m\u001b[0m\u001b[0m\n\u001b[0;32m---> 66\u001b[0;31m             \u001b[0;32mreturn\u001b[0m \u001b[0mtorch\u001b[0m\u001b[0;34m.\u001b[0m\u001b[0mas_tensor\u001b[0m\u001b[0;34m(\u001b[0m\u001b[0mbatch\u001b[0m\u001b[0;34m)\u001b[0m\u001b[0;34m\u001b[0m\u001b[0;34m\u001b[0m\u001b[0m\n\u001b[0m\u001b[1;32m     67\u001b[0m     \u001b[0;32melif\u001b[0m \u001b[0misinstance\u001b[0m\u001b[0;34m(\u001b[0m\u001b[0melem\u001b[0m\u001b[0;34m,\u001b[0m \u001b[0mfloat\u001b[0m\u001b[0;34m)\u001b[0m\u001b[0;34m:\u001b[0m\u001b[0;34m\u001b[0m\u001b[0;34m\u001b[0m\u001b[0m\n\u001b[1;32m     68\u001b[0m         \u001b[0;32mreturn\u001b[0m \u001b[0mtorch\u001b[0m\u001b[0;34m.\u001b[0m\u001b[0mtensor\u001b[0m\u001b[0;34m(\u001b[0m\u001b[0mbatch\u001b[0m\u001b[0;34m,\u001b[0m \u001b[0mdtype\u001b[0m\u001b[0;34m=\u001b[0m\u001b[0mtorch\u001b[0m\u001b[0;34m.\u001b[0m\u001b[0mfloat64\u001b[0m\u001b[0;34m)\u001b[0m\u001b[0;34m\u001b[0m\u001b[0;34m\u001b[0m\u001b[0m\n",
      "\u001b[0;31mTypeError\u001b[0m: can't convert np.ndarray of type numpy.uint16. The only supported types are: float64, float32, float16, int64, int32, int16, int8, uint8, and bool."
     ]
    }
   ],
   "source": []
  },
  {
   "cell_type": "code",
   "execution_count": 9,
   "metadata": {},
   "outputs": [
    {
     "name": "stdout",
     "output_type": "stream",
     "text": [
      "['X', 'batch_indices', 'local_l_mean', 'local_l_var', 'labels']\n",
      "['X', 'batch_indices', 'local_l_mean', 'local_l_var', 'labels']\n",
      "['X', 'batch_indices', 'local_l_mean', 'local_l_var', 'labels']\n",
      "['X', 'batch_indices', 'local_l_mean', 'local_l_var', 'labels']\n",
      "['X', 'batch_indices', 'local_l_mean', 'local_l_var', 'labels']\n",
      "['X', 'batch_indices', 'local_l_mean', 'local_l_var', 'labels']\n",
      "['X', 'batch_indices', 'local_l_mean', 'local_l_var', 'labels']\n",
      "['X', 'batch_indices', 'local_l_mean', 'local_l_var', 'labels']\n",
      "['X', 'batch_indices', 'local_l_mean', 'local_l_var', 'labels']\n",
      "['X', 'batch_indices', 'local_l_mean', 'local_l_var', 'labels']\n",
      "['X', 'batch_indices', 'local_l_mean', 'local_l_var', 'labels']\n",
      "['X', 'batch_indices', 'local_l_mean', 'local_l_var', 'labels']\n",
      "['X', 'batch_indices', 'local_l_mean', 'local_l_var', 'labels']\n",
      "['X', 'batch_indices', 'local_l_mean', 'local_l_var', 'labels']\n",
      "['X', 'batch_indices', 'local_l_mean', 'local_l_var', 'labels']\n",
      "['X', 'batch_indices', 'local_l_mean', 'local_l_var', 'labels']\n",
      "['X', 'batch_indices', 'local_l_mean', 'local_l_var', 'labels']\n",
      "['X', 'batch_indices', 'local_l_mean', 'local_l_var', 'labels']\n",
      "['X', 'batch_indices', 'local_l_mean', 'local_l_var', 'labels']\n",
      "['X', 'batch_indices', 'local_l_mean', 'local_l_var', 'labels']\n",
      "['X', 'batch_indices', 'local_l_mean', 'local_l_var', 'labels']\n",
      "['X', 'batch_indices', 'local_l_mean', 'local_l_var', 'labels']\n",
      "['X', 'batch_indices', 'local_l_mean', 'local_l_var', 'labels']\n",
      "['X', 'batch_indices', 'local_l_mean', 'local_l_var', 'labels']\n",
      "['X', 'batch_indices', 'local_l_mean', 'local_l_var', 'labels']\n",
      "['X', 'batch_indices', 'local_l_mean', 'local_l_var', 'labels']\n",
      "['X', 'batch_indices', 'local_l_mean', 'local_l_var', 'labels']\n",
      "['X', 'batch_indices', 'local_l_mean', 'local_l_var', 'labels']\n",
      "['X', 'batch_indices', 'local_l_mean', 'local_l_var', 'labels']\n",
      "['X', 'batch_indices', 'local_l_mean', 'local_l_var', 'labels']\n",
      "['X', 'batch_indices', 'local_l_mean', 'local_l_var', 'labels']\n",
      "['X', 'batch_indices', 'local_l_mean', 'local_l_var', 'labels']\n",
      "['X', 'batch_indices', 'local_l_mean', 'local_l_var', 'labels']\n",
      "['X', 'batch_indices', 'local_l_mean', 'local_l_var', 'labels']\n",
      "['X', 'batch_indices', 'local_l_mean', 'local_l_var', 'labels']\n",
      "['X', 'batch_indices', 'local_l_mean', 'local_l_var', 'labels']\n",
      "['X', 'batch_indices', 'local_l_mean', 'local_l_var', 'labels']\n",
      "['X', 'batch_indices', 'local_l_mean', 'local_l_var', 'labels']\n",
      "['X', 'batch_indices', 'local_l_mean', 'local_l_var', 'labels']\n",
      "['X', 'batch_indices', 'local_l_mean', 'local_l_var', 'labels']\n",
      "['X', 'batch_indices', 'local_l_mean', 'local_l_var', 'labels']\n",
      "['X', 'batch_indices', 'local_l_mean', 'local_l_var', 'labels']\n",
      "['X', 'batch_indices', 'local_l_mean', 'local_l_var', 'labels']\n",
      "['X', 'batch_indices', 'local_l_mean', 'local_l_var', 'labels']\n",
      "['X', 'batch_indices', 'local_l_mean', 'local_l_var', 'labels']\n",
      "['X', 'batch_indices', 'local_l_mean', 'local_l_var', 'labels']\n",
      "['X', 'batch_indices', 'local_l_mean', 'local_l_var', 'labels']\n",
      "['X', 'batch_indices', 'local_l_mean', 'local_l_var', 'labels']\n",
      "['X', 'batch_indices', 'local_l_mean', 'local_l_var', 'labels']\n",
      "['X', 'batch_indices', 'local_l_mean', 'local_l_var', 'labels']\n",
      "['X', 'batch_indices', 'local_l_mean', 'local_l_var', 'labels']\n",
      "['X', 'batch_indices', 'local_l_mean', 'local_l_var', 'labels']\n",
      "['X', 'batch_indices', 'local_l_mean', 'local_l_var', 'labels']\n",
      "['X', 'batch_indices', 'local_l_mean', 'local_l_var', 'labels']\n",
      "['X', 'batch_indices', 'local_l_mean', 'local_l_var', 'labels']\n",
      "['X', 'batch_indices', 'local_l_mean', 'local_l_var', 'labels']\n",
      "['X', 'batch_indices', 'local_l_mean', 'local_l_var', 'labels']\n",
      "['X', 'batch_indices', 'local_l_mean', 'local_l_var', 'labels']\n",
      "['X', 'batch_indices', 'local_l_mean', 'local_l_var', 'labels']\n",
      "['X', 'batch_indices', 'local_l_mean', 'local_l_var', 'labels']\n",
      "['X', 'batch_indices', 'local_l_mean', 'local_l_var', 'labels']\n",
      "['X', 'batch_indices', 'local_l_mean', 'local_l_var', 'labels']\n",
      "['X', 'batch_indices', 'local_l_mean', 'local_l_var', 'labels']\n",
      "['X', 'batch_indices', 'local_l_mean', 'local_l_var', 'labels']\n",
      "['X', 'batch_indices', 'local_l_mean', 'local_l_var', 'labels']\n",
      "['X', 'batch_indices', 'local_l_mean', 'local_l_var', 'labels']\n",
      "['X', 'batch_indices', 'local_l_mean', 'local_l_var', 'labels']\n",
      "['X', 'batch_indices', 'local_l_mean', 'local_l_var', 'labels']\n",
      "['X', 'batch_indices', 'local_l_mean', 'local_l_var', 'labels']\n",
      "['X', 'batch_indices', 'local_l_mean', 'local_l_var', 'labels']\n",
      "['X', 'batch_indices', 'local_l_mean', 'local_l_var', 'labels']\n",
      "['X', 'batch_indices', 'local_l_mean', 'local_l_var', 'labels']\n",
      "['X', 'batch_indices', 'local_l_mean', 'local_l_var', 'labels']\n",
      "['X', 'batch_indices', 'local_l_mean', 'local_l_var', 'labels']\n",
      "['X', 'batch_indices', 'local_l_mean', 'local_l_var', 'labels']\n",
      "['X', 'batch_indices', 'local_l_mean', 'local_l_var', 'labels']\n",
      "['X', 'batch_indices', 'local_l_mean', 'local_l_var', 'labels']\n",
      "['X', 'batch_indices', 'local_l_mean', 'local_l_var', 'labels']\n",
      "['X', 'batch_indices', 'local_l_mean', 'local_l_var', 'labels']\n",
      "['X', 'batch_indices', 'local_l_mean', 'local_l_var', 'labels']\n",
      "['X', 'batch_indices', 'local_l_mean', 'local_l_var', 'labels']\n",
      "['X', 'batch_indices', 'local_l_mean', 'local_l_var', 'labels']\n",
      "['X', 'batch_indices', 'local_l_mean', 'local_l_var', 'labels']\n",
      "['X', 'batch_indices', 'local_l_mean', 'local_l_var', 'labels']\n",
      "['X', 'batch_indices', 'local_l_mean', 'local_l_var', 'labels']\n",
      "['X', 'batch_indices', 'local_l_mean', 'local_l_var', 'labels']\n",
      "['X', 'batch_indices', 'local_l_mean', 'local_l_var', 'labels']\n",
      "['X', 'batch_indices', 'local_l_mean', 'local_l_var', 'labels']\n",
      "['X', 'batch_indices', 'local_l_mean', 'local_l_var', 'labels']\n",
      "['X', 'batch_indices', 'local_l_mean', 'local_l_var', 'labels']\n",
      "['X', 'batch_indices', 'local_l_mean', 'local_l_var', 'labels']\n",
      "['X', 'batch_indices', 'local_l_mean', 'local_l_var', 'labels']\n",
      "['X', 'batch_indices', 'local_l_mean', 'local_l_var', 'labels']\n",
      "['X', 'batch_indices', 'local_l_mean', 'local_l_var', 'labels']\n",
      "['X', 'batch_indices', 'local_l_mean', 'local_l_var', 'labels']\n",
      "['X', 'batch_indices', 'local_l_mean', 'local_l_var', 'labels']\n",
      "['X', 'batch_indices', 'local_l_mean', 'local_l_var', 'labels']\n",
      "['X', 'batch_indices', 'local_l_mean', 'local_l_var', 'labels']\n",
      "['X', 'batch_indices', 'local_l_mean', 'local_l_var', 'labels']\n",
      "['X', 'batch_indices', 'local_l_mean', 'local_l_var', 'labels']\n",
      "['X', 'batch_indices', 'local_l_mean', 'local_l_var', 'labels']\n",
      "['X', 'batch_indices', 'local_l_mean', 'local_l_var', 'labels']\n",
      "['X', 'batch_indices', 'local_l_mean', 'local_l_var', 'labels']\n",
      "['X', 'batch_indices', 'local_l_mean', 'local_l_var', 'labels']\n",
      "['X', 'batch_indices', 'local_l_mean', 'local_l_var', 'labels']\n",
      "['X', 'batch_indices', 'local_l_mean', 'local_l_var', 'labels']\n",
      "['X', 'batch_indices', 'local_l_mean', 'local_l_var', 'labels']\n",
      "['X', 'batch_indices', 'local_l_mean', 'local_l_var', 'labels']\n",
      "['X', 'batch_indices', 'local_l_mean', 'local_l_var', 'labels']\n",
      "['X', 'batch_indices', 'local_l_mean', 'local_l_var', 'labels']\n",
      "['X', 'batch_indices', 'local_l_mean', 'local_l_var', 'labels']\n",
      "['X', 'batch_indices', 'local_l_mean', 'local_l_var', 'labels']\n",
      "['X', 'batch_indices', 'local_l_mean', 'local_l_var', 'labels']\n",
      "['X', 'batch_indices', 'local_l_mean', 'local_l_var', 'labels']\n",
      "['X', 'batch_indices', 'local_l_mean', 'local_l_var', 'labels']\n",
      "['X', 'batch_indices', 'local_l_mean', 'local_l_var', 'labels']\n",
      "['X', 'batch_indices', 'local_l_mean', 'local_l_var', 'labels']\n",
      "['X', 'batch_indices', 'local_l_mean', 'local_l_var', 'labels']\n",
      "['X', 'batch_indices', 'local_l_mean', 'local_l_var', 'labels']\n",
      "['X', 'batch_indices', 'local_l_mean', 'local_l_var', 'labels']\n",
      "['X', 'batch_indices', 'local_l_mean', 'local_l_var', 'labels']\n",
      "['X', 'batch_indices', 'local_l_mean', 'local_l_var', 'labels']\n",
      "['X', 'batch_indices', 'local_l_mean', 'local_l_var', 'labels']\n",
      "['X', 'batch_indices', 'local_l_mean', 'local_l_var', 'labels']\n",
      "['X', 'batch_indices', 'local_l_mean', 'local_l_var', 'labels']\n",
      "['X', 'batch_indices', 'local_l_mean', 'local_l_var', 'labels']\n",
      "['X', 'batch_indices', 'local_l_mean', 'local_l_var', 'labels']\n",
      "['X', 'batch_indices', 'local_l_mean', 'local_l_var', 'labels']\n"
     ]
    },
    {
     "ename": "TypeError",
     "evalue": "can't convert np.ndarray of type numpy.uint16. The only supported types are: float64, float32, float16, int64, int32, int16, int8, uint8, and bool.",
     "output_type": "error",
     "traceback": [
      "\u001b[0;31m---------------------------------------------------------------------------\u001b[0m",
      "\u001b[0;31mTypeError\u001b[0m                                 Traceback (most recent call last)",
      "\u001b[0;32m<ipython-input-9-3435b262f1ae>\u001b[0m in \u001b[0;36m<module>\u001b[0;34m\u001b[0m\n\u001b[0;32m----> 1\u001b[0;31m \u001b[0mtrainer\u001b[0m\u001b[0;34m.\u001b[0m\u001b[0mtrain\u001b[0m\u001b[0;34m(\u001b[0m\u001b[0;34m)\u001b[0m\u001b[0;34m\u001b[0m\u001b[0;34m\u001b[0m\u001b[0m\n\u001b[0m",
      "\u001b[0;32m~/scVI/scvi/inference/trainer.py\u001b[0m in \u001b[0;36mtrain\u001b[0;34m(self, n_epochs, lr, eps, params, **extras_kwargs)\u001b[0m\n\u001b[1;32m    176\u001b[0m         \u001b[0mself\u001b[0m\u001b[0;34m.\u001b[0m\u001b[0mcompute_metrics_time\u001b[0m \u001b[0;34m=\u001b[0m \u001b[0;36m0\u001b[0m\u001b[0;34m\u001b[0m\u001b[0;34m\u001b[0m\u001b[0m\n\u001b[1;32m    177\u001b[0m         \u001b[0mself\u001b[0m\u001b[0;34m.\u001b[0m\u001b[0mn_epochs\u001b[0m \u001b[0;34m=\u001b[0m \u001b[0mn_epochs\u001b[0m\u001b[0;34m\u001b[0m\u001b[0;34m\u001b[0m\u001b[0m\n\u001b[0;32m--> 178\u001b[0;31m         \u001b[0mself\u001b[0m\u001b[0;34m.\u001b[0m\u001b[0mcompute_metrics\u001b[0m\u001b[0;34m(\u001b[0m\u001b[0;34m)\u001b[0m\u001b[0;34m\u001b[0m\u001b[0;34m\u001b[0m\u001b[0m\n\u001b[0m\u001b[1;32m    179\u001b[0m \u001b[0;34m\u001b[0m\u001b[0m\n\u001b[1;32m    180\u001b[0m         \u001b[0mself\u001b[0m\u001b[0;34m.\u001b[0m\u001b[0mon_training_begin\u001b[0m\u001b[0;34m(\u001b[0m\u001b[0;34m)\u001b[0m\u001b[0;34m\u001b[0m\u001b[0;34m\u001b[0m\u001b[0m\n",
      "\u001b[0;32m~/anaconda3/envs/scvi/lib/python3.6/site-packages/torch/autograd/grad_mode.py\u001b[0m in \u001b[0;36mdecorate_context\u001b[0;34m(*args, **kwargs)\u001b[0m\n\u001b[1;32m     13\u001b[0m         \u001b[0;32mdef\u001b[0m \u001b[0mdecorate_context\u001b[0m\u001b[0;34m(\u001b[0m\u001b[0;34m*\u001b[0m\u001b[0margs\u001b[0m\u001b[0;34m,\u001b[0m \u001b[0;34m**\u001b[0m\u001b[0mkwargs\u001b[0m\u001b[0;34m)\u001b[0m\u001b[0;34m:\u001b[0m\u001b[0;34m\u001b[0m\u001b[0;34m\u001b[0m\u001b[0m\n\u001b[1;32m     14\u001b[0m             \u001b[0;32mwith\u001b[0m \u001b[0mself\u001b[0m\u001b[0;34m:\u001b[0m\u001b[0;34m\u001b[0m\u001b[0;34m\u001b[0m\u001b[0m\n\u001b[0;32m---> 15\u001b[0;31m                 \u001b[0;32mreturn\u001b[0m \u001b[0mfunc\u001b[0m\u001b[0;34m(\u001b[0m\u001b[0;34m*\u001b[0m\u001b[0margs\u001b[0m\u001b[0;34m,\u001b[0m \u001b[0;34m**\u001b[0m\u001b[0mkwargs\u001b[0m\u001b[0;34m)\u001b[0m\u001b[0;34m\u001b[0m\u001b[0;34m\u001b[0m\u001b[0m\n\u001b[0m\u001b[1;32m     16\u001b[0m         \u001b[0;32mreturn\u001b[0m \u001b[0mdecorate_context\u001b[0m\u001b[0;34m\u001b[0m\u001b[0;34m\u001b[0m\u001b[0m\n\u001b[1;32m     17\u001b[0m \u001b[0;34m\u001b[0m\u001b[0m\n",
      "\u001b[0;32m~/scVI/scvi/inference/trainer.py\u001b[0m in \u001b[0;36mcompute_metrics\u001b[0;34m(self)\u001b[0m\n\u001b[1;32m    155\u001b[0m                                 \u001b[0mself\u001b[0m\u001b[0;34m.\u001b[0m\u001b[0mhistory\u001b[0m\u001b[0;34m[\u001b[0m\u001b[0mmetric\u001b[0m \u001b[0;34m+\u001b[0m \u001b[0;34m\"_\"\u001b[0m \u001b[0;34m+\u001b[0m \u001b[0mname\u001b[0m\u001b[0;34m]\u001b[0m \u001b[0;34m+=\u001b[0m \u001b[0;34m[\u001b[0m\u001b[0mresult\u001b[0m\u001b[0;34m]\u001b[0m\u001b[0;34m\u001b[0m\u001b[0;34m\u001b[0m\u001b[0m\n\u001b[1;32m    156\u001b[0m                     \u001b[0;32mfor\u001b[0m \u001b[0mmetric\u001b[0m \u001b[0;32min\u001b[0m \u001b[0mself\u001b[0m\u001b[0;34m.\u001b[0m\u001b[0mmetrics_to_monitor\u001b[0m\u001b[0;34m:\u001b[0m\u001b[0;34m\u001b[0m\u001b[0;34m\u001b[0m\u001b[0m\n\u001b[0;32m--> 157\u001b[0;31m                         \u001b[0mresult\u001b[0m \u001b[0;34m=\u001b[0m \u001b[0mgetattr\u001b[0m\u001b[0;34m(\u001b[0m\u001b[0mposterior\u001b[0m\u001b[0;34m,\u001b[0m \u001b[0mmetric\u001b[0m\u001b[0;34m)\u001b[0m\u001b[0;34m(\u001b[0m\u001b[0;34m)\u001b[0m\u001b[0;34m\u001b[0m\u001b[0;34m\u001b[0m\u001b[0m\n\u001b[0m\u001b[1;32m    158\u001b[0m                         \u001b[0mself\u001b[0m\u001b[0;34m.\u001b[0m\u001b[0mhistory\u001b[0m\u001b[0;34m[\u001b[0m\u001b[0mmetric\u001b[0m \u001b[0;34m+\u001b[0m \u001b[0;34m\"_\"\u001b[0m \u001b[0;34m+\u001b[0m \u001b[0mname\u001b[0m\u001b[0;34m]\u001b[0m \u001b[0;34m+=\u001b[0m \u001b[0;34m[\u001b[0m\u001b[0mresult\u001b[0m\u001b[0;34m]\u001b[0m\u001b[0;34m\u001b[0m\u001b[0;34m\u001b[0m\u001b[0m\n\u001b[1;32m    159\u001b[0m                 \u001b[0mself\u001b[0m\u001b[0;34m.\u001b[0m\u001b[0mmodel\u001b[0m\u001b[0;34m.\u001b[0m\u001b[0mtrain\u001b[0m\u001b[0;34m(\u001b[0m\u001b[0;34m)\u001b[0m\u001b[0;34m\u001b[0m\u001b[0;34m\u001b[0m\u001b[0m\n",
      "\u001b[0;32m~/anaconda3/envs/scvi/lib/python3.6/site-packages/torch/autograd/grad_mode.py\u001b[0m in \u001b[0;36mdecorate_context\u001b[0;34m(*args, **kwargs)\u001b[0m\n\u001b[1;32m     13\u001b[0m         \u001b[0;32mdef\u001b[0m \u001b[0mdecorate_context\u001b[0m\u001b[0;34m(\u001b[0m\u001b[0;34m*\u001b[0m\u001b[0margs\u001b[0m\u001b[0;34m,\u001b[0m \u001b[0;34m**\u001b[0m\u001b[0mkwargs\u001b[0m\u001b[0;34m)\u001b[0m\u001b[0;34m:\u001b[0m\u001b[0;34m\u001b[0m\u001b[0;34m\u001b[0m\u001b[0m\n\u001b[1;32m     14\u001b[0m             \u001b[0;32mwith\u001b[0m \u001b[0mself\u001b[0m\u001b[0;34m:\u001b[0m\u001b[0;34m\u001b[0m\u001b[0;34m\u001b[0m\u001b[0m\n\u001b[0;32m---> 15\u001b[0;31m                 \u001b[0;32mreturn\u001b[0m \u001b[0mfunc\u001b[0m\u001b[0;34m(\u001b[0m\u001b[0;34m*\u001b[0m\u001b[0margs\u001b[0m\u001b[0;34m,\u001b[0m \u001b[0;34m**\u001b[0m\u001b[0mkwargs\u001b[0m\u001b[0;34m)\u001b[0m\u001b[0;34m\u001b[0m\u001b[0;34m\u001b[0m\u001b[0m\n\u001b[0m\u001b[1;32m     16\u001b[0m         \u001b[0;32mreturn\u001b[0m \u001b[0mdecorate_context\u001b[0m\u001b[0;34m\u001b[0m\u001b[0;34m\u001b[0m\u001b[0m\n\u001b[1;32m     17\u001b[0m \u001b[0;34m\u001b[0m\u001b[0m\n",
      "\u001b[0;32m~/scVI/scvi/inference/posterior.py\u001b[0m in \u001b[0;36melbo\u001b[0;34m(self)\u001b[0m\n\u001b[1;32m    267\u001b[0m     \u001b[0;32mdef\u001b[0m \u001b[0melbo\u001b[0m\u001b[0;34m(\u001b[0m\u001b[0mself\u001b[0m\u001b[0;34m)\u001b[0m \u001b[0;34m->\u001b[0m \u001b[0mtorch\u001b[0m\u001b[0;34m.\u001b[0m\u001b[0mTensor\u001b[0m\u001b[0;34m:\u001b[0m\u001b[0;34m\u001b[0m\u001b[0;34m\u001b[0m\u001b[0m\n\u001b[1;32m    268\u001b[0m         \u001b[0;34m\"\"\"Returns the Evidence Lower Bound associated to the object.\"\"\"\u001b[0m\u001b[0;34m\u001b[0m\u001b[0;34m\u001b[0m\u001b[0m\n\u001b[0;32m--> 269\u001b[0;31m         \u001b[0melbo\u001b[0m \u001b[0;34m=\u001b[0m \u001b[0mcompute_elbo\u001b[0m\u001b[0;34m(\u001b[0m\u001b[0mself\u001b[0m\u001b[0;34m.\u001b[0m\u001b[0mmodel\u001b[0m\u001b[0;34m,\u001b[0m \u001b[0mself\u001b[0m\u001b[0;34m)\u001b[0m\u001b[0;34m\u001b[0m\u001b[0;34m\u001b[0m\u001b[0m\n\u001b[0m\u001b[1;32m    270\u001b[0m         \u001b[0mlogger\u001b[0m\u001b[0;34m.\u001b[0m\u001b[0mdebug\u001b[0m\u001b[0;34m(\u001b[0m\u001b[0;34m\"ELBO : %.4f\"\u001b[0m \u001b[0;34m%\u001b[0m \u001b[0melbo\u001b[0m\u001b[0;34m)\u001b[0m\u001b[0;34m\u001b[0m\u001b[0;34m\u001b[0m\u001b[0m\n\u001b[1;32m    271\u001b[0m         \u001b[0;32mreturn\u001b[0m \u001b[0melbo\u001b[0m\u001b[0;34m\u001b[0m\u001b[0;34m\u001b[0m\u001b[0m\n",
      "\u001b[0;32m~/scVI/scvi/models/log_likelihood.py\u001b[0m in \u001b[0;36mcompute_elbo\u001b[0;34m(vae, posterior, **kwargs)\u001b[0m\n\u001b[1;32m     21\u001b[0m     \u001b[0;31m# Iterate once over the posterior and compute the elbo\u001b[0m\u001b[0;34m\u001b[0m\u001b[0;34m\u001b[0m\u001b[0;34m\u001b[0m\u001b[0m\n\u001b[1;32m     22\u001b[0m     \u001b[0melbo\u001b[0m \u001b[0;34m=\u001b[0m \u001b[0;36m0\u001b[0m\u001b[0;34m\u001b[0m\u001b[0;34m\u001b[0m\u001b[0m\n\u001b[0;32m---> 23\u001b[0;31m     \u001b[0;32mfor\u001b[0m \u001b[0mi_batch\u001b[0m\u001b[0;34m,\u001b[0m \u001b[0mtensors\u001b[0m \u001b[0;32min\u001b[0m \u001b[0menumerate\u001b[0m\u001b[0;34m(\u001b[0m\u001b[0mposterior\u001b[0m\u001b[0;34m)\u001b[0m\u001b[0;34m:\u001b[0m\u001b[0;34m\u001b[0m\u001b[0;34m\u001b[0m\u001b[0m\n\u001b[0m\u001b[1;32m     24\u001b[0m         \u001b[0mprint\u001b[0m\u001b[0;34m(\u001b[0m\u001b[0mtensors\u001b[0m\u001b[0;34m)\u001b[0m\u001b[0;34m\u001b[0m\u001b[0;34m\u001b[0m\u001b[0m\n\u001b[1;32m     25\u001b[0m         \u001b[0mpdb\u001b[0m\u001b[0;34m.\u001b[0m\u001b[0mset_trace\u001b[0m\u001b[0;34m(\u001b[0m\u001b[0;34m)\u001b[0m\u001b[0;34m\u001b[0m\u001b[0;34m\u001b[0m\u001b[0m\n",
      "\u001b[0;32m~/anaconda3/envs/scvi/lib/python3.6/site-packages/torch/utils/data/dataloader.py\u001b[0m in \u001b[0;36m__next__\u001b[0;34m(self)\u001b[0m\n\u001b[1;32m    343\u001b[0m \u001b[0;34m\u001b[0m\u001b[0m\n\u001b[1;32m    344\u001b[0m     \u001b[0;32mdef\u001b[0m \u001b[0m__next__\u001b[0m\u001b[0;34m(\u001b[0m\u001b[0mself\u001b[0m\u001b[0;34m)\u001b[0m\u001b[0;34m:\u001b[0m\u001b[0;34m\u001b[0m\u001b[0;34m\u001b[0m\u001b[0m\n\u001b[0;32m--> 345\u001b[0;31m         \u001b[0mdata\u001b[0m \u001b[0;34m=\u001b[0m \u001b[0mself\u001b[0m\u001b[0;34m.\u001b[0m\u001b[0m_next_data\u001b[0m\u001b[0;34m(\u001b[0m\u001b[0;34m)\u001b[0m\u001b[0;34m\u001b[0m\u001b[0;34m\u001b[0m\u001b[0m\n\u001b[0m\u001b[1;32m    346\u001b[0m         \u001b[0mself\u001b[0m\u001b[0;34m.\u001b[0m\u001b[0m_num_yielded\u001b[0m \u001b[0;34m+=\u001b[0m \u001b[0;36m1\u001b[0m\u001b[0;34m\u001b[0m\u001b[0;34m\u001b[0m\u001b[0m\n\u001b[1;32m    347\u001b[0m         \u001b[0;32mif\u001b[0m \u001b[0mself\u001b[0m\u001b[0;34m.\u001b[0m\u001b[0m_dataset_kind\u001b[0m \u001b[0;34m==\u001b[0m \u001b[0m_DatasetKind\u001b[0m\u001b[0;34m.\u001b[0m\u001b[0mIterable\u001b[0m \u001b[0;32mand\u001b[0m\u001b[0;31m \u001b[0m\u001b[0;31m\\\u001b[0m\u001b[0;34m\u001b[0m\u001b[0;34m\u001b[0m\u001b[0m\n",
      "\u001b[0;32m~/anaconda3/envs/scvi/lib/python3.6/site-packages/torch/utils/data/dataloader.py\u001b[0m in \u001b[0;36m_next_data\u001b[0;34m(self)\u001b[0m\n\u001b[1;32m    383\u001b[0m     \u001b[0;32mdef\u001b[0m \u001b[0m_next_data\u001b[0m\u001b[0;34m(\u001b[0m\u001b[0mself\u001b[0m\u001b[0;34m)\u001b[0m\u001b[0;34m:\u001b[0m\u001b[0;34m\u001b[0m\u001b[0;34m\u001b[0m\u001b[0m\n\u001b[1;32m    384\u001b[0m         \u001b[0mindex\u001b[0m \u001b[0;34m=\u001b[0m \u001b[0mself\u001b[0m\u001b[0;34m.\u001b[0m\u001b[0m_next_index\u001b[0m\u001b[0;34m(\u001b[0m\u001b[0;34m)\u001b[0m  \u001b[0;31m# may raise StopIteration\u001b[0m\u001b[0;34m\u001b[0m\u001b[0;34m\u001b[0m\u001b[0m\n\u001b[0;32m--> 385\u001b[0;31m         \u001b[0mdata\u001b[0m \u001b[0;34m=\u001b[0m \u001b[0mself\u001b[0m\u001b[0;34m.\u001b[0m\u001b[0m_dataset_fetcher\u001b[0m\u001b[0;34m.\u001b[0m\u001b[0mfetch\u001b[0m\u001b[0;34m(\u001b[0m\u001b[0mindex\u001b[0m\u001b[0;34m)\u001b[0m  \u001b[0;31m# may raise StopIteration\u001b[0m\u001b[0;34m\u001b[0m\u001b[0;34m\u001b[0m\u001b[0m\n\u001b[0m\u001b[1;32m    386\u001b[0m         \u001b[0;32mif\u001b[0m \u001b[0mself\u001b[0m\u001b[0;34m.\u001b[0m\u001b[0m_pin_memory\u001b[0m\u001b[0;34m:\u001b[0m\u001b[0;34m\u001b[0m\u001b[0;34m\u001b[0m\u001b[0m\n\u001b[1;32m    387\u001b[0m             \u001b[0mdata\u001b[0m \u001b[0;34m=\u001b[0m \u001b[0m_utils\u001b[0m\u001b[0;34m.\u001b[0m\u001b[0mpin_memory\u001b[0m\u001b[0;34m.\u001b[0m\u001b[0mpin_memory\u001b[0m\u001b[0;34m(\u001b[0m\u001b[0mdata\u001b[0m\u001b[0;34m)\u001b[0m\u001b[0;34m\u001b[0m\u001b[0;34m\u001b[0m\u001b[0m\n",
      "\u001b[0;32m~/anaconda3/envs/scvi/lib/python3.6/site-packages/torch/utils/data/_utils/fetch.py\u001b[0m in \u001b[0;36mfetch\u001b[0;34m(self, possibly_batched_index)\u001b[0m\n\u001b[1;32m     45\u001b[0m         \u001b[0;32melse\u001b[0m\u001b[0;34m:\u001b[0m\u001b[0;34m\u001b[0m\u001b[0;34m\u001b[0m\u001b[0m\n\u001b[1;32m     46\u001b[0m             \u001b[0mdata\u001b[0m \u001b[0;34m=\u001b[0m \u001b[0mself\u001b[0m\u001b[0;34m.\u001b[0m\u001b[0mdataset\u001b[0m\u001b[0;34m[\u001b[0m\u001b[0mpossibly_batched_index\u001b[0m\u001b[0;34m]\u001b[0m\u001b[0;34m\u001b[0m\u001b[0;34m\u001b[0m\u001b[0m\n\u001b[0;32m---> 47\u001b[0;31m         \u001b[0;32mreturn\u001b[0m \u001b[0mself\u001b[0m\u001b[0;34m.\u001b[0m\u001b[0mcollate_fn\u001b[0m\u001b[0;34m(\u001b[0m\u001b[0mdata\u001b[0m\u001b[0;34m)\u001b[0m\u001b[0;34m\u001b[0m\u001b[0;34m\u001b[0m\u001b[0m\n\u001b[0m",
      "\u001b[0;32m~/anaconda3/envs/scvi/lib/python3.6/site-packages/torch/utils/data/_utils/collate.py\u001b[0m in \u001b[0;36mdefault_collate\u001b[0;34m(batch)\u001b[0m\n\u001b[1;32m     77\u001b[0m     \u001b[0;32melif\u001b[0m \u001b[0misinstance\u001b[0m\u001b[0;34m(\u001b[0m\u001b[0melem\u001b[0m\u001b[0;34m,\u001b[0m \u001b[0mcontainer_abcs\u001b[0m\u001b[0;34m.\u001b[0m\u001b[0mSequence\u001b[0m\u001b[0;34m)\u001b[0m\u001b[0;34m:\u001b[0m\u001b[0;34m\u001b[0m\u001b[0;34m\u001b[0m\u001b[0m\n\u001b[1;32m     78\u001b[0m         \u001b[0mtransposed\u001b[0m \u001b[0;34m=\u001b[0m \u001b[0mzip\u001b[0m\u001b[0;34m(\u001b[0m\u001b[0;34m*\u001b[0m\u001b[0mbatch\u001b[0m\u001b[0;34m)\u001b[0m\u001b[0;34m\u001b[0m\u001b[0;34m\u001b[0m\u001b[0m\n\u001b[0;32m---> 79\u001b[0;31m         \u001b[0;32mreturn\u001b[0m \u001b[0;34m[\u001b[0m\u001b[0mdefault_collate\u001b[0m\u001b[0;34m(\u001b[0m\u001b[0msamples\u001b[0m\u001b[0;34m)\u001b[0m \u001b[0;32mfor\u001b[0m \u001b[0msamples\u001b[0m \u001b[0;32min\u001b[0m \u001b[0mtransposed\u001b[0m\u001b[0;34m]\u001b[0m\u001b[0;34m\u001b[0m\u001b[0;34m\u001b[0m\u001b[0m\n\u001b[0m\u001b[1;32m     80\u001b[0m \u001b[0;34m\u001b[0m\u001b[0m\n\u001b[1;32m     81\u001b[0m     \u001b[0;32mraise\u001b[0m \u001b[0mTypeError\u001b[0m\u001b[0;34m(\u001b[0m\u001b[0mdefault_collate_err_msg_format\u001b[0m\u001b[0;34m.\u001b[0m\u001b[0mformat\u001b[0m\u001b[0;34m(\u001b[0m\u001b[0melem_type\u001b[0m\u001b[0;34m)\u001b[0m\u001b[0;34m)\u001b[0m\u001b[0;34m\u001b[0m\u001b[0;34m\u001b[0m\u001b[0m\n",
      "\u001b[0;32m~/anaconda3/envs/scvi/lib/python3.6/site-packages/torch/utils/data/_utils/collate.py\u001b[0m in \u001b[0;36m<listcomp>\u001b[0;34m(.0)\u001b[0m\n\u001b[1;32m     77\u001b[0m     \u001b[0;32melif\u001b[0m \u001b[0misinstance\u001b[0m\u001b[0;34m(\u001b[0m\u001b[0melem\u001b[0m\u001b[0;34m,\u001b[0m \u001b[0mcontainer_abcs\u001b[0m\u001b[0;34m.\u001b[0m\u001b[0mSequence\u001b[0m\u001b[0;34m)\u001b[0m\u001b[0;34m:\u001b[0m\u001b[0;34m\u001b[0m\u001b[0;34m\u001b[0m\u001b[0m\n\u001b[1;32m     78\u001b[0m         \u001b[0mtransposed\u001b[0m \u001b[0;34m=\u001b[0m \u001b[0mzip\u001b[0m\u001b[0;34m(\u001b[0m\u001b[0;34m*\u001b[0m\u001b[0mbatch\u001b[0m\u001b[0;34m)\u001b[0m\u001b[0;34m\u001b[0m\u001b[0;34m\u001b[0m\u001b[0m\n\u001b[0;32m---> 79\u001b[0;31m         \u001b[0;32mreturn\u001b[0m \u001b[0;34m[\u001b[0m\u001b[0mdefault_collate\u001b[0m\u001b[0;34m(\u001b[0m\u001b[0msamples\u001b[0m\u001b[0;34m)\u001b[0m \u001b[0;32mfor\u001b[0m \u001b[0msamples\u001b[0m \u001b[0;32min\u001b[0m \u001b[0mtransposed\u001b[0m\u001b[0;34m]\u001b[0m\u001b[0;34m\u001b[0m\u001b[0;34m\u001b[0m\u001b[0m\n\u001b[0m\u001b[1;32m     80\u001b[0m \u001b[0;34m\u001b[0m\u001b[0m\n\u001b[1;32m     81\u001b[0m     \u001b[0;32mraise\u001b[0m \u001b[0mTypeError\u001b[0m\u001b[0;34m(\u001b[0m\u001b[0mdefault_collate_err_msg_format\u001b[0m\u001b[0;34m.\u001b[0m\u001b[0mformat\u001b[0m\u001b[0;34m(\u001b[0m\u001b[0melem_type\u001b[0m\u001b[0;34m)\u001b[0m\u001b[0;34m)\u001b[0m\u001b[0;34m\u001b[0m\u001b[0;34m\u001b[0m\u001b[0m\n",
      "\u001b[0;32m~/anaconda3/envs/scvi/lib/python3.6/site-packages/torch/utils/data/_utils/collate.py\u001b[0m in \u001b[0;36mdefault_collate\u001b[0;34m(batch)\u001b[0m\n\u001b[1;32m     64\u001b[0m             \u001b[0;32mreturn\u001b[0m \u001b[0mdefault_collate\u001b[0m\u001b[0;34m(\u001b[0m\u001b[0;34m[\u001b[0m\u001b[0mtorch\u001b[0m\u001b[0;34m.\u001b[0m\u001b[0mas_tensor\u001b[0m\u001b[0;34m(\u001b[0m\u001b[0mb\u001b[0m\u001b[0;34m)\u001b[0m \u001b[0;32mfor\u001b[0m \u001b[0mb\u001b[0m \u001b[0;32min\u001b[0m \u001b[0mbatch\u001b[0m\u001b[0;34m]\u001b[0m\u001b[0;34m)\u001b[0m\u001b[0;34m\u001b[0m\u001b[0;34m\u001b[0m\u001b[0m\n\u001b[1;32m     65\u001b[0m         \u001b[0;32melif\u001b[0m \u001b[0melem\u001b[0m\u001b[0;34m.\u001b[0m\u001b[0mshape\u001b[0m \u001b[0;34m==\u001b[0m \u001b[0;34m(\u001b[0m\u001b[0;34m)\u001b[0m\u001b[0;34m:\u001b[0m  \u001b[0;31m# scalars\u001b[0m\u001b[0;34m\u001b[0m\u001b[0;34m\u001b[0m\u001b[0m\n\u001b[0;32m---> 66\u001b[0;31m             \u001b[0;32mreturn\u001b[0m \u001b[0mtorch\u001b[0m\u001b[0;34m.\u001b[0m\u001b[0mas_tensor\u001b[0m\u001b[0;34m(\u001b[0m\u001b[0mbatch\u001b[0m\u001b[0;34m)\u001b[0m\u001b[0;34m\u001b[0m\u001b[0;34m\u001b[0m\u001b[0m\n\u001b[0m\u001b[1;32m     67\u001b[0m     \u001b[0;32melif\u001b[0m \u001b[0misinstance\u001b[0m\u001b[0;34m(\u001b[0m\u001b[0melem\u001b[0m\u001b[0;34m,\u001b[0m \u001b[0mfloat\u001b[0m\u001b[0;34m)\u001b[0m\u001b[0;34m:\u001b[0m\u001b[0;34m\u001b[0m\u001b[0;34m\u001b[0m\u001b[0m\n\u001b[1;32m     68\u001b[0m         \u001b[0;32mreturn\u001b[0m \u001b[0mtorch\u001b[0m\u001b[0;34m.\u001b[0m\u001b[0mtensor\u001b[0m\u001b[0;34m(\u001b[0m\u001b[0mbatch\u001b[0m\u001b[0;34m,\u001b[0m \u001b[0mdtype\u001b[0m\u001b[0;34m=\u001b[0m\u001b[0mtorch\u001b[0m\u001b[0;34m.\u001b[0m\u001b[0mfloat64\u001b[0m\u001b[0;34m)\u001b[0m\u001b[0;34m\u001b[0m\u001b[0;34m\u001b[0m\u001b[0m\n",
      "\u001b[0;31mTypeError\u001b[0m: can't convert np.ndarray of type numpy.uint16. The only supported types are: float64, float32, float16, int64, int32, int16, int8, uint8, and bool."
     ]
    }
   ],
   "source": []
  },
  {
   "cell_type": "code",
   "execution_count": null,
   "metadata": {},
   "outputs": [],
   "source": []
  }
 ],
 "metadata": {
  "kernelspec": {
   "display_name": "Python scvi",
   "language": "python",
   "name": "scvi"
  },
  "language_info": {
   "codemirror_mode": {
    "name": "ipython",
    "version": 3
   },
   "file_extension": ".py",
   "mimetype": "text/x-python",
   "name": "python",
   "nbconvert_exporter": "python",
   "pygments_lexer": "ipython3",
   "version": "3.6.10"
  }
 },
 "nbformat": 4,
 "nbformat_minor": 2
}
