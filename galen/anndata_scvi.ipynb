{
 "cells": [
  {
   "cell_type": "code",
   "execution_count": 1,
   "metadata": {},
   "outputs": [],
   "source": [
    "%load_ext autoreload\n",
    "%autoreload 2\n",
    "%aimport anndata\n",
    "%aimport os\n",
    "%aimport torch\n",
    "import numpy as np\n",
    "import pandas as pd\n",
    "import scipy as sp\n",
    "import matplotlib.pyplot as plt\n",
    "from typing import Dict, Union, List, Tuple\n",
    "from torch.utils.data import Dataset\n",
    "# Control UMAP numba warnings\n",
    "import warnings; warnings.simplefilter('ignore')\n",
    "import copy\n",
    "import scvi\n",
    "\n",
    "# from scvi.dataset.cortex import CortexDataset\n",
    "from scvi.models import VAE\n",
    "from scvi.inference import UnsupervisedTrainer, load_posterior\n",
    "from scvi import set_seed\n",
    "from scvi.dataset import setup_anndata\n",
    "\n",
    "#STUFF THAT I MESSED AROUND WITH\n",
    "# from BioDataset import BioDataset\n",
    "# from constants import X_KEY, BATCH_KEY, LOCAL_L_MEAN_KEY, LOCAL_L_VAR_KEY, LABELS_KEY\n",
    "\n",
    "# Sets torch and numpy random seeds, run after all scvi imports\n",
    "set_seed(0)\n"
   ]
  },
  {
   "cell_type": "code",
   "execution_count": 2,
   "metadata": {},
   "outputs": [
    {
     "ename": "NameError",
     "evalue": "name 'CortexDataset' is not defined",
     "output_type": "error",
     "traceback": [
      "\u001b[0;31m---------------------------------------------------------------------------\u001b[0m",
      "\u001b[0;31mNameError\u001b[0m                                 Traceback (most recent call last)",
      "\u001b[0;32m<ipython-input-2-175838daafac>\u001b[0m in \u001b[0;36m<module>\u001b[0;34m\u001b[0m\n\u001b[1;32m      1\u001b[0m \u001b[0msave_path\u001b[0m \u001b[0;34m=\u001b[0m \u001b[0;34m\"data/\"\u001b[0m\u001b[0;34m\u001b[0m\u001b[0;34m\u001b[0m\u001b[0m\n\u001b[0;32m----> 2\u001b[0;31m \u001b[0mgene_dataset\u001b[0m \u001b[0;34m=\u001b[0m \u001b[0mCortexDataset\u001b[0m\u001b[0;34m(\u001b[0m\u001b[0msave_path\u001b[0m\u001b[0;34m=\u001b[0m\u001b[0msave_path\u001b[0m\u001b[0;34m,\u001b[0m \u001b[0mtotal_genes\u001b[0m\u001b[0;34m=\u001b[0m\u001b[0;32mNone\u001b[0m\u001b[0;34m)\u001b[0m\u001b[0;34m\u001b[0m\u001b[0;34m\u001b[0m\u001b[0m\n\u001b[0m\u001b[1;32m      3\u001b[0m \u001b[0mgene_dataset\u001b[0m\u001b[0;34m.\u001b[0m\u001b[0msubsample_genes\u001b[0m\u001b[0;34m(\u001b[0m\u001b[0;36m1000\u001b[0m\u001b[0;34m,\u001b[0m \u001b[0mmode\u001b[0m\u001b[0;34m=\u001b[0m\u001b[0;34m\"variance\"\u001b[0m\u001b[0;34m)\u001b[0m\u001b[0;34m\u001b[0m\u001b[0;34m\u001b[0m\u001b[0m\n\u001b[1;32m      4\u001b[0m \u001b[0mgene_dataset\u001b[0m\u001b[0;34m.\u001b[0m\u001b[0mmake_gene_names_lower\u001b[0m\u001b[0;34m(\u001b[0m\u001b[0;34m)\u001b[0m\u001b[0;34m\u001b[0m\u001b[0;34m\u001b[0m\u001b[0m\n",
      "\u001b[0;31mNameError\u001b[0m: name 'CortexDataset' is not defined"
     ]
    }
   ],
   "source": [
    "save_path = \"data/\"\n",
    "gene_dataset = CortexDataset(save_path=save_path, total_genes=None)\n",
    "gene_dataset.subsample_genes(1000, mode=\"variance\")\n",
    "gene_dataset.make_gene_names_lower()\n"
   ]
  },
  {
   "cell_type": "code",
   "execution_count": 3,
   "metadata": {},
   "outputs": [
    {
     "name": "stdout",
     "output_type": "stream",
     "text": [
      "[2020-06-29 20:37:32,210] WARNING - scvi.dataset._anndata | adata.layers[rawX] does not contain unnormalized count data. Are you sure this is what you want?\n",
      "[2020-06-29 20:37:32,210] INFO - scvi.dataset._anndata | Using data from adata.layers[\"rawX\"]\n",
      "[2020-06-29 20:37:32,211] INFO - scvi.dataset._anndata | No batch_key inputted, assuming all cells are same batch\n",
      "[2020-06-29 20:37:32,216] INFO - scvi.dataset._anndata | Using labels from adata.obs[\"precise_labels\"]\n",
      "[2020-06-29 20:37:32,218] INFO - scvi.dataset._anndata | Computing library size prior per batch\n",
      "[2020-06-29 20:37:32,227] INFO - scvi.dataset._anndata | Successfully registered anndata object containing 3005 cells, 1000 genes, and 1 batches \n",
      "Registered keys:['X', 'batch_indices', 'local_l_mean', 'local_l_var', 'labels']\n"
     ]
    }
   ],
   "source": [
    "adata = gene_dataset.to_anndata()\n",
    "\n",
    "adata.layers['rawX'] = adata.X /10\n",
    "adata.X = adata.X/10\n",
    "\n",
    "setup_anndata(adata,batch_key=None, labels_key = 'precise_labels',X_layers_key = 'rawX' )\n",
    "\n"
   ]
  },
  {
   "cell_type": "code",
   "execution_count": 4,
   "metadata": {},
   "outputs": [
    {
     "data": {
      "text/plain": [
       "{'X': ('layers', 'rawX'),\n",
       " 'batch_indices': ('_obs', '_scvi_batch'),\n",
       " 'local_l_mean': ('_obs', '_scvi_local_l_mean'),\n",
       " 'local_l_var': ('_obs', '_scvi_local_l_var'),\n",
       " 'labels': ('_obs', '_scvi_labels')}"
      ]
     },
     "execution_count": 4,
     "metadata": {},
     "output_type": "execute_result"
    }
   ],
   "source": [
    "adata.uns['scvi_data_registry']"
   ]
  },
  {
   "cell_type": "code",
   "execution_count": 5,
   "metadata": {},
   "outputs": [
    {
     "data": {
      "text/html": [
       "<div>\n",
       "<style scoped>\n",
       "    .dataframe tbody tr th:only-of-type {\n",
       "        vertical-align: middle;\n",
       "    }\n",
       "\n",
       "    .dataframe tbody tr th {\n",
       "        vertical-align: top;\n",
       "    }\n",
       "\n",
       "    .dataframe thead th {\n",
       "        text-align: right;\n",
       "    }\n",
       "</style>\n",
       "<table border=\"1\" class=\"dataframe\">\n",
       "  <thead>\n",
       "    <tr style=\"text-align: right;\">\n",
       "      <th></th>\n",
       "      <th>batch_indices</th>\n",
       "      <th>cell_types</th>\n",
       "      <th>precise_labels</th>\n",
       "      <th>_scvi_batch</th>\n",
       "      <th>_scvi_labels</th>\n",
       "      <th>_scvi_local_l_mean</th>\n",
       "      <th>_scvi_local_l_var</th>\n",
       "    </tr>\n",
       "  </thead>\n",
       "  <tbody>\n",
       "    <tr>\n",
       "      <th>0</th>\n",
       "      <td>0</td>\n",
       "      <td>interneurons</td>\n",
       "      <td>1</td>\n",
       "      <td>0</td>\n",
       "      <td>0</td>\n",
       "      <td>6.376017</td>\n",
       "      <td>0.445956</td>\n",
       "    </tr>\n",
       "    <tr>\n",
       "      <th>1</th>\n",
       "      <td>0</td>\n",
       "      <td>interneurons</td>\n",
       "      <td>1</td>\n",
       "      <td>0</td>\n",
       "      <td>0</td>\n",
       "      <td>6.376017</td>\n",
       "      <td>0.445956</td>\n",
       "    </tr>\n",
       "    <tr>\n",
       "      <th>2</th>\n",
       "      <td>0</td>\n",
       "      <td>interneurons</td>\n",
       "      <td>1</td>\n",
       "      <td>0</td>\n",
       "      <td>0</td>\n",
       "      <td>6.376017</td>\n",
       "      <td>0.445956</td>\n",
       "    </tr>\n",
       "    <tr>\n",
       "      <th>3</th>\n",
       "      <td>0</td>\n",
       "      <td>interneurons</td>\n",
       "      <td>1</td>\n",
       "      <td>0</td>\n",
       "      <td>0</td>\n",
       "      <td>6.376017</td>\n",
       "      <td>0.445956</td>\n",
       "    </tr>\n",
       "    <tr>\n",
       "      <th>4</th>\n",
       "      <td>0</td>\n",
       "      <td>interneurons</td>\n",
       "      <td>1</td>\n",
       "      <td>0</td>\n",
       "      <td>0</td>\n",
       "      <td>6.376017</td>\n",
       "      <td>0.445956</td>\n",
       "    </tr>\n",
       "    <tr>\n",
       "      <th>...</th>\n",
       "      <td>...</td>\n",
       "      <td>...</td>\n",
       "      <td>...</td>\n",
       "      <td>...</td>\n",
       "      <td>...</td>\n",
       "      <td>...</td>\n",
       "      <td>...</td>\n",
       "    </tr>\n",
       "    <tr>\n",
       "      <th>3000</th>\n",
       "      <td>0</td>\n",
       "      <td>endothelial-mural</td>\n",
       "      <td>9</td>\n",
       "      <td>0</td>\n",
       "      <td>8</td>\n",
       "      <td>6.376017</td>\n",
       "      <td>0.445956</td>\n",
       "    </tr>\n",
       "    <tr>\n",
       "      <th>3001</th>\n",
       "      <td>0</td>\n",
       "      <td>endothelial-mural</td>\n",
       "      <td>9</td>\n",
       "      <td>0</td>\n",
       "      <td>8</td>\n",
       "      <td>6.376017</td>\n",
       "      <td>0.445956</td>\n",
       "    </tr>\n",
       "    <tr>\n",
       "      <th>3002</th>\n",
       "      <td>0</td>\n",
       "      <td>endothelial-mural</td>\n",
       "      <td>9</td>\n",
       "      <td>0</td>\n",
       "      <td>8</td>\n",
       "      <td>6.376017</td>\n",
       "      <td>0.445956</td>\n",
       "    </tr>\n",
       "    <tr>\n",
       "      <th>3003</th>\n",
       "      <td>0</td>\n",
       "      <td>endothelial-mural</td>\n",
       "      <td>9</td>\n",
       "      <td>0</td>\n",
       "      <td>8</td>\n",
       "      <td>6.376017</td>\n",
       "      <td>0.445956</td>\n",
       "    </tr>\n",
       "    <tr>\n",
       "      <th>3004</th>\n",
       "      <td>0</td>\n",
       "      <td>endothelial-mural</td>\n",
       "      <td>9</td>\n",
       "      <td>0</td>\n",
       "      <td>8</td>\n",
       "      <td>6.376017</td>\n",
       "      <td>0.445956</td>\n",
       "    </tr>\n",
       "  </tbody>\n",
       "</table>\n",
       "<p>3005 rows × 7 columns</p>\n",
       "</div>"
      ],
      "text/plain": [
       "      batch_indices         cell_types precise_labels  _scvi_batch  \\\n",
       "0                 0       interneurons              1            0   \n",
       "1                 0       interneurons              1            0   \n",
       "2                 0       interneurons              1            0   \n",
       "3                 0       interneurons              1            0   \n",
       "4                 0       interneurons              1            0   \n",
       "...             ...                ...            ...          ...   \n",
       "3000              0  endothelial-mural              9            0   \n",
       "3001              0  endothelial-mural              9            0   \n",
       "3002              0  endothelial-mural              9            0   \n",
       "3003              0  endothelial-mural              9            0   \n",
       "3004              0  endothelial-mural              9            0   \n",
       "\n",
       "      _scvi_labels  _scvi_local_l_mean  _scvi_local_l_var  \n",
       "0                0            6.376017           0.445956  \n",
       "1                0            6.376017           0.445956  \n",
       "2                0            6.376017           0.445956  \n",
       "3                0            6.376017           0.445956  \n",
       "4                0            6.376017           0.445956  \n",
       "...            ...                 ...                ...  \n",
       "3000             8            6.376017           0.445956  \n",
       "3001             8            6.376017           0.445956  \n",
       "3002             8            6.376017           0.445956  \n",
       "3003             8            6.376017           0.445956  \n",
       "3004             8            6.376017           0.445956  \n",
       "\n",
       "[3005 rows x 7 columns]"
      ]
     },
     "execution_count": 5,
     "metadata": {},
     "output_type": "execute_result"
    }
   ],
   "source": [
    "adata.obs"
   ]
  },
  {
   "cell_type": "code",
   "execution_count": 6,
   "metadata": {},
   "outputs": [
    {
     "name": "stdout",
     "output_type": "stream",
     "text": [
      "[2020-06-29 20:37:32,366] WARNING - scvi.dataset._biodataset | Make sure the registered X field in anndata contains unnormalized count data.\n",
      "[2020-06-29 20:37:32,398] WARNING - scvi.dataset._biodataset | Make sure the registered X field in anndata contains unnormalized count data.\n",
      "[2020-06-29 20:37:32,430] WARNING - scvi.dataset._biodataset | Make sure the registered X field in anndata contains unnormalized count data.\n",
      "[2020-06-29 20:37:32,670] INFO - scvi.inference.inference | KL warmup for 2 epochs\n"
     ]
    },
    {
     "data": {
      "application/vnd.jupyter.widget-view+json": {
       "model_id": "d4e66150751e49f3998378ae8a3955b7",
       "version_major": 2,
       "version_minor": 0
      },
      "text/plain": [
       "HBox(children=(FloatProgress(value=0.0, description='training', max=2.0, style=ProgressStyle(description_width…"
      ]
     },
     "metadata": {},
     "output_type": "display_data"
    },
    {
     "name": "stdout",
     "output_type": "stream",
     "text": [
      "\n",
      "[2020-06-29 20:37:34,548] INFO - scvi.inference.inference | Training is still in warming up phase. If your applications rely on the posterior quality, consider training for more epochs or reducing the kl warmup.\n"
     ]
    }
   ],
   "source": [
    "n_epochs = 2\n",
    "lr = 1e-3\n",
    "use_cuda = True\n",
    "\n",
    "#nbatch, ngenes, nproteins\n",
    "vae = VAE(adata.shape[1], n_batch = adata.uns['scvi_summary_stats']['n_batch'])\n",
    "trainer = UnsupervisedTrainer(\n",
    "    vae,\n",
    "    adata,\n",
    "    train_size=0.90,\n",
    "    n_epochs_kl_warmup = 2,\n",
    "    use_cuda=use_cuda,\n",
    "    frequency=5,\n",
    ")\n",
    "trainer.train(n_epochs = n_epochs)"
   ]
  },
  {
   "cell_type": "code",
   "execution_count": 7,
   "metadata": {},
   "outputs": [
    {
     "name": "stdout",
     "output_type": "stream",
     "text": [
      "[2020-06-29 20:37:34,613] WARNING - scvi.dataset._biodataset | Make sure the registered X field in anndata contains unnormalized count data.\n"
     ]
    }
   ],
   "source": [
    "full = trainer.create_posterior(trainer.model, adata, indices=np.arange(len(gene_dataset)))\n",
    "\n",
    "# make sure we delete this\n",
    "full = full.update_batch_size(batch_size = 32)\n"
   ]
  },
  {
   "cell_type": "code",
   "execution_count": 8,
   "metadata": {},
   "outputs": [],
   "source": [
    "for i in enumerate(full):\n",
    "    pass"
   ]
  },
  {
   "cell_type": "code",
   "execution_count": 9,
   "metadata": {},
   "outputs": [],
   "source": [
    "latent, batch_indices, labels = full.sequential().get_latent()\n",
    "batch_indices = batch_indices.ravel()\n"
   ]
  },
  {
   "cell_type": "code",
   "execution_count": null,
   "metadata": {},
   "outputs": [],
   "source": [
    "adata"
   ]
  },
  {
   "cell_type": "code",
   "execution_count": 10,
   "metadata": {},
   "outputs": [
    {
     "data": {
      "text/plain": [
       "{'indices': array([   0,    1,    2, ..., 3002, 3003, 3004]),\n",
       " 'batch_size': 128,\n",
       " 'shuffle': False}"
      ]
     },
     "execution_count": 10,
     "metadata": {},
     "output_type": "execute_result"
    }
   ],
   "source": [
    "full.sampler_kwargs"
   ]
  },
  {
   "cell_type": "code",
   "execution_count": 11,
   "metadata": {},
   "outputs": [],
   "source": [
    "imputed_values = full.sequential().imputation()\n",
    "normalized_values = full.sequential().get_sample_scale()\n"
   ]
  },
  {
   "cell_type": "code",
   "execution_count": 12,
   "metadata": {},
   "outputs": [
    {
     "name": "stdout",
     "output_type": "stream",
     "text": [
      "['astrocytes_ependymal' 'endothelial-mural' 'interneurons' 'microglia'\n",
      " 'oligodendrocytes' 'pyramidal CA1' 'pyramidal SS']\n",
      "\n",
      "Differential Expression A/B for cell types\n",
      "A: oligodendrocytes\n",
      "B: pyramidal CA1\n",
      "\n"
     ]
    }
   ],
   "source": [
    "cell_types = gene_dataset.cell_types\n",
    "print(gene_dataset.cell_types)\n",
    "# oligodendrocytes (#4) VS pyramidal CA1 (#5)\n",
    "couple_celltypes = (4, 5)  # the couple types on which to study DE\n",
    "\n",
    "print(\"\\nDifferential Expression A/B for cell types\\nA: %s\\nB: %s\\n\" %\n",
    "      tuple((cell_types[couple_celltypes[i]] for i in [0, 1])))\n",
    "\n",
    "cell_idx1 = gene_dataset.labels.ravel() == couple_celltypes[0]\n",
    "cell_idx2 = gene_dataset.labels.ravel() == couple_celltypes[1]"
   ]
  },
  {
   "cell_type": "code",
   "execution_count": null,
   "metadata": {},
   "outputs": [],
   "source": [
    "n_samples = 100\n",
    "M_permutation = 100000\n",
    "de_res = full.differential_expression_score(\n",
    "    cell_idx1,\n",
    "    cell_idx2,\n",
    "    n_samples=n_samples,\n",
    "    M_permutation=M_permutation,\n",
    ")\n"
   ]
  },
  {
   "cell_type": "code",
   "execution_count": null,
   "metadata": {},
   "outputs": [],
   "source": [
    "de_res = full.differential_expression_score(\n",
    "    cell_idx1,\n",
    "    cell_idx2,\n",
    "    n_samples=n_samples,\n",
    "    M_permutation=M_permutation,\n",
    ")\n"
   ]
  },
  {
   "cell_type": "code",
   "execution_count": 31,
   "metadata": {},
   "outputs": [
    {
     "data": {
      "text/html": [
       "<div>\n",
       "<style scoped>\n",
       "    .dataframe tbody tr th:only-of-type {\n",
       "        vertical-align: middle;\n",
       "    }\n",
       "\n",
       "    .dataframe tbody tr th {\n",
       "        vertical-align: top;\n",
       "    }\n",
       "\n",
       "    .dataframe thead th {\n",
       "        text-align: right;\n",
       "    }\n",
       "</style>\n",
       "<table border=\"1\" class=\"dataframe\">\n",
       "  <thead>\n",
       "    <tr style=\"text-align: right;\">\n",
       "      <th></th>\n",
       "      <th>proba_m1</th>\n",
       "      <th>proba_m2</th>\n",
       "      <th>bayes_factor</th>\n",
       "      <th>scale1</th>\n",
       "      <th>scale2</th>\n",
       "      <th>raw_mean1</th>\n",
       "      <th>raw_mean2</th>\n",
       "      <th>non_zeros_proportion1</th>\n",
       "      <th>non_zeros_proportion2</th>\n",
       "      <th>raw_normalized_mean1</th>\n",
       "      <th>raw_normalized_mean2</th>\n",
       "    </tr>\n",
       "  </thead>\n",
       "  <tbody>\n",
       "    <tr>\n",
       "      <th>gm9846</th>\n",
       "      <td>1.0</td>\n",
       "      <td>0.0</td>\n",
       "      <td>18.420681</td>\n",
       "      <td>0.001378</td>\n",
       "      <td>0.000502</td>\n",
       "      <td>0.619513</td>\n",
       "      <td>0.225027</td>\n",
       "      <td>0.762195</td>\n",
       "      <td>0.742279</td>\n",
       "      <td>0.801017</td>\n",
       "      <td>0.257151</td>\n",
       "    </tr>\n",
       "    <tr>\n",
       "      <th>slc12a2</th>\n",
       "      <td>1.0</td>\n",
       "      <td>0.0</td>\n",
       "      <td>18.420681</td>\n",
       "      <td>0.001564</td>\n",
       "      <td>0.000380</td>\n",
       "      <td>0.798171</td>\n",
       "      <td>0.075612</td>\n",
       "      <td>0.981707</td>\n",
       "      <td>0.361022</td>\n",
       "      <td>1.391874</td>\n",
       "      <td>0.080037</td>\n",
       "    </tr>\n",
       "    <tr>\n",
       "      <th>xist</th>\n",
       "      <td>1.0</td>\n",
       "      <td>0.0</td>\n",
       "      <td>18.420681</td>\n",
       "      <td>0.001784</td>\n",
       "      <td>0.000700</td>\n",
       "      <td>0.791951</td>\n",
       "      <td>0.680192</td>\n",
       "      <td>0.500000</td>\n",
       "      <td>0.425985</td>\n",
       "      <td>1.392538</td>\n",
       "      <td>0.733878</td>\n",
       "    </tr>\n",
       "    <tr>\n",
       "      <th>slc48a1</th>\n",
       "      <td>1.0</td>\n",
       "      <td>0.0</td>\n",
       "      <td>18.420681</td>\n",
       "      <td>0.001400</td>\n",
       "      <td>0.000363</td>\n",
       "      <td>0.772805</td>\n",
       "      <td>0.179127</td>\n",
       "      <td>0.978049</td>\n",
       "      <td>0.694356</td>\n",
       "      <td>1.393235</td>\n",
       "      <td>0.187054</td>\n",
       "    </tr>\n",
       "    <tr>\n",
       "      <th>1810037i17rik</th>\n",
       "      <td>1.0</td>\n",
       "      <td>0.0</td>\n",
       "      <td>18.420681</td>\n",
       "      <td>0.001265</td>\n",
       "      <td>0.000340</td>\n",
       "      <td>0.657927</td>\n",
       "      <td>0.243770</td>\n",
       "      <td>0.970732</td>\n",
       "      <td>0.731629</td>\n",
       "      <td>1.125159</td>\n",
       "      <td>0.250510</td>\n",
       "    </tr>\n",
       "    <tr>\n",
       "      <th>...</th>\n",
       "      <td>...</td>\n",
       "      <td>...</td>\n",
       "      <td>...</td>\n",
       "      <td>...</td>\n",
       "      <td>...</td>\n",
       "      <td>...</td>\n",
       "      <td>...</td>\n",
       "      <td>...</td>\n",
       "      <td>...</td>\n",
       "      <td>...</td>\n",
       "      <td>...</td>\n",
       "    </tr>\n",
       "    <tr>\n",
       "      <th>rab3c</th>\n",
       "      <td>0.0</td>\n",
       "      <td>1.0</td>\n",
       "      <td>-18.420681</td>\n",
       "      <td>0.000674</td>\n",
       "      <td>0.001403</td>\n",
       "      <td>0.043293</td>\n",
       "      <td>0.701384</td>\n",
       "      <td>0.134146</td>\n",
       "      <td>0.959531</td>\n",
       "      <td>0.064294</td>\n",
       "      <td>0.762974</td>\n",
       "    </tr>\n",
       "    <tr>\n",
       "      <th>uchl1</th>\n",
       "      <td>0.0</td>\n",
       "      <td>1.0</td>\n",
       "      <td>-18.420681</td>\n",
       "      <td>0.000679</td>\n",
       "      <td>0.001244</td>\n",
       "      <td>0.074024</td>\n",
       "      <td>1.218105</td>\n",
       "      <td>0.293902</td>\n",
       "      <td>0.990415</td>\n",
       "      <td>0.111965</td>\n",
       "      <td>1.227371</td>\n",
       "    </tr>\n",
       "    <tr>\n",
       "      <th>tcf4</th>\n",
       "      <td>0.0</td>\n",
       "      <td>1.0</td>\n",
       "      <td>-18.420681</td>\n",
       "      <td>0.001076</td>\n",
       "      <td>0.002313</td>\n",
       "      <td>0.460245</td>\n",
       "      <td>2.303407</td>\n",
       "      <td>0.896341</td>\n",
       "      <td>1.000000</td>\n",
       "      <td>0.781284</td>\n",
       "      <td>2.560721</td>\n",
       "    </tr>\n",
       "    <tr>\n",
       "      <th>3110035e14rik</th>\n",
       "      <td>0.0</td>\n",
       "      <td>1.0</td>\n",
       "      <td>-18.420681</td>\n",
       "      <td>0.000698</td>\n",
       "      <td>0.001621</td>\n",
       "      <td>0.109268</td>\n",
       "      <td>1.768478</td>\n",
       "      <td>0.219512</td>\n",
       "      <td>0.991480</td>\n",
       "      <td>0.163012</td>\n",
       "      <td>1.890319</td>\n",
       "    </tr>\n",
       "    <tr>\n",
       "      <th>ngfrap1</th>\n",
       "      <td>0.0</td>\n",
       "      <td>1.0</td>\n",
       "      <td>-18.420681</td>\n",
       "      <td>0.000759</td>\n",
       "      <td>0.002177</td>\n",
       "      <td>0.131707</td>\n",
       "      <td>1.212034</td>\n",
       "      <td>0.468293</td>\n",
       "      <td>0.977636</td>\n",
       "      <td>0.201138</td>\n",
       "      <td>1.241469</td>\n",
       "    </tr>\n",
       "  </tbody>\n",
       "</table>\n",
       "<p>1000 rows × 11 columns</p>\n",
       "</div>"
      ],
      "text/plain": [
       "               proba_m1  proba_m2  bayes_factor    scale1    scale2  \\\n",
       "gm9846              1.0       0.0     18.420681  0.001378  0.000502   \n",
       "slc12a2             1.0       0.0     18.420681  0.001564  0.000380   \n",
       "xist                1.0       0.0     18.420681  0.001784  0.000700   \n",
       "slc48a1             1.0       0.0     18.420681  0.001400  0.000363   \n",
       "1810037i17rik       1.0       0.0     18.420681  0.001265  0.000340   \n",
       "...                 ...       ...           ...       ...       ...   \n",
       "rab3c               0.0       1.0    -18.420681  0.000674  0.001403   \n",
       "uchl1               0.0       1.0    -18.420681  0.000679  0.001244   \n",
       "tcf4                0.0       1.0    -18.420681  0.001076  0.002313   \n",
       "3110035e14rik       0.0       1.0    -18.420681  0.000698  0.001621   \n",
       "ngfrap1             0.0       1.0    -18.420681  0.000759  0.002177   \n",
       "\n",
       "               raw_mean1  raw_mean2  non_zeros_proportion1  \\\n",
       "gm9846          0.619513   0.225027               0.762195   \n",
       "slc12a2         0.798171   0.075612               0.981707   \n",
       "xist            0.791951   0.680192               0.500000   \n",
       "slc48a1         0.772805   0.179127               0.978049   \n",
       "1810037i17rik   0.657927   0.243770               0.970732   \n",
       "...                  ...        ...                    ...   \n",
       "rab3c           0.043293   0.701384               0.134146   \n",
       "uchl1           0.074024   1.218105               0.293902   \n",
       "tcf4            0.460245   2.303407               0.896341   \n",
       "3110035e14rik   0.109268   1.768478               0.219512   \n",
       "ngfrap1         0.131707   1.212034               0.468293   \n",
       "\n",
       "               non_zeros_proportion2  raw_normalized_mean1  \\\n",
       "gm9846                      0.742279              0.801017   \n",
       "slc12a2                     0.361022              1.391874   \n",
       "xist                        0.425985              1.392538   \n",
       "slc48a1                     0.694356              1.393235   \n",
       "1810037i17rik               0.731629              1.125159   \n",
       "...                              ...                   ...   \n",
       "rab3c                       0.959531              0.064294   \n",
       "uchl1                       0.990415              0.111965   \n",
       "tcf4                        1.000000              0.781284   \n",
       "3110035e14rik               0.991480              0.163012   \n",
       "ngfrap1                     0.977636              0.201138   \n",
       "\n",
       "               raw_normalized_mean2  \n",
       "gm9846                     0.257151  \n",
       "slc12a2                    0.080037  \n",
       "xist                       0.733878  \n",
       "slc48a1                    0.187054  \n",
       "1810037i17rik              0.250510  \n",
       "...                             ...  \n",
       "rab3c                      0.762974  \n",
       "uchl1                      1.227371  \n",
       "tcf4                       2.560721  \n",
       "3110035e14rik              1.890319  \n",
       "ngfrap1                    1.241469  \n",
       "\n",
       "[1000 rows x 11 columns]"
      ]
     },
     "execution_count": 31,
     "metadata": {},
     "output_type": "execute_result"
    }
   ],
   "source": [
    "de_res"
   ]
  },
  {
   "cell_type": "code",
   "execution_count": 32,
   "metadata": {},
   "outputs": [
    {
     "data": {
      "text/html": [
       "<div>\n",
       "<style scoped>\n",
       "    .dataframe tbody tr th:only-of-type {\n",
       "        vertical-align: middle;\n",
       "    }\n",
       "\n",
       "    .dataframe tbody tr th {\n",
       "        vertical-align: top;\n",
       "    }\n",
       "\n",
       "    .dataframe thead th {\n",
       "        text-align: right;\n",
       "    }\n",
       "</style>\n",
       "<table border=\"1\" class=\"dataframe\">\n",
       "  <thead>\n",
       "    <tr style=\"text-align: right;\">\n",
       "      <th></th>\n",
       "      <th>proba_m1</th>\n",
       "      <th>proba_m2</th>\n",
       "      <th>bayes_factor</th>\n",
       "      <th>scale1</th>\n",
       "      <th>scale2</th>\n",
       "      <th>raw_mean1</th>\n",
       "      <th>raw_mean2</th>\n",
       "      <th>non_zeros_proportion1</th>\n",
       "      <th>non_zeros_proportion2</th>\n",
       "      <th>raw_normalized_mean1</th>\n",
       "      <th>raw_normalized_mean2</th>\n",
       "    </tr>\n",
       "  </thead>\n",
       "  <tbody>\n",
       "    <tr>\n",
       "      <th>thy1</th>\n",
       "      <td>0.0</td>\n",
       "      <td>1.0</td>\n",
       "      <td>-18.420681</td>\n",
       "      <td>0.000573</td>\n",
       "      <td>0.001325</td>\n",
       "      <td>0.058902</td>\n",
       "      <td>1.356976</td>\n",
       "      <td>0.219512</td>\n",
       "      <td>0.996805</td>\n",
       "      <td>0.089729</td>\n",
       "      <td>1.444311</td>\n",
       "    </tr>\n",
       "    <tr>\n",
       "      <th>mbp</th>\n",
       "      <td>1.0</td>\n",
       "      <td>0.0</td>\n",
       "      <td>18.420681</td>\n",
       "      <td>0.004217</td>\n",
       "      <td>0.000814</td>\n",
       "      <td>5.531826</td>\n",
       "      <td>0.278701</td>\n",
       "      <td>0.998780</td>\n",
       "      <td>0.452609</td>\n",
       "      <td>8.840034</td>\n",
       "      <td>0.298456</td>\n",
       "    </tr>\n",
       "  </tbody>\n",
       "</table>\n",
       "</div>"
      ],
      "text/plain": [
       "      proba_m1  proba_m2  bayes_factor    scale1    scale2  raw_mean1  \\\n",
       "thy1       0.0       1.0    -18.420681  0.000573  0.001325   0.058902   \n",
       "mbp        1.0       0.0     18.420681  0.004217  0.000814   5.531826   \n",
       "\n",
       "      raw_mean2  non_zeros_proportion1  non_zeros_proportion2  \\\n",
       "thy1   1.356976               0.219512               0.996805   \n",
       "mbp    0.278701               0.998780               0.452609   \n",
       "\n",
       "      raw_normalized_mean1  raw_normalized_mean2  \n",
       "thy1              0.089729              1.444311  \n",
       "mbp               8.840034              0.298456  "
      ]
     },
     "execution_count": 32,
     "metadata": {},
     "output_type": "execute_result"
    }
   ],
   "source": [
    "genes_of_interest = [\"thy1\", \"mbp\"]\n",
    "de_res.filter(items=genes_of_interest, axis=0)"
   ]
  },
  {
   "cell_type": "code",
   "execution_count": 33,
   "metadata": {},
   "outputs": [
    {
     "data": {
      "application/vnd.jupyter.widget-view+json": {
       "model_id": "7c335ee2e69b4e31a2d18a1c0fbd48c6",
       "version_major": 2,
       "version_minor": 0
      },
      "text/plain": [
       "HBox(children=(FloatProgress(value=0.0, max=7.0), HTML(value='')))"
      ]
     },
     "metadata": {},
     "output_type": "display_data"
    },
    {
     "name": "stdout",
     "output_type": "stream",
     "text": [
      "\n"
     ]
    }
   ],
   "source": [
    "per_cluster_de, cluster_id = full.one_vs_all_degenes(cell_labels=gene_dataset.labels.ravel(), min_cells=1)\n",
    "\n",
    "markers = []\n",
    "for x in per_cluster_de:\n",
    "    markers.append(x[:10])\n",
    "markers = pd.concat(markers)\n",
    "\n",
    "genes = np.asarray(markers.index)\n",
    "expression = [x.filter(items=genes, axis=0)['raw_normalized_mean1'] for x in per_cluster_de]\n",
    "expression = pd.concat(expression, axis=1)\n",
    "expression = np.log10(1 + expression)\n",
    "expression.columns = gene_dataset.cell_types"
   ]
  },
  {
   "cell_type": "code",
   "execution_count": 34,
   "metadata": {},
   "outputs": [
    {
     "data": {
      "text/plain": [
       "<matplotlib.colorbar.Colorbar at 0x1486fbe80>"
      ]
     },
     "execution_count": 34,
     "metadata": {},
     "output_type": "execute_result"
    },
    {
     "data": {
      "image/png": "[encoded data removed]",
      "text/plain": [
       "<Figure size 1440x1440 with 2 Axes>"
      ]
     },
     "metadata": {
      "needs_background": "light"
     },
     "output_type": "display_data"
    }
   ],
   "source": [
    "%matplotlib inline\n",
    "plt.figure(figsize=(20, 20))\n",
    "im = plt.imshow(expression, cmap='viridis', interpolation='none', aspect='equal')\n",
    "ax = plt.gca()\n",
    "ax.set_xticks(np.arange(0, 7, 1))\n",
    "ax.set_xticklabels(gene_dataset.cell_types, rotation='vertical')\n",
    "ax.set_yticklabels(genes)\n",
    "ax.set_yticks(np.arange(0, 70, 1))\n",
    "ax.tick_params(labelsize=14)\n",
    "plt.colorbar(shrink=0.2)\n"
   ]
  },
  {
   "cell_type": "code",
   "execution_count": null,
   "metadata": {},
   "outputs": [],
   "source": []
  }
 ],
 "metadata": {
  "kernelspec": {
   "display_name": "Python scvi",
   "language": "python",
   "name": "scvi"
  },
  "language_info": {
   "codemirror_mode": {
    "name": "ipython",
    "version": 3
   },
   "file_extension": ".py",
   "mimetype": "text/x-python",
   "name": "python",
   "nbconvert_exporter": "python",
   "pygments_lexer": "ipython3",
   "version": "3.6.10"
  }
 },
 "nbformat": 4,
 "nbformat_minor": 2
}
