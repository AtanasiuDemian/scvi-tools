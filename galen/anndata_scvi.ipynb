{
 "cells": [
  {
   "cell_type": "code",
   "execution_count": 1,
   "metadata": {},
   "outputs": [],
   "source": [
    "%load_ext autoreload\n",
    "%autoreload 2\n",
    "%aimport anndata\n",
    "%aimport os\n",
    "%aimport torch\n",
    "import numpy as np\n",
    "import pandas as pd\n",
    "import scipy as sp\n",
    "import matplotlib.pyplot as plt\n",
    "from typing import Dict, Union, List, Tuple\n",
    "from torch.utils.data import Dataset\n",
    "# Control UMAP numba warnings\n",
    "import warnings; warnings.simplefilter('ignore')\n",
    "import copy\n",
    "import scvi\n",
    "from scvi.dataset import CortexDataset, RetinaDataset, CsvDataset\n",
    "from scvi.models import VAE\n",
    "from scvi.inference import UnsupervisedTrainer, load_posterior\n",
    "from scvi import set_seed\n",
    "from scvi.dataset.utils import setup_anndata\n",
    "\n",
    "#STUFF THAT I MESSED AROUND WITH\n",
    "# from BioDataset import BioDataset\n",
    "# from constants import X_KEY, BATCH_KEY, LOCAL_L_MEAN_KEY, LOCAL_L_VAR_KEY, LABELS_KEY\n",
    "\n",
    "# Sets torch and numpy random seeds, run after all scvi imports\n",
    "set_seed(0)\n"
   ]
  },
  {
   "cell_type": "code",
   "execution_count": 2,
   "metadata": {},
   "outputs": [
    {
     "name": "stdout",
     "output_type": "stream",
     "text": [
      "[2020-06-17 00:39:56,431] INFO - scvi.dataset.dataset | File /Users/galen/scVI/galen/data/expression.bin already downloaded\n",
      "[2020-06-17 00:39:56,433] INFO - scvi.dataset.cortex | Loading Cortex data\n",
      "[2020-06-17 00:40:05,005] INFO - scvi.dataset.cortex | Finished preprocessing Cortex data\n",
      "[2020-06-17 00:40:06,173] INFO - scvi.dataset.dataset | Remapping labels to [0,N]\n",
      "[2020-06-17 00:40:06,174] INFO - scvi.dataset.dataset | Remapping batch_indices to [0,N]\n",
      "[2020-06-17 00:40:08,003] INFO - scvi.dataset.dataset | Downsampling from 19972 to 1000 genes\n",
      "[2020-06-17 00:40:08,124] INFO - scvi.dataset.dataset | Computing the library size for the new data\n",
      "[2020-06-17 00:40:08,136] INFO - scvi.dataset.dataset | Filtering non-expressing cells.\n",
      "[2020-06-17 00:40:08,204] INFO - scvi.dataset.dataset | Computing the library size for the new data\n",
      "[2020-06-17 00:40:08,209] INFO - scvi.dataset.dataset | Downsampled from 3005 to 3005 cells\n",
      "[2020-06-17 00:40:08,219] INFO - scvi.dataset.dataset | Making gene names lower case\n"
     ]
    }
   ],
   "source": [
    "save_path = \"data/\"\n",
    "gene_dataset = CortexDataset(save_path=save_path, total_genes=None)\n",
    "gene_dataset.subsample_genes(1000, mode=\"variance\")\n",
    "gene_dataset.make_gene_names_lower()\n",
    "\n",
    "adata = gene_dataset.to_anndata()\n",
    "setup_anndata(adata,batch_key='batch_indices', labels_key = 'precise_labels' )"
   ]
  },
  {
   "cell_type": "code",
   "execution_count": 4,
   "metadata": {},
   "outputs": [
    {
     "name": "stdout",
     "output_type": "stream",
     "text": [
      "[2020-06-17 00:40:22,988] INFO - scvi.dataset.utils | Using data from adata.X\n",
      "[2020-06-17 00:40:22,989] INFO - scvi.dataset.utils | Using batches from adata.obs[\"batch_indices\"]\n",
      "[2020-06-17 00:40:22,990] INFO - scvi.dataset.utils | Using labels from adata.obs[\"precise_labels\"]\n",
      "[2020-06-17 00:40:23,005] INFO - scvi.dataset.utils | Calculating log mean and log variance per batch\n",
      "[2020-06-17 00:40:23,021] INFO - scvi.dataset.utils | Successfully registered anndata object containing 3005 cells, 1000 genes, and 1 batches \n",
      "Registered keys:['X', 'batch_indices', 'local_l_mean', 'local_l_var', 'labels']\n"
     ]
    }
   ],
   "source": [
    "adata = gene_dataset.to_anndata()\n",
    "setup_anndata(adata,batch_key='batch_indices', labels_key = 'precise_labels' )\n"
   ]
  },
  {
   "cell_type": "code",
   "execution_count": 5,
   "metadata": {},
   "outputs": [
    {
     "data": {
      "text/plain": [
       "{'X': (None, 'X'),\n",
       " 'batch_indices': ('obs', 'batch_indices'),\n",
       " 'local_l_mean': ('obs', '_scvi_local_l_mean'),\n",
       " 'local_l_var': ('obs', '_scvi_local_l_var'),\n",
       " 'labels': ('obs', '_scvi_labels')}"
      ]
     },
     "execution_count": 5,
     "metadata": {},
     "output_type": "execute_result"
    }
   ],
   "source": [
    "adata.uns['scvi_data_registry']"
   ]
  },
  {
   "cell_type": "code",
   "execution_count": 6,
   "metadata": {},
   "outputs": [
    {
     "name": "stdout",
     "output_type": "stream",
     "text": [
      "[2020-06-17 00:40:37,784] INFO - scvi.inference.inference | KL warmup for 2 epochs\n"
     ]
    },
    {
     "data": {
      "application/vnd.jupyter.widget-view+json": {
       "model_id": "4e6396b4b9254487904732f4cf5e0cf4",
       "version_major": 2,
       "version_minor": 0
      },
      "text/plain": [
       "HBox(children=(FloatProgress(value=0.0, description='training', max=10.0, style=ProgressStyle(description_widt…"
      ]
     },
     "metadata": {},
     "output_type": "display_data"
    },
    {
     "name": "stdout",
     "output_type": "stream",
     "text": [
      "\n"
     ]
    }
   ],
   "source": [
    "n_epochs = 10\n",
    "lr = 1e-3\n",
    "use_cuda = True\n",
    "\n",
    "#nbatch, ngenes, nproteins\n",
    "vae = VAE(adata.shape[1], n_batch = adata.uns['scvi_summary_stats']['n_batch'])\n",
    "trainer = UnsupervisedTrainer(\n",
    "    vae,\n",
    "    adata,\n",
    "    train_size=0.90,\n",
    "    n_epochs_kl_warmup = 2,\n",
    "    use_cuda=use_cuda,\n",
    "    frequency=5,\n",
    ")\n",
    "trainer.train(n_epochs = n_epochs)"
   ]
  },
  {
   "cell_type": "code",
   "execution_count": 7,
   "metadata": {},
   "outputs": [],
   "source": [
    "full = trainer.create_posterior(trainer.model, adata, indices=np.arange(len(gene_dataset)))\n",
    "full = full.update({\"batch_size\":32})"
   ]
  },
  {
   "cell_type": "code",
   "execution_count": 10,
   "metadata": {},
   "outputs": [],
   "source": [
    "latent, batch_indices, labels = full.sequential().get_latent()\n",
    "batch_indices = batch_indices.ravel()"
   ]
  },
  {
   "cell_type": "code",
   "execution_count": 11,
   "metadata": {},
   "outputs": [],
   "source": [
    "imputed_values = full.sequential().imputation()\n",
    "normalized_values = full.sequential().get_sample_scale()"
   ]
  },
  {
   "cell_type": "code",
   "execution_count": 8,
   "metadata": {},
   "outputs": [
    {
     "name": "stdout",
     "output_type": "stream",
     "text": [
      "['astrocytes_ependymal' 'endothelial-mural' 'interneurons' 'microglia'\n",
      " 'oligodendrocytes' 'pyramidal CA1' 'pyramidal SS']\n",
      "\n",
      "Differential Expression A/B for cell types\n",
      "A: oligodendrocytes\n",
      "B: pyramidal CA1\n",
      "\n"
     ]
    }
   ],
   "source": [
    "cell_types = gene_dataset.cell_types\n",
    "print(gene_dataset.cell_types)\n",
    "# oligodendrocytes (#4) VS pyramidal CA1 (#5)\n",
    "couple_celltypes = (4, 5)  # the couple types on which to study DE\n",
    "\n",
    "print(\"\\nDifferential Expression A/B for cell types\\nA: %s\\nB: %s\\n\" %\n",
    "      tuple((cell_types[couple_celltypes[i]] for i in [0, 1])))\n",
    "\n",
    "cell_idx1 = gene_dataset.labels.ravel() == couple_celltypes[0]\n",
    "cell_idx2 = gene_dataset.labels.ravel() == couple_celltypes[1]"
   ]
  },
  {
   "cell_type": "code",
   "execution_count": 9,
   "metadata": {},
   "outputs": [],
   "source": [
    "n_samples = 100\n",
    "M_permutation = 100000"
   ]
  },
  {
   "cell_type": "code",
   "execution_count": 10,
   "metadata": {},
   "outputs": [],
   "source": [
    "de_res = full.differential_expression_score(\n",
    "    cell_idx1,\n",
    "    cell_idx2,\n",
    "    n_samples=n_samples,\n",
    "    M_permutation=M_permutation,\n",
    ")\n"
   ]
  },
  {
   "cell_type": "code",
   "execution_count": 11,
   "metadata": {},
   "outputs": [
    {
     "data": {
      "text/html": [
       "<div>\n",
       "<style scoped>\n",
       "    .dataframe tbody tr th:only-of-type {\n",
       "        vertical-align: middle;\n",
       "    }\n",
       "\n",
       "    .dataframe tbody tr th {\n",
       "        vertical-align: top;\n",
       "    }\n",
       "\n",
       "    .dataframe thead th {\n",
       "        text-align: right;\n",
       "    }\n",
       "</style>\n",
       "<table border=\"1\" class=\"dataframe\">\n",
       "  <thead>\n",
       "    <tr style=\"text-align: right;\">\n",
       "      <th></th>\n",
       "      <th>proba_m1</th>\n",
       "      <th>proba_m2</th>\n",
       "      <th>bayes_factor</th>\n",
       "      <th>scale1</th>\n",
       "      <th>scale2</th>\n",
       "      <th>raw_mean1</th>\n",
       "      <th>raw_mean2</th>\n",
       "      <th>non_zeros_proportion1</th>\n",
       "      <th>non_zeros_proportion2</th>\n",
       "      <th>raw_normalized_mean1</th>\n",
       "      <th>raw_normalized_mean2</th>\n",
       "    </tr>\n",
       "  </thead>\n",
       "  <tbody>\n",
       "    <tr>\n",
       "      <th>fabp5</th>\n",
       "      <td>1.0</td>\n",
       "      <td>0.0</td>\n",
       "      <td>18.420681</td>\n",
       "      <td>0.003008</td>\n",
       "      <td>0.000499</td>\n",
       "      <td>13.097561</td>\n",
       "      <td>3.468584</td>\n",
       "      <td>0.963415</td>\n",
       "      <td>0.802982</td>\n",
       "      <td>2.332166</td>\n",
       "      <td>0.348048</td>\n",
       "    </tr>\n",
       "    <tr>\n",
       "      <th>mobp</th>\n",
       "      <td>1.0</td>\n",
       "      <td>0.0</td>\n",
       "      <td>18.420681</td>\n",
       "      <td>0.004691</td>\n",
       "      <td>0.000218</td>\n",
       "      <td>30.704878</td>\n",
       "      <td>1.108626</td>\n",
       "      <td>0.993902</td>\n",
       "      <td>0.104366</td>\n",
       "      <td>4.990324</td>\n",
       "      <td>0.112512</td>\n",
       "    </tr>\n",
       "    <tr>\n",
       "      <th>gatm</th>\n",
       "      <td>1.0</td>\n",
       "      <td>0.0</td>\n",
       "      <td>18.420681</td>\n",
       "      <td>0.002664</td>\n",
       "      <td>0.000118</td>\n",
       "      <td>12.093903</td>\n",
       "      <td>0.500533</td>\n",
       "      <td>0.976829</td>\n",
       "      <td>0.177849</td>\n",
       "      <td>2.062968</td>\n",
       "      <td>0.056258</td>\n",
       "    </tr>\n",
       "    <tr>\n",
       "      <th>slc38a2</th>\n",
       "      <td>1.0</td>\n",
       "      <td>0.0</td>\n",
       "      <td>18.420681</td>\n",
       "      <td>0.002861</td>\n",
       "      <td>0.000362</td>\n",
       "      <td>12.426829</td>\n",
       "      <td>1.995740</td>\n",
       "      <td>0.937805</td>\n",
       "      <td>0.697551</td>\n",
       "      <td>2.064762</td>\n",
       "      <td>0.219480</td>\n",
       "    </tr>\n",
       "    <tr>\n",
       "      <th>cd9</th>\n",
       "      <td>1.0</td>\n",
       "      <td>0.0</td>\n",
       "      <td>18.420681</td>\n",
       "      <td>0.003271</td>\n",
       "      <td>0.000219</td>\n",
       "      <td>17.135366</td>\n",
       "      <td>0.855165</td>\n",
       "      <td>0.973171</td>\n",
       "      <td>0.167199</td>\n",
       "      <td>2.610595</td>\n",
       "      <td>0.100151</td>\n",
       "    </tr>\n",
       "    <tr>\n",
       "      <th>...</th>\n",
       "      <td>...</td>\n",
       "      <td>...</td>\n",
       "      <td>...</td>\n",
       "      <td>...</td>\n",
       "      <td>...</td>\n",
       "      <td>...</td>\n",
       "      <td>...</td>\n",
       "      <td>...</td>\n",
       "      <td>...</td>\n",
       "      <td>...</td>\n",
       "      <td>...</td>\n",
       "    </tr>\n",
       "    <tr>\n",
       "      <th>3110035e14rik</th>\n",
       "      <td>0.0</td>\n",
       "      <td>1.0</td>\n",
       "      <td>-18.420681</td>\n",
       "      <td>0.000281</td>\n",
       "      <td>0.002257</td>\n",
       "      <td>1.092683</td>\n",
       "      <td>17.684771</td>\n",
       "      <td>0.219512</td>\n",
       "      <td>0.991480</td>\n",
       "      <td>0.163012</td>\n",
       "      <td>1.890319</td>\n",
       "    </tr>\n",
       "    <tr>\n",
       "      <th>tspan13</th>\n",
       "      <td>0.0</td>\n",
       "      <td>1.0</td>\n",
       "      <td>-18.420681</td>\n",
       "      <td>0.000183</td>\n",
       "      <td>0.002378</td>\n",
       "      <td>0.531707</td>\n",
       "      <td>22.612354</td>\n",
       "      <td>0.193902</td>\n",
       "      <td>0.996805</td>\n",
       "      <td>0.081057</td>\n",
       "      <td>2.406704</td>\n",
       "    </tr>\n",
       "    <tr>\n",
       "      <th>slc8a1</th>\n",
       "      <td>0.0</td>\n",
       "      <td>1.0</td>\n",
       "      <td>-18.420681</td>\n",
       "      <td>0.000326</td>\n",
       "      <td>0.001883</td>\n",
       "      <td>1.060976</td>\n",
       "      <td>20.086262</td>\n",
       "      <td>0.352439</td>\n",
       "      <td>0.991480</td>\n",
       "      <td>0.174123</td>\n",
       "      <td>2.100040</td>\n",
       "    </tr>\n",
       "    <tr>\n",
       "      <th>pja2</th>\n",
       "      <td>0.0</td>\n",
       "      <td>1.0</td>\n",
       "      <td>-18.420681</td>\n",
       "      <td>0.000600</td>\n",
       "      <td>0.001854</td>\n",
       "      <td>2.174390</td>\n",
       "      <td>22.217253</td>\n",
       "      <td>0.669512</td>\n",
       "      <td>1.000000</td>\n",
       "      <td>0.340402</td>\n",
       "      <td>2.388140</td>\n",
       "    </tr>\n",
       "    <tr>\n",
       "      <th>rab3c</th>\n",
       "      <td>0.0</td>\n",
       "      <td>1.0</td>\n",
       "      <td>-18.420681</td>\n",
       "      <td>0.000128</td>\n",
       "      <td>0.000875</td>\n",
       "      <td>0.432927</td>\n",
       "      <td>7.013844</td>\n",
       "      <td>0.134146</td>\n",
       "      <td>0.959531</td>\n",
       "      <td>0.064294</td>\n",
       "      <td>0.762974</td>\n",
       "    </tr>\n",
       "  </tbody>\n",
       "</table>\n",
       "<p>1000 rows × 11 columns</p>\n",
       "</div>"
      ],
      "text/plain": [
       "               proba_m1  proba_m2  bayes_factor    scale1    scale2  \\\n",
       "fabp5               1.0       0.0     18.420681  0.003008  0.000499   \n",
       "mobp                1.0       0.0     18.420681  0.004691  0.000218   \n",
       "gatm                1.0       0.0     18.420681  0.002664  0.000118   \n",
       "slc38a2             1.0       0.0     18.420681  0.002861  0.000362   \n",
       "cd9                 1.0       0.0     18.420681  0.003271  0.000219   \n",
       "...                 ...       ...           ...       ...       ...   \n",
       "3110035e14rik       0.0       1.0    -18.420681  0.000281  0.002257   \n",
       "tspan13             0.0       1.0    -18.420681  0.000183  0.002378   \n",
       "slc8a1              0.0       1.0    -18.420681  0.000326  0.001883   \n",
       "pja2                0.0       1.0    -18.420681  0.000600  0.001854   \n",
       "rab3c               0.0       1.0    -18.420681  0.000128  0.000875   \n",
       "\n",
       "               raw_mean1  raw_mean2  non_zeros_proportion1  \\\n",
       "fabp5          13.097561   3.468584               0.963415   \n",
       "mobp           30.704878   1.108626               0.993902   \n",
       "gatm           12.093903   0.500533               0.976829   \n",
       "slc38a2        12.426829   1.995740               0.937805   \n",
       "cd9            17.135366   0.855165               0.973171   \n",
       "...                  ...        ...                    ...   \n",
       "3110035e14rik   1.092683  17.684771               0.219512   \n",
       "tspan13         0.531707  22.612354               0.193902   \n",
       "slc8a1          1.060976  20.086262               0.352439   \n",
       "pja2            2.174390  22.217253               0.669512   \n",
       "rab3c           0.432927   7.013844               0.134146   \n",
       "\n",
       "               non_zeros_proportion2  raw_normalized_mean1  \\\n",
       "fabp5                       0.802982              2.332166   \n",
       "mobp                        0.104366              4.990324   \n",
       "gatm                        0.177849              2.062968   \n",
       "slc38a2                     0.697551              2.064762   \n",
       "cd9                         0.167199              2.610595   \n",
       "...                              ...                   ...   \n",
       "3110035e14rik               0.991480              0.163012   \n",
       "tspan13                     0.996805              0.081057   \n",
       "slc8a1                      0.991480              0.174123   \n",
       "pja2                        1.000000              0.340402   \n",
       "rab3c                       0.959531              0.064294   \n",
       "\n",
       "               raw_normalized_mean2  \n",
       "fabp5                      0.348048  \n",
       "mobp                       0.112512  \n",
       "gatm                       0.056258  \n",
       "slc38a2                    0.219480  \n",
       "cd9                        0.100151  \n",
       "...                             ...  \n",
       "3110035e14rik              1.890319  \n",
       "tspan13                    2.406704  \n",
       "slc8a1                     2.100040  \n",
       "pja2                       2.388140  \n",
       "rab3c                      0.762974  \n",
       "\n",
       "[1000 rows x 11 columns]"
      ]
     },
     "execution_count": 11,
     "metadata": {},
     "output_type": "execute_result"
    }
   ],
   "source": [
    "de_res"
   ]
  },
  {
   "cell_type": "code",
   "execution_count": 12,
   "metadata": {},
   "outputs": [
    {
     "data": {
      "text/html": [
       "<div>\n",
       "<style scoped>\n",
       "    .dataframe tbody tr th:only-of-type {\n",
       "        vertical-align: middle;\n",
       "    }\n",
       "\n",
       "    .dataframe tbody tr th {\n",
       "        vertical-align: top;\n",
       "    }\n",
       "\n",
       "    .dataframe thead th {\n",
       "        text-align: right;\n",
       "    }\n",
       "</style>\n",
       "<table border=\"1\" class=\"dataframe\">\n",
       "  <thead>\n",
       "    <tr style=\"text-align: right;\">\n",
       "      <th></th>\n",
       "      <th>proba_m1</th>\n",
       "      <th>proba_m2</th>\n",
       "      <th>bayes_factor</th>\n",
       "      <th>scale1</th>\n",
       "      <th>scale2</th>\n",
       "      <th>raw_mean1</th>\n",
       "      <th>raw_mean2</th>\n",
       "      <th>non_zeros_proportion1</th>\n",
       "      <th>non_zeros_proportion2</th>\n",
       "      <th>raw_normalized_mean1</th>\n",
       "      <th>raw_normalized_mean2</th>\n",
       "    </tr>\n",
       "  </thead>\n",
       "  <tbody>\n",
       "    <tr>\n",
       "      <th>thy1</th>\n",
       "      <td>0.0</td>\n",
       "      <td>1.0</td>\n",
       "      <td>-18.420681</td>\n",
       "      <td>0.000193</td>\n",
       "      <td>0.001996</td>\n",
       "      <td>0.589024</td>\n",
       "      <td>13.569755</td>\n",
       "      <td>0.219512</td>\n",
       "      <td>0.996805</td>\n",
       "      <td>0.089729</td>\n",
       "      <td>1.444312</td>\n",
       "    </tr>\n",
       "    <tr>\n",
       "      <th>mbp</th>\n",
       "      <td>1.0</td>\n",
       "      <td>0.0</td>\n",
       "      <td>18.420681</td>\n",
       "      <td>0.012464</td>\n",
       "      <td>0.000534</td>\n",
       "      <td>55.318295</td>\n",
       "      <td>2.787008</td>\n",
       "      <td>0.998780</td>\n",
       "      <td>0.452609</td>\n",
       "      <td>8.840034</td>\n",
       "      <td>0.298456</td>\n",
       "    </tr>\n",
       "  </tbody>\n",
       "</table>\n",
       "</div>"
      ],
      "text/plain": [
       "      proba_m1  proba_m2  bayes_factor    scale1    scale2  raw_mean1  \\\n",
       "thy1       0.0       1.0    -18.420681  0.000193  0.001996   0.589024   \n",
       "mbp        1.0       0.0     18.420681  0.012464  0.000534  55.318295   \n",
       "\n",
       "      raw_mean2  non_zeros_proportion1  non_zeros_proportion2  \\\n",
       "thy1  13.569755               0.219512               0.996805   \n",
       "mbp    2.787008               0.998780               0.452609   \n",
       "\n",
       "      raw_normalized_mean1  raw_normalized_mean2  \n",
       "thy1              0.089729              1.444312  \n",
       "mbp               8.840034              0.298456  "
      ]
     },
     "execution_count": 12,
     "metadata": {},
     "output_type": "execute_result"
    }
   ],
   "source": [
    "genes_of_interest = [\"thy1\", \"mbp\"]\n",
    "de_res.filter(items=genes_of_interest, axis=0)"
   ]
  },
  {
   "cell_type": "code",
   "execution_count": 13,
   "metadata": {},
   "outputs": [
    {
     "data": {
      "application/vnd.jupyter.widget-view+json": {
       "model_id": "01ad7ec8ac36427fbcfe8da6dfce001d",
       "version_major": 2,
       "version_minor": 0
      },
      "text/plain": [
       "HBox(children=(FloatProgress(value=0.0, max=7.0), HTML(value='')))"
      ]
     },
     "metadata": {},
     "output_type": "display_data"
    },
    {
     "name": "stdout",
     "output_type": "stream",
     "text": [
      "\n"
     ]
    }
   ],
   "source": [
    "per_cluster_de, cluster_id = full.one_vs_all_degenes(cell_labels=gene_dataset.labels.ravel(), min_cells=1)\n",
    "\n",
    "markers = []\n",
    "for x in per_cluster_de:\n",
    "    markers.append(x[:10])\n",
    "markers = pd.concat(markers)\n",
    "\n",
    "genes = np.asarray(markers.index)\n",
    "expression = [x.filter(items=genes, axis=0)['raw_normalized_mean1'] for x in per_cluster_de]\n",
    "expression = pd.concat(expression, axis=1)\n",
    "expression = np.log10(1 + expression)\n",
    "expression.columns = gene_dataset.cell_types"
   ]
  },
  {
   "cell_type": "code",
   "execution_count": 14,
   "metadata": {},
   "outputs": [
    {
     "data": {
      "text/plain": [
       "<matplotlib.colorbar.Colorbar at 0x137757668>"
      ]
     },
     "execution_count": 14,
     "metadata": {},
     "output_type": "execute_result"
    },
    {
     "data": {
      "image/png": "[encoded data removed]",
      "text/plain": [
       "<Figure size 1440x1440 with 2 Axes>"
      ]
     },
     "metadata": {
      "needs_background": "light"
     },
     "output_type": "display_data"
    }
   ],
   "source": [
    "%matplotlib inline\n",
    "plt.figure(figsize=(20, 20))\n",
    "im = plt.imshow(expression, cmap='viridis', interpolation='none', aspect='equal')\n",
    "ax = plt.gca()\n",
    "ax.set_xticks(np.arange(0, 7, 1))\n",
    "ax.set_xticklabels(gene_dataset.cell_types, rotation='vertical')\n",
    "ax.set_yticklabels(genes)\n",
    "ax.set_yticks(np.arange(0, 70, 1))\n",
    "ax.tick_params(labelsize=14)\n",
    "plt.colorbar(shrink=0.2)\n"
   ]
  },
  {
   "cell_type": "code",
   "execution_count": null,
   "metadata": {},
   "outputs": [],
   "source": []
  }
 ],
 "metadata": {
  "kernelspec": {
   "display_name": "Python scvi",
   "language": "python",
   "name": "scvi"
  },
  "language_info": {
   "codemirror_mode": {
    "name": "ipython",
    "version": 3
   },
   "file_extension": ".py",
   "mimetype": "text/x-python",
   "name": "python",
   "nbconvert_exporter": "python",
   "pygments_lexer": "ipython3",
   "version": "3.6.10"
  }
 },
 "nbformat": 4,
 "nbformat_minor": 2
}
