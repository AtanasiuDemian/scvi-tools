{
 "cells": [
  {
   "cell_type": "code",
   "execution_count": 1,
   "metadata": {},
   "outputs": [],
   "source": [
    "%load_ext autoreload\n",
    "%autoreload 2\n",
    "from scvi.dataset import (\n",
    "    smfish,\n",
    "    cortex,\n",
    ")\n",
    "from scvi.models import JVAE, Classifier\n",
    "from scvi.inference import JVAETrainer\n",
    "from scvi.dataset import setup_anndata\n",
    "\n",
    "from scipy.stats import spearmanr\n",
    "import scanpy"
   ]
  },
  {
   "cell_type": "code",
   "execution_count": 2,
   "metadata": {},
   "outputs": [],
   "source": [
    "def imputation_score(trainer_both, data_spatial, gene_ids_test, normalized=True):\n",
    "    _, fish_imputation = trainer_both.get_imputed_values(normalized=normalized)\n",
    "    original, imputed = (\n",
    "        data_spatial.X[:, gene_ids_test],\n",
    "        fish_imputation[:, gene_ids_test],\n",
    "    )\n",
    "\n",
    "    if normalized:\n",
    "        original /= data_spatial.X.sum(axis=1).reshape(-1, 1)\n",
    "\n",
    "    spearman_gene = []\n",
    "    for g in range(imputed.shape[1]):\n",
    "        if np.all(imputed[:, g] == 0):\n",
    "            correlation = 0\n",
    "        else:\n",
    "            correlation = spearmanr(original[:, g], imputed[:, g])[0]\n",
    "        spearman_gene.append(correlation)\n",
    "    return np.median(np.array(spearman_gene))\n"
   ]
  },
  {
   "cell_type": "code",
   "execution_count": 3,
   "metadata": {},
   "outputs": [],
   "source": [
    "import numpy as np\n",
    "import copy"
   ]
  },
  {
   "cell_type": "code",
   "execution_count": 8,
   "metadata": {},
   "outputs": [
    {
     "name": "stdout",
     "output_type": "stream",
     "text": [
      "[2020-07-09 17:15:33,892] INFO - scvi.dataset._utils | File /Users/galen/data/osmFISH_SScortex_mouse_all_cell.loom already downloaded\n",
      "[2020-07-09 17:15:33,894] INFO - scvi.dataset.smfish | Loading smFISH dataset\n"
     ]
    }
   ],
   "source": [
    "test_mode = True\n",
    "\n",
    "save_path = \"../../data\"\n",
    "\n",
    "data_spatial = smfish(save_path=save_path, use_high_level_cluster = False)\n",
    "# data_seq = cortex(\n",
    "#     save_path=save_path\n",
    "# )\n",
    "scanpy.pp.filter_cells(data_spatial, min_counts= 1)\n",
    "scanpy.pp.filter_cells(data_seq, min_counts = 1)\n"
   ]
  },
  {
   "cell_type": "code",
   "execution_count": 9,
   "metadata": {},
   "outputs": [
    {
     "data": {
      "text/plain": [
       "Index(['0', '1', '2', '3', '4', '5', '6', '7', '8', '9',\n",
       "       ...\n",
       "       '6461', '6462', '6463', '6464', '6465', '6466', '6467', '6468', '6469',\n",
       "       '6470'],\n",
       "      dtype='object', length=6430)"
      ]
     },
     "execution_count": 9,
     "metadata": {},
     "output_type": "execute_result"
    }
   ],
   "source": [
    "data_spatial.obs_names\n"
   ]
  },
  {
   "cell_type": "code",
   "execution_count": null,
   "metadata": {},
   "outputs": [],
   "source": []
  },
  {
   "cell_type": "code",
   "execution_count": null,
   "metadata": {},
   "outputs": [],
   "source": [
    "data_spatial"
   ]
  },
  {
   "cell_type": "code",
   "execution_count": 67,
   "metadata": {},
   "outputs": [
    {
     "data": {
      "text/plain": [
       "(array([], dtype=int64),)"
      ]
     },
     "execution_count": 67,
     "metadata": {},
     "output_type": "execute_result"
    }
   ],
   "source": [
    "np.where(len(np.sum(data_spatial.X, axis = 1))==0)"
   ]
  },
  {
   "cell_type": "code",
   "execution_count": 60,
   "metadata": {},
   "outputs": [
    {
     "data": {
      "text/plain": [
       "AnnData object with n_obs × n_vars = 3005 × 19972\n",
       "    obs: 'labels', 'precise_labels', 'cell_type', '_scvi_batch', '_scvi_local_l_mean', '_scvi_local_l_var', 'n_counts'\n",
       "    uns: 'scvi_data_registry', 'scvi_summary_stats'"
      ]
     },
     "execution_count": 60,
     "metadata": {},
     "output_type": "execute_result"
    }
   ],
   "source": [
    "data_seq"
   ]
  },
  {
   "cell_type": "code",
   "execution_count": 66,
   "metadata": {},
   "outputs": [
    {
     "data": {
      "text/plain": [
       "(array([], dtype=int64),)"
      ]
     },
     "execution_count": 66,
     "metadata": {},
     "output_type": "execute_result"
    }
   ],
   "source": [
    "np.where(len(np.sum(data_seq.X, axis = 1))==0)"
   ]
  },
  {
   "cell_type": "code",
   "execution_count": 4,
   "metadata": {},
   "outputs": [
    {
     "name": "stdout",
     "output_type": "stream",
     "text": [
      "[2020-07-08 22:26:56,365] INFO - scvi.dataset._anndata | Using data from adata.X\n",
      "[2020-07-08 22:26:56,366] INFO - scvi.dataset._anndata | No batch_key inputted, assuming all cells are same batch\n",
      "[2020-07-08 22:26:56,368] INFO - scvi.dataset._anndata | Using labels from adata.obs[\"labels\"]\n",
      "[2020-07-08 22:26:56,369] INFO - scvi.dataset._anndata | Computing library size prior per batch\n",
      "[2020-07-08 22:26:56,372] WARNING - scvi.dataset._utils | This dataset has some empty cells, this might fail scVI inference.Data should be filtered with `my_dataset.filter_cells_by_count()\n",
      "[2020-07-08 22:26:56,373] INFO - scvi.dataset._anndata | Successfully registered anndata object containing 3005 cells, 33 genes, and 1 batches \n",
      "Registered keys:['X', 'batch_indices', 'local_l_mean', 'local_l_var', 'labels']\n"
     ]
    }
   ],
   "source": [
    "spatial_gene_names = data_spatial.var_names\n",
    "data_seq = data_seq[:, spatial_gene_names].copy()\n",
    "setup_anndata(data_seq, labels_key = 'labels')"
   ]
  },
  {
   "cell_type": "code",
   "execution_count": 5,
   "metadata": {},
   "outputs": [
    {
     "data": {
      "text/plain": [
       "AnnData object with n_obs × n_vars = 3005 × 33\n",
       "    obs: 'labels', 'precise_labels', 'cell_type', '_scvi_batch', '_scvi_local_l_mean', '_scvi_local_l_var'\n",
       "    uns: 'scvi_data_registry', 'scvi_summary_stats'"
      ]
     },
     "execution_count": 5,
     "metadata": {},
     "output_type": "execute_result"
    }
   ],
   "source": [
    "data_seq"
   ]
  },
  {
   "cell_type": "code",
   "execution_count": 6,
   "metadata": {},
   "outputs": [
    {
     "data": {
      "text/plain": [
       "{'n_batch': 1, 'n_cells': 3005, 'n_genes': 33, 'n_labels': 7}"
      ]
     },
     "execution_count": 6,
     "metadata": {},
     "output_type": "execute_result"
    }
   ],
   "source": [
    "data_seq.uns['scvi_summary_stats']"
   ]
  },
  {
   "cell_type": "code",
   "execution_count": null,
   "metadata": {},
   "outputs": [],
   "source": []
  },
  {
   "cell_type": "code",
   "execution_count": 7,
   "metadata": {},
   "outputs": [
    {
     "name": "stderr",
     "output_type": "stream",
     "text": [
      "Trying to set attribute `.obs` of view, copying.\n"
     ]
    },
    {
     "name": "stdout",
     "output_type": "stream",
     "text": [
      "33\n",
      "26\n"
     ]
    }
   ],
   "source": [
    "train_size = 0.8\n",
    "\n",
    "gene_names_rnaseq = data_seq.var_names\n",
    "\n",
    "np.random.seed(0)\n",
    "n_genes = len(gene_names_rnaseq)\n",
    "print(n_genes)\n",
    "gene_ids_train = sorted(\n",
    "    np.random.choice(range(n_genes), int(n_genes * train_size), False)\n",
    ")\n",
    "gene_ids_test = sorted(set(range(n_genes)) - set(gene_ids_train))\n",
    "\n",
    "gene_names_fish = gene_names_rnaseq[gene_ids_train]\n",
    "print(len(gene_names_fish))\n",
    "# Create copy of the fish dataset with hidden genes\n",
    "data_spatial_partial = data_spatial.copy()\n",
    "data_spatial_partial= data_spatial_partial[:, gene_names_fish]\n",
    "\n",
    "# data_spatial_partial.batch_indices += data_seq.uns['scvi_summary_stats']['n_batch']\n",
    "data_spatial_partial.obs['_scvi_batch'] += data_seq.uns['scvi_summary_stats']['n_batch']"
   ]
  },
  {
   "cell_type": "code",
   "execution_count": 8,
   "metadata": {},
   "outputs": [
    {
     "name": "stdout",
     "output_type": "stream",
     "text": [
      "[2020-07-08 22:26:56,511] INFO - scvi.dataset._anndata | Using data from adata.X\n",
      "[2020-07-08 22:26:56,512] INFO - scvi.dataset._anndata | Using batches from adata.obs[\"_scvi_batch\"]\n",
      "[2020-07-08 22:26:56,513] INFO - scvi.dataset._anndata | No label_key inputted, assuming all cells have same label\n",
      "[2020-07-08 22:26:56,515] INFO - scvi.dataset._anndata | Computing library size prior per batch\n",
      "[2020-07-08 22:26:56,518] WARNING - scvi.dataset._utils | This dataset has some empty cells, this might fail scVI inference.Data should be filtered with `my_dataset.filter_cells_by_count()\n",
      "[2020-07-08 22:26:56,520] INFO - scvi.dataset._anndata | Successfully registered anndata object containing 6471 cells, 26 genes, and 1 batches \n",
      "Registered keys:['X', 'batch_indices', 'local_l_mean', 'local_l_var', 'labels']\n"
     ]
    }
   ],
   "source": [
    "setup_anndata(data_spatial_partial, batch_key = '_scvi_batch')"
   ]
  },
  {
   "cell_type": "code",
   "execution_count": 9,
   "metadata": {},
   "outputs": [],
   "source": [
    "datasets = [data_seq, data_spatial_partial]\n",
    "generative_distributions = [\"zinb\", \"nb\"]\n",
    "gene_mappings = [slice(None), np.array(gene_ids_train)]\n",
    "n_inputs = [d.uns['scvi_summary_stats']['n_genes'] for d in datasets]\n",
    "total_genes = data_seq.uns['scvi_summary_stats']['n_genes']\n",
    "n_batches = sum([d.uns['scvi_summary_stats']['n_batch'] for d in datasets])\n",
    "\n",
    "model_library_size = [True, False]\n",
    "\n",
    "n_latent = 8\n",
    "kappa = 1"
   ]
  },
  {
   "cell_type": "code",
   "execution_count": 10,
   "metadata": {},
   "outputs": [
    {
     "data": {
      "text/plain": [
       "[AnnData object with n_obs × n_vars = 3005 × 33\n",
       "     obs: 'labels', 'precise_labels', 'cell_type', '_scvi_batch', '_scvi_local_l_mean', '_scvi_local_l_var'\n",
       "     uns: 'scvi_data_registry', 'scvi_summary_stats',\n",
       " AnnData object with n_obs × n_vars = 6471 × 26\n",
       "     obs: 'x_coord', 'y_coord', '_scvi_batch', '_scvi_labels', '_scvi_local_l_mean', '_scvi_local_l_var'\n",
       "     uns: 'cell_types', 'scvi_data_registry', 'scvi_summary_stats']"
      ]
     },
     "execution_count": 10,
     "metadata": {},
     "output_type": "execute_result"
    }
   ],
   "source": [
    "datasets"
   ]
  },
  {
   "cell_type": "code",
   "execution_count": 11,
   "metadata": {},
   "outputs": [],
   "source": [
    "import torch\n",
    "\n",
    "torch.manual_seed(0)\n",
    "\n",
    "model = JVAE(\n",
    "    n_inputs,\n",
    "    total_genes,\n",
    "    gene_mappings,\n",
    "    generative_distributions,\n",
    "    model_library_size,\n",
    "    n_layers_decoder_individual=0,\n",
    "    n_layers_decoder_shared=0,\n",
    "    n_layers_encoder_individual=1,\n",
    "    n_layers_encoder_shared=1,\n",
    "    dim_hidden_encoder=64,\n",
    "    dim_hidden_decoder_shared=64,\n",
    "    dropout_rate_encoder=0.2,\n",
    "    dropout_rate_decoder=0.2,\n",
    "    n_batch=n_batches,\n",
    "    n_latent=n_latent,\n",
    ")\n",
    "\n",
    "discriminator = Classifier(n_latent, 32, 2, 3, logits=True)\n",
    "\n",
    "trainer = JVAETrainer(model, discriminator, datasets, 0.95, frequency=1, kappa=kappa)"
   ]
  },
  {
   "cell_type": "code",
   "execution_count": 18,
   "metadata": {},
   "outputs": [
    {
     "data": {
      "application/vnd.jupyter.widget-view+json": {
       "model_id": "4b1fb5159185426c853077a27bca99e5",
       "version_major": 2,
       "version_minor": 0
      },
      "text/plain": [
       "HBox(children=(FloatProgress(value=0.0, description='training', max=2.0, style=ProgressStyle(description_width…"
      ]
     },
     "metadata": {},
     "output_type": "display_data"
    },
    {
     "name": "stdout",
     "output_type": "stream",
     "text": [
      "\n"
     ]
    }
   ],
   "source": [
    "n_epochs = 2\n",
    "trainer.train(n_epochs=n_epochs)"
   ]
  },
  {
   "cell_type": "code",
   "execution_count": 27,
   "metadata": {},
   "outputs": [
    {
     "name": "stderr",
     "output_type": "stream",
     "text": [
      "/Users/galen/anaconda3/envs/scvi/lib/python3.6/site-packages/ipykernel_launcher.py:9: RuntimeWarning: invalid value encountered in true_divide\n",
      "  if __name__ == '__main__':\n"
     ]
    },
    {
     "data": {
      "text/plain": [
       "nan"
      ]
     },
     "execution_count": 27,
     "metadata": {},
     "output_type": "execute_result"
    }
   ],
   "source": [
    "imputation_score(trainer, data_spatial, gene_ids_test, True)"
   ]
  },
  {
   "cell_type": "code",
   "execution_count": 34,
   "metadata": {},
   "outputs": [],
   "source": [
    "import matplotlib.pyplot as plt\n",
    "%matplotlib inline\n",
    "def plot_gene_spatial(trainer, data_spatial, gene):\n",
    "    data_seq, _ = [p.gene_dataset for p in trainer.all_dataset]\n",
    "    data_fish = data_spatial\n",
    "\n",
    "    fig, (ax_gt, ax) = plt.subplots(1, 2)\n",
    "\n",
    "    if type(gene) == str:\n",
    "        gene_id = list(data_seq.gene_names).index(gene)\n",
    "    else:\n",
    "        gene_id = gene\n",
    "\n",
    "    x_coord = data_fish.obs['x_coord']\n",
    "    y_coord = data_fish.obs['y_coord']\n",
    "\n",
    "    def order_by_strenght(x, y, z):\n",
    "        ind = np.argsort(z)\n",
    "        return x[ind], y[ind], z[ind]\n",
    "\n",
    "    s = 20\n",
    "\n",
    "    def transform(data):\n",
    "        return np.log(1 + 100 * data)\n",
    "\n",
    "    # Plot groundtruth\n",
    "    x, y, z = order_by_strenght(\n",
    "        x_coord, y_coord, data_fish.X[:, gene_id] / (data_fish.X.sum(axis=1) + 1)\n",
    "    )\n",
    "    ax_gt.scatter(x, y, c=transform(z), s=s, edgecolors=\"none\", marker=\"s\", cmap=\"Reds\")\n",
    "    ax_gt.set_title(\"Groundtruth\")\n",
    "    ax_gt.axis(\"off\")\n",
    "\n",
    "    _, imputed = trainer.get_imputed_values(normalized=True)\n",
    "    x, y, z = order_by_strenght(x_coord, y_coord, imputed[:, gene_id])\n",
    "    ax.scatter(x, y, c=transform(z), s=s, edgecolors=\"none\", marker=\"s\", cmap=\"Reds\")\n",
    "    ax.set_title(\"Imputed\")\n",
    "    ax.axis(\"off\")\n",
    "    plt.tight_layout()\n",
    "    plt.show()"
   ]
  },
  {
   "cell_type": "code",
   "execution_count": 35,
   "metadata": {},
   "outputs": [
    {
     "data": {
      "image/png": "[encoded data removed]",
      "text/plain": [
       "<Figure size 432x288 with 2 Axes>"
      ]
     },
     "metadata": {
      "needs_background": "light"
     },
     "output_type": "display_data"
    }
   ],
   "source": [
    "plot_gene_spatial(trainer, data_spatial, 9)"
   ]
  },
  {
   "cell_type": "code",
   "execution_count": 39,
   "metadata": {},
   "outputs": [],
   "source": [
    "discriminator_classification = trainer.get_discriminator_confusion()\n"
   ]
  },
  {
   "cell_type": "code",
   "execution_count": 40,
   "metadata": {},
   "outputs": [
    {
     "data": {
      "text/plain": [
       "array([[0.5133084 , 0.48669136],\n",
       "       [0.49435076, 0.5056493 ]], dtype=float32)"
      ]
     },
     "execution_count": 40,
     "metadata": {},
     "output_type": "execute_result"
    }
   ],
   "source": [
    "discriminator_classification"
   ]
  },
  {
   "cell_type": "code",
   "execution_count": null,
   "metadata": {},
   "outputs": [],
   "source": []
  }
 ],
 "metadata": {
  "kernelspec": {
   "display_name": "Python scvi",
   "language": "python",
   "name": "scvi"
  },
  "language_info": {
   "codemirror_mode": {
    "name": "ipython",
    "version": 3
   },
   "file_extension": ".py",
   "mimetype": "text/x-python",
   "name": "python",
   "nbconvert_exporter": "python",
   "pygments_lexer": "ipython3",
   "version": "3.6.10"
  }
 },
 "nbformat": 4,
 "nbformat_minor": 2
}
