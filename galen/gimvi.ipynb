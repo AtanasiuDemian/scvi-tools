{
 "cells": [
  {
   "cell_type": "code",
   "execution_count": 1,
   "metadata": {},
   "outputs": [
    {
     "ename": "ModuleNotFoundError",
     "evalue": "No module named 'notebooks'",
     "output_type": "error",
     "traceback": [
      "\u001b[0;31m---------------------------------------------------------------------------\u001b[0m",
      "\u001b[0;31mModuleNotFoundError\u001b[0m                       Traceback (most recent call last)",
      "\u001b[0;32m<ipython-input-1-bc1a7c2287a8>\u001b[0m in \u001b[0;36m<module>\u001b[0;34m\u001b[0m\n\u001b[1;32m      8\u001b[0m \u001b[0;32mfrom\u001b[0m \u001b[0mscvi\u001b[0m\u001b[0;34m.\u001b[0m\u001b[0minference\u001b[0m \u001b[0;32mimport\u001b[0m \u001b[0mJVAETrainer\u001b[0m\u001b[0;34m\u001b[0m\u001b[0;34m\u001b[0m\u001b[0m\n\u001b[1;32m      9\u001b[0m \u001b[0;34m\u001b[0m\u001b[0m\n\u001b[0;32m---> 10\u001b[0;31m \u001b[0;32mimport\u001b[0m \u001b[0mnotebooks\u001b[0m\u001b[0;34m.\u001b[0m\u001b[0mutils\u001b[0m\u001b[0;34m.\u001b[0m\u001b[0mgimvi_tutorial\u001b[0m \u001b[0;32mas\u001b[0m \u001b[0mgimvi_utils\u001b[0m\u001b[0;34m\u001b[0m\u001b[0;34m\u001b[0m\u001b[0m\n\u001b[0m",
      "\u001b[0;31mModuleNotFoundError\u001b[0m: No module named 'notebooks'"
     ]
    }
   ],
   "source": [
    "from scvi.dataset import (\n",
    "    PreFrontalCortexStarmapDataset,\n",
    "    FrontalCortexDropseqDataset,\n",
    "    SmfishDataset,\n",
    "    CortexDataset,\n",
    ")\n",
    "from scvi.models import JVAE, Classifier\n",
    "from scvi.inference import JVAETrainer\n",
    "\n",
    "import notebooks.utils.gimvi_tutorial as gimvi_utils"
   ]
  },
  {
   "cell_type": "code",
   "execution_count": 2,
   "metadata": {},
   "outputs": [],
   "source": [
    "import numpy as np\n",
    "import copy"
   ]
  },
  {
   "cell_type": "code",
   "execution_count": 6,
   "metadata": {},
   "outputs": [
    {
     "name": "stdout",
     "output_type": "stream",
     "text": [
      "[2020-06-25 12:59:25,908] INFO - scvi.dataset.dataset | File /Users/galen/data/osmFISH_SScortex_mouse_all_cell.loom already downloaded\n",
      "[2020-06-25 12:59:25,909] INFO - scvi.dataset.smfish | Loading smFISH dataset\n",
      "[2020-06-25 12:59:25,953] WARNING - scvi.dataset.dataset | This dataset has some empty cells, this might fail scVI inference.Data should be filtered with `my_dataset.filter_cells_by_count()\n",
      "[2020-06-25 12:59:25,960] INFO - scvi.dataset.dataset | Computing the library size for the new data\n",
      "[2020-06-25 12:59:25,962] INFO - scvi.dataset.dataset | Downsampled from 6471 to 4530 cells\n",
      "[2020-06-25 12:59:25,964] INFO - scvi.dataset.dataset | Remapping labels to [0,N]\n",
      "[2020-06-25 12:59:25,967] INFO - scvi.dataset.dataset | Remapping batch_indices to [0,N]\n",
      "[2020-06-25 12:59:25,968] INFO - scvi.dataset.dataset | File /Users/galen/data/expression.bin already downloaded\n",
      "[2020-06-25 12:59:25,969] INFO - scvi.dataset.cortex | Loading Cortex data\n",
      "[2020-06-25 12:59:34,107] INFO - scvi.dataset.cortex | Finished preprocessing Cortex data\n",
      "[2020-06-25 12:59:34,970] INFO - scvi.dataset.dataset | Remapping labels to [0,N]\n",
      "[2020-06-25 12:59:34,971] INFO - scvi.dataset.dataset | Remapping batch_indices to [0,N]\n",
      "[2020-06-25 12:59:35,212] INFO - scvi.dataset.dataset | Making gene names lower case\n",
      "[2020-06-25 12:59:35,213] INFO - scvi.dataset.dataset | Making gene names lower case\n",
      "[2020-06-25 12:59:35,237] INFO - scvi.dataset.dataset | Downsampling from 19972 to 33 genes\n",
      "[2020-06-25 12:59:35,261] INFO - scvi.dataset.dataset | Computing the library size for the new data\n",
      "[2020-06-25 12:59:35,263] WARNING - scvi.dataset.dataset | This dataset has some empty cells, this might fail scVI inference.Data should be filtered with `my_dataset.filter_cells_by_count()\n",
      "[2020-06-25 12:59:35,264] INFO - scvi.dataset.dataset | Filtering non-expressing cells.\n",
      "[2020-06-25 12:59:35,267] INFO - scvi.dataset.dataset | Computing the library size for the new data\n",
      "[2020-06-25 12:59:35,269] INFO - scvi.dataset.dataset | Downsampled from 3005 to 2996 cells\n"
     ]
    }
   ],
   "source": [
    "test_mode = True\n",
    "\n",
    "save_path = \"../../data\"\n",
    "\n",
    "data_spatial = SmfishDataset(save_path=save_path)\n",
    "data_seq = CortexDataset(\n",
    "    save_path=save_path, total_genes=None\n",
    ")\n",
    "# make sure gene names have the same case\n",
    "data_spatial.make_gene_names_lower()\n",
    "data_seq.make_gene_names_lower()\n",
    "# filters genes by gene_names\n",
    "data_seq.filter_genes_by_attribute(data_spatial.gene_names)\n",
    "if test_mode:\n",
    "    data_seq = data_spatial"
   ]
  },
  {
   "cell_type": "code",
   "execution_count": 7,
   "metadata": {},
   "outputs": [
    {
     "name": "stdout",
     "output_type": "stream",
     "text": [
      "[2020-06-25 12:59:35,278] INFO - scvi.dataset.dataset | Computing the library size for the new data\n",
      "[2020-06-25 12:59:35,279] INFO - scvi.dataset.dataset | Downsampled from 4530 to 4530 cells\n",
      "[2020-06-25 12:59:35,283] INFO - scvi.dataset.dataset | Computing the library size for the new data\n",
      "[2020-06-25 12:59:35,285] INFO - scvi.dataset.dataset | Downsampled from 4530 to 4530 cells\n"
     ]
    }
   ],
   "source": [
    "data_seq.filter_cells_by_count(1)\n",
    "data_spatial.filter_cells_by_count(1)"
   ]
  },
  {
   "cell_type": "code",
   "execution_count": 8,
   "metadata": {},
   "outputs": [
    {
     "name": "stdout",
     "output_type": "stream",
     "text": [
      "[2020-06-25 13:00:06,107] INFO - scvi.dataset.dataset | Downsampling from 33 to 26 genes\n",
      "[2020-06-25 13:00:06,111] INFO - scvi.dataset.dataset | Computing the library size for the new data\n",
      "[2020-06-25 13:00:06,113] INFO - scvi.dataset.dataset | Filtering non-expressing cells.\n",
      "[2020-06-25 13:00:06,117] INFO - scvi.dataset.dataset | Computing the library size for the new data\n",
      "[2020-06-25 13:00:06,119] INFO - scvi.dataset.dataset | Downsampled from 4530 to 4530 cells\n"
     ]
    }
   ],
   "source": [
    "train_size = 0.8\n",
    "\n",
    "gene_names_rnaseq = data_seq.gene_names\n",
    "np.random.seed(0)\n",
    "n_genes = len(gene_names_rnaseq)\n",
    "gene_ids_train = sorted(\n",
    "    np.random.choice(range(n_genes), int(n_genes * train_size), False)\n",
    ")\n",
    "gene_ids_test = sorted(set(range(n_genes)) - set(gene_ids_train))\n",
    "\n",
    "gene_names_fish = gene_names_rnaseq[gene_ids_train]\n",
    "\n",
    "# Create copy of the fish dataset with hidden genes\n",
    "data_spatial_partial = copy.deepcopy(data_spatial)\n",
    "data_spatial_partial.filter_genes_by_attribute(gene_names_fish)\n",
    "data_spatial_partial.batch_indices += data_seq.n_batches"
   ]
  },
  {
   "cell_type": "code",
   "execution_count": 9,
   "metadata": {},
   "outputs": [],
   "source": [
    "datasets = [data_seq, data_spatial_partial]\n",
    "generative_distributions = [\"zinb\", \"nb\"]\n",
    "gene_mappings = [slice(None), np.array(gene_ids_train)]\n",
    "n_inputs = [d.nb_genes for d in datasets]\n",
    "total_genes = data_seq.nb_genes\n",
    "n_batches = sum([d.n_batches for d in datasets])\n",
    "\n",
    "model_library_size = [True, False]\n",
    "\n",
    "n_latent = 8\n",
    "kappa = 1"
   ]
  },
  {
   "cell_type": "code",
   "execution_count": 12,
   "metadata": {},
   "outputs": [
    {
     "name": "stderr",
     "output_type": "stream",
     "text": [
      "/Users/galen/anaconda3/envs/scvi/lib/python3.6/site-packages/anndata/_core/anndata.py:119: ImplicitModificationWarning: Transforming to str index.\n",
      "  warnings.warn(\"Transforming to str index.\", ImplicitModificationWarning)\n"
     ]
    }
   ],
   "source": [
    "seq_adata = data_seq.to_anndata()"
   ]
  },
  {
   "cell_type": "code",
   "execution_count": 13,
   "metadata": {},
   "outputs": [],
   "source": [
    "spatial_adata = data_spatial_partial.to_anndata()"
   ]
  },
  {
   "cell_type": "code",
   "execution_count": 16,
   "metadata": {},
   "outputs": [
    {
     "data": {
      "text/plain": [
       "AnnData object with n_obs × n_vars = 4530 × 33\n",
       "    obs: 'x_coord', 'batch_indices', 'cell_types', 'y_coord'\n",
       "    uns: 'cell_measurements_col_mappings'"
      ]
     },
     "execution_count": 16,
     "metadata": {},
     "output_type": "execute_result"
    }
   ],
   "source": [
    "seq_adata"
   ]
  },
  {
   "cell_type": "code",
   "execution_count": 15,
   "metadata": {},
   "outputs": [],
   "source": [
    "from scvi.dataset.utils import setup_anndata"
   ]
  },
  {
   "cell_type": "code",
   "execution_count": 17,
   "metadata": {},
   "outputs": [
    {
     "name": "stdout",
     "output_type": "stream",
     "text": [
      "[2020-06-25 13:07:13,124] INFO - scvi.dataset.utils | Using data from adata.X\n",
      "[2020-06-25 13:07:13,125] INFO - scvi.dataset.utils | Using batches from adata.obs[\"batch_indices\"]\n",
      "[2020-06-25 13:07:13,126] INFO - scvi.dataset.utils | No label_key inputted, assuming all cells have same label\n",
      "[2020-06-25 13:07:13,138] INFO - scvi.dataset.utils | Computing library size prior per batch\n",
      "[2020-06-25 13:07:13,149] INFO - scvi.dataset.utils | Successfully registered anndata object containing 4530 cells, 33 genes, and 1 batches \n",
      "Registered keys:['X', 'batch_indices', 'local_l_mean', 'local_l_var', 'labels']\n"
     ]
    }
   ],
   "source": [
    "setup_anndata(seq_adata, 'batch_indices')"
   ]
  },
  {
   "cell_type": "code",
   "execution_count": 18,
   "metadata": {},
   "outputs": [
    {
     "data": {
      "text/plain": [
       "AnnData object with n_obs × n_vars = 4530 × 26\n",
       "    obs: 'batch_indices', 'x_coord', 'cell_types', 'y_coord'\n",
       "    uns: 'cell_measurements_col_mappings'"
      ]
     },
     "execution_count": 18,
     "metadata": {},
     "output_type": "execute_result"
    }
   ],
   "source": [
    "spatial_adata"
   ]
  },
  {
   "cell_type": "code",
   "execution_count": 10,
   "metadata": {},
   "outputs": [
    {
     "ename": "AttributeError",
     "evalue": "'SmfishDataset' object has no attribute 'uns_keys'",
     "output_type": "error",
     "traceback": [
      "\u001b[0;31m---------------------------------------------------------------------------\u001b[0m",
      "\u001b[0;31mAttributeError\u001b[0m                            Traceback (most recent call last)",
      "\u001b[0;32m<ipython-input-10-89d0031dfe5e>\u001b[0m in \u001b[0;36m<module>\u001b[0;34m\u001b[0m\n\u001b[1;32m     23\u001b[0m \u001b[0mdiscriminator\u001b[0m \u001b[0;34m=\u001b[0m \u001b[0mClassifier\u001b[0m\u001b[0;34m(\u001b[0m\u001b[0mn_latent\u001b[0m\u001b[0;34m,\u001b[0m \u001b[0;36m32\u001b[0m\u001b[0;34m,\u001b[0m \u001b[0;36m2\u001b[0m\u001b[0;34m,\u001b[0m \u001b[0;36m3\u001b[0m\u001b[0;34m,\u001b[0m \u001b[0mlogits\u001b[0m\u001b[0;34m=\u001b[0m\u001b[0;32mTrue\u001b[0m\u001b[0;34m)\u001b[0m\u001b[0;34m\u001b[0m\u001b[0;34m\u001b[0m\u001b[0m\n\u001b[1;32m     24\u001b[0m \u001b[0;34m\u001b[0m\u001b[0m\n\u001b[0;32m---> 25\u001b[0;31m \u001b[0mtrainer\u001b[0m \u001b[0;34m=\u001b[0m \u001b[0mJVAETrainer\u001b[0m\u001b[0;34m(\u001b[0m\u001b[0mmodel\u001b[0m\u001b[0;34m,\u001b[0m \u001b[0mdiscriminator\u001b[0m\u001b[0;34m,\u001b[0m \u001b[0mdatasets\u001b[0m\u001b[0;34m,\u001b[0m \u001b[0;36m0.95\u001b[0m\u001b[0;34m,\u001b[0m \u001b[0mfrequency\u001b[0m\u001b[0;34m=\u001b[0m\u001b[0;36m1\u001b[0m\u001b[0;34m,\u001b[0m \u001b[0mkappa\u001b[0m\u001b[0;34m=\u001b[0m\u001b[0mkappa\u001b[0m\u001b[0;34m)\u001b[0m\u001b[0;34m\u001b[0m\u001b[0;34m\u001b[0m\u001b[0m\n\u001b[0m",
      "\u001b[0;32m~/scVI/scvi/inference/jvae_trainer.py\u001b[0m in \u001b[0;36m__init__\u001b[0;34m(self, model, discriminator, gene_dataset_list, train_size, use_cuda, kappa, n_epochs_kl_warmup, **kwargs)\u001b[0m\n\u001b[1;32m     71\u001b[0m                 \u001b[0mgene_dataset\u001b[0m\u001b[0;34m=\u001b[0m\u001b[0mgd\u001b[0m\u001b[0;34m,\u001b[0m \u001b[0mtype_class\u001b[0m\u001b[0;34m=\u001b[0m\u001b[0mpartial\u001b[0m\u001b[0;34m(\u001b[0m\u001b[0mJPosterior\u001b[0m\u001b[0;34m,\u001b[0m \u001b[0mmode\u001b[0m\u001b[0;34m=\u001b[0m\u001b[0mi\u001b[0m\u001b[0;34m)\u001b[0m\u001b[0;34m\u001b[0m\u001b[0;34m\u001b[0m\u001b[0m\n\u001b[1;32m     72\u001b[0m             )\n\u001b[0;32m---> 73\u001b[0;31m             \u001b[0;32mfor\u001b[0m \u001b[0mi\u001b[0m\u001b[0;34m,\u001b[0m \u001b[0mgd\u001b[0m \u001b[0;32min\u001b[0m \u001b[0menumerate\u001b[0m\u001b[0;34m(\u001b[0m\u001b[0mgene_dataset_list\u001b[0m\u001b[0;34m)\u001b[0m\u001b[0;34m\u001b[0m\u001b[0;34m\u001b[0m\u001b[0m\n\u001b[0m\u001b[1;32m     74\u001b[0m         ]\n\u001b[1;32m     75\u001b[0m         \u001b[0mself\u001b[0m\u001b[0;34m.\u001b[0m\u001b[0mn_dataset\u001b[0m \u001b[0;34m=\u001b[0m \u001b[0mlen\u001b[0m\u001b[0;34m(\u001b[0m\u001b[0mself\u001b[0m\u001b[0;34m.\u001b[0m\u001b[0mall_dataset\u001b[0m\u001b[0;34m)\u001b[0m\u001b[0;34m\u001b[0m\u001b[0;34m\u001b[0m\u001b[0m\n",
      "\u001b[0;32m~/scVI/scvi/inference/jvae_trainer.py\u001b[0m in \u001b[0;36m<listcomp>\u001b[0;34m(.0)\u001b[0m\n\u001b[1;32m     71\u001b[0m                 \u001b[0mgene_dataset\u001b[0m\u001b[0;34m=\u001b[0m\u001b[0mgd\u001b[0m\u001b[0;34m,\u001b[0m \u001b[0mtype_class\u001b[0m\u001b[0;34m=\u001b[0m\u001b[0mpartial\u001b[0m\u001b[0;34m(\u001b[0m\u001b[0mJPosterior\u001b[0m\u001b[0;34m,\u001b[0m \u001b[0mmode\u001b[0m\u001b[0;34m=\u001b[0m\u001b[0mi\u001b[0m\u001b[0;34m)\u001b[0m\u001b[0;34m\u001b[0m\u001b[0;34m\u001b[0m\u001b[0m\n\u001b[1;32m     72\u001b[0m             )\n\u001b[0;32m---> 73\u001b[0;31m             \u001b[0;32mfor\u001b[0m \u001b[0mi\u001b[0m\u001b[0;34m,\u001b[0m \u001b[0mgd\u001b[0m \u001b[0;32min\u001b[0m \u001b[0menumerate\u001b[0m\u001b[0;34m(\u001b[0m\u001b[0mgene_dataset_list\u001b[0m\u001b[0;34m)\u001b[0m\u001b[0;34m\u001b[0m\u001b[0;34m\u001b[0m\u001b[0m\n\u001b[0m\u001b[1;32m     74\u001b[0m         ]\n\u001b[1;32m     75\u001b[0m         \u001b[0mself\u001b[0m\u001b[0;34m.\u001b[0m\u001b[0mn_dataset\u001b[0m \u001b[0;34m=\u001b[0m \u001b[0mlen\u001b[0m\u001b[0;34m(\u001b[0m\u001b[0mself\u001b[0m\u001b[0;34m.\u001b[0m\u001b[0mall_dataset\u001b[0m\u001b[0;34m)\u001b[0m\u001b[0;34m\u001b[0m\u001b[0;34m\u001b[0m\u001b[0m\n",
      "\u001b[0;32m~/scVI/scvi/inference/trainer.py\u001b[0m in \u001b[0;36mcreate_posterior\u001b[0;34m(self, model, gene_dataset, shuffle, indices, type_class)\u001b[0m\n\u001b[1;32m    440\u001b[0m             \u001b[0muse_cuda\u001b[0m\u001b[0;34m=\u001b[0m\u001b[0mself\u001b[0m\u001b[0;34m.\u001b[0m\u001b[0muse_cuda\u001b[0m\u001b[0;34m,\u001b[0m\u001b[0;34m\u001b[0m\u001b[0;34m\u001b[0m\u001b[0m\n\u001b[1;32m    441\u001b[0m             \u001b[0mbatch_size\u001b[0m\u001b[0;34m=\u001b[0m\u001b[0mself\u001b[0m\u001b[0;34m.\u001b[0m\u001b[0mbatch_size\u001b[0m\u001b[0;34m,\u001b[0m\u001b[0;34m\u001b[0m\u001b[0;34m\u001b[0m\u001b[0m\n\u001b[0;32m--> 442\u001b[0;31m             \u001b[0mdata_loader_kwargs\u001b[0m\u001b[0;34m=\u001b[0m\u001b[0mself\u001b[0m\u001b[0;34m.\u001b[0m\u001b[0mdata_loader_kwargs\u001b[0m\u001b[0;34m,\u001b[0m\u001b[0;34m\u001b[0m\u001b[0;34m\u001b[0m\u001b[0m\n\u001b[0m\u001b[1;32m    443\u001b[0m         )\n\u001b[1;32m    444\u001b[0m \u001b[0;34m\u001b[0m\u001b[0m\n",
      "\u001b[0;32m~/scVI/scvi/inference/jvae_trainer.py\u001b[0m in \u001b[0;36m__init__\u001b[0;34m(self, mode, *args, **kwargs)\u001b[0m\n\u001b[1;32m     18\u001b[0m \u001b[0;32mclass\u001b[0m \u001b[0mJPosterior\u001b[0m\u001b[0;34m(\u001b[0m\u001b[0mPosterior\u001b[0m\u001b[0;34m)\u001b[0m\u001b[0;34m:\u001b[0m\u001b[0;34m\u001b[0m\u001b[0;34m\u001b[0m\u001b[0m\n\u001b[1;32m     19\u001b[0m     \u001b[0;32mdef\u001b[0m \u001b[0m__init__\u001b[0m\u001b[0;34m(\u001b[0m\u001b[0mself\u001b[0m\u001b[0;34m,\u001b[0m \u001b[0;34m*\u001b[0m\u001b[0margs\u001b[0m\u001b[0;34m,\u001b[0m \u001b[0mmode\u001b[0m\u001b[0;34m=\u001b[0m\u001b[0;36m0\u001b[0m\u001b[0;34m,\u001b[0m \u001b[0;34m**\u001b[0m\u001b[0mkwargs\u001b[0m\u001b[0;34m)\u001b[0m\u001b[0;34m:\u001b[0m\u001b[0;34m\u001b[0m\u001b[0;34m\u001b[0m\u001b[0m\n\u001b[0;32m---> 20\u001b[0;31m         \u001b[0msuper\u001b[0m\u001b[0;34m(\u001b[0m\u001b[0;34m)\u001b[0m\u001b[0;34m.\u001b[0m\u001b[0m__init__\u001b[0m\u001b[0;34m(\u001b[0m\u001b[0;34m*\u001b[0m\u001b[0margs\u001b[0m\u001b[0;34m,\u001b[0m \u001b[0;34m**\u001b[0m\u001b[0mkwargs\u001b[0m\u001b[0;34m)\u001b[0m\u001b[0;34m\u001b[0m\u001b[0;34m\u001b[0m\u001b[0m\n\u001b[0m\u001b[1;32m     21\u001b[0m         \u001b[0mself\u001b[0m\u001b[0;34m.\u001b[0m\u001b[0mmode\u001b[0m \u001b[0;34m=\u001b[0m \u001b[0mmode\u001b[0m\u001b[0;34m\u001b[0m\u001b[0;34m\u001b[0m\u001b[0m\n\u001b[1;32m     22\u001b[0m \u001b[0;34m\u001b[0m\u001b[0m\n",
      "\u001b[0;32m~/scVI/scvi/inference/posterior.py\u001b[0m in \u001b[0;36m__init__\u001b[0;34m(self, model, gene_dataset, shuffle, indices, use_cuda, batch_size, data_loader_kwargs)\u001b[0m\n\u001b[1;32m    139\u001b[0m     ):\n\u001b[1;32m    140\u001b[0m         \u001b[0mself\u001b[0m\u001b[0;34m.\u001b[0m\u001b[0mmodel\u001b[0m \u001b[0;34m=\u001b[0m \u001b[0mmodel\u001b[0m\u001b[0;34m\u001b[0m\u001b[0;34m\u001b[0m\u001b[0m\n\u001b[0;32m--> 141\u001b[0;31m         \u001b[0mself\u001b[0m\u001b[0;34m.\u001b[0m\u001b[0mgene_dataset\u001b[0m \u001b[0;34m=\u001b[0m \u001b[0mBioDataset\u001b[0m\u001b[0;34m(\u001b[0m\u001b[0mgene_dataset\u001b[0m\u001b[0;34m)\u001b[0m\u001b[0;34m\u001b[0m\u001b[0;34m\u001b[0m\u001b[0m\n\u001b[0m\u001b[1;32m    142\u001b[0m         \u001b[0mself\u001b[0m\u001b[0;34m.\u001b[0m\u001b[0mto_monitor\u001b[0m \u001b[0;34m=\u001b[0m \u001b[0;34m[\u001b[0m\u001b[0;34m]\u001b[0m\u001b[0;34m\u001b[0m\u001b[0;34m\u001b[0m\u001b[0m\n\u001b[1;32m    143\u001b[0m         \u001b[0mself\u001b[0m\u001b[0;34m.\u001b[0m\u001b[0muse_cuda\u001b[0m \u001b[0;34m=\u001b[0m \u001b[0muse_cuda\u001b[0m\u001b[0;34m\u001b[0m\u001b[0;34m\u001b[0m\u001b[0m\n",
      "\u001b[0;32m~/scVI/scvi/dataset/biodataset.py\u001b[0m in \u001b[0;36m__init__\u001b[0;34m(self, adata, getitem_tensors)\u001b[0m\n\u001b[1;32m     22\u001b[0m     ):\n\u001b[1;32m     23\u001b[0m         assert (\n\u001b[0;32m---> 24\u001b[0;31m             \u001b[0;34m\"scvi_data_registry\"\u001b[0m \u001b[0;32min\u001b[0m \u001b[0madata\u001b[0m\u001b[0;34m.\u001b[0m\u001b[0muns_keys\u001b[0m\u001b[0;34m(\u001b[0m\u001b[0;34m)\u001b[0m\u001b[0;34m\u001b[0m\u001b[0;34m\u001b[0m\u001b[0m\n\u001b[0m\u001b[1;32m     25\u001b[0m         ), \"Please register your anndata first\"\n\u001b[1;32m     26\u001b[0m \u001b[0;34m\u001b[0m\u001b[0m\n",
      "\u001b[0;31mAttributeError\u001b[0m: 'SmfishDataset' object has no attribute 'uns_keys'"
     ]
    }
   ],
   "source": [
    "import torch\n",
    "\n",
    "torch.manual_seed(0)\n",
    "\n",
    "model = JVAE(\n",
    "    n_inputs,\n",
    "    total_genes,\n",
    "    gene_mappings,\n",
    "    generative_distributions,\n",
    "    model_library_size,\n",
    "    n_layers_decoder_individual=0,\n",
    "    n_layers_decoder_shared=0,\n",
    "    n_layers_encoder_individual=1,\n",
    "    n_layers_encoder_shared=1,\n",
    "    dim_hidden_encoder=64,\n",
    "    dim_hidden_decoder_shared=64,\n",
    "    dropout_rate_encoder=0.2,\n",
    "    dropout_rate_decoder=0.2,\n",
    "    n_batch=n_batches,\n",
    "    n_latent=n_latent,\n",
    ")\n",
    "\n",
    "discriminator = Classifier(n_latent, 32, 2, 3, logits=True)\n",
    "\n",
    "trainer = JVAETrainer(model, discriminator, datasets, 0.95, frequency=1, kappa=kappa)"
   ]
  },
  {
   "cell_type": "code",
   "execution_count": 11,
   "metadata": {},
   "outputs": [
    {
     "ename": "NameError",
     "evalue": "name 'if_not_test_else' is not defined",
     "output_type": "error",
     "traceback": [
      "\u001b[0;31m---------------------------------------------------------------------------\u001b[0m",
      "\u001b[0;31mNameError\u001b[0m                                 Traceback (most recent call last)",
      "\u001b[0;32m<ipython-input-11-3b2084b5a10b>\u001b[0m in \u001b[0;36m<module>\u001b[0;34m\u001b[0m\n\u001b[0;32m----> 1\u001b[0;31m \u001b[0mn_epochs\u001b[0m \u001b[0;34m=\u001b[0m \u001b[0mif_not_test_else\u001b[0m\u001b[0;34m(\u001b[0m\u001b[0;36m200\u001b[0m\u001b[0;34m,\u001b[0m \u001b[0;36m1\u001b[0m\u001b[0;34m)\u001b[0m\u001b[0;34m\u001b[0m\u001b[0;34m\u001b[0m\u001b[0m\n\u001b[0m\u001b[1;32m      2\u001b[0m \u001b[0mtrainer\u001b[0m\u001b[0;34m.\u001b[0m\u001b[0mtrain\u001b[0m\u001b[0;34m(\u001b[0m\u001b[0mn_epochs\u001b[0m\u001b[0;34m=\u001b[0m\u001b[0mn_epochs\u001b[0m\u001b[0;34m)\u001b[0m\u001b[0;34m\u001b[0m\u001b[0;34m\u001b[0m\u001b[0m\n",
      "\u001b[0;31mNameError\u001b[0m: name 'if_not_test_else' is not defined"
     ]
    }
   ],
   "source": [
    "n_epochs = if_not_test_else(200, 1)\n",
    "trainer.train(n_epochs=n_epochs)"
   ]
  },
  {
   "cell_type": "code",
   "execution_count": null,
   "metadata": {},
   "outputs": [],
   "source": []
  }
 ],
 "metadata": {
  "kernelspec": {
   "display_name": "Python scvi",
   "language": "python",
   "name": "scvi"
  },
  "language_info": {
   "codemirror_mode": {
    "name": "ipython",
    "version": 3
   },
   "file_extension": ".py",
   "mimetype": "text/x-python",
   "name": "python",
   "nbconvert_exporter": "python",
   "pygments_lexer": "ipython3",
   "version": "3.6.10"
  }
 },
 "nbformat": 4,
 "nbformat_minor": 2
}
