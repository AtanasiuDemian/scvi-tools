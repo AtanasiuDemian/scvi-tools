{
 "cells": [
  {
   "cell_type": "code",
   "execution_count": 16,
   "metadata": {},
   "outputs": [
    {
     "name": "stdout",
     "output_type": "stream",
     "text": [
      "The autoreload extension is already loaded. To reload it, use:\n",
      "  %reload_ext autoreload\n"
     ]
    }
   ],
   "source": [
    "%load_ext autoreload\n",
    "%autoreload 2\n",
    "%aimport anndata\n",
    "%aimport os\n",
    "%aimport torch\n",
    "import numpy as np\n",
    "import pandas as pd\n",
    "import scipy as sp\n",
    "import matplotlib.pyplot as plt\n",
    "from typing import Dict, Union, List, Tuple\n",
    "from torch.utils.data import Dataset\n",
    "# Control UMAP numba warnings\n",
    "import warnings; warnings.simplefilter('ignore')\n",
    "import copy\n",
    "import scvi\n",
    "from scvi.dataset.cortex import CortexDataset\n",
    "from scvi.models import VAE\n",
    "from scvi.inference import UnsupervisedTrainer, load_posterior\n",
    "from scvi import set_seed\n",
    "from scvi.dataset import setup_anndata\n",
    "\n",
    "#STUFF THAT I MESSED AROUND WITH\n",
    "# from BioDataset import BioDataset\n",
    "# from constants import X_KEY, BATCH_KEY, LOCAL_L_MEAN_KEY, LOCAL_L_VAR_KEY, LABELS_KEY\n",
    "\n",
    "# Sets torch and numpy random seeds, run after all scvi imports\n",
    "set_seed(0)\n"
   ]
  },
  {
   "cell_type": "code",
   "execution_count": 19,
   "metadata": {},
   "outputs": [
    {
     "name": "stdout",
     "output_type": "stream",
     "text": [
      "[2020-06-26 12:08:00,815] INFO - scvi.dataset.dataset | File /Users/galen/scVI/galen/data/pbmc_10k_protein.h5ad already downloaded\n",
      "[2020-06-26 12:08:02,863] INFO - scvi.dataset.dataset | Remapping batch_indices to [0,N]\n",
      "[2020-06-26 12:08:02,864] INFO - scvi.dataset.dataset | Remapping labels to [0,N]\n",
      "[2020-06-26 12:08:04,307] INFO - scvi.dataset.dataset | Computing the library size for the new data\n",
      "[2020-06-26 12:08:04,675] INFO - scvi.dataset.dataset | Downsampled from 6855 to 6855 cells\n",
      "[2020-06-26 12:08:04,724] INFO - scvi.dataset.dataset | File /Users/galen/scVI/galen/data/pbmc_5k_protein.h5ad already downloaded\n",
      "[2020-06-26 12:08:05,990] INFO - scvi.dataset.dataset | Remapping batch_indices to [0,N]\n",
      "[2020-06-26 12:08:05,991] INFO - scvi.dataset.dataset | Remapping labels to [0,N]\n",
      "[2020-06-26 12:08:06,822] INFO - scvi.dataset.dataset | Computing the library size for the new data\n",
      "[2020-06-26 12:08:07,035] INFO - scvi.dataset.dataset | Downsampled from 3994 to 3994 cells\n"
     ]
    }
   ],
   "source": [
    "from scvi.dataset.dataset import   GeneExpressionDataset\n",
    "from scvi.dataset.anndataset import DownloadableAnnDataset\n",
    "save_path = \"data/\"\n",
    "dataset1 = DownloadableAnnDataset(\n",
    "    \"pbmc_10k_protein.h5ad\",\n",
    "    save_path=save_path,\n",
    "    url=\"https://github.com/YosefLab/scVI-data/raw/master/pbmc_10k_protein_v3.h5ad?raw=true\",\n",
    "    cell_measurements_col_mappings={\"protein_expression\":\"protein_names\"},\n",
    ")\n",
    "\n",
    "dataset2 = DownloadableAnnDataset(\n",
    "    \"pbmc_5k_protein.h5ad\",\n",
    "    save_path=save_path,\n",
    "    url=\"https://github.com/YosefLab/scVI-data/raw/master/pbmc_5k_protein_v3.h5ad?raw=true\",\n",
    "    cell_measurements_col_mappings={\"protein_expression\":\"protein_names\"},\n",
    ")"
   ]
  },
  {
   "cell_type": "code",
   "execution_count": 20,
   "metadata": {},
   "outputs": [],
   "source": [
    "from scvi.models import TOTALVI\n",
    "from scvi.inference import TotalPosterior, TotalTrainer"
   ]
  },
  {
   "cell_type": "code",
   "execution_count": 21,
   "metadata": {},
   "outputs": [
    {
     "name": "stdout",
     "output_type": "stream",
     "text": [
      "[2020-06-26 12:08:07,137] INFO - scvi.dataset.dataset | Merging datasets. Input objects are modified in place.\n",
      "[2020-06-26 12:08:07,138] INFO - scvi.dataset.dataset | Gene names and cell measurement names are assumed to have a non-null intersection between datasets.\n",
      "[2020-06-26 12:08:07,164] INFO - scvi.dataset.dataset | Keeping 15792 genes\n",
      "[2020-06-26 12:08:09,576] INFO - scvi.dataset.dataset | Computing the library size for the new data\n",
      "[2020-06-26 12:08:10,969] INFO - scvi.dataset.dataset | Remapping batch_indices to [0,N]\n",
      "[2020-06-26 12:08:10,971] INFO - scvi.dataset.dataset | Remapping labels to [0,N]\n",
      "[2020-06-26 12:08:12,297] INFO - scvi.dataset.dataset | Computing the library size for the new data\n",
      "[2020-06-26 12:08:12,933] INFO - scvi.dataset.dataset | Remapping batch_indices to [0,N]\n",
      "[2020-06-26 12:08:12,934] INFO - scvi.dataset.dataset | Remapping labels to [0,N]\n",
      "[2020-06-26 12:08:15,975] INFO - scvi.dataset.dataset | Remapping batch_indices to [0,N]\n",
      "[2020-06-26 12:08:15,976] INFO - scvi.dataset.dataset | Remapping labels to [0,N]\n",
      "[2020-06-26 12:08:15,978] INFO - scvi.dataset.dataset | Keeping 14 columns in protein_expression\n",
      "[2020-06-26 12:08:16,561] INFO - scvi.dataset.dataset | extracting highly variable genes using seurat_v3 flavor\n",
      "[2020-06-26 12:08:23,512] INFO - scvi.dataset.dataset | Downsampling from 15792 to 4000 genes\n",
      "[2020-06-26 12:08:24,571] INFO - scvi.dataset.dataset | Computing the library size for the new data\n",
      "[2020-06-26 12:08:25,024] INFO - scvi.dataset.dataset | Filtering non-expressing cells.\n",
      "[2020-06-26 12:08:25,869] INFO - scvi.dataset.dataset | Computing the library size for the new data\n",
      "[2020-06-26 12:08:25,930] INFO - scvi.dataset.dataset | Downsampled from 10849 to 10849 cells\n"
     ]
    }
   ],
   "source": [
    "# concatenate the datasets\n",
    "dataset = GeneExpressionDataset()\n",
    "dataset.populate_from_datasets([dataset1, dataset2])\n",
    "dataset.subsample_genes(4000)"
   ]
  },
  {
   "cell_type": "code",
   "execution_count": 22,
   "metadata": {},
   "outputs": [],
   "source": [
    "adata = dataset.to_anndata()"
   ]
  },
  {
   "cell_type": "code",
   "execution_count": 23,
   "metadata": {},
   "outputs": [
    {
     "name": "stdout",
     "output_type": "stream",
     "text": [
      "[2020-06-26 12:08:26,359] INFO - scvi.dataset._anndata | Using data from adata.X\n",
      "[2020-06-26 12:08:26,360] INFO - scvi.dataset._anndata | Using batches from adata.obs[\"batch_indices\"]\n",
      "[2020-06-26 12:08:26,361] INFO - scvi.dataset._anndata | No label_key inputted, assuming all cells have same label\n",
      "[2020-06-26 12:08:26,364] INFO - scvi.dataset._anndata | Computing library size prior per batch\n",
      "[2020-06-26 12:08:26,446] INFO - scvi.dataset._anndata | Successfully registered anndata object containing 10849 cells, 4000 genes, and 2 batches \n",
      "Registered keys:['X', 'batch_indices', 'local_l_mean', 'local_l_var', 'labels', 'protein_expression']\n"
     ]
    }
   ],
   "source": [
    "setup_anndata(adata, protein_expression_obsm_key = 'protein_expression', batch_key = 'batch_indices')"
   ]
  },
  {
   "cell_type": "code",
   "execution_count": 24,
   "metadata": {},
   "outputs": [],
   "source": [
    "test_mode = False\n",
    "\n",
    "totalvae = TOTALVI(\n",
    "    adata.uns['scvi_summary_stats']['n_genes'], \n",
    "    adata.uns['scvi_summary_stats']['n_proteins'], \n",
    "    0\n",
    "#     adata.uns['scvi_summary_stats']['n_batch'],\n",
    ")\n",
    "use_cuda = True\n",
    "lr = 4e-3\n",
    "n_epochs = 500\n",
    "\n",
    "# totalVI is trained on 90% of the data\n",
    "# Early stopping does not comply with our automatic notebook testing so we disable it when testing\n",
    "trainer = TotalTrainer(\n",
    "    totalvae,\n",
    "    adata,\n",
    "    train_size=0.90,\n",
    "    test_size=0.10,\n",
    "    use_cuda=use_cuda,\n",
    "    frequency=1,\n",
    "    batch_size=256,\n",
    "    early_stopping_kwargs=\"auto\" if not test_mode else None\n",
    ")"
   ]
  },
  {
   "cell_type": "code",
   "execution_count": 25,
   "metadata": {},
   "outputs": [
    {
     "name": "stdout",
     "output_type": "stream",
     "text": [
      "[2020-06-26 12:08:30,579] INFO - scvi.inference.inference | KL warmup phase may exceed overall training phase.If your applications rely on posterior quality, consider training for more epochs or reducing the kl warmup.\n",
      "[2020-06-26 12:08:30,579] INFO - scvi.inference.inference | KL warmup for 8136.75 iterations\n"
     ]
    },
    {
     "data": {
      "application/vnd.jupyter.widget-view+json": {
       "model_id": "099d0c54357c4f3abb02a080823281d6",
       "version_major": 2,
       "version_minor": 0
      },
      "text/plain": [
       "HBox(children=(FloatProgress(value=0.0, description='training', max=10.0, style=ProgressStyle(description_widt…"
      ]
     },
     "metadata": {},
     "output_type": "display_data"
    },
    {
     "name": "stdout",
     "output_type": "stream",
     "text": [
      "\n",
      "[2020-06-26 12:10:52,206] INFO - scvi.inference.inference | Training is still in warming up phase. If your applications rely on the posterior quality, consider training for more epochs or reducing the kl warmup.\n"
     ]
    }
   ],
   "source": [
    "trainer.train(n_epochs = 10)"
   ]
  }
 ],
 "metadata": {
  "kernelspec": {
   "display_name": "Python scvi",
   "language": "python",
   "name": "scvi"
  },
  "language_info": {
   "codemirror_mode": {
    "name": "ipython",
    "version": 3
   },
   "file_extension": ".py",
   "mimetype": "text/x-python",
   "name": "python",
   "nbconvert_exporter": "python",
   "pygments_lexer": "ipython3",
   "version": "3.6.10"
  }
 },
 "nbformat": 4,
 "nbformat_minor": 2
}
