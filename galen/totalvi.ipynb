{
 "cells": [
  {
   "cell_type": "code",
   "execution_count": 1,
   "metadata": {},
   "outputs": [],
   "source": [
    "%load_ext autoreload\n",
    "%autoreload 2\n",
    "%aimport anndata\n",
    "%aimport os\n",
    "%aimport torch\n",
    "import numpy as np\n",
    "import pandas as pd\n",
    "import scipy as sp\n",
    "import matplotlib.pyplot as plt\n",
    "from typing import Dict, Union, List, Tuple\n",
    "from torch.utils.data import Dataset\n",
    "# Control UMAP numba warnings\n",
    "import warnings; warnings.simplefilter('ignore')\n",
    "import copy\n",
    "import scvi\n",
    "from scvi.dataset.cortex import CortexDataset\n",
    "from scvi.models import VAE\n",
    "from scvi.inference import UnsupervisedTrainer, load_posterior\n",
    "from scvi import set_seed\n",
    "from scvi.dataset import setup_anndata\n",
    "\n",
    "#STUFF THAT I MESSED AROUND WITH\n",
    "# from BioDataset import BioDataset\n",
    "# from constants import X_KEY, BATCH_KEY, LOCAL_L_MEAN_KEY, LOCAL_L_VAR_KEY, LABELS_KEY\n",
    "\n",
    "# Sets torch and numpy random seeds, run after all scvi imports\n",
    "set_seed(0)\n"
   ]
  },
  {
   "cell_type": "code",
   "execution_count": 2,
   "metadata": {},
   "outputs": [
    {
     "name": "stdout",
     "output_type": "stream",
     "text": [
      "[2020-06-30 13:08:41,238] INFO - scvi.dataset.dataset | File /Users/galen/scVI/galen/data/pbmc_10k_protein.h5ad already downloaded\n",
      "[2020-06-30 13:08:43,195] INFO - scvi.dataset.dataset | Remapping batch_indices to [0,N]\n",
      "[2020-06-30 13:08:43,196] INFO - scvi.dataset.dataset | Remapping labels to [0,N]\n",
      "[2020-06-30 13:08:44,836] INFO - scvi.dataset.dataset | Computing the library size for the new data\n",
      "[2020-06-30 13:08:45,213] INFO - scvi.dataset.dataset | Downsampled from 6855 to 6855 cells\n",
      "[2020-06-30 13:08:45,249] INFO - scvi.dataset.dataset | File /Users/galen/scVI/galen/data/pbmc_5k_protein.h5ad already downloaded\n",
      "[2020-06-30 13:08:46,483] INFO - scvi.dataset.dataset | Remapping batch_indices to [0,N]\n",
      "[2020-06-30 13:08:46,484] INFO - scvi.dataset.dataset | Remapping labels to [0,N]\n",
      "[2020-06-30 13:08:47,411] INFO - scvi.dataset.dataset | Computing the library size for the new data\n",
      "[2020-06-30 13:08:47,621] INFO - scvi.dataset.dataset | Downsampled from 3994 to 3994 cells\n"
     ]
    }
   ],
   "source": [
    "from scvi.dataset.dataset import   GeneExpressionDataset\n",
    "from scvi.dataset.anndataset import DownloadableAnnDataset\n",
    "save_path = \"data/\"\n",
    "dataset1 = DownloadableAnnDataset(\n",
    "    \"pbmc_10k_protein.h5ad\",\n",
    "    save_path=save_path,\n",
    "    url=\"https://github.com/YosefLab/scVI-data/raw/master/pbmc_10k_protein_v3.h5ad?raw=true\",\n",
    "    cell_measurements_col_mappings={\"protein_expression\":\"protein_names\"},\n",
    ")\n",
    "\n",
    "dataset2 = DownloadableAnnDataset(\n",
    "    \"pbmc_5k_protein.h5ad\",\n",
    "    save_path=save_path,\n",
    "    url=\"https://github.com/YosefLab/scVI-data/raw/master/pbmc_5k_protein_v3.h5ad?raw=true\",\n",
    "    cell_measurements_col_mappings={\"protein_expression\":\"protein_names\"},\n",
    ")"
   ]
  },
  {
   "cell_type": "code",
   "execution_count": 3,
   "metadata": {},
   "outputs": [],
   "source": [
    "from scvi.models import TOTALVI\n",
    "from scvi.inference import TotalPosterior, TotalTrainer"
   ]
  },
  {
   "cell_type": "code",
   "execution_count": 4,
   "metadata": {},
   "outputs": [
    {
     "name": "stdout",
     "output_type": "stream",
     "text": [
      "[2020-06-30 13:08:47,711] INFO - scvi.dataset.dataset | Merging datasets. Input objects are modified in place.\n",
      "[2020-06-30 13:08:47,712] INFO - scvi.dataset.dataset | Gene names and cell measurement names are assumed to have a non-null intersection between datasets.\n",
      "[2020-06-30 13:08:47,743] INFO - scvi.dataset.dataset | Keeping 15792 genes\n",
      "[2020-06-30 13:08:50,085] INFO - scvi.dataset.dataset | Computing the library size for the new data\n",
      "[2020-06-30 13:08:51,129] INFO - scvi.dataset.dataset | Remapping batch_indices to [0,N]\n",
      "[2020-06-30 13:08:51,130] INFO - scvi.dataset.dataset | Remapping labels to [0,N]\n",
      "[2020-06-30 13:08:52,462] INFO - scvi.dataset.dataset | Computing the library size for the new data\n",
      "[2020-06-30 13:08:53,010] INFO - scvi.dataset.dataset | Remapping batch_indices to [0,N]\n",
      "[2020-06-30 13:08:53,011] INFO - scvi.dataset.dataset | Remapping labels to [0,N]\n",
      "[2020-06-30 13:08:56,051] INFO - scvi.dataset.dataset | Remapping batch_indices to [0,N]\n",
      "[2020-06-30 13:08:56,052] INFO - scvi.dataset.dataset | Remapping labels to [0,N]\n",
      "[2020-06-30 13:08:56,054] INFO - scvi.dataset.dataset | Keeping 14 columns in protein_expression\n",
      "[2020-06-30 13:08:56,685] INFO - scvi.dataset.dataset | extracting highly variable genes using seurat_v3 flavor\n",
      "[2020-06-30 13:09:03,878] INFO - scvi.dataset.dataset | Downsampling from 15792 to 4000 genes\n",
      "[2020-06-30 13:09:04,910] INFO - scvi.dataset.dataset | Computing the library size for the new data\n",
      "[2020-06-30 13:09:05,306] INFO - scvi.dataset.dataset | Filtering non-expressing cells.\n",
      "[2020-06-30 13:09:06,154] INFO - scvi.dataset.dataset | Computing the library size for the new data\n",
      "[2020-06-30 13:09:06,221] INFO - scvi.dataset.dataset | Downsampled from 10849 to 10849 cells\n"
     ]
    }
   ],
   "source": [
    "# concatenate the datasets\n",
    "dataset = GeneExpressionDataset()\n",
    "dataset.populate_from_datasets([dataset1, dataset2])\n",
    "dataset.subsample_genes(4000)"
   ]
  },
  {
   "cell_type": "code",
   "execution_count": 5,
   "metadata": {},
   "outputs": [],
   "source": [
    "adata = dataset.to_anndata()"
   ]
  },
  {
   "cell_type": "code",
   "execution_count": 6,
   "metadata": {},
   "outputs": [
    {
     "name": "stdout",
     "output_type": "stream",
     "text": [
      "[2020-06-30 13:09:06,726] INFO - scvi.dataset._anndata | Using data from adata.X\n",
      "[2020-06-30 13:09:06,726] INFO - scvi.dataset._anndata | Using batches from adata.obs[\"batch_indices\"]\n",
      "[2020-06-30 13:09:06,727] INFO - scvi.dataset._anndata | No label_key inputted, assuming all cells have same label\n",
      "[2020-06-30 13:09:06,732] INFO - scvi.dataset._anndata | Computing library size prior per batch\n",
      "[2020-06-30 13:09:06,814] INFO - scvi.dataset._anndata | Successfully registered anndata object containing 10849 cells, 4000 genes, and 2 batches \n",
      "Registered keys:['X', 'batch_indices', 'local_l_mean', 'local_l_var', 'labels', 'protein_expression']\n"
     ]
    }
   ],
   "source": [
    "setup_anndata(adata, protein_expression_obsm_key = 'protein_expression', batch_key = 'batch_indices')"
   ]
  },
  {
   "cell_type": "code",
   "execution_count": 8,
   "metadata": {},
   "outputs": [],
   "source": [
    "test_mode = False\n",
    "\n",
    "totalvae = TOTALVI(\n",
    "    adata.uns['scvi_summary_stats']['n_genes'], \n",
    "    adata.uns['scvi_summary_stats']['n_proteins'], \n",
    "    0\n",
    "#     adata.uns['scvi_summary_stats']['n_batch'],\n",
    ")\n",
    "use_cuda = True\n",
    "lr = 4e-3\n",
    "n_epochs = 500\n",
    "\n",
    "# totalVI is trained on 90% of the data\n",
    "# Early stopping does not comply with our automatic notebook testing so we disable it when testing\n",
    "trainer = TotalTrainer(\n",
    "    totalvae,\n",
    "    adata,\n",
    "    train_size=0.90,\n",
    "    test_size=0.10,\n",
    "    use_cuda=use_cuda,\n",
    "    frequency=1,\n",
    "    batch_size=256,\n",
    "    early_stopping_kwargs=\"auto\" if not test_mode else None\n",
    ")"
   ]
  },
  {
   "cell_type": "code",
   "execution_count": 9,
   "metadata": {},
   "outputs": [
    {
     "name": "stdout",
     "output_type": "stream",
     "text": [
      "[2020-06-29 15:24:30,106] INFO - scvi.inference.inference | KL warmup phase may exceed overall training phase.If your applications rely on posterior quality, consider training for more epochs or reducing the kl warmup.\n",
      "[2020-06-29 15:24:30,107] INFO - scvi.inference.inference | KL warmup for 8136.75 iterations\n"
     ]
    },
    {
     "data": {
      "application/vnd.jupyter.widget-view+json": {
       "model_id": "d5038089c25449cebd51c7b420d62613",
       "version_major": 2,
       "version_minor": 0
      },
      "text/plain": [
       "HBox(children=(FloatProgress(value=0.0, description='training', max=10.0, style=ProgressStyle(description_widt…"
      ]
     },
     "metadata": {},
     "output_type": "display_data"
    },
    {
     "name": "stdout",
     "output_type": "stream",
     "text": [
      "\n",
      "[2020-06-29 15:26:44,959] INFO - scvi.inference.inference | Training is still in warming up phase. If your applications rely on the posterior quality, consider training for more epochs or reducing the kl warmup.\n"
     ]
    }
   ],
   "source": [
    "trainer.train(n_epochs = 10)"
   ]
  },
  {
   "cell_type": "code",
   "execution_count": null,
   "metadata": {},
   "outputs": [],
   "source": []
  }
 ],
 "metadata": {
  "kernelspec": {
   "display_name": "Python scvi",
   "language": "python",
   "name": "scvi"
  },
  "language_info": {
   "codemirror_mode": {
    "name": "ipython",
    "version": 3
   },
   "file_extension": ".py",
   "mimetype": "text/x-python",
   "name": "python",
   "nbconvert_exporter": "python",
   "pygments_lexer": "ipython3",
   "version": "3.6.10"
  }
 },
 "nbformat": 4,
 "nbformat_minor": 2
}
