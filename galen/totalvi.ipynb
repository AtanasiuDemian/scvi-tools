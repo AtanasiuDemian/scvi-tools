{
 "cells": [
  {
   "cell_type": "code",
   "execution_count": 1,
   "metadata": {},
   "outputs": [],
   "source": [
    "%load_ext autoreload\n",
    "%autoreload 2\n",
    "%aimport anndata\n",
    "%aimport os\n",
    "%aimport torch\n",
    "import numpy as np\n",
    "import pandas as pd\n",
    "import scipy as sp\n",
    "import matplotlib.pyplot as plt\n",
    "from typing import Dict, Union, List, Tuple\n",
    "from torch.utils.data import Dataset\n",
    "# Control UMAP numba warnings\n",
    "import warnings; warnings.simplefilter('ignore')\n",
    "import copy\n",
    "import scvi\n",
    "from scvi.dataset import CortexDataset, RetinaDataset, CsvDataset\n",
    "from scvi.models import VAE\n",
    "from scvi.inference import UnsupervisedTrainer, load_posterior\n",
    "from scvi import set_seed\n",
    "from scvi.dataset.utils import setup_anndata\n",
    "\n",
    "#STUFF THAT I MESSED AROUND WITH\n",
    "# from BioDataset import BioDataset\n",
    "# from constants import X_KEY, BATCH_KEY, LOCAL_L_MEAN_KEY, LOCAL_L_VAR_KEY, LABELS_KEY\n",
    "\n",
    "# Sets torch and numpy random seeds, run after all scvi imports\n",
    "set_seed(0)\n"
   ]
  },
  {
   "cell_type": "code",
   "execution_count": 2,
   "metadata": {},
   "outputs": [
    {
     "name": "stdout",
     "output_type": "stream",
     "text": [
      "[2020-06-25 12:45:53,959] INFO - scvi.dataset.dataset | File /Users/galen/scVI/galen/data/pbmc_10k_protein.h5ad already downloaded\n",
      "[2020-06-25 12:45:55,841] INFO - scvi.dataset.dataset | Remapping batch_indices to [0,N]\n",
      "[2020-06-25 12:45:55,842] INFO - scvi.dataset.dataset | Remapping labels to [0,N]\n",
      "[2020-06-25 12:45:57,271] INFO - scvi.dataset.dataset | Computing the library size for the new data\n",
      "[2020-06-25 12:45:57,637] INFO - scvi.dataset.dataset | Downsampled from 6855 to 6855 cells\n",
      "[2020-06-25 12:45:57,685] INFO - scvi.dataset.dataset | File /Users/galen/scVI/galen/data/pbmc_5k_protein.h5ad already downloaded\n",
      "[2020-06-25 12:45:58,860] INFO - scvi.dataset.dataset | Remapping batch_indices to [0,N]\n",
      "[2020-06-25 12:45:58,861] INFO - scvi.dataset.dataset | Remapping labels to [0,N]\n",
      "[2020-06-25 12:45:59,644] INFO - scvi.dataset.dataset | Computing the library size for the new data\n",
      "[2020-06-25 12:45:59,846] INFO - scvi.dataset.dataset | Downsampled from 3994 to 3994 cells\n"
     ]
    }
   ],
   "source": [
    "from scvi.dataset import  DownloadableAnnDataset, GeneExpressionDataset\n",
    "save_path = \"data/\"\n",
    "dataset1 = DownloadableAnnDataset(\n",
    "    \"pbmc_10k_protein.h5ad\",\n",
    "    save_path=save_path,\n",
    "    url=\"https://github.com/YosefLab/scVI-data/raw/master/pbmc_10k_protein_v3.h5ad?raw=true\",\n",
    "    cell_measurements_col_mappings={\"protein_expression\":\"protein_names\"},\n",
    ")\n",
    "\n",
    "dataset2 = DownloadableAnnDataset(\n",
    "    \"pbmc_5k_protein.h5ad\",\n",
    "    save_path=save_path,\n",
    "    url=\"https://github.com/YosefLab/scVI-data/raw/master/pbmc_5k_protein_v3.h5ad?raw=true\",\n",
    "    cell_measurements_col_mappings={\"protein_expression\":\"protein_names\"},\n",
    ")"
   ]
  },
  {
   "cell_type": "code",
   "execution_count": 3,
   "metadata": {},
   "outputs": [],
   "source": [
    "from scvi.models import TOTALVI\n",
    "from scvi.inference import TotalPosterior, TotalTrainer"
   ]
  },
  {
   "cell_type": "code",
   "execution_count": 4,
   "metadata": {},
   "outputs": [
    {
     "name": "stdout",
     "output_type": "stream",
     "text": [
      "[2020-06-25 12:45:59,930] INFO - scvi.dataset.dataset | Merging datasets. Input objects are modified in place.\n",
      "[2020-06-25 12:45:59,931] INFO - scvi.dataset.dataset | Gene names and cell measurement names are assumed to have a non-null intersection between datasets.\n",
      "[2020-06-25 12:45:59,956] INFO - scvi.dataset.dataset | Keeping 15792 genes\n",
      "[2020-06-25 12:46:02,305] INFO - scvi.dataset.dataset | Computing the library size for the new data\n",
      "[2020-06-25 12:46:03,525] INFO - scvi.dataset.dataset | Remapping batch_indices to [0,N]\n",
      "[2020-06-25 12:46:03,526] INFO - scvi.dataset.dataset | Remapping labels to [0,N]\n",
      "[2020-06-25 12:46:04,814] INFO - scvi.dataset.dataset | Computing the library size for the new data\n",
      "[2020-06-25 12:46:05,430] INFO - scvi.dataset.dataset | Remapping batch_indices to [0,N]\n",
      "[2020-06-25 12:46:05,431] INFO - scvi.dataset.dataset | Remapping labels to [0,N]\n",
      "[2020-06-25 12:46:08,414] INFO - scvi.dataset.dataset | Remapping batch_indices to [0,N]\n",
      "[2020-06-25 12:46:08,415] INFO - scvi.dataset.dataset | Remapping labels to [0,N]\n",
      "[2020-06-25 12:46:08,417] INFO - scvi.dataset.dataset | Keeping 14 columns in protein_expression\n",
      "[2020-06-25 12:46:09,013] INFO - scvi.dataset.dataset | extracting highly variable genes using seurat_v3 flavor\n",
      "[2020-06-25 12:46:15,014] INFO - scvi.dataset.dataset | Downsampling from 15792 to 4000 genes\n",
      "[2020-06-25 12:46:16,003] INFO - scvi.dataset.dataset | Computing the library size for the new data\n",
      "[2020-06-25 12:46:16,458] INFO - scvi.dataset.dataset | Filtering non-expressing cells.\n",
      "[2020-06-25 12:46:17,308] INFO - scvi.dataset.dataset | Computing the library size for the new data\n",
      "[2020-06-25 12:46:17,381] INFO - scvi.dataset.dataset | Downsampled from 10849 to 10849 cells\n"
     ]
    }
   ],
   "source": [
    "# concatenate the datasets\n",
    "dataset = GeneExpressionDataset()\n",
    "dataset.populate_from_datasets([dataset1, dataset2])\n",
    "dataset.subsample_genes(4000)"
   ]
  },
  {
   "cell_type": "code",
   "execution_count": 5,
   "metadata": {},
   "outputs": [],
   "source": [
    "adata = dataset.to_anndata()"
   ]
  },
  {
   "cell_type": "code",
   "execution_count": 6,
   "metadata": {},
   "outputs": [
    {
     "name": "stdout",
     "output_type": "stream",
     "text": [
      "[2020-06-25 12:46:17,975] INFO - scvi.dataset.utils | Using data from adata.X\n",
      "[2020-06-25 12:46:17,976] INFO - scvi.dataset.utils | Using batches from adata.obs[\"batch_indices\"]\n",
      "[2020-06-25 12:46:17,976] INFO - scvi.dataset.utils | No label_key inputted, assuming all cells have same label\n",
      "[2020-06-25 12:46:17,980] INFO - scvi.dataset.utils | Computing library size prior per batch\n",
      "[2020-06-25 12:46:18,065] INFO - scvi.dataset.utils | Successfully registered anndata object containing 10849 cells, 4000 genes, and 2 batches \n",
      "Registered keys:['X', 'batch_indices', 'local_l_mean', 'local_l_var', 'labels', 'protein_expression']\n"
     ]
    }
   ],
   "source": [
    "setup_anndata(adata, protein_expression_obsm_key = 'protein_expression', batch_key = 'batch_indices')"
   ]
  },
  {
   "cell_type": "code",
   "execution_count": 7,
   "metadata": {},
   "outputs": [],
   "source": [
    "test_mode = False\n",
    "\n",
    "totalvae = TOTALVI(\n",
    "    adata.uns['scvi_summary_stats']['n_genes'], \n",
    "    adata.uns['scvi_summary_stats']['n_proteins'], \n",
    "    0\n",
    "#     adata.uns['scvi_summary_stats']['n_batch'],\n",
    ")\n",
    "use_cuda = True\n",
    "lr = 4e-3\n",
    "n_epochs = 500\n",
    "\n",
    "# totalVI is trained on 90% of the data\n",
    "# Early stopping does not comply with our automatic notebook testing so we disable it when testing\n",
    "trainer = TotalTrainer(\n",
    "    totalvae,\n",
    "    adata,\n",
    "    train_size=0.90,\n",
    "    test_size=0.10,\n",
    "    use_cuda=use_cuda,\n",
    "    frequency=1,\n",
    "    batch_size=256,\n",
    "    early_stopping_kwargs=\"auto\" if not test_mode else None\n",
    ")"
   ]
  },
  {
   "cell_type": "code",
   "execution_count": null,
   "metadata": {},
   "outputs": [
    {
     "name": "stdout",
     "output_type": "stream",
     "text": [
      "> /Users/galen/scVI/scvi/dataset/biodataset.py(152)__getitem__()\n",
      "-> return data_numpy\n"
     ]
    }
   ],
   "source": [
    "trainer.train(n_epochs = 10)"
   ]
  },
  {
   "cell_type": "code",
   "execution_count": null,
   "metadata": {},
   "outputs": [],
   "source": []
  }
 ],
 "metadata": {
  "kernelspec": {
   "display_name": "Python scvi",
   "language": "python",
   "name": "scvi"
  },
  "language_info": {
   "codemirror_mode": {
    "name": "ipython",
    "version": 3
   },
   "file_extension": ".py",
   "mimetype": "text/x-python",
   "name": "python",
   "nbconvert_exporter": "python",
   "pygments_lexer": "ipython3",
   "version": "3.6.10"
  }
 },
 "nbformat": 4,
 "nbformat_minor": 2
}
