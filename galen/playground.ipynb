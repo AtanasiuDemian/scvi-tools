{
 "cells": [
  {
   "cell_type": "code",
   "execution_count": 34,
   "metadata": {},
   "outputs": [
    {
     "name": "stdout",
     "output_type": "stream",
     "text": [
      "The autoreload extension is already loaded. To reload it, use:\n",
      "  %reload_ext autoreload\n"
     ]
    }
   ],
   "source": [
    "%load_ext autoreload\n",
    "%autoreload 2\n",
    "%aimport anndata\n",
    "%aimport os\n",
    "%aimport torch\n",
    "import numpy as np\n",
    "import pandas as pd\n",
    "import scipy as sp\n",
    "import matplotlib.pyplot as plt\n",
    "from typing import Dict, Union, List, Tuple\n",
    "from torch.utils.data import Dataset\n",
    "# Control UMAP numba warnings\n",
    "import warnings; warnings.simplefilter('ignore')\n",
    "import copy\n",
    "import scvi\n",
    "\n",
    "from scvi.models.scanvi import SCANVI\n",
    "from scvi.inference import UnsupervisedTrainer, load_posterior, SemiSupervisedTrainer\n",
    "from scvi import set_seed\n",
    "from scvi.dataset import setup_anndata\n",
    "from scvi.dataset._anndata import get_from_registry\n",
    "# from scvi.dataset.dataset10X import Dataset10X\n",
    "\n",
    "# Sets torch and numpy random seeds, run after all scvi imports\n",
    "set_seed(0)\n",
    "\n",
    "\n",
    "from scvi.dataset import cortex\n",
    "from scvi.dataset.seqfish import seqfish, SeqfishDataset\n",
    "from scvi.dataset.csv import breast_cancer_dataset, mouse_ob_dataset\n",
    "from scvi.dataset.smfish import smfish\n",
    "\n",
    "from scvi.dataset._datasets import synthetic_iid"
   ]
  },
  {
   "cell_type": "code",
   "execution_count": 39,
   "metadata": {},
   "outputs": [
    {
     "name": "stdout",
     "output_type": "stream",
     "text": [
      "[2020-07-07 12:28:10,027] INFO - scvi.dataset._anndata | Using data from adata.X\n",
      "[2020-07-07 12:28:10,029] INFO - scvi.dataset._anndata | Using batches from adata.obs[\"batch\"]\n",
      "[2020-07-07 12:28:10,032] INFO - scvi.dataset._anndata | Using labels from adata.obs[\"labels\"]\n",
      "[2020-07-07 12:28:10,035] INFO - scvi.dataset._anndata | Computing library size prior per batch\n",
      "[2020-07-07 12:28:10,048] INFO - scvi.dataset._anndata | Using protein expression from adata.obsm['protein_expression']\n",
      "[2020-07-07 12:28:10,049] INFO - scvi.dataset._anndata | Using protein names from adata.uns['protein_names']\n",
      "[2020-07-07 12:28:10,051] INFO - scvi.dataset._anndata | Successfully registered anndata object containing 400 cells, 100 genes, and 2 batches \n",
      "Registered keys:['X', 'batch_indices', 'local_l_mean', 'local_l_var', 'labels', 'protein_expression']\n"
     ]
    }
   ],
   "source": [
    "adata = synthetic_iid()\n",
    "setup_anndata(\n",
    "    adata,\n",
    "    batch_key=\"batch\",\n",
    "    labels_key=\"labels\",\n",
    "    protein_expression_obsm_key=\"protein_expression\",\n",
    "    protein_names_uns_key=\"protein_names\",\n",
    ")"
   ]
  },
  {
   "cell_type": "code",
   "execution_count": 28,
   "metadata": {},
   "outputs": [],
   "source": [
    "adata = synthetic_iid()\n",
    "true_X = adata.X\n",
    "adata.layers['X'] = true_X\n",
    "adata.X = np.ones_like(adata.X)\n",
    "setup_anndata(adata, X_layers_key = 'X')\n",
    "np.testing.assert_array_equal(get_from_registry(adata, 'X'), true_X)"
   ]
  },
  {
   "cell_type": "code",
   "execution_count": 42,
   "metadata": {},
   "outputs": [
    {
     "data": {
      "text/plain": [
       "array(['0', '1', '2', '3', '4', '5', '6', '7', '8', '9', '10', '11', '12',\n",
       "       '13', '14', '15', '16', '17', '18', '19', '20', '21', '22', '23',\n",
       "       '24', '25', '26', '27', '28', '29', '30', '31', '32', '33', '34',\n",
       "       '35', '36', '37', '38', '39', '40', '41', '42', '43', '44', '45',\n",
       "       '46', '47', '48', '49', '50', '51', '52', '53', '54', '55', '56',\n",
       "       '57', '58', '59', '60', '61', '62', '63', '64', '65', '66', '67',\n",
       "       '68', '69', '70', '71', '72', '73', '74', '75', '76', '77', '78',\n",
       "       '79', '80', '81', '82', '83', '84', '85', '86', '87', '88', '89',\n",
       "       '90', '91', '92', '93', '94', '95', '96', '97', '98', '99'],\n",
       "      dtype='<U21')"
      ]
     },
     "execution_count": 42,
     "metadata": {},
     "output_type": "execute_result"
    }
   ],
   "source": [
    "adata.uns['scvi_summary_stats']['protein_names']"
   ]
  },
  {
   "cell_type": "code",
   "execution_count": 40,
   "metadata": {},
   "outputs": [
    {
     "name": "stdout",
     "output_type": "stream",
     "text": [
      "[2020-07-06 12:48:25,344] INFO - scvi.dataset._utils | File /Users/galen/scVI/galen/data/osmFISH_SScortex_mouse_all_cell.loom already downloaded\n",
      "[2020-07-06 12:48:25,347] INFO - scvi.dataset.smfish | Loading smFISH dataset\n",
      "> /Users/galen/scVI/scvi/dataset/smfish.py(44)_load_smfish()\n",
      "-> adata = anndata.AnnData(\n"
     ]
    },
    {
     "name": "stdin",
     "output_type": "stream",
     "text": [
      "(Pdb)  c\n"
     ]
    },
    {
     "name": "stdout",
     "output_type": "stream",
     "text": [
      "[2020-07-06 12:48:26,263] INFO - scvi.dataset._anndata | Using data from adata.X\n",
      "[2020-07-06 12:48:26,264] INFO - scvi.dataset._anndata | No batch_key inputted, assuming all cells are same batch\n",
      "[2020-07-06 12:48:26,268] INFO - scvi.dataset._anndata | No label_key inputted, assuming all cells have same label\n",
      "[2020-07-06 12:48:26,274] INFO - scvi.dataset._anndata | Computing library size prior per batch\n",
      "[2020-07-06 12:48:26,284] WARNING - scvi.dataset._utils | This dataset has some empty cells, this might fail scVI inference.Data should be filtered with `my_dataset.filter_cells_by_count()\n",
      "[2020-07-06 12:48:26,292] INFO - scvi.dataset._anndata | Successfully registered anndata object containing 6471 cells, 33 genes, and 1 batches \n",
      "Registered keys:['X', 'batch_indices', 'local_l_mean', 'local_l_var', 'labels']\n"
     ]
    }
   ],
   "source": [
    "s = smfish()"
   ]
  },
  {
   "cell_type": "code",
   "execution_count": 44,
   "metadata": {},
   "outputs": [
    {
     "data": {
      "text/plain": [
       "Index(['0', '1', '2', '3', '4', '5', '6', '7', '8', '9',\n",
       "       ...\n",
       "       '6461', '6462', '6463', '6464', '6465', '6466', '6467', '6468', '6469',\n",
       "       '6470'],\n",
       "      dtype='object', length=6471)"
      ]
     },
     "execution_count": 44,
     "metadata": {},
     "output_type": "execute_result"
    }
   ],
   "source": [
    "s.obs_names\n",
    "\n",
    "\n"
   ]
  },
  {
   "cell_type": "code",
   "execution_count": 38,
   "metadata": {},
   "outputs": [
    {
     "data": {
      "text/plain": [
       "AnnData object with n_obs × n_vars = 3005 × 19972 \n",
       "    obs: 'labels', 'precise_labels', 'cell_type', '_scvi_batch', '_scvi_local_l_mean', '_scvi_local_l_var'\n",
       "    uns: 'scvi_data_registry', 'scvi_summary_stats'"
      ]
     },
     "execution_count": 38,
     "metadata": {},
     "output_type": "execute_result"
    }
   ],
   "source": [
    "c"
   ]
  },
  {
   "cell_type": "code",
   "execution_count": 39,
   "metadata": {},
   "outputs": [
    {
     "name": "stderr",
     "output_type": "stream",
     "text": [
      "... storing 'precise_labels' as categorical\n",
      "... storing 'cell_type' as categorical\n"
     ]
    }
   ],
   "source": []
  },
  {
   "cell_type": "code",
   "execution_count": 11,
   "metadata": {},
   "outputs": [
    {
     "name": "stdout",
     "output_type": "stream",
     "text": [
      "http://cf.10xgenomics.com/samples/cell-exp/2.1.0/pbmc8k/pbmc8k_raw_gene_bc_matrices_h5.h5\n",
      "[2020-07-01 10:46:20,723] INFO - scvi.dataset.dataset | File data/10X/pbmc8k/raw_gene_bc_matrices_h5.h5 already downloaded\n",
      "> /Users/galen/scVI/scvi/dataset/dataset10X.py(164)__init__()\n",
      "-> # setup_anndata(adata, )\n"
     ]
    },
    {
     "name": "stdin",
     "output_type": "stream",
     "text": [
      "(Pdb)  exit\n"
     ]
    },
    {
     "ename": "BdbQuit",
     "evalue": "",
     "output_type": "error",
     "traceback": [
      "\u001b[0;31m---------------------------------------------------------------------------\u001b[0m",
      "\u001b[0;31mBdbQuit\u001b[0m                                   Traceback (most recent call last)",
      "\u001b[0;32m<ipython-input-11-5c24314a3545>\u001b[0m in \u001b[0;36m<module>\u001b[0;34m\u001b[0m\n\u001b[0;32m----> 1\u001b[0;31m \u001b[0md\u001b[0m \u001b[0;34m=\u001b[0m \u001b[0mDataset10X\u001b[0m\u001b[0;34m(\u001b[0m\u001b[0;34m\"pbmc8k\"\u001b[0m\u001b[0;34m)\u001b[0m\u001b[0;34m\u001b[0m\u001b[0;34m\u001b[0m\u001b[0m\n\u001b[0m",
      "\u001b[0;32m~/scVI/scvi/dataset/dataset10X.py\u001b[0m in \u001b[0;36m__init__\u001b[0;34m(self, dataset_name, filename, save_path, url, type, dense, measurement_names_column, remove_extracted_data, delayed_populating)\u001b[0m\n\u001b[1;32m    162\u001b[0m     \u001b[0;31m# self.adata = scanpy.read_10x_h5(os.path.join(save_path, filename))\u001b[0m\u001b[0;34m\u001b[0m\u001b[0;34m\u001b[0m\u001b[0;34m\u001b[0m\u001b[0m\n\u001b[1;32m    163\u001b[0m     \u001b[0mself\u001b[0m\u001b[0;34m.\u001b[0m\u001b[0madata\u001b[0m \u001b[0;34m=\u001b[0m \u001b[0mscanpy\u001b[0m\u001b[0;34m.\u001b[0m\u001b[0mread_10x_mtx\u001b[0m\u001b[0;34m(\u001b[0m\u001b[0mpath_to_data\u001b[0m\u001b[0;34m)\u001b[0m\u001b[0;34m\u001b[0m\u001b[0;34m\u001b[0m\u001b[0m\n\u001b[0;32m--> 164\u001b[0;31m     \u001b[0;31m# setup_anndata(adata, )\u001b[0m\u001b[0;34m\u001b[0m\u001b[0;34m\u001b[0m\u001b[0;34m\u001b[0m\u001b[0m\n\u001b[0m\u001b[1;32m    165\u001b[0m \u001b[0;34m\u001b[0m\u001b[0m\n\u001b[1;32m    166\u001b[0m     \u001b[0;32mdef\u001b[0m \u001b[0mpopulate\u001b[0m\u001b[0;34m(\u001b[0m\u001b[0mself\u001b[0m\u001b[0;34m)\u001b[0m\u001b[0;34m:\u001b[0m\u001b[0;34m\u001b[0m\u001b[0;34m\u001b[0m\u001b[0m\n",
      "\u001b[0;32m~/scVI/scvi/dataset/dataset10X.py\u001b[0m in \u001b[0;36m__init__\u001b[0;34m(self, dataset_name, filename, save_path, url, type, dense, measurement_names_column, remove_extracted_data, delayed_populating)\u001b[0m\n\u001b[1;32m    162\u001b[0m     \u001b[0;31m# self.adata = scanpy.read_10x_h5(os.path.join(save_path, filename))\u001b[0m\u001b[0;34m\u001b[0m\u001b[0;34m\u001b[0m\u001b[0;34m\u001b[0m\u001b[0m\n\u001b[1;32m    163\u001b[0m     \u001b[0mself\u001b[0m\u001b[0;34m.\u001b[0m\u001b[0madata\u001b[0m \u001b[0;34m=\u001b[0m \u001b[0mscanpy\u001b[0m\u001b[0;34m.\u001b[0m\u001b[0mread_10x_mtx\u001b[0m\u001b[0;34m(\u001b[0m\u001b[0mpath_to_data\u001b[0m\u001b[0;34m)\u001b[0m\u001b[0;34m\u001b[0m\u001b[0;34m\u001b[0m\u001b[0m\n\u001b[0;32m--> 164\u001b[0;31m     \u001b[0;31m# setup_anndata(adata, )\u001b[0m\u001b[0;34m\u001b[0m\u001b[0;34m\u001b[0m\u001b[0;34m\u001b[0m\u001b[0m\n\u001b[0m\u001b[1;32m    165\u001b[0m \u001b[0;34m\u001b[0m\u001b[0m\n\u001b[1;32m    166\u001b[0m     \u001b[0;32mdef\u001b[0m \u001b[0mpopulate\u001b[0m\u001b[0;34m(\u001b[0m\u001b[0mself\u001b[0m\u001b[0;34m)\u001b[0m\u001b[0;34m:\u001b[0m\u001b[0;34m\u001b[0m\u001b[0;34m\u001b[0m\u001b[0m\n",
      "\u001b[0;32m~/anaconda3/lib/python3.7/bdb.py\u001b[0m in \u001b[0;36mtrace_dispatch\u001b[0;34m(self, frame, event, arg)\u001b[0m\n\u001b[1;32m     86\u001b[0m             \u001b[0;32mreturn\u001b[0m \u001b[0;31m# None\u001b[0m\u001b[0;34m\u001b[0m\u001b[0;34m\u001b[0m\u001b[0m\n\u001b[1;32m     87\u001b[0m         \u001b[0;32mif\u001b[0m \u001b[0mevent\u001b[0m \u001b[0;34m==\u001b[0m \u001b[0;34m'line'\u001b[0m\u001b[0;34m:\u001b[0m\u001b[0;34m\u001b[0m\u001b[0;34m\u001b[0m\u001b[0m\n\u001b[0;32m---> 88\u001b[0;31m             \u001b[0;32mreturn\u001b[0m \u001b[0mself\u001b[0m\u001b[0;34m.\u001b[0m\u001b[0mdispatch_line\u001b[0m\u001b[0;34m(\u001b[0m\u001b[0mframe\u001b[0m\u001b[0;34m)\u001b[0m\u001b[0;34m\u001b[0m\u001b[0;34m\u001b[0m\u001b[0m\n\u001b[0m\u001b[1;32m     89\u001b[0m         \u001b[0;32mif\u001b[0m \u001b[0mevent\u001b[0m \u001b[0;34m==\u001b[0m \u001b[0;34m'call'\u001b[0m\u001b[0;34m:\u001b[0m\u001b[0;34m\u001b[0m\u001b[0;34m\u001b[0m\u001b[0m\n\u001b[1;32m     90\u001b[0m             \u001b[0;32mreturn\u001b[0m \u001b[0mself\u001b[0m\u001b[0;34m.\u001b[0m\u001b[0mdispatch_call\u001b[0m\u001b[0;34m(\u001b[0m\u001b[0mframe\u001b[0m\u001b[0;34m,\u001b[0m \u001b[0marg\u001b[0m\u001b[0;34m)\u001b[0m\u001b[0;34m\u001b[0m\u001b[0;34m\u001b[0m\u001b[0m\n",
      "\u001b[0;32m~/anaconda3/lib/python3.7/bdb.py\u001b[0m in \u001b[0;36mdispatch_line\u001b[0;34m(self, frame)\u001b[0m\n\u001b[1;32m    111\u001b[0m         \u001b[0;32mif\u001b[0m \u001b[0mself\u001b[0m\u001b[0;34m.\u001b[0m\u001b[0mstop_here\u001b[0m\u001b[0;34m(\u001b[0m\u001b[0mframe\u001b[0m\u001b[0;34m)\u001b[0m \u001b[0;32mor\u001b[0m \u001b[0mself\u001b[0m\u001b[0;34m.\u001b[0m\u001b[0mbreak_here\u001b[0m\u001b[0;34m(\u001b[0m\u001b[0mframe\u001b[0m\u001b[0;34m)\u001b[0m\u001b[0;34m:\u001b[0m\u001b[0;34m\u001b[0m\u001b[0;34m\u001b[0m\u001b[0m\n\u001b[1;32m    112\u001b[0m             \u001b[0mself\u001b[0m\u001b[0;34m.\u001b[0m\u001b[0muser_line\u001b[0m\u001b[0;34m(\u001b[0m\u001b[0mframe\u001b[0m\u001b[0;34m)\u001b[0m\u001b[0;34m\u001b[0m\u001b[0;34m\u001b[0m\u001b[0m\n\u001b[0;32m--> 113\u001b[0;31m             \u001b[0;32mif\u001b[0m \u001b[0mself\u001b[0m\u001b[0;34m.\u001b[0m\u001b[0mquitting\u001b[0m\u001b[0;34m:\u001b[0m \u001b[0;32mraise\u001b[0m \u001b[0mBdbQuit\u001b[0m\u001b[0;34m\u001b[0m\u001b[0;34m\u001b[0m\u001b[0m\n\u001b[0m\u001b[1;32m    114\u001b[0m         \u001b[0;32mreturn\u001b[0m \u001b[0mself\u001b[0m\u001b[0;34m.\u001b[0m\u001b[0mtrace_dispatch\u001b[0m\u001b[0;34m\u001b[0m\u001b[0;34m\u001b[0m\u001b[0m\n\u001b[1;32m    115\u001b[0m \u001b[0;34m\u001b[0m\u001b[0m\n",
      "\u001b[0;31mBdbQuit\u001b[0m: "
     ]
    }
   ],
   "source": [
    "d = Dataset10X(\"pbmc8k\")"
   ]
  },
  {
   "cell_type": "code",
   "execution_count": 5,
   "metadata": {},
   "outputs": [],
   "source": []
  },
  {
   "cell_type": "code",
   "execution_count": 7,
   "metadata": {},
   "outputs": [
    {
     "data": {
      "text/plain": [
       "AnnData object with n_obs × n_vars = 8381 × 33694 \n",
       "    var: 'gene_ids'"
      ]
     },
     "execution_count": 7,
     "metadata": {},
     "output_type": "execute_result"
    }
   ],
   "source": [
    "d.adata"
   ]
  },
  {
   "cell_type": "code",
   "execution_count": 4,
   "metadata": {},
   "outputs": [],
   "source": [
    "from scvi.dataset.pbmc import PurifiedPBMCDataset\n"
   ]
  },
  {
   "cell_type": "code",
   "execution_count": 6,
   "metadata": {},
   "outputs": [
    {
     "name": "stdout",
     "output_type": "stream",
     "text": [
      "[2020-06-30 00:25:37,794] INFO - scvi.dataset.dataset | File /Users/galen/scVI/galen/data/cd4_t_helper/filtered_gene_bc_matrices.tar.gz already downloaded\n",
      "[2020-06-30 00:25:37,795] INFO - scvi.dataset.dataset10X | Preprocessing dataset\n",
      "[2020-06-30 00:25:37,799] INFO - scvi.dataset.dataset10X | Extracting tar file\n",
      "[2020-06-30 00:25:46,513] INFO - scvi.dataset.dataset10X | Finished preprocessing dataset\n",
      "[2020-06-30 00:25:46,634] WARNING - scvi.dataset.dataset | Gene names are not unique.\n",
      "[2020-06-30 00:25:46,635] INFO - scvi.dataset.dataset | Remapping batch_indices to [0,N]\n",
      "[2020-06-30 00:25:46,637] INFO - scvi.dataset.dataset | Remapping labels to [0,N]\n",
      "[2020-06-30 00:25:46,807] INFO - scvi.dataset.dataset | Computing the library size for the new data\n",
      "[2020-06-30 00:25:46,877] INFO - scvi.dataset.dataset | Downsampled from 11213 to 11213 cells\n",
      "[2020-06-30 00:25:46,898] INFO - scvi.dataset.dataset | File /Users/galen/scVI/galen/data/regulatory_t/filtered_gene_bc_matrices.tar.gz already downloaded\n",
      "[2020-06-30 00:25:46,899] INFO - scvi.dataset.dataset10X | Preprocessing dataset\n",
      "[2020-06-30 00:25:46,901] INFO - scvi.dataset.dataset10X | Extracting tar file\n",
      "[2020-06-30 00:25:55,090] INFO - scvi.dataset.dataset10X | Finished preprocessing dataset\n",
      "[2020-06-30 00:25:55,198] WARNING - scvi.dataset.dataset | Gene names are not unique.\n",
      "[2020-06-30 00:25:55,199] INFO - scvi.dataset.dataset | Remapping batch_indices to [0,N]\n",
      "[2020-06-30 00:25:55,200] INFO - scvi.dataset.dataset | Remapping labels to [0,N]\n",
      "[2020-06-30 00:25:55,345] INFO - scvi.dataset.dataset | Computing the library size for the new data\n",
      "[2020-06-30 00:25:55,424] INFO - scvi.dataset.dataset | Downsampled from 10263 to 10263 cells\n",
      "[2020-06-30 00:25:55,448] INFO - scvi.dataset.dataset | File /Users/galen/scVI/galen/data/naive_t/filtered_gene_bc_matrices.tar.gz already downloaded\n",
      "[2020-06-30 00:25:55,449] INFO - scvi.dataset.dataset10X | Preprocessing dataset\n",
      "[2020-06-30 00:25:55,451] INFO - scvi.dataset.dataset10X | Extracting tar file\n",
      "[2020-06-30 00:26:02,799] INFO - scvi.dataset.dataset10X | Finished preprocessing dataset\n",
      "[2020-06-30 00:26:02,905] WARNING - scvi.dataset.dataset | Gene names are not unique.\n",
      "[2020-06-30 00:26:02,907] INFO - scvi.dataset.dataset | Remapping batch_indices to [0,N]\n",
      "[2020-06-30 00:26:02,908] INFO - scvi.dataset.dataset | Remapping labels to [0,N]\n",
      "[2020-06-30 00:26:03,042] INFO - scvi.dataset.dataset | Computing the library size for the new data\n",
      "[2020-06-30 00:26:03,110] INFO - scvi.dataset.dataset | Downsampled from 10479 to 10479 cells\n",
      "[2020-06-30 00:26:03,134] INFO - scvi.dataset.dataset | File /Users/galen/scVI/galen/data/memory_t/filtered_gene_bc_matrices.tar.gz already downloaded\n",
      "[2020-06-30 00:26:03,134] INFO - scvi.dataset.dataset10X | Preprocessing dataset\n",
      "[2020-06-30 00:26:03,137] INFO - scvi.dataset.dataset10X | Extracting tar file\n",
      "[2020-06-30 00:26:11,899] INFO - scvi.dataset.dataset10X | Finished preprocessing dataset\n",
      "[2020-06-30 00:26:12,012] WARNING - scvi.dataset.dataset | Gene names are not unique.\n",
      "[2020-06-30 00:26:12,013] INFO - scvi.dataset.dataset | Remapping batch_indices to [0,N]\n",
      "[2020-06-30 00:26:12,014] INFO - scvi.dataset.dataset | Remapping labels to [0,N]\n",
      "[2020-06-30 00:26:12,165] INFO - scvi.dataset.dataset | Computing the library size for the new data\n",
      "[2020-06-30 00:26:12,245] INFO - scvi.dataset.dataset | Downsampled from 10224 to 10224 cells\n",
      "[2020-06-30 00:26:12,264] INFO - scvi.dataset.dataset | File /Users/galen/scVI/galen/data/cytotoxic_t/filtered_gene_bc_matrices.tar.gz already downloaded\n",
      "[2020-06-30 00:26:12,265] INFO - scvi.dataset.dataset10X | Preprocessing dataset\n",
      "[2020-06-30 00:26:12,267] INFO - scvi.dataset.dataset10X | Extracting tar file\n",
      "[2020-06-30 00:26:20,272] INFO - scvi.dataset.dataset10X | Finished preprocessing dataset\n",
      "[2020-06-30 00:26:20,381] WARNING - scvi.dataset.dataset | Gene names are not unique.\n",
      "[2020-06-30 00:26:20,381] INFO - scvi.dataset.dataset | Remapping batch_indices to [0,N]\n",
      "[2020-06-30 00:26:20,382] INFO - scvi.dataset.dataset | Remapping labels to [0,N]\n",
      "[2020-06-30 00:26:20,533] INFO - scvi.dataset.dataset | Computing the library size for the new data\n",
      "[2020-06-30 00:26:20,614] INFO - scvi.dataset.dataset | Downsampled from 10209 to 10209 cells\n",
      "[2020-06-30 00:26:20,632] INFO - scvi.dataset.dataset | File /Users/galen/scVI/galen/data/naive_cytotoxic/filtered_gene_bc_matrices.tar.gz already downloaded\n",
      "[2020-06-30 00:26:20,633] INFO - scvi.dataset.dataset10X | Preprocessing dataset\n",
      "[2020-06-30 00:26:20,635] INFO - scvi.dataset.dataset10X | Extracting tar file\n",
      "[2020-06-30 00:26:28,903] INFO - scvi.dataset.dataset10X | Finished preprocessing dataset\n",
      "[2020-06-30 00:26:29,018] WARNING - scvi.dataset.dataset | Gene names are not unique.\n",
      "[2020-06-30 00:26:29,019] INFO - scvi.dataset.dataset | Remapping batch_indices to [0,N]\n",
      "[2020-06-30 00:26:29,020] INFO - scvi.dataset.dataset | Remapping labels to [0,N]\n",
      "[2020-06-30 00:26:29,173] INFO - scvi.dataset.dataset | Computing the library size for the new data\n",
      "[2020-06-30 00:26:29,237] INFO - scvi.dataset.dataset | Downsampled from 11953 to 11953 cells\n",
      "[2020-06-30 00:26:29,417] INFO - scvi.dataset.dataset | Downloading file at /Users/galen/scVI/galen/data/b_cells/filtered_gene_bc_matrices.tar.gz\n",
      "[2020-06-30 00:26:40,774] INFO - scvi.dataset.dataset10X | Preprocessing dataset\n",
      "[2020-06-30 00:26:40,777] INFO - scvi.dataset.dataset10X | Extracting tar file\n",
      "[2020-06-30 00:26:47,939] INFO - scvi.dataset.dataset10X | Finished preprocessing dataset\n",
      "[2020-06-30 00:26:48,040] WARNING - scvi.dataset.dataset | Gene names are not unique.\n",
      "[2020-06-30 00:26:48,041] INFO - scvi.dataset.dataset | Remapping batch_indices to [0,N]\n",
      "[2020-06-30 00:26:48,042] INFO - scvi.dataset.dataset | Remapping labels to [0,N]\n",
      "[2020-06-30 00:26:48,180] INFO - scvi.dataset.dataset | Computing the library size for the new data\n",
      "[2020-06-30 00:26:48,237] INFO - scvi.dataset.dataset | Downsampled from 10085 to 10085 cells\n",
      "[2020-06-30 00:26:48,247] INFO - scvi.dataset.dataset | File /Users/galen/scVI/galen/data/cd4_t_helper/filtered_gene_bc_matrices.tar.gz already downloaded\n",
      "[2020-06-30 00:26:48,247] INFO - scvi.dataset.dataset10X | Preprocessing dataset\n",
      "[2020-06-30 00:26:48,250] INFO - scvi.dataset.dataset10X | Extracting tar file\n",
      "[2020-06-30 00:26:56,748] INFO - scvi.dataset.dataset10X | Finished preprocessing dataset\n",
      "[2020-06-30 00:26:56,867] WARNING - scvi.dataset.dataset | Gene names are not unique.\n",
      "[2020-06-30 00:26:56,868] INFO - scvi.dataset.dataset | Remapping batch_indices to [0,N]\n",
      "[2020-06-30 00:26:56,869] INFO - scvi.dataset.dataset | Remapping labels to [0,N]\n",
      "[2020-06-30 00:26:57,030] INFO - scvi.dataset.dataset | Computing the library size for the new data\n",
      "[2020-06-30 00:26:57,097] INFO - scvi.dataset.dataset | Downsampled from 11213 to 11213 cells\n",
      "[2020-06-30 00:26:57,629] INFO - scvi.dataset.dataset | Downloading file at /Users/galen/scVI/galen/data/cd34/filtered_gene_bc_matrices.tar.gz\n",
      "[2020-06-30 00:27:17,121] INFO - scvi.dataset.dataset10X | Preprocessing dataset\n",
      "[2020-06-30 00:27:17,124] INFO - scvi.dataset.dataset10X | Extracting tar file\n",
      "[2020-06-30 00:27:33,987] INFO - scvi.dataset.dataset10X | Finished preprocessing dataset\n",
      "[2020-06-30 00:27:34,194] WARNING - scvi.dataset.dataset | Gene names are not unique.\n",
      "[2020-06-30 00:27:34,195] INFO - scvi.dataset.dataset | Remapping batch_indices to [0,N]\n",
      "[2020-06-30 00:27:34,196] INFO - scvi.dataset.dataset | Remapping labels to [0,N]\n",
      "[2020-06-30 00:27:34,492] INFO - scvi.dataset.dataset | Computing the library size for the new data\n",
      "[2020-06-30 00:27:34,623] INFO - scvi.dataset.dataset | Downsampled from 9232 to 9232 cells\n",
      "[2020-06-30 00:27:35,123] INFO - scvi.dataset.dataset | Downloading file at /Users/galen/scVI/galen/data/cd56_nk/filtered_gene_bc_matrices.tar.gz\n",
      "[2020-06-30 00:27:40,844] INFO - scvi.dataset.dataset10X | Preprocessing dataset\n",
      "[2020-06-30 00:27:40,846] INFO - scvi.dataset.dataset10X | Extracting tar file\n",
      "[2020-06-30 00:27:49,176] INFO - scvi.dataset.dataset10X | Finished preprocessing dataset\n",
      "[2020-06-30 00:27:49,291] WARNING - scvi.dataset.dataset | Gene names are not unique.\n",
      "[2020-06-30 00:27:49,292] INFO - scvi.dataset.dataset | Remapping batch_indices to [0,N]\n",
      "[2020-06-30 00:27:49,293] INFO - scvi.dataset.dataset | Remapping labels to [0,N]\n",
      "[2020-06-30 00:27:49,447] INFO - scvi.dataset.dataset | Computing the library size for the new data\n",
      "[2020-06-30 00:27:49,521] INFO - scvi.dataset.dataset | Downsampled from 8385 to 8385 cells\n",
      "[2020-06-30 00:27:50,387] INFO - scvi.dataset.dataset | Downloading file at /Users/galen/scVI/galen/data/cd14_monocytes/filtered_gene_bc_matrices.tar.gz\n",
      "[2020-06-30 00:27:51,485] INFO - scvi.dataset.dataset10X | Preprocessing dataset\n",
      "[2020-06-30 00:27:51,488] INFO - scvi.dataset.dataset10X | Extracting tar file\n",
      "[2020-06-30 00:27:53,190] INFO - scvi.dataset.dataset10X | Finished preprocessing dataset\n",
      "[2020-06-30 00:27:53,231] WARNING - scvi.dataset.dataset | Gene names are not unique.\n",
      "[2020-06-30 00:27:53,232] INFO - scvi.dataset.dataset | Remapping batch_indices to [0,N]\n",
      "[2020-06-30 00:27:53,233] INFO - scvi.dataset.dataset | Remapping labels to [0,N]\n",
      "[2020-06-30 00:27:53,269] INFO - scvi.dataset.dataset | Computing the library size for the new data\n",
      "[2020-06-30 00:27:53,280] INFO - scvi.dataset.dataset | Downsampled from 2612 to 2612 cells\n",
      "[2020-06-30 00:27:53,283] INFO - scvi.dataset.dataset | Merging datasets. Input objects are modified in place.\n",
      "[2020-06-30 00:27:53,284] INFO - scvi.dataset.dataset | Gene names and cell measurement names are assumed to have a non-null intersection between datasets.\n",
      "[2020-06-30 00:27:53,540] INFO - scvi.dataset.dataset | Keeping 32738 genes\n",
      "[2020-06-30 00:27:53,836] INFO - scvi.dataset.dataset | Computing the library size for the new data\n",
      "[2020-06-30 00:27:53,907] INFO - scvi.dataset.dataset | Remapping batch_indices to [0,N]\n",
      "[2020-06-30 00:27:53,908] INFO - scvi.dataset.dataset | Remapping labels to [0,N]\n",
      "[2020-06-30 00:27:54,140] INFO - scvi.dataset.dataset | Computing the library size for the new data\n",
      "[2020-06-30 00:27:54,225] INFO - scvi.dataset.dataset | Remapping batch_indices to [0,N]\n",
      "[2020-06-30 00:27:54,226] INFO - scvi.dataset.dataset | Remapping labels to [0,N]\n",
      "[2020-06-30 00:27:54,449] INFO - scvi.dataset.dataset | Computing the library size for the new data\n",
      "[2020-06-30 00:27:54,503] INFO - scvi.dataset.dataset | Remapping batch_indices to [0,N]\n",
      "[2020-06-30 00:27:54,505] INFO - scvi.dataset.dataset | Remapping labels to [0,N]\n",
      "[2020-06-30 00:27:54,768] INFO - scvi.dataset.dataset | Computing the library size for the new data\n",
      "[2020-06-30 00:27:54,836] INFO - scvi.dataset.dataset | Remapping batch_indices to [0,N]\n",
      "[2020-06-30 00:27:54,838] INFO - scvi.dataset.dataset | Remapping labels to [0,N]\n",
      "[2020-06-30 00:27:55,080] INFO - scvi.dataset.dataset | Computing the library size for the new data\n",
      "[2020-06-30 00:27:55,145] INFO - scvi.dataset.dataset | Remapping batch_indices to [0,N]\n",
      "[2020-06-30 00:27:55,147] INFO - scvi.dataset.dataset | Remapping labels to [0,N]\n",
      "[2020-06-30 00:27:55,423] INFO - scvi.dataset.dataset | Computing the library size for the new data\n",
      "[2020-06-30 00:27:55,487] INFO - scvi.dataset.dataset | Remapping batch_indices to [0,N]\n",
      "[2020-06-30 00:27:55,488] INFO - scvi.dataset.dataset | Remapping labels to [0,N]\n",
      "[2020-06-30 00:27:55,687] INFO - scvi.dataset.dataset | Computing the library size for the new data\n",
      "[2020-06-30 00:27:55,741] INFO - scvi.dataset.dataset | Remapping batch_indices to [0,N]\n",
      "[2020-06-30 00:27:55,742] INFO - scvi.dataset.dataset | Remapping labels to [0,N]\n",
      "[2020-06-30 00:27:56,029] INFO - scvi.dataset.dataset | Computing the library size for the new data\n",
      "[2020-06-30 00:27:56,092] INFO - scvi.dataset.dataset | Remapping batch_indices to [0,N]\n",
      "[2020-06-30 00:27:56,093] INFO - scvi.dataset.dataset | Remapping labels to [0,N]\n",
      "[2020-06-30 00:27:56,571] INFO - scvi.dataset.dataset | Computing the library size for the new data\n",
      "[2020-06-30 00:27:56,691] INFO - scvi.dataset.dataset | Remapping batch_indices to [0,N]\n",
      "[2020-06-30 00:27:56,693] INFO - scvi.dataset.dataset | Remapping labels to [0,N]\n",
      "[2020-06-30 00:27:56,963] INFO - scvi.dataset.dataset | Computing the library size for the new data\n",
      "[2020-06-30 00:27:57,030] INFO - scvi.dataset.dataset | Remapping batch_indices to [0,N]\n",
      "[2020-06-30 00:27:57,031] INFO - scvi.dataset.dataset | Remapping labels to [0,N]\n",
      "[2020-06-30 00:27:57,119] INFO - scvi.dataset.dataset | Computing the library size for the new data\n",
      "[2020-06-30 00:27:57,135] INFO - scvi.dataset.dataset | Remapping batch_indices to [0,N]\n",
      "[2020-06-30 00:27:57,136] INFO - scvi.dataset.dataset | Remapping labels to [0,N]\n",
      "[2020-06-30 00:27:59,111] INFO - scvi.dataset.dataset | Remapping batch_indices to [0,N]\n",
      "[2020-06-30 00:27:59,117] INFO - scvi.dataset.dataset | Remapping labels to [0,N]\n",
      "[2020-06-30 00:28:00,142] INFO - scvi.dataset.dataset | Downsampling from 32738 to 21932 genes\n",
      "[2020-06-30 00:28:03,219] INFO - scvi.dataset.dataset | Computing the library size for the new data\n",
      "[2020-06-30 00:28:03,875] INFO - scvi.dataset.dataset | Filtering non-expressing cells.\n",
      "[2020-06-30 00:28:06,354] INFO - scvi.dataset.dataset | Computing the library size for the new data\n",
      "[2020-06-30 00:28:06,987] INFO - scvi.dataset.dataset | Downsampled from 105868 to 105868 cells\n",
      "[2020-06-30 00:28:09,356] INFO - scvi.dataset.dataset | Computing the library size for the new data\n",
      "[2020-06-30 00:28:09,968] INFO - scvi.dataset.dataset | Downsampled from 105868 to 105868 cells\n"
     ]
    }
   ],
   "source": [
    "p = PurifiedPBMCDataset()"
   ]
  },
  {
   "cell_type": "code",
   "execution_count": 11,
   "metadata": {},
   "outputs": [],
   "source": [
    "from scvi.dataset.cortex import CortexDataset\n",
    "from scvi.dataset.hemato import HematoDataset\n",
    "from scvi.dataset.seqfish import SeqfishDataset"
   ]
  },
  {
   "cell_type": "code",
   "execution_count": 12,
   "metadata": {},
   "outputs": [
    {
     "name": "stdout",
     "output_type": "stream",
     "text": [
      "actual\n",
      "https://www.cell.com/cms/attachment/2080562255/2072099886/mmc6.xlsx\n",
      "[2020-06-30 12:56:53,099] INFO - scvi.dataset.dataset | Downloading file at /Users/galen/scVI/galen/data/SeqFISH.xlsx\n",
      "[2020-06-30 12:56:57,778] INFO - scvi.dataset.seqfish | Preprocessing dataset\n",
      "[2020-06-30 12:57:06,549] INFO - scvi.dataset.seqfish | Finished preprocessing dataset\n",
      "[2020-06-30 12:57:06,577] INFO - scvi.dataset.dataset | Remapping batch_indices to [0,N]\n",
      "[2020-06-30 12:57:06,578] INFO - scvi.dataset.dataset | Remapping labels to [0,N]\n"
     ]
    }
   ],
   "source": [
    "cd = SeqfishDataset()"
   ]
  },
  {
   "cell_type": "code",
   "execution_count": 13,
   "metadata": {},
   "outputs": [
    {
     "name": "stderr",
     "output_type": "stream",
     "text": [
      "Transforming to str index.\n",
      "Transforming to str index.\n",
      "... storing 'cell_types' as categorical\n"
     ]
    }
   ],
   "source": [
    "cd = cd.to_anndata()\n",
    "cd.write(filename = 'seqfish.h5ad')"
   ]
  },
  {
   "cell_type": "code",
   "execution_count": 15,
   "metadata": {},
   "outputs": [
    {
     "name": "stdout",
     "output_type": "stream",
     "text": [
      "[2020-06-30 12:10:12,309] INFO - scvi.dataset._anndata | Using data from adata.X\n",
      "[2020-06-30 12:10:12,310] INFO - scvi.dataset._anndata | Using batches from adata.obs[\"batch_indices\"]\n",
      "[2020-06-30 12:10:12,312] INFO - scvi.dataset._anndata | Using labels from adata.obs[\"precise_labels\"]\n",
      "[2020-06-30 12:10:12,317] INFO - scvi.dataset._anndata | Computing library size prior per batch\n",
      "[2020-06-30 12:10:12,329] INFO - scvi.dataset._anndata | Successfully registered anndata object containing 3005 cells, 558 genes, and 1 batches \n",
      "Registered keys:['X', 'batch_indices', 'local_l_mean', 'local_l_var', 'labels']\n"
     ]
    }
   ],
   "source": [
    "from scvi.dataset import setup_anndata\n",
    "setup_anndata(cd, batch_key = 'batch_indices', labels_key = \"precise_labels\")"
   ]
  },
  {
   "cell_type": "code",
   "execution_count": 18,
   "metadata": {},
   "outputs": [],
   "source": [
    "import anndata\n",
    "def cortex():\n",
    "    adata =  anndata.read('cortex.h5ad')\n",
    "    return setup_anndata(adata, batch_key = 'batch_indices', labels_key = \"precise_labels\")\n",
    "\n"
   ]
  },
  {
   "cell_type": "code",
   "execution_count": 1,
   "metadata": {},
   "outputs": [
    {
     "name": "stderr",
     "output_type": "stream",
     "text": [
      "/Users/galen/anaconda3/lib/python3.7/site-packages/dask/config.py:168: YAMLLoadWarning: calling yaml.load() without Loader=... is deprecated, as the default Loader is unsafe. Please read https://msg.pyyaml.org/load for full details.\n",
      "  data = yaml.load(f.read()) or {}\n"
     ]
    }
   ],
   "source": [
    "from scvi.dataset.dataset10X import Dataset10X"
   ]
  },
  {
   "cell_type": "code",
   "execution_count": null,
   "metadata": {},
   "outputs": [],
   "source": [
    "    \"2.1.0\": [\"pbmc8k\", \"pbmc4k\", \"t_3k\", \"t_4k\", \"neuron_9k\"],\n",
    "    \"3.0.0\": [\n",
    "        \"pbmc_1k_protein_v3\",\n",
    "        \"pbmc_10k_protein_v3\",\n",
    "        \"malt_10k_protein_v3\",\n",
    "        \"pbmc_1k_v2\",\n",
    "        \"pbmc_1k_v3\",\n",
    "        \"pbmc_10k_v3\",\n",
    "        \"hgmm_1k_v2\",\n",
    "        \"hgmm_1k_v3\",\n",
    "        \"hgmm_5k_v3\",\n",
    "        \"hgmm_10k_v3\",\n",
    "        \"neuron_1k_v2\",\n",
    "        \"neuron_1k_v3\",\n",
    "        \"neuron_10k_v3\",\n",
    "        \"heart_1k_v2\",\n",
    "        \"heart_1k_v3\",\n",
    "        \"heart_10k_v3\",\n",
    "    ],\n",
    "    \"3.1.0\": [\"5k_pbmc_protein_v3\", \"5k_pbmc_protein_v3_nextgem\"],"
   ]
  },
  {
   "cell_type": "code",
   "execution_count": 2,
   "metadata": {},
   "outputs": [
    {
     "name": "stdout",
     "output_type": "stream",
     "text": [
      "http://cf.10xgenomics.com/samples/cell-exp/2.1.0/pbmc4k/pbmc4k_filtered_gene_bc_matrices.tar.gz\n",
      "actual\n",
      "http://cf.10xgenomics.com/samples/cell-exp/2.1.0/pbmc4k/pbmc4k_filtered_gene_bc_matrices.tar.gz\n",
      "[2020-06-30 12:39:35,977] INFO - scvi.dataset.dataset | Downloading file at /Users/galen/scVI/galen/data/10X/pbmc4k/filtered_gene_bc_matrices.tar.gz\n",
      "[2020-06-30 12:39:37,098] INFO - scvi.dataset.dataset10X | Preprocessing dataset\n",
      "[2020-06-30 12:39:37,101] INFO - scvi.dataset.dataset10X | Extracting tar file\n",
      "[2020-06-30 12:39:45,163] INFO - scvi.dataset.dataset10X | Finished preprocessing dataset\n",
      "[2020-06-30 12:39:45,269] WARNING - scvi.dataset.dataset | Gene names are not unique.\n",
      "[2020-06-30 12:39:45,270] INFO - scvi.dataset.dataset | Remapping labels to [0,N]\n",
      "[2020-06-30 12:39:45,271] INFO - scvi.dataset.dataset | Remapping batch_indices to [0,N]\n",
      "[2020-06-30 12:39:45,398] INFO - scvi.dataset.dataset | Computing the library size for the new data\n",
      "[2020-06-30 12:39:45,473] INFO - scvi.dataset.dataset | Downsampled from 4340 to 4340 cells\n"
     ]
    }
   ],
   "source": []
  },
  {
   "cell_type": "code",
   "execution_count": 5,
   "metadata": {},
   "outputs": [
    {
     "data": {
      "text/plain": [
       "GeneExpressionDataset object with n_cells x nb_genes = 1222 x 33538\n",
       "    gene_attribute_names: 'gene_names'\n",
       "    cell_attribute_names: 'labels', 'barcodes', 'local_means', 'local_vars', 'batch_indices'\n",
       "    cell_categorical_attribute_names: 'labels', 'batch_indices'"
      ]
     },
     "execution_count": 5,
     "metadata": {},
     "output_type": "execute_result"
    }
   ],
   "source": [
    "d"
   ]
  },
  {
   "cell_type": "code",
   "execution_count": 8,
   "metadata": {},
   "outputs": [
    {
     "name": "stdout",
     "output_type": "stream",
     "text": [
      "http://cf.10xgenomics.com/samples/cell-exp/3.0.0/pbmc_1k_v3/pbmc_1k_v3_filtered_feature_bc_matrix.tar.gz\n",
      "[2020-06-30 12:47:41,753] INFO - scvi.dataset.dataset | File /Users/galen/scVI/galen/data/10X/pbmc_1k_v3/filtered_feature_bc_matrix.tar.gz already downloaded\n",
      "[2020-06-30 12:47:41,754] INFO - scvi.dataset.dataset10X | Preprocessing dataset\n",
      "[2020-06-30 12:47:46,700] INFO - scvi.dataset.dataset10X | Finished preprocessing dataset\n",
      "[2020-06-30 12:47:46,757] WARNING - scvi.dataset.dataset | Gene names are not unique.\n",
      "[2020-06-30 12:47:46,758] INFO - scvi.dataset.dataset | Remapping labels to [0,N]\n",
      "[2020-06-30 12:47:46,759] INFO - scvi.dataset.dataset | Remapping batch_indices to [0,N]\n",
      "[2020-06-30 12:47:46,822] INFO - scvi.dataset.dataset | Computing the library size for the new data\n",
      "[2020-06-30 12:47:46,849] INFO - scvi.dataset.dataset | Downsampled from 1222 to 1222 cells\n"
     ]
    }
   ],
   "source": [
    "d = Dataset10X(\"pbmc_1k_v3\")"
   ]
  },
  {
   "cell_type": "code",
   "execution_count": 9,
   "metadata": {},
   "outputs": [
    {
     "data": {
      "text/plain": [
       "GeneExpressionDataset object with n_cells x nb_genes = 1222 x 33538\n",
       "    gene_attribute_names: 'gene_names'\n",
       "    cell_attribute_names: 'labels', 'barcodes', 'local_means', 'local_vars', 'batch_indices'\n",
       "    cell_categorical_attribute_names: 'labels', 'batch_indices'"
      ]
     },
     "execution_count": 9,
     "metadata": {},
     "output_type": "execute_result"
    }
   ],
   "source": [
    "d"
   ]
  },
  {
   "cell_type": "code",
   "execution_count": 34,
   "metadata": {},
   "outputs": [],
   "source": [
    "available_datasets = {\n",
    "    # these can made manually\n",
    "    \"1.1.0\": [\n",
    "        \"frozen_pbmc_donor_a\",\n",
    "        \"frozen_pbmc_donor_b\",\n",
    "        \"frozen_pbmc_donor_c\",\n",
    "        \"fresh_68k_pbmc_donor_a\",\n",
    "        \"cd14_monocytes\",\n",
    "        \"b_cells\",\n",
    "        \"cd34\",\n",
    "        \"cd56_nk\",\n",
    "        \"cd4_t_helper\",\n",
    "        \"regulatory_t\",\n",
    "        \"naive_t\",\n",
    "        \"memory_t\",\n",
    "        \"cytotoxic_t\",\n",
    "        \"naive_cytotoxic\",\n",
    "    ],\n",
    "    # all of these can be h5 files\n",
    "    \"2.1.0\": [\"pbmc8k\", \"pbmc4k\", \"t_3k\", \"t_4k\", \"neuron_9k\"],\n",
    "    \"3.0.0\": [\n",
    "        \"pbmc_1k_protein_v3\",\n",
    "        \"pbmc_10k_protein_v3\",\n",
    "        \"malt_10k_protein_v3\",\n",
    "        \"pbmc_1k_v2\",\n",
    "        \"pbmc_1k_v3\",\n",
    "        \"pbmc_10k_v3\",\n",
    "        \"hgmm_1k_v2\",\n",
    "        \"hgmm_1k_v3\",\n",
    "        \"hgmm_5k_v3\",\n",
    "        \"hgmm_10k_v3\",\n",
    "        \"neuron_1k_v2\",\n",
    "        \"neuron_1k_v3\",\n",
    "        \"neuron_10k_v3\",\n",
    "        \"heart_1k_v2\",\n",
    "        \"heart_1k_v3\",\n",
    "        \"heart_10k_v3\",\n",
    "    ],\n",
    "    \"3.1.0\": [\"5k_pbmc_protein_v3\", \"5k_pbmc_protein_v3_nextgem\"],\n",
    "}\n",
    "\n",
    "dataset_to_group = dict(\n",
    "    [\n",
    "        (dataset_name, group)\n",
    "        for group, list_datasets in available_datasets.items()\n",
    "        for dataset_name in list_datasets\n",
    "    ]\n",
    ")\n",
    "\n",
    "group_to_url_skeleton = {\n",
    "    \"1.1.0\": \"http://cf.10xgenomics.com/samples/cell-exp/{}/{}/{}_{}_gene_bc_matrices.tar.gz\",\n",
    "    \"2.1.0\": \"http://cf.10xgenomics.com/samples/cell-exp/{}/{}/{}_{}_gene_bc_matrices.tar.gz\",\n",
    "    \"3.0.0\": \"http://cf.10xgenomics.com/samples/cell-exp/{}/{}/{}_{}_feature_bc_matrix.tar.gz\",\n",
    "    \"3.1.0\": \"http://cf.10xgenomics.com/samples/cell-exp/{}/{}/{}_{}_feature_bc_matrix.tar.gz\",\n",
    "}\n",
    "\n",
    "group_to_filename_skeleton = {\n",
    "    \"1.1.0\": \"{}_gene_bc_matrices.tar.gz\",\n",
    "    \"2.1.0\": \"{}_gene_bc_matrices.tar.gz\",\n",
    "    \"3.0.0\": \"{}_feature_bc_matrix.tar.gz\",\n",
    "    \"3.1.0\": \"{}_feature_bc_matrix.tar.gz\",\n",
    "}\n",
    "\n",
    "available_specification = [\"filtered\", \"raw\"]\n",
    "\n",
    "dataset_name = \"pbmc8k\"\n",
    "group = dataset_to_group[dataset_name]\n",
    "url_skeleton = group_to_url_skeleton[group]\n",
    "url = url_skeleton.format(group, dataset_name, dataset_name, 'filtered')"
   ]
  },
  {
   "cell_type": "code",
   "execution_count": 35,
   "metadata": {},
   "outputs": [
    {
     "data": {
      "text/plain": [
       "'http://cf.10xgenomics.com/samples/cell-exp/2.1.0/pbmc8k/pbmc8k_filtered_gene_bc_matrices.tar.gz'"
      ]
     },
     "execution_count": 35,
     "metadata": {},
     "output_type": "execute_result"
    }
   ],
   "source": [
    "url"
   ]
  },
  {
   "cell_type": "code",
   "execution_count": 3,
   "metadata": {},
   "outputs": [
    {
     "ename": "OSError",
     "evalue": "``http://cf.10xgenomics.com/samples/cell-exp/2.1.0/pbmc8k/pbmc8k_filtered_gene_bc_matrices.tar.gz`` does not exist",
     "output_type": "error",
     "traceback": [
      "\u001b[0;31m---------------------------------------------------------------------------\u001b[0m",
      "\u001b[0;31mOSError\u001b[0m                                   Traceback (most recent call last)",
      "\u001b[0;32m<ipython-input-3-fc167ef71dac>\u001b[0m in \u001b[0;36m<module>\u001b[0;34m\u001b[0m\n\u001b[1;32m      1\u001b[0m \u001b[0;32mimport\u001b[0m \u001b[0mscanpy\u001b[0m\u001b[0;34m\u001b[0m\u001b[0;34m\u001b[0m\u001b[0m\n\u001b[0;32m----> 2\u001b[0;31m \u001b[0mscanpy\u001b[0m\u001b[0;34m.\u001b[0m\u001b[0mread_10x_h5\u001b[0m\u001b[0;34m(\u001b[0m\u001b[0;34m\"http://cf.10xgenomics.com/samples/cell-exp/2.1.0/pbmc8k/pbmc8k_filtered_gene_bc_matrices.tar.gz\"\u001b[0m\u001b[0;34m)\u001b[0m\u001b[0;34m\u001b[0m\u001b[0;34m\u001b[0m\u001b[0m\n\u001b[0m",
      "\u001b[0;32m~/anaconda3/lib/python3.7/site-packages/scanpy/readwrite.py\u001b[0m in \u001b[0;36mread_10x_h5\u001b[0;34m(filename, genome, gex_only)\u001b[0m\n\u001b[1;32m    170\u001b[0m     \"\"\"\n\u001b[1;32m    171\u001b[0m     \u001b[0mstart\u001b[0m \u001b[0;34m=\u001b[0m \u001b[0mlogg\u001b[0m\u001b[0;34m.\u001b[0m\u001b[0minfo\u001b[0m\u001b[0;34m(\u001b[0m\u001b[0;34mf'reading {filename}'\u001b[0m\u001b[0;34m)\u001b[0m\u001b[0;34m\u001b[0m\u001b[0;34m\u001b[0m\u001b[0m\n\u001b[0;32m--> 172\u001b[0;31m     \u001b[0;32mwith\u001b[0m \u001b[0mtables\u001b[0m\u001b[0;34m.\u001b[0m\u001b[0mopen_file\u001b[0m\u001b[0;34m(\u001b[0m\u001b[0mstr\u001b[0m\u001b[0;34m(\u001b[0m\u001b[0mfilename\u001b[0m\u001b[0;34m)\u001b[0m\u001b[0;34m,\u001b[0m \u001b[0;34m'r'\u001b[0m\u001b[0;34m)\u001b[0m \u001b[0;32mas\u001b[0m \u001b[0mf\u001b[0m\u001b[0;34m:\u001b[0m\u001b[0;34m\u001b[0m\u001b[0;34m\u001b[0m\u001b[0m\n\u001b[0m\u001b[1;32m    173\u001b[0m         \u001b[0mv3\u001b[0m \u001b[0;34m=\u001b[0m \u001b[0;34m'/matrix'\u001b[0m \u001b[0;32min\u001b[0m \u001b[0mf\u001b[0m\u001b[0;34m\u001b[0m\u001b[0;34m\u001b[0m\u001b[0m\n\u001b[1;32m    174\u001b[0m     \u001b[0;32mif\u001b[0m \u001b[0mv3\u001b[0m\u001b[0;34m:\u001b[0m\u001b[0;34m\u001b[0m\u001b[0;34m\u001b[0m\u001b[0m\n",
      "\u001b[0;32m~/anaconda3/lib/python3.7/site-packages/tables/file.py\u001b[0m in \u001b[0;36mopen_file\u001b[0;34m(filename, mode, title, root_uep, filters, **kwargs)\u001b[0m\n\u001b[1;32m    318\u001b[0m \u001b[0;34m\u001b[0m\u001b[0m\n\u001b[1;32m    319\u001b[0m     \u001b[0;31m# Finally, create the File instance, and return it\u001b[0m\u001b[0;34m\u001b[0m\u001b[0;34m\u001b[0m\u001b[0;34m\u001b[0m\u001b[0m\n\u001b[0;32m--> 320\u001b[0;31m     \u001b[0;32mreturn\u001b[0m \u001b[0mFile\u001b[0m\u001b[0;34m(\u001b[0m\u001b[0mfilename\u001b[0m\u001b[0;34m,\u001b[0m \u001b[0mmode\u001b[0m\u001b[0;34m,\u001b[0m \u001b[0mtitle\u001b[0m\u001b[0;34m,\u001b[0m \u001b[0mroot_uep\u001b[0m\u001b[0;34m,\u001b[0m \u001b[0mfilters\u001b[0m\u001b[0;34m,\u001b[0m \u001b[0;34m**\u001b[0m\u001b[0mkwargs\u001b[0m\u001b[0;34m)\u001b[0m\u001b[0;34m\u001b[0m\u001b[0;34m\u001b[0m\u001b[0m\n\u001b[0m\u001b[1;32m    321\u001b[0m \u001b[0;34m\u001b[0m\u001b[0m\n\u001b[1;32m    322\u001b[0m \u001b[0;34m\u001b[0m\u001b[0m\n",
      "\u001b[0;32m~/anaconda3/lib/python3.7/site-packages/tables/file.py\u001b[0m in \u001b[0;36m__init__\u001b[0;34m(self, filename, mode, title, root_uep, filters, **kwargs)\u001b[0m\n\u001b[1;32m    782\u001b[0m \u001b[0;34m\u001b[0m\u001b[0m\n\u001b[1;32m    783\u001b[0m         \u001b[0;31m# Now, it is time to initialize the File extension\u001b[0m\u001b[0;34m\u001b[0m\u001b[0;34m\u001b[0m\u001b[0;34m\u001b[0m\u001b[0m\n\u001b[0;32m--> 784\u001b[0;31m         \u001b[0mself\u001b[0m\u001b[0;34m.\u001b[0m\u001b[0m_g_new\u001b[0m\u001b[0;34m(\u001b[0m\u001b[0mfilename\u001b[0m\u001b[0;34m,\u001b[0m \u001b[0mmode\u001b[0m\u001b[0;34m,\u001b[0m \u001b[0;34m**\u001b[0m\u001b[0mparams\u001b[0m\u001b[0;34m)\u001b[0m\u001b[0;34m\u001b[0m\u001b[0;34m\u001b[0m\u001b[0m\n\u001b[0m\u001b[1;32m    785\u001b[0m \u001b[0;34m\u001b[0m\u001b[0m\n\u001b[1;32m    786\u001b[0m         \u001b[0;31m# Check filters and set PyTables format version for new files.\u001b[0m\u001b[0;34m\u001b[0m\u001b[0;34m\u001b[0m\u001b[0;34m\u001b[0m\u001b[0m\n",
      "\u001b[0;32mtables/hdf5extension.pyx\u001b[0m in \u001b[0;36mtables.hdf5extension.File._g_new\u001b[0;34m()\u001b[0m\n",
      "\u001b[0;32m~/anaconda3/lib/python3.7/site-packages/tables/utils.py\u001b[0m in \u001b[0;36mcheck_file_access\u001b[0;34m(filename, mode)\u001b[0m\n\u001b[1;32m    155\u001b[0m         \u001b[0;31m# The file should be readable.\u001b[0m\u001b[0;34m\u001b[0m\u001b[0;34m\u001b[0m\u001b[0;34m\u001b[0m\u001b[0m\n\u001b[1;32m    156\u001b[0m         \u001b[0;32mif\u001b[0m \u001b[0;32mnot\u001b[0m \u001b[0mos\u001b[0m\u001b[0;34m.\u001b[0m\u001b[0maccess\u001b[0m\u001b[0;34m(\u001b[0m\u001b[0mfilename\u001b[0m\u001b[0;34m,\u001b[0m \u001b[0mos\u001b[0m\u001b[0;34m.\u001b[0m\u001b[0mF_OK\u001b[0m\u001b[0;34m)\u001b[0m\u001b[0;34m:\u001b[0m\u001b[0;34m\u001b[0m\u001b[0;34m\u001b[0m\u001b[0m\n\u001b[0;32m--> 157\u001b[0;31m             \u001b[0;32mraise\u001b[0m \u001b[0mIOError\u001b[0m\u001b[0;34m(\u001b[0m\u001b[0;34m\"``%s`` does not exist\"\u001b[0m \u001b[0;34m%\u001b[0m \u001b[0;34m(\u001b[0m\u001b[0mfilename\u001b[0m\u001b[0;34m,\u001b[0m\u001b[0;34m)\u001b[0m\u001b[0;34m)\u001b[0m\u001b[0;34m\u001b[0m\u001b[0;34m\u001b[0m\u001b[0m\n\u001b[0m\u001b[1;32m    158\u001b[0m         \u001b[0;32mif\u001b[0m \u001b[0;32mnot\u001b[0m \u001b[0mos\u001b[0m\u001b[0;34m.\u001b[0m\u001b[0mpath\u001b[0m\u001b[0;34m.\u001b[0m\u001b[0misfile\u001b[0m\u001b[0;34m(\u001b[0m\u001b[0mfilename\u001b[0m\u001b[0;34m)\u001b[0m\u001b[0;34m:\u001b[0m\u001b[0;34m\u001b[0m\u001b[0;34m\u001b[0m\u001b[0m\n\u001b[1;32m    159\u001b[0m             \u001b[0;32mraise\u001b[0m \u001b[0mIOError\u001b[0m\u001b[0;34m(\u001b[0m\u001b[0;34m\"``%s`` is not a regular file\"\u001b[0m \u001b[0;34m%\u001b[0m \u001b[0;34m(\u001b[0m\u001b[0mfilename\u001b[0m\u001b[0;34m,\u001b[0m\u001b[0;34m)\u001b[0m\u001b[0;34m)\u001b[0m\u001b[0;34m\u001b[0m\u001b[0;34m\u001b[0m\u001b[0m\n",
      "\u001b[0;31mOSError\u001b[0m: ``http://cf.10xgenomics.com/samples/cell-exp/2.1.0/pbmc8k/pbmc8k_filtered_gene_bc_matrices.tar.gz`` does not exist"
     ]
    }
   ],
   "source": [
    "import scanpy\n",
    "scanpy.read_10x_h5(\"http://cf.10xgenomics.com/samples/cell-exp/2.1.0/pbmc8k/pbmc8k_filtered_gene_bc_matrices.tar.gz\")\n"
   ]
  },
  {
   "cell_type": "code",
   "execution_count": 19,
   "metadata": {},
   "outputs": [
    {
     "name": "stdout",
     "output_type": "stream",
     "text": [
      "[2020-06-30 12:11:12,196] INFO - scvi.dataset._anndata | Using data from adata.X\n",
      "[2020-06-30 12:11:12,197] INFO - scvi.dataset._anndata | Using batches from adata.obs[\"batch_indices\"]\n",
      "[2020-06-30 12:11:12,198] INFO - scvi.dataset._anndata | Using labels from adata.obs[\"precise_labels\"]\n",
      "[2020-06-30 12:11:12,200] INFO - scvi.dataset._anndata | Computing library size prior per batch\n",
      "[2020-06-30 12:11:12,210] INFO - scvi.dataset._anndata | Successfully registered anndata object containing 3005 cells, 558 genes, and 1 batches \n",
      "Registered keys:['X', 'batch_indices', 'local_l_mean', 'local_l_var', 'labels']\n"
     ]
    }
   ],
   "source": [
    "c = cortex()"
   ]
  },
  {
   "cell_type": "code",
   "execution_count": 10,
   "metadata": {},
   "outputs": [
    {
     "data": {
      "text/plain": [
       "AnnData object with n_obs × n_vars = 3005 × 558 \n",
       "    obs: 'cell_types', 'precise_labels', 'batch_indices'"
      ]
     },
     "execution_count": 10,
     "metadata": {},
     "output_type": "execute_result"
    }
   ],
   "source": [
    "c"
   ]
  },
  {
   "cell_type": "code",
   "execution_count": 13,
   "metadata": {},
   "outputs": [
    {
     "data": {
      "text/plain": [
       "{}"
      ]
     },
     "execution_count": 13,
     "metadata": {},
     "output_type": "execute_result"
    }
   ],
   "source": [
    "cd.uns['cell_measurements_col_mappings']\n"
   ]
  },
  {
   "cell_type": "code",
   "execution_count": null,
   "metadata": {},
   "outputs": [],
   "source": []
  }
 ],
 "metadata": {
  "kernelspec": {
   "display_name": "Python 3",
   "language": "python",
   "name": "python3"
  },
  "language_info": {
   "codemirror_mode": {
    "name": "ipython",
    "version": 3
   },
   "file_extension": ".py",
   "mimetype": "text/x-python",
   "name": "python",
   "nbconvert_exporter": "python",
   "pygments_lexer": "ipython3",
   "version": "3.7.3"
  }
 },
 "nbformat": 4,
 "nbformat_minor": 2
}
