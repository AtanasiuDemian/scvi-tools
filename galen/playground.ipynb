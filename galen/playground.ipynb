{
 "cells": [
  {
   "cell_type": "code",
   "execution_count": 2,
   "metadata": {},
   "outputs": [
    {
     "name": "stderr",
     "output_type": "stream",
     "text": [
      "/Users/galen/anaconda3/lib/python3.7/site-packages/dask/config.py:168: YAMLLoadWarning: calling yaml.load() without Loader=... is deprecated, as the default Loader is unsafe. Please read https://msg.pyyaml.org/load for full details.\n",
      "  data = yaml.load(f.read()) or {}\n"
     ]
    }
   ],
   "source": [
    "%load_ext autoreload\n",
    "%autoreload 2\n",
    "%aimport anndata\n",
    "%aimport os\n",
    "%aimport torch\n",
    "import numpy as np\n",
    "import pandas as pd\n",
    "import scipy as sp\n",
    "import matplotlib.pyplot as plt\n",
    "from typing import Dict, Union, List, Tuple\n",
    "from torch.utils.data import Dataset\n",
    "# Control UMAP numba warnings\n",
    "import warnings; warnings.simplefilter('ignore')\n",
    "import copy\n",
    "import scvi\n",
    "from scvi.dataset import PurifiedPBMCDataset\n",
    "from scvi.models.scanvi import SCANVI\n",
    "\n",
    "from scvi.inference import UnsupervisedTrainer, load_posterior, SemiSupervisedTrainer\n",
    "from scvi import set_seed\n",
    "from scvi.dataset.utils import setup_anndata\n",
    "\n",
    "# Sets torch and numpy random seeds, run after all scvi imports\n",
    "set_seed(0)\n"
   ]
  },
  {
   "cell_type": "code",
   "execution_count": 3,
   "metadata": {},
   "outputs": [
    {
     "name": "stdout",
     "output_type": "stream",
     "text": [
      "[2020-06-25 12:35:40,422] INFO - scvi.dataset.dataset | File /Users/galen/scVI/galen/data/regulatory_t/filtered_gene_bc_matrices.tar.gz already downloaded\n",
      "[2020-06-25 12:35:40,423] INFO - scvi.dataset.dataset10X | Preprocessing dataset\n",
      "[2020-06-25 12:35:40,426] INFO - scvi.dataset.dataset10X | Extracting tar file\n",
      "[2020-06-25 12:35:49,155] INFO - scvi.dataset.dataset10X | Finished preprocessing dataset\n",
      "[2020-06-25 12:35:49,273] WARNING - scvi.dataset.dataset | Gene names are not unique.\n",
      "[2020-06-25 12:35:49,275] INFO - scvi.dataset.dataset | Remapping labels to [0,N]\n",
      "[2020-06-25 12:35:49,277] INFO - scvi.dataset.dataset | Remapping batch_indices to [0,N]\n",
      "[2020-06-25 12:35:49,448] INFO - scvi.dataset.dataset | Computing the library size for the new data\n",
      "[2020-06-25 12:35:49,532] INFO - scvi.dataset.dataset | Downsampled from 10263 to 10263 cells\n",
      "[2020-06-25 12:35:49,553] INFO - scvi.dataset.dataset | File /Users/galen/scVI/galen/data/naive_t/filtered_gene_bc_matrices.tar.gz already downloaded\n",
      "[2020-06-25 12:35:49,554] INFO - scvi.dataset.dataset10X | Preprocessing dataset\n",
      "[2020-06-25 12:35:49,556] INFO - scvi.dataset.dataset10X | Extracting tar file\n",
      "[2020-06-25 12:35:58,388] INFO - scvi.dataset.dataset10X | Finished preprocessing dataset\n",
      "[2020-06-25 12:35:58,521] WARNING - scvi.dataset.dataset | Gene names are not unique.\n",
      "[2020-06-25 12:35:58,521] INFO - scvi.dataset.dataset | Remapping labels to [0,N]\n",
      "[2020-06-25 12:35:58,523] INFO - scvi.dataset.dataset | Remapping batch_indices to [0,N]\n",
      "[2020-06-25 12:35:58,680] INFO - scvi.dataset.dataset | Computing the library size for the new data\n",
      "[2020-06-25 12:35:58,773] INFO - scvi.dataset.dataset | Downsampled from 10479 to 10479 cells\n",
      "[2020-06-25 12:35:58,794] INFO - scvi.dataset.dataset | File /Users/galen/scVI/galen/data/memory_t/filtered_gene_bc_matrices.tar.gz already downloaded\n",
      "[2020-06-25 12:35:58,795] INFO - scvi.dataset.dataset10X | Preprocessing dataset\n",
      "[2020-06-25 12:35:58,797] INFO - scvi.dataset.dataset10X | Extracting tar file\n",
      "[2020-06-25 12:36:09,389] INFO - scvi.dataset.dataset10X | Finished preprocessing dataset\n",
      "[2020-06-25 12:36:09,534] WARNING - scvi.dataset.dataset | Gene names are not unique.\n",
      "[2020-06-25 12:36:09,535] INFO - scvi.dataset.dataset | Remapping labels to [0,N]\n",
      "[2020-06-25 12:36:09,536] INFO - scvi.dataset.dataset | Remapping batch_indices to [0,N]\n",
      "[2020-06-25 12:36:09,713] INFO - scvi.dataset.dataset | Computing the library size for the new data\n",
      "[2020-06-25 12:36:09,801] INFO - scvi.dataset.dataset | Downsampled from 10224 to 10224 cells\n",
      "[2020-06-25 12:36:09,817] INFO - scvi.dataset.dataset | File /Users/galen/scVI/galen/data/naive_cytotoxic/filtered_gene_bc_matrices.tar.gz already downloaded\n",
      "[2020-06-25 12:36:09,818] INFO - scvi.dataset.dataset10X | Preprocessing dataset\n",
      "[2020-06-25 12:36:09,820] INFO - scvi.dataset.dataset10X | Extracting tar file\n",
      "[2020-06-25 12:36:20,225] INFO - scvi.dataset.dataset10X | Finished preprocessing dataset\n",
      "[2020-06-25 12:36:20,340] WARNING - scvi.dataset.dataset | Gene names are not unique.\n",
      "[2020-06-25 12:36:20,341] INFO - scvi.dataset.dataset | Remapping labels to [0,N]\n",
      "[2020-06-25 12:36:20,342] INFO - scvi.dataset.dataset | Remapping batch_indices to [0,N]\n",
      "[2020-06-25 12:36:20,496] INFO - scvi.dataset.dataset | Computing the library size for the new data\n",
      "[2020-06-25 12:36:20,567] INFO - scvi.dataset.dataset | Downsampled from 11953 to 11953 cells\n",
      "[2020-06-25 12:36:20,578] INFO - scvi.dataset.dataset | Merging datasets. Input objects are modified in place.\n",
      "[2020-06-25 12:36:20,578] INFO - scvi.dataset.dataset | Gene names and cell measurement names are assumed to have a non-null intersection between datasets.\n",
      "[2020-06-25 12:36:20,689] INFO - scvi.dataset.dataset | Keeping 32738 genes\n",
      "[2020-06-25 12:36:20,950] INFO - scvi.dataset.dataset | Computing the library size for the new data\n",
      "[2020-06-25 12:36:21,018] INFO - scvi.dataset.dataset | Remapping labels to [0,N]\n",
      "[2020-06-25 12:36:21,019] INFO - scvi.dataset.dataset | Remapping batch_indices to [0,N]\n",
      "[2020-06-25 12:36:21,256] INFO - scvi.dataset.dataset | Computing the library size for the new data\n",
      "[2020-06-25 12:36:21,310] INFO - scvi.dataset.dataset | Remapping labels to [0,N]\n",
      "[2020-06-25 12:36:21,311] INFO - scvi.dataset.dataset | Remapping batch_indices to [0,N]\n",
      "[2020-06-25 12:36:21,563] INFO - scvi.dataset.dataset | Computing the library size for the new data\n",
      "[2020-06-25 12:36:21,622] INFO - scvi.dataset.dataset | Remapping labels to [0,N]\n",
      "[2020-06-25 12:36:21,623] INFO - scvi.dataset.dataset | Remapping batch_indices to [0,N]\n",
      "[2020-06-25 12:36:21,888] INFO - scvi.dataset.dataset | Computing the library size for the new data\n",
      "[2020-06-25 12:36:21,949] INFO - scvi.dataset.dataset | Remapping labels to [0,N]\n",
      "[2020-06-25 12:36:21,950] INFO - scvi.dataset.dataset | Remapping batch_indices to [0,N]\n",
      "[2020-06-25 12:36:22,477] INFO - scvi.dataset.dataset | Remapping labels to [0,N]\n",
      "[2020-06-25 12:36:22,480] INFO - scvi.dataset.dataset | Remapping batch_indices to [0,N]\n",
      "[2020-06-25 12:36:22,846] INFO - scvi.dataset.dataset | Downsampling from 32738 to 18443 genes\n",
      "[2020-06-25 12:36:23,732] INFO - scvi.dataset.dataset | Computing the library size for the new data\n",
      "[2020-06-25 12:36:23,964] INFO - scvi.dataset.dataset | Filtering non-expressing cells.\n",
      "[2020-06-25 12:36:24,598] INFO - scvi.dataset.dataset | Computing the library size for the new data\n",
      "[2020-06-25 12:36:24,818] INFO - scvi.dataset.dataset | Downsampled from 42919 to 42919 cells\n",
      "[2020-06-25 12:36:25,511] INFO - scvi.dataset.dataset | Computing the library size for the new data\n",
      "[2020-06-25 12:36:25,756] INFO - scvi.dataset.dataset | Downsampled from 42919 to 42919 cells\n"
     ]
    },
    {
     "name": "stderr",
     "output_type": "stream",
     "text": [
      "Transforming to str index.\n",
      "Variable names are not unique. To make them unique, call `.var_names_make_unique`.\n"
     ]
    }
   ],
   "source": [
    "use_cuda = False\n",
    "\n",
    "cell_types = [\"regulatory_t\", \"naive_t\", \"memory_t\",  \"naive_cytotoxic\"]\n",
    "cell_types = [1,2,3,5]\n",
    "#cell_types should probably be a list of str instead of ints\n",
    "pbmc = PurifiedPBMCDataset(subset_datasets=cell_types)\n",
    "import scanpy\n",
    "subset = [\"CD4\", \"FOXP3\", \"TNFRSF18\", \"IL2RA\", \"CTLA4\", \"CD44\", \"TCF7\", \"CD8B\", \"CCR7\", \"CD69\", \"PTPRC\", \"S100A4\"]\n",
    "\n",
    "adata = pbmc.to_anndata()\n",
    "adata.var_names_make_unique()\n",
    "\n",
    "#where to subset\n",
    "# adata = adata[:,subset]\n",
    "\n",
    "#target sum follows what chenling uses\n",
    "scanpy.pp.normalize_total(adata, target_sum = 1e4) \n",
    "scanpy.pp.log1p(adata)\n",
    "#corresponding chenling code\n",
    "#expression = np.log(1 + 1e4 * expression[:, idx] / np.sum(expression, axis=1)[:, np.newaxis])\n",
    "\n",
    "#second subset option\n",
    "adata = adata[:,subset]\n",
    "\n",
    "#scale data to mean 0, std 1\n",
    "scanpy.pp.scale(adata)\n",
    "\n",
    "#chenling code:\n",
    "# expression = expression - np.mean(expression, axis=0)\n",
    "# expression = expression / np.std(expression, axis=0)\n",
    "\n",
    "#make sure no inf values\n",
    "assert len(np.where(np.isinf(adata.X))[0]) == 0\n",
    "#get the score for a set of genes\n",
    "def get_score(normalized_adata, gene_set):\n",
    "    score = np.zeros(normalized_adata.n_obs)\n",
    "    for gene in gene_set['positive']:\n",
    "        expression = np.array(adata[:, gene].X)\n",
    "        score = np.add(score, expression.flatten())\n",
    "    for gene in gene_set['negative']:\n",
    "        expression = np.array(adata[:, gene].X)\n",
    "        score = np.subtract(score, expression.flatten())\n",
    "    return score\n",
    "\n",
    "#get a mask over the genes\n",
    "def get_gene_mask(normalized_adata, gene_set):\n",
    "    score = get_score(normalized_adata, gene_set)\n",
    "    cell_idx = score.argsort()[-50:]\n",
    "    mask = np.zeros(normalized_adata.n_obs)\n",
    "    mask[cell_idx] = 1\n",
    "    return mask.astype(bool)\n",
    "\n",
    "cd4_reg_geneset = {\"positive\":[\"TNFRSF18\", \"CTLA4\", \"FOXP3\", \"IL2RA\"],\n",
    "                   \"negative\":[\"S100A4\" ,\"PTPRC\" ,\"CD8B\"]}\n",
    "\n",
    "cd8_naive_geneset = {\"positive\":[\"CD8B\", \"CCR7\"],\n",
    "                   \"negative\":[\"CD4\"]}\n",
    "\n",
    "cd4_naive_geneset = {\"positive\":[\"CCR7\",\"CD4\"],\n",
    "                   \"negative\":[\"S100A4\", \"PTPRC\", \"FOXP3\", \"IL2RA\", \"CD69\" ]}\n",
    "\n",
    "cd4_mem_geneset = {\"positive\":[\"S100A4\"],\n",
    "                   \"negative\":[\"IL2RA\" ,\"FOXP3\",\"TNFRSF18\", \"CCR7\"]}\n",
    "\n",
    "cd4_reg_mask = get_gene_mask(adata, cd4_reg_geneset,) #38, 4\n",
    "cd8_naive_mask = get_gene_mask(adata, cd8_naive_geneset,) #100, 0\n",
    "cd4_naive_mask = get_gene_mask(adata, cd4_naive_geneset,)#72, 0 \n",
    "cd4_mem_mask = get_gene_mask(adata, cd4_mem_geneset,)#100, 0 \n",
    "full_mask = cd4_reg_mask | cd8_naive_mask | cd4_naive_mask | cd4_mem_mask\n",
    "indicator_lab = np.zeros(len(pbmc))\n",
    "indicator_lab[full_mask] = 1\n"
   ]
  },
  {
   "cell_type": "code",
   "execution_count": 4,
   "metadata": {},
   "outputs": [
    {
     "name": "stderr",
     "output_type": "stream",
     "text": [
      "Transforming to str index.\n",
      "Variable names are not unique. To make them unique, call `.var_names_make_unique`.\n"
     ]
    },
    {
     "name": "stdout",
     "output_type": "stream",
     "text": [
      "[2020-06-25 12:36:27,412] INFO - scvi.dataset.utils | Using data from adata.X\n",
      "[2020-06-25 12:36:27,413] INFO - scvi.dataset.utils | Using batches from adata.obs[\"batch_indices\"]\n",
      "[2020-06-25 12:36:27,413] INFO - scvi.dataset.utils | Using labels from adata.obs[\"cell_types\"]\n",
      "[2020-06-25 12:36:27,421] INFO - scvi.dataset.utils | Computing library size prior per batch\n",
      "[2020-06-25 12:36:27,830] INFO - scvi.dataset.utils | Successfully registered anndata object containing 42919 cells, 18443 genes, and 4 batches \n",
      "Registered keys:['X', 'batch_indices', 'local_l_mean', 'local_l_var', 'labels', 'scanvi_labeled_idx']\n"
     ]
    }
   ],
   "source": [
    "raw_adata = pbmc.to_anndata()\n",
    "raw_adata.obs['scanvi_labeled_mask'] = indicator_lab\n",
    "setup_anndata(raw_adata, batch_key = 'batch_indices', scanvi_labeled_idx_key = 'scanvi_labeled_mask', labels_key = 'cell_types')\n"
   ]
  },
  {
   "cell_type": "code",
   "execution_count": 5,
   "metadata": {},
   "outputs": [],
   "source": [
    "from scvi.dataset.utils import get_from_registry"
   ]
  },
  {
   "cell_type": "code",
   "execution_count": null,
   "metadata": {},
   "outputs": [],
   "source": []
  },
  {
   "cell_type": "code",
   "execution_count": 6,
   "metadata": {},
   "outputs": [
    {
     "data": {
      "text/plain": [
       "AnnData object with n_obs × n_vars = 42919 × 18443 \n",
       "    obs: 'cell_types', 'batch_indices', 'barcodes', 'scanvi_labeled_mask', '_scvi_labels', '_scvi_local_l_mean', '_scvi_local_l_var'\n",
       "    uns: 'cell_measurements_col_mappings', 'scvi_data_registry', 'scvi_summary_stats'"
      ]
     },
     "execution_count": 6,
     "metadata": {},
     "output_type": "execute_result"
    }
   ],
   "source": [
    "raw_adata"
   ]
  },
  {
   "cell_type": "code",
   "execution_count": 7,
   "metadata": {},
   "outputs": [],
   "source": [
    "\n",
    "\n",
    "class Test():\n",
    "    def __init__(self,X):\n",
    "        self.X = X\n",
    "t = Test(raw_adata.X)"
   ]
  },
  {
   "cell_type": "code",
   "execution_count": 8,
   "metadata": {},
   "outputs": [],
   "source": [
    "raw_adata.X = raw_adata.X.toarray()"
   ]
  },
  {
   "cell_type": "code",
   "execution_count": 9,
   "metadata": {},
   "outputs": [
    {
     "data": {
      "text/plain": [
       "array([[0., 0., 0., ..., 0., 0., 0.],\n",
       "       [0., 0., 0., ..., 0., 1., 0.],\n",
       "       [0., 0., 0., ..., 0., 0., 0.],\n",
       "       ...,\n",
       "       [0., 0., 0., ..., 0., 0., 0.],\n",
       "       [0., 0., 0., ..., 0., 0., 0.],\n",
       "       [0., 0., 0., ..., 0., 0., 0.]], dtype=float32)"
      ]
     },
     "execution_count": 9,
     "metadata": {},
     "output_type": "execute_result"
    }
   ],
   "source": [
    "raw_adata.X \n"
   ]
  },
  {
   "cell_type": "code",
   "execution_count": 10,
   "metadata": {},
   "outputs": [
    {
     "name": "stdout",
     "output_type": "stream",
     "text": [
      "79.4 µs ± 9.06 µs per loop (mean ± std. dev. of 7 runs, 10000 loops each)\n"
     ]
    }
   ],
   "source": [
    "%timeit t.X[10]"
   ]
  },
  {
   "cell_type": "code",
   "execution_count": 11,
   "metadata": {},
   "outputs": [
    {
     "name": "stdout",
     "output_type": "stream",
     "text": [
      "40.4 ns ± 1.17 ns per loop (mean ± std. dev. of 7 runs, 10000000 loops each)\n"
     ]
    }
   ],
   "source": [
    " %timeit raw_adata._X #39.4 ns\n",
    "# %timeit raw_adata.X #483 ns"
   ]
  },
  {
   "cell_type": "code",
   "execution_count": 12,
   "metadata": {},
   "outputs": [
    {
     "name": "stdout",
     "output_type": "stream",
     "text": [
      "796 ns ± 109 ns per loop (mean ± std. dev. of 7 runs, 1000000 loops each)\n"
     ]
    }
   ],
   "source": [
    "# %timeit raw_adata._X[10] #62.3 µs ± 1.16 µs  181 ns\n",
    "%timeit raw_adata.X[10] #62.8 µs ± 625 ns 644 ns "
   ]
  },
  {
   "cell_type": "code",
   "execution_count": 69,
   "metadata": {},
   "outputs": [],
   "source": [
    "scanvi = SCANVI(raw_adata.uns['scvi_summary_stats']['n_genes'], n_batch = 0, n_labels=6, n_layers=2, classifier_parameters = {'dropout_rate':0.2, 'n_hidden':256, 'n_layers':2})\n",
    "trainer_scanvi = SemiSupervisedTrainer(scanvi, raw_adata, classification_ratio=100,\n",
    "                                       n_epochs_classifier=1, lr_classification=5 * 1e-3,  frequency=5)\n",
    "\n",
    "# trainer_scanvi.labelled_set = trainer_scanvi.create_posterior(indices=(indicator_lab == 1))\n",
    "# trainer_scanvi.unlabelled_set = trainer_scanvi.create_posterior(indices=(indicator_lab == 0))\n",
    "# trainer_scanvi.labelled_set.to_monitor = ['reconstruction_error', 'accuracy']\n",
    "# trainer_scanvi.unlabelled_set.to_monitor = ['reconstruction_error', 'accuracy']\n",
    "\n",
    "# trainer_scanvi.train(n_epochs=1)\n",
    "# trainer_scanvi.model.eval()\n",
    "\n",
    "full_scanvi = trainer_scanvi.create_posterior(trainer_scanvi.model, raw_adata )\n",
    "# latent_scanvi, batch_indices, labels = full_scanvi.sequential().get_latent()\n"
   ]
  },
  {
   "cell_type": "code",
   "execution_count": 1,
   "metadata": {},
   "outputs": [
    {
     "ename": "NameError",
     "evalue": "name 'full_scanvi' is not defined",
     "output_type": "error",
     "traceback": [
      "\u001b[0;31m---------------------------------------------------------------------------\u001b[0m",
      "\u001b[0;31mNameError\u001b[0m                                 Traceback (most recent call last)",
      "\u001b[0;32m<ipython-input-1-8e8b10f7f2f8>\u001b[0m in \u001b[0;36m<module>\u001b[0;34m\u001b[0m\n\u001b[1;32m      2\u001b[0m \u001b[0mstart\u001b[0m \u001b[0;34m=\u001b[0m \u001b[0mtime\u001b[0m\u001b[0;34m.\u001b[0m\u001b[0mtime\u001b[0m\u001b[0;34m(\u001b[0m\u001b[0;34m)\u001b[0m\u001b[0;34m\u001b[0m\u001b[0;34m\u001b[0m\u001b[0m\n\u001b[1;32m      3\u001b[0m \u001b[0mi\u001b[0m \u001b[0;34m=\u001b[0m \u001b[0;36m0\u001b[0m\u001b[0;34m\u001b[0m\u001b[0;34m\u001b[0m\u001b[0m\n\u001b[0;32m----> 4\u001b[0;31m \u001b[0;32mfor\u001b[0m \u001b[0ma\u001b[0m\u001b[0;34m,\u001b[0m\u001b[0mb\u001b[0m \u001b[0;32min\u001b[0m \u001b[0menumerate\u001b[0m\u001b[0;34m(\u001b[0m\u001b[0mfull_scanvi\u001b[0m\u001b[0;34m)\u001b[0m\u001b[0;34m:\u001b[0m\u001b[0;34m\u001b[0m\u001b[0;34m\u001b[0m\u001b[0m\n\u001b[0m\u001b[1;32m      5\u001b[0m     \u001b[0mi\u001b[0m\u001b[0;34m+=\u001b[0m\u001b[0;36m1\u001b[0m\u001b[0;34m\u001b[0m\u001b[0;34m\u001b[0m\u001b[0m\n\u001b[1;32m      6\u001b[0m     \u001b[0mprint\u001b[0m\u001b[0;34m(\u001b[0m\u001b[0mb\u001b[0m\u001b[0;34m)\u001b[0m\u001b[0;34m\u001b[0m\u001b[0;34m\u001b[0m\u001b[0m\n",
      "\u001b[0;31mNameError\u001b[0m: name 'full_scanvi' is not defined"
     ]
    }
   ],
   "source": [
    "import time\n",
    "start = time.time()\n",
    "i = 0\n",
    "for a,b in enumerate(full_scanvi):\n",
    "    i+=1 \n",
    "    print(b)\n",
    "    break\n",
    "    pass\n",
    "\n",
    "end = time.time()\n",
    "print(end-start)\n",
    "print(i)"
   ]
  },
  {
   "cell_type": "code",
   "execution_count": 65,
   "metadata": {},
   "outputs": [
    {
     "name": "stdout",
     "output_type": "stream",
     "text": [
      "3.61 µs ± 35.7 ns per loop (mean ± std. dev. of 7 runs, 100000 loops each)\n"
     ]
    }
   ],
   "source": [
    "#RESULTS with ._X and ._obs with dense representation \n",
    "#full enumerate : 11.813170909881592 seconds \n",
    "\n",
    "# %timeit get_from_registry(raw_adata, 'X') # 485 ns\n",
    "# %timeit get_from_registry(raw_adata, 'X')[10] #624 ns us \n",
    "# %timeit get_from_registry(raw_adata, 'X')[10].flatten() #3 us\n",
    "# %timeit torch.from_numpy(get_from_registry(raw_adata, 'X')[10].flatten()) #6us\n",
    "# %timeit torch.from_numpy(get_from_registry(raw_adata, 'X')[10].flatten().astype(np.float32)) #10 us\n",
    "\n"
   ]
  },
  {
   "cell_type": "code",
   "execution_count": 37,
   "metadata": {},
   "outputs": [
    {
     "name": "stdout",
     "output_type": "stream",
     "text": [
      "89.6 µs ± 359 ns per loop (mean ± std. dev. of 7 runs, 10000 loops each)\n"
     ]
    }
   ],
   "source": [
    "#RESULTS with ._X and ._obs\n",
    "#full enumerate: 15 seconds\n",
    "# %timeit get_from_registry(raw_adata, 'X') # 485 ns\n",
    "# %timeit get_from_registry(raw_adata, 'X')[10] #65.7 us \n",
    "# %timeit get_from_registry(raw_adata, 'X')[10].toarray() #76.2 us\n",
    "# %timeit get_from_registry(raw_adata, 'X')[10].toarray().flatten() #82.1 us\n",
    "# %timeit get_from_registry(raw_adata, 'X')[10].toarray().flatten().astype(np.float32) #83.2 us\n",
    "# %timeit torch.from_numpy(get_from_registry(raw_adata, 'X')[10].toarray().flatten().astype(np.float32)) #89 us\n",
    "\n"
   ]
  },
  {
   "cell_type": "code",
   "execution_count": null,
   "metadata": {},
   "outputs": [],
   "source": [
    "#results with X and obs and csr\n",
    "#full enumerate 30 seconds\n",
    "\n",
    "# %timeit get_from_registry(raw_adata, 'X') # 1.2 us \n",
    "# %timeit get_from_registry(raw_adata, 'X')[10] #74 us \n",
    "# %timeit get_from_registry(raw_adata, 'X')[10].toarray() #87.4 us\n",
    "# %timeit get_from_registry(raw_adata, 'X')[10].toarray().flatten() #90.5 us\n",
    "# %timeit get_from_registry(raw_adata, 'X')[10].toarray().flatten() #90.5 us\n",
    "# %timeit get_from_registry(raw_adata, 'X')[10].toarray().flatten().astype(np.float32) #99.7 us\n",
    "# %timeit torch.from_numpy(get_from_registry(raw_adata, 'X')[10].toarray().flatten().astype(np.float32)) #105 us\n",
    "\n"
   ]
  },
  {
   "cell_type": "code",
   "execution_count": 26,
   "metadata": {},
   "outputs": [],
   "source": [
    "#14 seconds just accessing from ._X\n",
    "#14 seconds accessfing from ._obs"
   ]
  },
  {
   "cell_type": "code",
   "execution_count": 28,
   "metadata": {},
   "outputs": [],
   "source": [
    "csr = raw_adata.X"
   ]
  },
  {
   "cell_type": "code",
   "execution_count": 31,
   "metadata": {},
   "outputs": [
    {
     "name": "stdout",
     "output_type": "stream",
     "text": [
      "86.7 µs ± 1.5 µs per loop (mean ± std. dev. of 7 runs, 10000 loops each)\n"
     ]
    }
   ],
   "source": [
    "# %timeit csr[10] #60us\n",
    "%timeit torch.from_numpy(csr[10].toarray().flatten().astype(np.float32))"
   ]
  },
  {
   "cell_type": "code",
   "execution_count": 35,
   "metadata": {},
   "outputs": [
    {
     "data": {
      "text/plain": [
       "(42919, 18443)"
      ]
     },
     "execution_count": 35,
     "metadata": {},
     "output_type": "execute_result"
    }
   ],
   "source": [
    "raw_adata.shape"
   ]
  },
  {
   "cell_type": "code",
   "execution_count": 33,
   "metadata": {},
   "outputs": [
    {
     "name": "stdout",
     "output_type": "stream",
     "text": [
      "CPU times: user 3.5 s, sys: 49.9 ms, total: 3.55 s\n",
      "Wall time: 3.56 s\n"
     ]
    }
   ],
   "source": [
    "%%time\n",
    "for idx in range(n_cells):\n",
    "    attributes_and_types = {'X': np.float32}\n",
    "    [csr[idx].toarray().flatten().astype(dtype) for key, dtype in attributes_and_types.items()]\n",
    "\n",
    "#     data_numpy = {\n",
    "#                 key: get_from_registry(raw_adata, key)[idx].astype(dtype)\n",
    "#                 if isinstance(get_from_registry(raw_adata, key), np.ndarray)\n",
    "#                 else get_from_registry(raw_adata, key)[idx]\n",
    "#                 .toarray()\n",
    "#                 .flatten()\n",
    "#                 .astype(dtype)\n",
    "#                 for key, dtype in attributes_and_types.items()\n",
    "#                 }\n"
   ]
  },
  {
   "cell_type": "code",
   "execution_count": 27,
   "metadata": {},
   "outputs": [
    {
     "ename": "NameError",
     "evalue": "name 'key' is not defined",
     "output_type": "error",
     "traceback": [
      "\u001b[0;31m---------------------------------------------------------------------------\u001b[0m",
      "\u001b[0;31mNameError\u001b[0m                                 Traceback (most recent call last)",
      "\u001b[0;32m<ipython-input-27-4786c06c3d19>\u001b[0m in \u001b[0;36m<module>\u001b[0;34m\u001b[0m\n\u001b[0;32m----> 1\u001b[0;31m \u001b[0mget_from_registry\u001b[0m\u001b[0;34m(\u001b[0m\u001b[0mraw_adata\u001b[0m\u001b[0;34m,\u001b[0m \u001b[0mkey\u001b[0m\u001b[0;34m)\u001b[0m\u001b[0;34m[\u001b[0m\u001b[0midx\u001b[0m\u001b[0;34m]\u001b[0m\u001b[0;34m\u001b[0m\u001b[0;34m\u001b[0m\u001b[0m\n\u001b[0m",
      "\u001b[0;31mNameError\u001b[0m: name 'key' is not defined"
     ]
    }
   ],
   "source": [
    "get_from_registry(raw_adata, key)[idx]"
   ]
  },
  {
   "cell_type": "code",
   "execution_count": null,
   "metadata": {},
   "outputs": [],
   "source": []
  }
 ],
 "metadata": {
  "kernelspec": {
   "display_name": "Python 3",
   "language": "python",
   "name": "python3"
  },
  "language_info": {
   "codemirror_mode": {
    "name": "ipython",
    "version": 3
   },
   "file_extension": ".py",
   "mimetype": "text/x-python",
   "name": "python",
   "nbconvert_exporter": "python",
   "pygments_lexer": "ipython3",
   "version": "3.7.3"
  }
 },
 "nbformat": 4,
 "nbformat_minor": 2
}
