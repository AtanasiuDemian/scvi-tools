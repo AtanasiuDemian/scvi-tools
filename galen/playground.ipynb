{
 "cells": [
  {
   "cell_type": "code",
   "execution_count": 1,
   "metadata": {},
   "outputs": [
    {
     "name": "stderr",
     "output_type": "stream",
     "text": [
      "/Users/galen/anaconda3/lib/python3.7/site-packages/dask/config.py:168: YAMLLoadWarning: calling yaml.load() without Loader=... is deprecated, as the default Loader is unsafe. Please read https://msg.pyyaml.org/load for full details.\n",
      "  data = yaml.load(f.read()) or {}\n"
     ]
    }
   ],
   "source": [
    "%load_ext autoreload\n",
    "%autoreload 2\n",
    "%aimport anndata\n",
    "%aimport os\n",
    "%aimport torch\n",
    "import numpy as np\n",
    "import pandas as pd\n",
    "import scipy as sp\n",
    "import matplotlib.pyplot as plt\n",
    "from typing import Dict, Union, List, Tuple\n",
    "from torch.utils.data import Dataset\n",
    "# Control UMAP numba warnings\n",
    "import warnings; warnings.simplefilter('ignore')\n",
    "import copy\n",
    "import scvi\n",
    "from scvi.dataset import PurifiedPBMCDataset\n",
    "from scvi.models.scanvi import SCANVI\n",
    "\n",
    "from scvi.inference import UnsupervisedTrainer, load_posterior, SemiSupervisedTrainer\n",
    "from scvi import set_seed\n",
    "from scvi.dataset.utils import setup_anndata\n",
    "\n",
    "# Sets torch and numpy random seeds, run after all scvi imports\n",
    "set_seed(0)\n"
   ]
  },
  {
   "cell_type": "code",
   "execution_count": 3,
   "metadata": {},
   "outputs": [
    {
     "name": "stdout",
     "output_type": "stream",
     "text": [
      "[2020-06-23 22:41:04,629] INFO - scvi.dataset.dataset | File /Users/galen/scVI/galen/data/regulatory_t/filtered_gene_bc_matrices.tar.gz already downloaded\n",
      "[2020-06-23 22:41:04,631] INFO - scvi.dataset.dataset10X | Preprocessing dataset\n",
      "[2020-06-23 22:41:04,634] INFO - scvi.dataset.dataset10X | Extracting tar file\n",
      "[2020-06-23 22:41:13,213] INFO - scvi.dataset.dataset10X | Finished preprocessing dataset\n",
      "[2020-06-23 22:41:13,318] WARNING - scvi.dataset.dataset | Gene names are not unique.\n",
      "[2020-06-23 22:41:13,319] INFO - scvi.dataset.dataset | Remapping batch_indices to [0,N]\n",
      "[2020-06-23 22:41:13,320] INFO - scvi.dataset.dataset | Remapping labels to [0,N]\n",
      "[2020-06-23 22:41:13,458] INFO - scvi.dataset.dataset | Computing the library size for the new data\n",
      "[2020-06-23 22:41:13,535] INFO - scvi.dataset.dataset | Downsampled from 10263 to 10263 cells\n",
      "[2020-06-23 22:41:13,560] INFO - scvi.dataset.dataset | File /Users/galen/scVI/galen/data/naive_t/filtered_gene_bc_matrices.tar.gz already downloaded\n",
      "[2020-06-23 22:41:13,561] INFO - scvi.dataset.dataset10X | Preprocessing dataset\n",
      "[2020-06-23 22:41:13,563] INFO - scvi.dataset.dataset10X | Extracting tar file\n",
      "[2020-06-23 22:41:21,709] INFO - scvi.dataset.dataset10X | Finished preprocessing dataset\n",
      "[2020-06-23 22:41:21,810] WARNING - scvi.dataset.dataset | Gene names are not unique.\n",
      "[2020-06-23 22:41:21,811] INFO - scvi.dataset.dataset | Remapping batch_indices to [0,N]\n",
      "[2020-06-23 22:41:21,812] INFO - scvi.dataset.dataset | Remapping labels to [0,N]\n",
      "[2020-06-23 22:41:21,955] INFO - scvi.dataset.dataset | Computing the library size for the new data\n",
      "[2020-06-23 22:41:22,024] INFO - scvi.dataset.dataset | Downsampled from 10479 to 10479 cells\n",
      "[2020-06-23 22:41:22,047] INFO - scvi.dataset.dataset | File /Users/galen/scVI/galen/data/memory_t/filtered_gene_bc_matrices.tar.gz already downloaded\n",
      "[2020-06-23 22:41:22,047] INFO - scvi.dataset.dataset10X | Preprocessing dataset\n",
      "[2020-06-23 22:41:22,049] INFO - scvi.dataset.dataset10X | Extracting tar file\n",
      "[2020-06-23 22:41:30,376] INFO - scvi.dataset.dataset10X | Finished preprocessing dataset\n",
      "[2020-06-23 22:41:30,479] WARNING - scvi.dataset.dataset | Gene names are not unique.\n",
      "[2020-06-23 22:41:30,480] INFO - scvi.dataset.dataset | Remapping batch_indices to [0,N]\n",
      "[2020-06-23 22:41:30,481] INFO - scvi.dataset.dataset | Remapping labels to [0,N]\n",
      "[2020-06-23 22:41:30,621] INFO - scvi.dataset.dataset | Computing the library size for the new data\n",
      "[2020-06-23 22:41:30,693] INFO - scvi.dataset.dataset | Downsampled from 10224 to 10224 cells\n",
      "[2020-06-23 22:41:30,714] INFO - scvi.dataset.dataset | File /Users/galen/scVI/galen/data/naive_cytotoxic/filtered_gene_bc_matrices.tar.gz already downloaded\n",
      "[2020-06-23 22:41:30,715] INFO - scvi.dataset.dataset10X | Preprocessing dataset\n",
      "[2020-06-23 22:41:30,718] INFO - scvi.dataset.dataset10X | Extracting tar file\n",
      "[2020-06-23 22:41:39,281] INFO - scvi.dataset.dataset10X | Finished preprocessing dataset\n",
      "[2020-06-23 22:41:39,392] WARNING - scvi.dataset.dataset | Gene names are not unique.\n",
      "[2020-06-23 22:41:39,393] INFO - scvi.dataset.dataset | Remapping batch_indices to [0,N]\n",
      "[2020-06-23 22:41:39,394] INFO - scvi.dataset.dataset | Remapping labels to [0,N]\n",
      "[2020-06-23 22:41:39,554] INFO - scvi.dataset.dataset | Computing the library size for the new data\n",
      "[2020-06-23 22:41:39,625] INFO - scvi.dataset.dataset | Downsampled from 11953 to 11953 cells\n",
      "[2020-06-23 22:41:39,644] INFO - scvi.dataset.dataset | Merging datasets. Input objects are modified in place.\n",
      "[2020-06-23 22:41:39,645] INFO - scvi.dataset.dataset | Gene names and cell measurement names are assumed to have a non-null intersection between datasets.\n",
      "[2020-06-23 22:41:39,747] INFO - scvi.dataset.dataset | Keeping 32738 genes\n",
      "[2020-06-23 22:41:39,997] INFO - scvi.dataset.dataset | Computing the library size for the new data\n",
      "[2020-06-23 22:41:40,062] INFO - scvi.dataset.dataset | Remapping batch_indices to [0,N]\n",
      "[2020-06-23 22:41:40,064] INFO - scvi.dataset.dataset | Remapping labels to [0,N]\n",
      "[2020-06-23 22:41:40,286] INFO - scvi.dataset.dataset | Computing the library size for the new data\n",
      "[2020-06-23 22:41:40,339] INFO - scvi.dataset.dataset | Remapping batch_indices to [0,N]\n",
      "[2020-06-23 22:41:40,340] INFO - scvi.dataset.dataset | Remapping labels to [0,N]\n",
      "[2020-06-23 22:41:40,598] INFO - scvi.dataset.dataset | Computing the library size for the new data\n",
      "[2020-06-23 22:41:40,661] INFO - scvi.dataset.dataset | Remapping batch_indices to [0,N]\n",
      "[2020-06-23 22:41:40,662] INFO - scvi.dataset.dataset | Remapping labels to [0,N]\n",
      "[2020-06-23 22:41:40,938] INFO - scvi.dataset.dataset | Computing the library size for the new data\n",
      "[2020-06-23 22:41:41,008] INFO - scvi.dataset.dataset | Remapping batch_indices to [0,N]\n",
      "[2020-06-23 22:41:41,010] INFO - scvi.dataset.dataset | Remapping labels to [0,N]\n",
      "[2020-06-23 22:41:41,540] INFO - scvi.dataset.dataset | Remapping batch_indices to [0,N]\n",
      "[2020-06-23 22:41:41,542] INFO - scvi.dataset.dataset | Remapping labels to [0,N]\n",
      "[2020-06-23 22:41:41,892] INFO - scvi.dataset.dataset | Downsampling from 32738 to 18443 genes\n",
      "[2020-06-23 22:41:42,736] INFO - scvi.dataset.dataset | Computing the library size for the new data\n",
      "[2020-06-23 22:41:42,942] INFO - scvi.dataset.dataset | Filtering non-expressing cells.\n",
      "[2020-06-23 22:41:43,631] INFO - scvi.dataset.dataset | Computing the library size for the new data\n",
      "[2020-06-23 22:41:43,839] INFO - scvi.dataset.dataset | Downsampled from 42919 to 42919 cells\n",
      "[2020-06-23 22:41:44,551] INFO - scvi.dataset.dataset | Computing the library size for the new data\n",
      "[2020-06-23 22:41:44,783] INFO - scvi.dataset.dataset | Downsampled from 42919 to 42919 cells\n"
     ]
    },
    {
     "name": "stderr",
     "output_type": "stream",
     "text": [
      "Transforming to str index.\n",
      "Variable names are not unique. To make them unique, call `.var_names_make_unique`.\n"
     ]
    }
   ],
   "source": [
    "use_cuda = False\n",
    "\n",
    "cell_types = [\"regulatory_t\", \"naive_t\", \"memory_t\",  \"naive_cytotoxic\"]\n",
    "cell_types = [1,2,3,5]\n",
    "#cell_types should probably be a list of str instead of ints\n",
    "pbmc = PurifiedPBMCDataset(subset_datasets=cell_types)\n",
    "import scanpy\n",
    "subset = [\"CD4\", \"FOXP3\", \"TNFRSF18\", \"IL2RA\", \"CTLA4\", \"CD44\", \"TCF7\", \"CD8B\", \"CCR7\", \"CD69\", \"PTPRC\", \"S100A4\"]\n",
    "\n",
    "adata = pbmc.to_anndata()\n",
    "adata.var_names_make_unique()\n",
    "\n",
    "#where to subset\n",
    "# adata = adata[:,subset]\n",
    "\n",
    "#target sum follows what chenling uses\n",
    "scanpy.pp.normalize_total(adata, target_sum = 1e4) \n",
    "scanpy.pp.log1p(adata)\n",
    "#corresponding chenling code\n",
    "#expression = np.log(1 + 1e4 * expression[:, idx] / np.sum(expression, axis=1)[:, np.newaxis])\n",
    "\n",
    "#second subset option\n",
    "adata = adata[:,subset]\n",
    "\n",
    "#scale data to mean 0, std 1\n",
    "scanpy.pp.scale(adata)\n",
    "\n",
    "#chenling code:\n",
    "# expression = expression - np.mean(expression, axis=0)\n",
    "# expression = expression / np.std(expression, axis=0)\n",
    "\n",
    "#make sure no inf values\n",
    "assert len(np.where(np.isinf(adata.X))[0]) == 0\n",
    "#get the score for a set of genes\n",
    "def get_score(normalized_adata, gene_set):\n",
    "    score = np.zeros(normalized_adata.n_obs)\n",
    "    for gene in gene_set['positive']:\n",
    "        expression = np.array(adata[:, gene].X)\n",
    "        score = np.add(score, expression.flatten())\n",
    "    for gene in gene_set['negative']:\n",
    "        expression = np.array(adata[:, gene].X)\n",
    "        score = np.subtract(score, expression.flatten())\n",
    "    return score\n",
    "\n",
    "#get a mask over the genes\n",
    "def get_gene_mask(normalized_adata, gene_set):\n",
    "    score = get_score(normalized_adata, gene_set)\n",
    "    cell_idx = score.argsort()[-50:]\n",
    "    mask = np.zeros(normalized_adata.n_obs)\n",
    "    mask[cell_idx] = 1\n",
    "    return mask.astype(bool)\n",
    "\n",
    "cd4_reg_geneset = {\"positive\":[\"TNFRSF18\", \"CTLA4\", \"FOXP3\", \"IL2RA\"],\n",
    "                   \"negative\":[\"S100A4\" ,\"PTPRC\" ,\"CD8B\"]}\n",
    "\n",
    "cd8_naive_geneset = {\"positive\":[\"CD8B\", \"CCR7\"],\n",
    "                   \"negative\":[\"CD4\"]}\n",
    "\n",
    "cd4_naive_geneset = {\"positive\":[\"CCR7\",\"CD4\"],\n",
    "                   \"negative\":[\"S100A4\", \"PTPRC\", \"FOXP3\", \"IL2RA\", \"CD69\" ]}\n",
    "\n",
    "cd4_mem_geneset = {\"positive\":[\"S100A4\"],\n",
    "                   \"negative\":[\"IL2RA\" ,\"FOXP3\",\"TNFRSF18\", \"CCR7\"]}\n",
    "\n",
    "cd4_reg_mask = get_gene_mask(adata, cd4_reg_geneset,) #38, 4\n",
    "cd8_naive_mask = get_gene_mask(adata, cd8_naive_geneset,) #100, 0\n",
    "cd4_naive_mask = get_gene_mask(adata, cd4_naive_geneset,)#72, 0 \n",
    "cd4_mem_mask = get_gene_mask(adata, cd4_mem_geneset,)#100, 0 \n",
    "full_mask = cd4_reg_mask | cd8_naive_mask | cd4_naive_mask | cd4_mem_mask\n",
    "indicator_lab = np.zeros(len(pbmc))\n",
    "indicator_lab[full_mask] = 1\n"
   ]
  },
  {
   "cell_type": "code",
   "execution_count": 4,
   "metadata": {},
   "outputs": [
    {
     "name": "stderr",
     "output_type": "stream",
     "text": [
      "Transforming to str index.\n",
      "Variable names are not unique. To make them unique, call `.var_names_make_unique`.\n"
     ]
    },
    {
     "name": "stdout",
     "output_type": "stream",
     "text": [
      "[2020-06-23 22:51:54,842] INFO - scvi.dataset.utils | Using data from adata.X\n",
      "[2020-06-23 22:51:54,842] INFO - scvi.dataset.utils | Using batches from adata.obs[\"batch_indices\"]\n",
      "[2020-06-23 22:51:54,844] INFO - scvi.dataset.utils | Using labels from adata.obs[\"cell_types\"]\n",
      "[2020-06-23 22:51:54,856] INFO - scvi.dataset.utils | Computing library size prior per batch\n",
      "[2020-06-23 22:51:55,152] INFO - scvi.dataset.utils | Successfully registered anndata object containing 42919 cells, 18443 genes, and 4 batches \n",
      "Registered keys:['X', 'batch_indices', 'local_l_mean', 'local_l_var', 'labels', 'scanvi_labeled_idx']\n"
     ]
    }
   ],
   "source": [
    "raw_adata = pbmc.to_anndata()\n",
    "raw_adata.obs['scanvi_labeled_mask'] = indicator_lab\n",
    "setup_anndata(raw_adata, batch_key = 'batch_indices', scanvi_labeled_idx_key = 'scanvi_labeled_mask', labels_key = 'cell_types')\n"
   ]
  },
  {
   "cell_type": "code",
   "execution_count": 5,
   "metadata": {},
   "outputs": [],
   "source": [
    "from scvi.dataset.utils import get_from_registry"
   ]
  },
  {
   "cell_type": "code",
   "execution_count": 14,
   "metadata": {},
   "outputs": [
    {
     "name": "stdout",
     "output_type": "stream",
     "text": [
      "105 µs ± 3.23 µs per loop (mean ± std. dev. of 7 runs, 10000 loops each)\n"
     ]
    }
   ],
   "source": [
    "# %timeit get_from_registry(raw_adata, 'X') # 1.2 us \n",
    "# %timeit get_from_registry(raw_adata, 'X')[10] #74 us \n",
    "# %timeit get_from_registry(raw_adata, 'X')[10].toarray() #87.4 us\n",
    "# %timeit get_from_registry(raw_adata, 'X')[10].toarray().flatten() #90.5 us\n",
    "# %timeit get_from_registry(raw_adata, 'X')[10].toarray().flatten() #90.5 us\n",
    "# %timeit get_from_registry(raw_adata, 'X')[10].toarray().flatten().astype(np.float32) #99.7 us\n",
    "# %timeit torch.from_numpy(get_from_registry(raw_adata, 'X')[10].toarray().flatten().astype(np.float32)) #105 us\n",
    "\n"
   ]
  },
  {
   "cell_type": "code",
   "execution_count": 28,
   "metadata": {},
   "outputs": [],
   "source": [
    "csr = raw_adata.X"
   ]
  },
  {
   "cell_type": "code",
   "execution_count": 31,
   "metadata": {},
   "outputs": [
    {
     "name": "stdout",
     "output_type": "stream",
     "text": [
      "86.7 µs ± 1.5 µs per loop (mean ± std. dev. of 7 runs, 10000 loops each)\n"
     ]
    }
   ],
   "source": [
    "# %timeit csr[10] #60us\n",
    "%timeit torch.from_numpy(csr[10].toarray().flatten().astype(np.float32))"
   ]
  },
  {
   "cell_type": "code",
   "execution_count": 35,
   "metadata": {},
   "outputs": [
    {
     "data": {
      "text/plain": [
       "(42919, 18443)"
      ]
     },
     "execution_count": 35,
     "metadata": {},
     "output_type": "execute_result"
    }
   ],
   "source": [
    "raw_adata.shape"
   ]
  },
  {
   "cell_type": "code",
   "execution_count": 33,
   "metadata": {},
   "outputs": [
    {
     "name": "stdout",
     "output_type": "stream",
     "text": [
      "CPU times: user 3.5 s, sys: 49.9 ms, total: 3.55 s\n",
      "Wall time: 3.56 s\n"
     ]
    }
   ],
   "source": [
    "%%time\n",
    "for idx in range(n_cells):\n",
    "    attributes_and_types = {'X': np.float32}\n",
    "    [csr[idx].toarray().flatten().astype(dtype) for key, dtype in attributes_and_types.items()]\n",
    "\n",
    "#     data_numpy = {\n",
    "#                 key: get_from_registry(raw_adata, key)[idx].astype(dtype)\n",
    "#                 if isinstance(get_from_registry(raw_adata, key), np.ndarray)\n",
    "#                 else get_from_registry(raw_adata, key)[idx]\n",
    "#                 .toarray()\n",
    "#                 .flatten()\n",
    "#                 .astype(dtype)\n",
    "#                 for key, dtype in attributes_and_types.items()\n",
    "#                 }\n"
   ]
  },
  {
   "cell_type": "code",
   "execution_count": 27,
   "metadata": {},
   "outputs": [
    {
     "ename": "NameError",
     "evalue": "name 'key' is not defined",
     "output_type": "error",
     "traceback": [
      "\u001b[0;31m---------------------------------------------------------------------------\u001b[0m",
      "\u001b[0;31mNameError\u001b[0m                                 Traceback (most recent call last)",
      "\u001b[0;32m<ipython-input-27-4786c06c3d19>\u001b[0m in \u001b[0;36m<module>\u001b[0;34m\u001b[0m\n\u001b[0;32m----> 1\u001b[0;31m \u001b[0mget_from_registry\u001b[0m\u001b[0;34m(\u001b[0m\u001b[0mraw_adata\u001b[0m\u001b[0;34m,\u001b[0m \u001b[0mkey\u001b[0m\u001b[0;34m)\u001b[0m\u001b[0;34m[\u001b[0m\u001b[0midx\u001b[0m\u001b[0;34m]\u001b[0m\u001b[0;34m\u001b[0m\u001b[0;34m\u001b[0m\u001b[0m\n\u001b[0m",
      "\u001b[0;31mNameError\u001b[0m: name 'key' is not defined"
     ]
    }
   ],
   "source": [
    "get_from_registry(raw_adata, key)[idx]"
   ]
  },
  {
   "cell_type": "code",
   "execution_count": null,
   "metadata": {},
   "outputs": [],
   "source": []
  }
 ],
 "metadata": {
  "kernelspec": {
   "display_name": "Python 3",
   "language": "python",
   "name": "python3"
  },
  "language_info": {
   "codemirror_mode": {
    "name": "ipython",
    "version": 3
   },
   "file_extension": ".py",
   "mimetype": "text/x-python",
   "name": "python",
   "nbconvert_exporter": "python",
   "pygments_lexer": "ipython3",
   "version": "3.7.3"
  }
 },
 "nbformat": 4,
 "nbformat_minor": 2
}
