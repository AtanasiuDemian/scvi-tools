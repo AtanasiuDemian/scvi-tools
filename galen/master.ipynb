{
 "cells": [
  {
   "cell_type": "code",
   "execution_count": 9,
   "metadata": {},
   "outputs": [
    {
     "name": "stdout",
     "output_type": "stream",
     "text": [
      "[2020-08-06 21:34:56,988] INFO - scvi.dataset.dataset | File /data1/galen/data/pbmc_10k_protein.h5ad already downloaded\n",
      "[2020-08-06 21:34:59,643] INFO - scvi.dataset.dataset | Remapping batch_indices to [0,N]\n",
      "[2020-08-06 21:34:59,646] INFO - scvi.dataset.dataset | Remapping labels to [0,N]\n",
      "[2020-08-06 21:35:01,556] INFO - scvi.dataset.dataset | Computing the library size for the new data\n",
      "[2020-08-06 21:35:01,824] INFO - scvi.dataset.dataset | Downsampled from 6855 to 6855 cells\n",
      "[2020-08-06 21:35:01,829] INFO - scvi.dataset.dataset | File /data1/galen/data/pbmc_5k_protein.h5ad already downloaded\n",
      "[2020-08-06 21:35:03,542] INFO - scvi.dataset.dataset | Remapping batch_indices to [0,N]\n",
      "[2020-08-06 21:35:03,543] INFO - scvi.dataset.dataset | Remapping labels to [0,N]\n",
      "[2020-08-06 21:35:04,713] INFO - scvi.dataset.dataset | Computing the library size for the new data\n",
      "[2020-08-06 21:35:04,869] INFO - scvi.dataset.dataset | Downsampled from 3994 to 3994 cells\n",
      "[2020-08-06 21:35:04,873] INFO - scvi.dataset.dataset | Merging datasets. Input objects are modified in place.\n",
      "[2020-08-06 21:35:04,874] INFO - scvi.dataset.dataset | Gene names and cell measurement names are assumed to have a non-null intersection between datasets.\n",
      "[2020-08-06 21:35:04,926] INFO - scvi.dataset.dataset | Keeping 15792 genes\n",
      "[2020-08-06 21:35:06,999] INFO - scvi.dataset.dataset | Computing the library size for the new data\n",
      "[2020-08-06 21:35:07,606] INFO - scvi.dataset.dataset | Remapping batch_indices to [0,N]\n",
      "[2020-08-06 21:35:07,608] INFO - scvi.dataset.dataset | Remapping labels to [0,N]\n",
      "[2020-08-06 21:35:08,824] INFO - scvi.dataset.dataset | Computing the library size for the new data\n",
      "[2020-08-06 21:35:09,173] INFO - scvi.dataset.dataset | Remapping batch_indices to [0,N]\n",
      "[2020-08-06 21:35:09,175] INFO - scvi.dataset.dataset | Remapping labels to [0,N]\n",
      "[2020-08-06 21:35:10,701] INFO - scvi.dataset.dataset | Remapping batch_indices to [0,N]\n",
      "[2020-08-06 21:35:10,702] INFO - scvi.dataset.dataset | Remapping labels to [0,N]\n",
      "[2020-08-06 21:35:10,704] INFO - scvi.dataset.dataset | Keeping 14 columns in protein_expression\n",
      "[2020-08-06 21:35:11,112] INFO - scvi.dataset.dataset | extracting highly variable genes using seurat_v3 flavor\n"
     ]
    },
    {
     "name": "stderr",
     "output_type": "stream",
     "text": [
      "/data1/galen/.pyenv/versions/miniconda3-latest/envs/scvi/lib/python3.8/site-packages/anndata/_core/anndata.py:119: ImplicitModificationWarning: Transforming to str index.\n",
      "  warnings.warn(\"Transforming to str index.\", ImplicitModificationWarning)\n",
      "/data1/galen/.pyenv/versions/miniconda3-latest/envs/scvi/lib/python3.8/site-packages/anndata/_core/anndata.py:1094: FutureWarning: is_categorical is deprecated and will be removed in a future version.  Use is_categorical_dtype instead\n",
      "  if not is_categorical(df_full[k]):\n"
     ]
    },
    {
     "name": "stdout",
     "output_type": "stream",
     "text": [
      "[2020-08-06 21:35:18,131] INFO - scvi.dataset.dataset | Downsampling from 15792 to 4000 genes\n"
     ]
    },
    {
     "name": "stderr",
     "output_type": "stream",
     "text": [
      "/data1/galen/scVI/scvi/dataset/dataset.py:1850: FutureWarning: Slicing a positional slice with .loc is not supported, and will raise TypeError in a future version.  Use .loc with labels or .iloc with positions instead.\n",
      "  df.loc[:n_top_genes, \"highly_variable\"] = True\n"
     ]
    },
    {
     "name": "stdout",
     "output_type": "stream",
     "text": [
      "[2020-08-06 21:35:19,035] INFO - scvi.dataset.dataset | Computing the library size for the new data\n",
      "[2020-08-06 21:35:19,258] INFO - scvi.dataset.dataset | Filtering non-expressing cells.\n",
      "[2020-08-06 21:35:20,121] INFO - scvi.dataset.dataset | Computing the library size for the new data\n",
      "[2020-08-06 21:35:20,228] INFO - scvi.dataset.dataset | Downsampled from 10849 to 10849 cells\n",
      "[2020-08-06 21:35:20,965] INFO - scvi.inference.inference | KL warmup phase may exceed overall training phase.If your applications rely on posterior quality, consider training for more epochs or reducing the kl warmup.\n",
      "[2020-08-06 21:35:20,966] INFO - scvi.inference.inference | KL warmup for 8136.75 iterations\n",
      "training: 100%|██████████| 100/100 [03:29<00:00,  2.10s/it]\n",
      "[2020-08-06 21:38:51,524] INFO - scvi.inference.inference | Training is still in warming up phase. If your applications rely on the posterior quality, consider training for more epochs or reducing the kl warmup.\n",
      "211.21467399597168\n",
      "[2020-08-06 21:38:52,223] INFO - scvi.inference.inference | KL warmup phase may exceed overall training phase.If your applications rely on posterior quality, consider training for more epochs or reducing the kl warmup.\n",
      "[2020-08-06 21:38:52,224] INFO - scvi.inference.inference | KL warmup for 8136.75 iterations\n",
      "training: 100%|██████████| 100/100 [03:30<00:00,  2.10s/it]\n",
      "[2020-08-06 21:42:23,163] INFO - scvi.inference.inference | Training is still in warming up phase. If your applications rely on the posterior quality, consider training for more epochs or reducing the kl warmup.\n",
      "211.5851526260376\n",
      "[2020-08-06 21:42:23,861] INFO - scvi.inference.inference | KL warmup phase may exceed overall training phase.If your applications rely on posterior quality, consider training for more epochs or reducing the kl warmup.\n",
      "[2020-08-06 21:42:23,862] INFO - scvi.inference.inference | KL warmup for 8136.75 iterations\n",
      "training: 100%|██████████| 100/100 [03:30<00:00,  2.10s/it]\n",
      "[2020-08-06 21:45:54,857] INFO - scvi.inference.inference | Training is still in warming up phase. If your applications rely on the posterior quality, consider training for more epochs or reducing the kl warmup.\n",
      "211.64002561569214\n",
      "[2020-08-06 21:45:55,563] INFO - scvi.inference.inference | KL warmup phase may exceed overall training phase.If your applications rely on posterior quality, consider training for more epochs or reducing the kl warmup.\n",
      "[2020-08-06 21:45:55,565] INFO - scvi.inference.inference | KL warmup for 8136.75 iterations\n",
      "training: 100%|██████████| 100/100 [03:30<00:00,  2.10s/it]\n",
      "[2020-08-06 21:49:26,312] INFO - scvi.inference.inference | Training is still in warming up phase. If your applications rely on the posterior quality, consider training for more epochs or reducing the kl warmup.\n",
      "211.40065717697144\n",
      "[2020-08-06 21:49:27,014] INFO - scvi.inference.inference | KL warmup phase may exceed overall training phase.If your applications rely on posterior quality, consider training for more epochs or reducing the kl warmup.\n",
      "[2020-08-06 21:49:27,016] INFO - scvi.inference.inference | KL warmup for 8136.75 iterations\n",
      "training: 100%|██████████| 100/100 [03:30<00:00,  2.10s/it]\n",
      "[2020-08-06 21:52:57,753] INFO - scvi.inference.inference | Training is still in warming up phase. If your applications rely on the posterior quality, consider training for more epochs or reducing the kl warmup.\n",
      "211.38593316078186\n"
     ]
    }
   ],
   "source": [
    "import sys\n",
    "IN_COLAB = \"google.colab\" in sys.modules\n",
    "def allow_notebook_for_test():\n",
    "    print(\"Testing the totalVI notebook\")\n",
    "show_plot = True\n",
    "test_mode = False\n",
    "save_path = \"data/\"\n",
    "if not test_mode:\n",
    "    save_path = \"../../data\"\n",
    "if IN_COLAB:\n",
    "    !pip install --quiet git+https://github.com/yoseflab/scvi@stable#egg=scvi[notebooks]\n",
    "import scanpy as sc\n",
    "import matplotlib.pyplot as plt\n",
    "import numpy as np\n",
    "import pandas as pd\n",
    "import torch\n",
    "import anndata\n",
    "import os\n",
    "from scvi.dataset import GeneExpressionDataset, DownloadableAnnDataset\n",
    "from scvi.models import TOTALVI\n",
    "from scvi.inference import TotalPosterior, TotalTrainer\n",
    "from scvi import set_seed\n",
    "if IN_COLAB:\n",
    "    %matplotlib inline\n",
    "# Sets the random seed for torch and numpy\n",
    "set_seed(0)\n",
    "sc.set_figure_params(figsize=(4, 4))\n",
    "dataset1 = DownloadableAnnDataset(\n",
    "    \"pbmc_10k_protein.h5ad\",\n",
    "    save_path=save_path,\n",
    "    url=\"https://github.com/YosefLab/scVI-data/raw/master/pbmc_10k_protein_v3.h5ad?raw=true\",\n",
    "    cell_measurements_col_mappings={\"protein_expression\":\"protein_names\"},\n",
    ")\n",
    "dataset2 = DownloadableAnnDataset(\n",
    "    \"pbmc_5k_protein.h5ad\",\n",
    "    save_path=save_path,\n",
    "    url=\"https://github.com/YosefLab/scVI-data/raw/master/pbmc_5k_protein_v3.h5ad?raw=true\",\n",
    "    cell_measurements_col_mappings={\"protein_expression\":\"protein_names\"},\n",
    ")\n",
    "dataset = GeneExpressionDataset()\n",
    "dataset.populate_from_datasets([dataset1, dataset2])\n",
    "dataset.subsample_genes(4000)\n",
    "use_cuda = True\n",
    "lr = 4e-3\n",
    "\n",
    "n_epochs = 100\n",
    "\n",
    "import time\n",
    "times = []\n",
    "for i in range(5):\n",
    "    totalvae = TOTALVI(\n",
    "        dataset.nb_genes,\n",
    "        len(dataset.protein_names),\n",
    "        n_batch=dataset.n_batches,\n",
    "    )\n",
    "    trainer = TotalTrainer(\n",
    "        totalvae,\n",
    "        dataset,\n",
    "        train_size=0.90,\n",
    "        test_size=0.10,\n",
    "        use_cuda=use_cuda,\n",
    "        frequency=1,\n",
    "        batch_size=256,\n",
    "        early_stopping_kwargs=\"auto\" if not test_mode else None\n",
    "    )\n",
    "    start = time.time()\n",
    "    trainer.train(n_epochs=n_epochs)\n",
    "    end = time.time()\n",
    "    print(end-start)\n",
    "    times.append(end-start)"
   ]
  },
  {
   "cell_type": "code",
   "execution_count": 10,
   "metadata": {},
   "outputs": [
    {
     "data": {
      "text/plain": [
       "[211.21467399597168,\n",
       " 211.5851526260376,\n",
       " 211.64002561569214,\n",
       " 211.40065717697144,\n",
       " 211.38593316078186]"
      ]
     },
     "execution_count": 10,
     "metadata": {},
     "output_type": "execute_result"
    }
   ],
   "source": [
    "times"
   ]
  },
  {
   "cell_type": "code",
   "execution_count": 11,
   "metadata": {},
   "outputs": [
    {
     "data": {
      "text/plain": [
       "100"
      ]
     },
     "execution_count": 11,
     "metadata": {},
     "output_type": "execute_result"
    }
   ],
   "source": [
    "n_epochs"
   ]
  },
  {
   "cell_type": "code",
   "execution_count": 12,
   "metadata": {},
   "outputs": [],
   "source": [
    "np.save('master_totalvi_{}_epochs.npy'.format(n_epochs), times)"
   ]
  },
  {
   "cell_type": "code",
   "execution_count": 17,
   "metadata": {},
   "outputs": [
    {
     "data": {
      "text/plain": [
       "array([443.58983016, 442.79905343, 443.70387053, 443.61185789,\n",
       "       440.82842875, 444.72131658, 442.34703469, 444.42763734,\n",
       "       442.47483492, 443.05410671, 442.24437475, 442.08427954,\n",
       "       443.82903051, 443.97489548, 444.88595629])"
      ]
     },
     "execution_count": 17,
     "metadata": {},
     "output_type": "execute_result"
    }
   ],
   "source": [
    "np.load('refactor_totalvi_200_epochs.npy')"
   ]
  },
  {
   "cell_type": "code",
   "execution_count": 19,
   "metadata": {},
   "outputs": [
    {
     "data": {
      "text/plain": [
       "array([211.214674  , 211.58515263, 211.64002562, 211.40065718,\n",
       "       211.38593316])"
      ]
     },
     "execution_count": 19,
     "metadata": {},
     "output_type": "execute_result"
    }
   ],
   "source": [
    "np.load('master_totalvi_100_epochs.npy')"
   ]
  },
  {
   "cell_type": "code",
   "execution_count": 1,
   "metadata": {},
   "outputs": [
    {
     "name": "stdout",
     "output_type": "stream",
     "text": [
      "[2020-08-11 19:03:01,905] INFO - scvi.dataset.dataset | File /data1/galen/data/expression.bin already downloaded\n",
      "[2020-08-11 19:03:01,907] INFO - scvi.dataset.cortex | Loading Cortex data\n",
      "[2020-08-11 19:03:18,843] INFO - scvi.dataset.cortex | Finished preprocessing Cortex data\n",
      "[2020-08-11 19:03:19,335] INFO - scvi.dataset.dataset | Remapping batch_indices to [0,N]\n",
      "[2020-08-11 19:03:19,337] INFO - scvi.dataset.dataset | Remapping labels to [0,N]\n",
      "[2020-08-11 19:03:19,562] INFO - scvi.dataset.dataset | extracting highly variable genes using seurat_v3 flavor\n",
      "[2020-08-11 19:03:23,169] INFO - scvi.dataset.dataset | Downsampling from 19972 to 1000 genes\n",
      "[2020-08-11 19:03:23,232] INFO - scvi.dataset.dataset | Computing the library size for the new data\n",
      "[2020-08-11 19:03:23,252] INFO - scvi.dataset.dataset | Filtering non-expressing cells.\n",
      "[2020-08-11 19:03:23,313] INFO - scvi.dataset.dataset | Computing the library size for the new data\n",
      "[2020-08-11 19:03:23,320] INFO - scvi.dataset.dataset | Downsampled from 3005 to 3005 cells\n",
      "[2020-08-11 19:03:23,321] INFO - scvi.dataset.dataset | Making gene names lower case\n"
     ]
    }
   ],
   "source": [
    "import sys\n",
    "IN_COLAB = \"google.colab\" in sys.modules\n",
    "def allow_notebook_for_test():\n",
    "    print(\"Testing the basic tutorial notebook\")\n",
    "show_plot = True\n",
    "test_mode = False\n",
    "save_path = \"data/\"\n",
    "if not test_mode:\n",
    "    save_path = \"../../data\"\n",
    "if IN_COLAB:\n",
    "    !pip install --quiet git+https://github.com/yoseflab/scvi@stable#egg=scvi[notebooks]\n",
    "import os\n",
    "import numpy as np\n",
    "import pandas as pd\n",
    "import matplotlib.pyplot as plt\n",
    "from scvi.dataset import CortexDataset, RetinaDataset\n",
    "from scvi.models import VAE\n",
    "from scvi.inference import UnsupervisedTrainer, load_posterior\n",
    "from scvi import set_seed\n",
    "import torch\n",
    "# Control UMAP numba warnings\n",
    "import warnings; warnings.simplefilter('ignore')\n",
    "if IN_COLAB:\n",
    "    %matplotlib inline\n",
    "# Sets torch and numpy random seeds, run after all scvi imports\n",
    "set_seed(0)\n",
    "gene_dataset = CortexDataset(save_path=save_path, total_genes=None)\n",
    "gene_dataset.subsample_genes(1000)\n",
    "# we make the gene names lower case just for this tutorial\n",
    "# scVI datasets preserve the case of the gene names as they are in the source files\n",
    "gene_dataset.make_gene_names_lower()\n",
    "lr = 1e-3\n",
    "use_cuda = False\n",
    "vae = VAE(gene_dataset.nb_genes)\n",
    "trainer = UnsupervisedTrainer(\n",
    "    vae,\n",
    "    gene_dataset,\n",
    "    train_size=0.90,\n",
    "    use_cuda=use_cuda,\n",
    "    frequency=5,\n",
    ")\n",
    "import time\n",
    "n_epochs = 1\n"
   ]
  },
  {
   "cell_type": "code",
   "execution_count": 2,
   "metadata": {},
   "outputs": [
    {
     "name": "stdout",
     "output_type": "stream",
     "text": [
      "[2020-08-11 19:03:23,439] INFO - scvi.dataset.dataset | Computing the library size for the new data\n"
     ]
    }
   ],
   "source": [
    "from scipy.sparse import csr_matrix\n",
    "gene_dataset.X = csr_matrix(gene_dataset.X)"
   ]
  },
  {
   "cell_type": "code",
   "execution_count": 3,
   "metadata": {},
   "outputs": [
    {
     "data": {
      "text/plain": [
       "<3005x1000 sparse matrix of type '<class 'numpy.float32'>'\n",
       "\twith 450124 stored elements in Compressed Sparse Row format>"
      ]
     },
     "execution_count": 3,
     "metadata": {},
     "output_type": "execute_result"
    }
   ],
   "source": [
    "gene_dataset.X"
   ]
  },
  {
   "cell_type": "code",
   "execution_count": 4,
   "metadata": {},
   "outputs": [
    {
     "name": "stdout",
     "output_type": "stream",
     "text": [
      "[2020-08-11 19:03:35,978] INFO - scvi.inference.inference | KL warmup phase exceeds overall training phaseIf your applications rely on the posterior quality, consider training for more epochs or reducing the kl warmup.\n",
      "[2020-08-11 19:03:35,979] INFO - scvi.inference.inference | KL warmup for 400 epochs\n",
      "training: 100%|██████████| 50/50 [00:31<00:00,  1.58it/s]\n",
      "[2020-08-11 19:04:07,533] INFO - scvi.inference.inference | Training is still in warming up phase. If your applications rely on the posterior quality, consider training for more epochs or reducing the kl warmup.\n",
      "31.855679750442505\n",
      "[2020-08-11 19:04:07,817] INFO - scvi.inference.inference | KL warmup phase exceeds overall training phaseIf your applications rely on the posterior quality, consider training for more epochs or reducing the kl warmup.\n",
      "[2020-08-11 19:04:07,818] INFO - scvi.inference.inference | KL warmup for 400 epochs\n",
      "training: 100%|██████████| 50/50 [00:31<00:00,  1.60it/s]\n",
      "[2020-08-11 19:04:39,120] INFO - scvi.inference.inference | Training is still in warming up phase. If your applications rely on the posterior quality, consider training for more epochs or reducing the kl warmup.\n",
      "31.57512331008911\n",
      "[2020-08-11 19:04:39,405] INFO - scvi.inference.inference | KL warmup phase exceeds overall training phaseIf your applications rely on the posterior quality, consider training for more epochs or reducing the kl warmup.\n",
      "[2020-08-11 19:04:39,406] INFO - scvi.inference.inference | KL warmup for 400 epochs\n",
      "training: 100%|██████████| 50/50 [00:30<00:00,  1.63it/s]\n",
      "[2020-08-11 19:05:10,078] INFO - scvi.inference.inference | Training is still in warming up phase. If your applications rely on the posterior quality, consider training for more epochs or reducing the kl warmup.\n",
      "30.945817470550537\n",
      "[2020-08-11 19:05:10,396] INFO - scvi.inference.inference | KL warmup phase exceeds overall training phaseIf your applications rely on the posterior quality, consider training for more epochs or reducing the kl warmup.\n",
      "[2020-08-11 19:05:10,397] INFO - scvi.inference.inference | KL warmup for 400 epochs\n",
      "training: 100%|██████████| 50/50 [00:30<00:00,  1.63it/s]\n",
      "[2020-08-11 19:05:41,098] INFO - scvi.inference.inference | Training is still in warming up phase. If your applications rely on the posterior quality, consider training for more epochs or reducing the kl warmup.\n",
      "31.007654905319214\n",
      "[2020-08-11 19:05:41,393] INFO - scvi.inference.inference | KL warmup phase exceeds overall training phaseIf your applications rely on the posterior quality, consider training for more epochs or reducing the kl warmup.\n",
      "[2020-08-11 19:05:41,394] INFO - scvi.inference.inference | KL warmup for 400 epochs\n",
      "training: 100%|██████████| 50/50 [00:30<00:00,  1.62it/s]\n",
      "[2020-08-11 19:06:12,267] INFO - scvi.inference.inference | Training is still in warming up phase. If your applications rely on the posterior quality, consider training for more epochs or reducing the kl warmup.\n",
      "31.15747594833374\n",
      "[2020-08-11 19:06:12,563] INFO - scvi.inference.inference | KL warmup phase exceeds overall training phaseIf your applications rely on the posterior quality, consider training for more epochs or reducing the kl warmup.\n",
      "[2020-08-11 19:06:12,564] INFO - scvi.inference.inference | KL warmup for 400 epochs\n",
      "training: 100%|██████████| 100/100 [01:02<00:00,  1.61it/s]\n",
      "[2020-08-11 19:07:14,710] INFO - scvi.inference.inference | Training is still in warming up phase. If your applications rely on the posterior quality, consider training for more epochs or reducing the kl warmup.\n",
      "62.430750370025635\n",
      "[2020-08-11 19:07:15,004] INFO - scvi.inference.inference | KL warmup phase exceeds overall training phaseIf your applications rely on the posterior quality, consider training for more epochs or reducing the kl warmup.\n",
      "[2020-08-11 19:07:15,005] INFO - scvi.inference.inference | KL warmup for 400 epochs\n",
      "training: 100%|██████████| 100/100 [01:00<00:00,  1.64it/s]\n",
      "[2020-08-11 19:08:15,909] INFO - scvi.inference.inference | Training is still in warming up phase. If your applications rely on the posterior quality, consider training for more epochs or reducing the kl warmup.\n",
      "61.18789625167847\n",
      "[2020-08-11 19:08:16,189] INFO - scvi.inference.inference | KL warmup phase exceeds overall training phaseIf your applications rely on the posterior quality, consider training for more epochs or reducing the kl warmup.\n",
      "[2020-08-11 19:08:16,190] INFO - scvi.inference.inference | KL warmup for 400 epochs\n",
      "training: 100%|██████████| 100/100 [01:02<00:00,  1.61it/s]\n",
      "[2020-08-11 19:09:18,381] INFO - scvi.inference.inference | Training is still in warming up phase. If your applications rely on the posterior quality, consider training for more epochs or reducing the kl warmup.\n",
      "62.45995879173279\n",
      "[2020-08-11 19:09:18,661] INFO - scvi.inference.inference | KL warmup phase exceeds overall training phaseIf your applications rely on the posterior quality, consider training for more epochs or reducing the kl warmup.\n",
      "[2020-08-11 19:09:18,662] INFO - scvi.inference.inference | KL warmup for 400 epochs\n",
      "training: 100%|██████████| 100/100 [01:02<00:00,  1.60it/s]\n",
      "[2020-08-11 19:10:21,059] INFO - scvi.inference.inference | Training is still in warming up phase. If your applications rely on the posterior quality, consider training for more epochs or reducing the kl warmup.\n",
      "62.66604924201965\n",
      "[2020-08-11 19:10:21,344] INFO - scvi.inference.inference | KL warmup phase exceeds overall training phaseIf your applications rely on the posterior quality, consider training for more epochs or reducing the kl warmup.\n",
      "[2020-08-11 19:10:21,345] INFO - scvi.inference.inference | KL warmup for 400 epochs\n",
      "training: 100%|██████████| 100/100 [01:02<00:00,  1.61it/s]\n",
      "[2020-08-11 19:11:23,430] INFO - scvi.inference.inference | Training is still in warming up phase. If your applications rely on the posterior quality, consider training for more epochs or reducing the kl warmup.\n",
      "62.35931348800659\n",
      "[2020-08-11 19:11:23,711] INFO - scvi.inference.inference | KL warmup phase exceeds overall training phaseIf your applications rely on the posterior quality, consider training for more epochs or reducing the kl warmup.\n",
      "[2020-08-11 19:11:23,712] INFO - scvi.inference.inference | KL warmup for 400 epochs\n",
      "training: 100%|██████████| 200/200 [02:03<00:00,  1.61it/s]\n",
      "[2020-08-11 19:13:27,644] INFO - scvi.inference.inference | Training is still in warming up phase. If your applications rely on the posterior quality, consider training for more epochs or reducing the kl warmup.\n",
      "124.2007007598877\n",
      "[2020-08-11 19:13:27,935] INFO - scvi.inference.inference | KL warmup phase exceeds overall training phaseIf your applications rely on the posterior quality, consider training for more epochs or reducing the kl warmup.\n",
      "[2020-08-11 19:13:27,936] INFO - scvi.inference.inference | KL warmup for 400 epochs\n",
      "training: 100%|██████████| 200/200 [02:03<00:00,  1.61it/s]\n",
      "[2020-08-11 19:15:31,851] INFO - scvi.inference.inference | Training is still in warming up phase. If your applications rely on the posterior quality, consider training for more epochs or reducing the kl warmup.\n",
      "124.19517040252686\n",
      "[2020-08-11 19:15:32,132] INFO - scvi.inference.inference | KL warmup phase exceeds overall training phaseIf your applications rely on the posterior quality, consider training for more epochs or reducing the kl warmup.\n",
      "[2020-08-11 19:15:32,133] INFO - scvi.inference.inference | KL warmup for 400 epochs\n",
      "training: 100%|██████████| 200/200 [02:04<00:00,  1.61it/s]\n",
      "[2020-08-11 19:17:36,170] INFO - scvi.inference.inference | Training is still in warming up phase. If your applications rely on the posterior quality, consider training for more epochs or reducing the kl warmup.\n",
      "124.30726051330566\n",
      "[2020-08-11 19:17:36,454] INFO - scvi.inference.inference | KL warmup phase exceeds overall training phaseIf your applications rely on the posterior quality, consider training for more epochs or reducing the kl warmup.\n",
      "[2020-08-11 19:17:36,455] INFO - scvi.inference.inference | KL warmup for 400 epochs\n",
      "training: 100%|██████████| 200/200 [02:02<00:00,  1.63it/s]\n",
      "[2020-08-11 19:19:39,081] INFO - scvi.inference.inference | Training is still in warming up phase. If your applications rely on the posterior quality, consider training for more epochs or reducing the kl warmup.\n",
      "122.89899587631226\n",
      "[2020-08-11 19:19:39,375] INFO - scvi.inference.inference | KL warmup phase exceeds overall training phaseIf your applications rely on the posterior quality, consider training for more epochs or reducing the kl warmup.\n",
      "[2020-08-11 19:19:39,376] INFO - scvi.inference.inference | KL warmup for 400 epochs\n",
      "training: 100%|██████████| 200/200 [02:04<00:00,  1.61it/s]\n",
      "[2020-08-11 19:21:43,413] INFO - scvi.inference.inference | Training is still in warming up phase. If your applications rely on the posterior quality, consider training for more epochs or reducing the kl warmup.\n",
      "124.3204836845398\n",
      "[2020-08-11 19:21:43,694] INFO - scvi.inference.inference | KL warmup for 400 epochs\n",
      "training: 100%|██████████| 400/400 [04:05<00:00,  1.63it/s]\n",
      "246.26689386367798\n",
      "[2020-08-11 19:25:49,986] INFO - scvi.inference.inference | KL warmup for 400 epochs\n",
      "training: 100%|██████████| 400/400 [04:03<00:00,  1.64it/s]\n",
      "243.74136686325073\n",
      "[2020-08-11 19:29:53,727] INFO - scvi.inference.inference | KL warmup for 400 epochs\n",
      "training: 100%|██████████| 400/400 [04:05<00:00,  1.63it/s]\n",
      "245.53114008903503\n",
      "[2020-08-11 19:33:59,296] INFO - scvi.inference.inference | KL warmup for 400 epochs\n",
      "training: 100%|██████████| 400/400 [04:00<00:00,  1.66it/s]\n",
      "241.2852268218994\n",
      "[2020-08-11 19:38:00,575] INFO - scvi.inference.inference | KL warmup for 400 epochs\n",
      "training: 100%|██████████| 400/400 [04:05<00:00,  1.63it/s]\n",
      "246.00068187713623\n"
     ]
    }
   ],
   "source": [
    "for n_epochs in [50,100,200,400]:\n",
    "    times = []\n",
    "    for i in range(5):\n",
    "        vae = VAE(gene_dataset.nb_genes)\n",
    "        trainer = UnsupervisedTrainer(\n",
    "            vae,\n",
    "            gene_dataset,\n",
    "            train_size=0.90,\n",
    "            use_cuda=use_cuda,\n",
    "            frequency=5,\n",
    "        )\n",
    "        start = time.time()\n",
    "        trainer.train(n_epochs=n_epochs)\n",
    "        end = time.time()\n",
    "        print(end-start)\n",
    "        times.append(end-start)\n",
    "    np.save('A_master_scvi_{}_epochs_cpu_sparse.npy'.format(n_epochs), times)    "
   ]
  },
  {
   "cell_type": "code",
   "execution_count": null,
   "metadata": {},
   "outputs": [],
   "source": [
    "    np.save('A_refactor_scvi_{}_epochs_cpu_X.npy'.format(n_epochs), times)"
   ]
  }
 ],
 "metadata": {
  "kernelspec": {
   "display_name": "Python 3",
   "language": "python",
   "name": "python3"
  },
  "language_info": {
   "codemirror_mode": {
    "name": "ipython",
    "version": 3
   },
   "file_extension": ".py",
   "mimetype": "text/x-python",
   "name": "python",
   "nbconvert_exporter": "python",
   "pygments_lexer": "ipython3",
   "version": "3.8.5"
  }
 },
 "nbformat": 4,
 "nbformat_minor": 4
}
