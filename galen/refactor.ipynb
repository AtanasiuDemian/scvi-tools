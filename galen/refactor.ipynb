{
 "cells": [
  {
   "cell_type": "code",
   "execution_count": 1,
   "metadata": {},
   "outputs": [],
   "source": [
    "import scvi"
   ]
  },
  {
   "cell_type": "code",
   "execution_count": 1,
   "metadata": {},
   "outputs": [
    {
     "name": "stderr",
     "output_type": "stream",
     "text": [
      "/data1/galen/.pyenv/versions/miniconda3-latest/envs/scvi/lib/python3.8/site-packages/anndata/_core/anndata.py:1094: FutureWarning: is_categorical is deprecated and will be removed in a future version.  Use is_categorical_dtype instead\n",
      "  if not is_categorical(df_full[k]):\n"
     ]
    },
    {
     "name": "stdout",
     "output_type": "stream",
     "text": [
      "[2020-08-06 22:14:07,109] INFO - scvi.dataset._preprocessing | added\n",
      "    'highly_variable', boolean vector (adata.var)\n",
      "    'highly_variable_rank', float vector (adata.var)\n",
      "    'means', float vector (adata.var)\n",
      "    'variances', float vector (adata.var)\n",
      "    'variances_norm', float vector (adata.var)\n"
     ]
    },
    {
     "name": "stderr",
     "output_type": "stream",
     "text": [
      "/data1/galen/scVI/scvi/dataset/_preprocessing.py:166: FutureWarning: Slicing a positional slice with .loc is not supported, and will raise TypeError in a future version.  Use .loc with labels or .iloc with positions instead.\n",
      "  df.loc[: int(n_top_genes), \"highly_variable\"] = True\n"
     ]
    },
    {
     "name": "stdout",
     "output_type": "stream",
     "text": [
      "AnnData object with n_obs × n_vars = 10849 × 4000\n",
      "    obs: 'n_genes', 'percent_mito', 'n_counts', 'batch', 'labels'\n",
      "    var: 'encode', 'n_cells-0', 'highly_variable-0', 'hvg_encode-0', 'n_cells-1', 'highly_variable-1', 'hvg_encode-1', 'highly_variable', 'highly_variable_rank', 'means', 'variances', 'variances_norm', 'highly_variable_nbatches'\n",
      "    uns: 'hvg'\n",
      "    obsm: 'protein_expression'\n",
      "[2020-08-06 22:14:07,585] INFO - scvi.dataset._anndata | Using batches from adata.obs[\"batch\"]\n",
      "[2020-08-06 22:14:07,588] INFO - scvi.dataset._anndata | No label_key inputted, assuming all cells have same label\n",
      "[2020-08-06 22:14:07,590] INFO - scvi.dataset._anndata | Using data from adata.X\n",
      "[2020-08-06 22:14:08,241] INFO - scvi.dataset._anndata | Computing library size prior per batch\n",
      "[2020-08-06 22:14:08,360] INFO - scvi.dataset._anndata | Using protein expression from adata.obsm['protein_expression']\n",
      "[2020-08-06 22:14:08,365] INFO - scvi.dataset._anndata | Using protein names from columns of adata.obsm['protein_expression']\n",
      "[2020-08-06 22:14:08,367] INFO - scvi.dataset._anndata | Registered keys:['X', 'batch_indices', 'local_l_mean', 'local_l_var', 'labels', 'protein_expression']\n",
      "[2020-08-06 22:14:08,369] INFO - scvi.dataset._anndata | Successfully registered anndata object containing 10849 cells, 4000 genes, 2 batches, and 14 proteins.\n"
     ]
    },
    {
     "name": "stderr",
     "output_type": "stream",
     "text": [
      "/data1/galen/.pyenv/versions/miniconda3-latest/envs/scvi/lib/python3.8/site-packages/anndata/_core/anndata.py:1094: FutureWarning: is_categorical is deprecated and will be removed in a future version.  Use is_categorical_dtype instead\n",
      "  if not is_categorical(df_full[k]):\n",
      "/data1/galen/.pyenv/versions/miniconda3-latest/envs/scvi/lib/python3.8/site-packages/anndata/_core/anndata.py:1094: FutureWarning: is_categorical is deprecated and will be removed in a future version.  Use is_categorical_dtype instead\n",
      "  if not is_categorical(df_full[k]):\n"
     ]
    }
   ],
   "source": [
    "import sys\n",
    "IN_COLAB = \"google.colab\" in sys.modules\n",
    "def allow_notebook_for_test():\n",
    "    print(\"Testing the totalVI notebook\")\n",
    "show_plot = True\n",
    "test_mode = False\n",
    "save_path = \"data/\"\n",
    "if not test_mode:\n",
    "    save_path = \"../../data\"\n",
    "if IN_COLAB:\n",
    "    !pip install --quiet git+https://github.com/yoseflab/scvi@dataset_refactor#egg=scvi[notebooks]\n",
    "import scanpy as sc\n",
    "import matplotlib.pyplot as plt\n",
    "import numpy as np\n",
    "import pandas as pd\n",
    "import torch\n",
    "import anndata\n",
    "import os\n",
    "from scvi.dataset import setup_anndata, highly_variable_genes_seurat_v3, pbmcs_10x_cite_seq\n",
    "from scvi.models import TOTALVI\n",
    "from scvi.inference import TotalPosterior, TotalTrainer\n",
    "from scvi import set_seed\n",
    "if IN_COLAB:\n",
    "    %matplotlib inline\n",
    "# Sets the random seed for torch and numpy\n",
    "set_seed(0)\n",
    "sc.set_figure_params(figsize=(4, 4))\n",
    "adata = pbmcs_10x_cite_seq(save_path=save_path, run_setup_anndata= False)\n",
    "highly_variable_genes_seurat_v3(adata, batch_key=\"batch\", n_top_genes=4000, subset=True)\n",
    "print(adata)\n",
    "setup_anndata(adata, batch_key=\"batch\", protein_expression_obsm_key=\"protein_expression\")\n",
    "sum_stats = adata.uns[\"scvi_summary_stats\"]\n",
    "use_cuda = True\n",
    "lr = 4e-3\n",
    "\n",
    "import time\n"
   ]
  },
  {
   "cell_type": "code",
   "execution_count": null,
   "metadata": {},
   "outputs": [
    {
     "name": "stdout",
     "output_type": "stream",
     "text": [
      "[2020-08-06 23:13:45,832] INFO - scvi.inference.inference | KL warmup for 8136.75 iterations\n",
      "training:  30%|███       | 121/400 [03:52<08:56,  1.92s/it]"
     ]
    }
   ],
   "source": [
    "times = []\n",
    "n_epochs = 400\n",
    "for i in range(5):\n",
    "    totalvae = TOTALVI(\n",
    "        sum_stats[\"n_genes\"],\n",
    "        sum_stats[\"n_proteins\"],\n",
    "        n_batch=sum_stats[\"n_batch\"],\n",
    "    )\n",
    "    trainer = TotalTrainer(\n",
    "        totalvae,\n",
    "        adata,\n",
    "        train_size=0.90,\n",
    "        test_size=0.10,\n",
    "        use_cuda=use_cuda,\n",
    "        frequency=1,\n",
    "        batch_size=256,\n",
    "        early_stopping_kwargs=\"auto\" if not test_mode else None\n",
    "    )\n",
    "    start = time.time()\n",
    "    trainer.train(n_epochs=n_epochs)\n",
    "    end = time.time()\n",
    "    print(end-start)\n",
    "    times.append(end-start)\n",
    "# np.save('refactor_totalvi_{}_epochs.npy'.format(n_epochs), times)"
   ]
  },
  {
   "cell_type": "code",
   "execution_count": 5,
   "metadata": {},
   "outputs": [],
   "source": [
    "np.save('refactor_totalvi_{}_epochs_2.npy'.format(n_epochs), times)"
   ]
  },
  {
   "cell_type": "code",
   "execution_count": null,
   "metadata": {},
   "outputs": [],
   "source": [
    "import os\n",
    "import numpy as np\n",
    "import pandas as pd\n",
    "import matplotlib.pyplot as plt\n",
    "import scvi\n",
    "import scanpy as sc\n",
    "if IN_COLAB:\n",
    "    %matplotlib inline\n",
    "# Sets torch and numpy random seeds, run after all scvi imports\n",
    "scvi.set_seed(0)\n",
    "gene_dataset = scvi.dataset.cortex(save_path=save_path)\n",
    "# We do a standard normalization for scanpy downstream visualization\n",
    "# Putting the count data in a layer preserves them for scVI\n",
    "sc.pp.filter_genes(gene_dataset, min_cells=15)\n",
    "gene_dataset.layers[\"counts\"] = gene_dataset.X.copy()\n",
    "sc.pp.normalize_total(gene_dataset, target_sum=1e4)\n",
    "sc.pp.log1p(gene_dataset)\n",
    "scvi.dataset.highly_variable_genes_seurat_v3(gene_dataset, n_top_genes=1000, layer=\"counts\", subset=True)\n",
    "scvi.dataset.setup_anndata(gene_dataset, X_layers_key=\"counts\")\n",
    "n_epochs = 400\n",
    "lr = 1e-3\n",
    "use_cuda = True\n",
    "ss = gene_dataset.uns[\"scvi_summary_stats\"]\n",
    "vae = scvi.models.VAE(ss[\"n_genes\"])\n",
    "trainer = scvi.inference.UnsupervisedTrainer(\n",
    "    vae,\n",
    "    gene_dataset,\n",
    "    train_size=0.90,\n",
    "    use_cuda=use_cuda,\n",
    "    frequency=5,\n",
    ")\n",
    "import time\n",
    "\n",
    "for n_epochs in [50,100,200]\n",
    "    times = []\n",
    "    for i in range(55):\n",
    "        start = time.time()\n",
    "        trainer.train(n_epochs=n_epochs)\n",
    "        end = time.time()\n",
    "        print(end-start)\n",
    "        times.append(end-start)"
   ]
  },
  {
   "cell_type": "code",
   "execution_count": 3,
   "metadata": {},
   "outputs": [
    {
     "name": "stdout",
     "output_type": "stream",
     "text": [
      "[2020-08-11 20:07:50,853] INFO - scvi.dataset._built_in_data._utils | File /data1/galen/scVI/galen/data/expression.bin already downloaded\n",
      "[2020-08-11 20:07:50,855] INFO - scvi.dataset._built_in_data._cortex | Loading Cortex data from /data1/galen/scVI/galen/data/expression.bin\n",
      "[2020-08-11 20:08:07,611] INFO - scvi.dataset._built_in_data._cortex | Finished loading Cortex data\n",
      "[2020-08-11 20:08:07,998] INFO - scvi.dataset._anndata | Using batches from adata.obs[\"batch\"]\n"
     ]
    },
    {
     "name": "stderr",
     "output_type": "stream",
     "text": [
      "/data1/galen/.pyenv/versions/miniconda3-latest/envs/scvi/lib/python3.8/site-packages/anndata/_core/anndata.py:119: ImplicitModificationWarning: Transforming to str index.\n",
      "  warnings.warn(\"Transforming to str index.\", ImplicitModificationWarning)\n"
     ]
    },
    {
     "name": "stdout",
     "output_type": "stream",
     "text": [
      "[2020-08-11 20:08:08,000] INFO - scvi.dataset._anndata | Using labels from adata.obs[\"labels\"]\n",
      "[2020-08-11 20:08:08,002] INFO - scvi.dataset._anndata | Using data from adata.X\n",
      "[2020-08-11 20:08:08,989] INFO - scvi.dataset._anndata | Computing library size prior per batch\n"
     ]
    },
    {
     "name": "stderr",
     "output_type": "stream",
     "text": [
      "/data1/galen/scVI/scvi/dataset/_anndata.py:438: UserWarning: adata has more genes than cells. SCVI may not work properly.\n",
      "  warnings.warn(\"adata has more genes than cells. SCVI may not work properly.\")\n",
      "/data1/galen/.pyenv/versions/miniconda3-latest/envs/scvi/lib/python3.8/site-packages/anndata/_core/anndata.py:1094: FutureWarning: is_categorical is deprecated and will be removed in a future version.  Use is_categorical_dtype instead\n",
      "  if not is_categorical(df_full[k]):\n"
     ]
    },
    {
     "name": "stdout",
     "output_type": "stream",
     "text": [
      "[2020-08-11 20:08:09,327] INFO - scvi.dataset._anndata | Registered keys:['X', 'batch_indices', 'local_l_mean', 'local_l_var', 'labels']\n",
      "[2020-08-11 20:08:09,329] INFO - scvi.dataset._anndata | Successfully registered anndata object containing 3005 cells, 19972 genes, 1 batches, and 0 proteins.\n",
      "[2020-08-11 20:08:11,804] INFO - scvi.dataset._preprocessing | added\n",
      "    'highly_variable', boolean vector (adata.var)\n",
      "    'highly_variable_rank', float vector (adata.var)\n",
      "    'means', float vector (adata.var)\n",
      "    'variances', float vector (adata.var)\n",
      "    'variances_norm', float vector (adata.var)\n"
     ]
    },
    {
     "name": "stderr",
     "output_type": "stream",
     "text": [
      "/data1/galen/scVI/scvi/dataset/_preprocessing.py:166: FutureWarning: Slicing a positional slice with .loc is not supported, and will raise TypeError in a future version.  Use .loc with labels or .iloc with positions instead.\n",
      "  df.loc[: int(n_top_genes), \"highly_variable\"] = True\n"
     ]
    }
   ],
   "source": [
    "import os\n",
    "import numpy as np\n",
    "import pandas as pd\n",
    "import matplotlib.pyplot as plt\n",
    "import scvi\n",
    "import scanpy as sc\n",
    "\n",
    "# Sets torch and numpy random seeds, run after all scvi imports\n",
    "scvi.set_seed(0)\n",
    "gene_dataset = scvi.dataset.cortex(save_path='data')\n",
    "# We do a standard normalization for scanpy downstream visualization\n",
    "# Putting the count data in a layer preserves them for scVI\n",
    "sc.pp.filter_genes(gene_dataset, min_cells=15)\n",
    "\n",
    "# sc.pp.normalize_total(gene_dataset, target_sum=1e4)\n",
    "# sc.pp.log1p(gene_dataset)\n",
    "scvi.dataset.highly_variable_genes_seurat_v3(gene_dataset, n_top_genes=1000, subset=True)\n"
   ]
  },
  {
   "cell_type": "code",
   "execution_count": 4,
   "metadata": {},
   "outputs": [],
   "source": [
    "from scipy.sparse import csr_matrix"
   ]
  },
  {
   "cell_type": "code",
   "execution_count": 5,
   "metadata": {},
   "outputs": [],
   "source": [
    "gene_dataset.X = csr_matrix(gene_dataset.X)"
   ]
  },
  {
   "cell_type": "code",
   "execution_count": 4,
   "metadata": {},
   "outputs": [
    {
     "data": {
      "text/plain": [
       "<3005x1000 sparse matrix of type '<class 'numpy.float32'>'\n",
       "\twith 469008 stored elements in Compressed Sparse Row format>"
      ]
     },
     "execution_count": 4,
     "metadata": {},
     "output_type": "execute_result"
    }
   ],
   "source": [
    "#gene_dataset.layers['raw']"
   ]
  },
  {
   "cell_type": "code",
   "execution_count": 6,
   "metadata": {},
   "outputs": [
    {
     "name": "stdout",
     "output_type": "stream",
     "text": [
      "[2020-08-11 20:08:12,123] INFO - scvi.dataset._anndata | No batch_key inputted, assuming all cells are same batch\n",
      "[2020-08-11 20:08:12,125] INFO - scvi.dataset._anndata | No label_key inputted, assuming all cells have same label\n",
      "[2020-08-11 20:08:12,127] INFO - scvi.dataset._anndata | Using data from adata.X\n",
      "[2020-08-11 20:08:12,145] INFO - scvi.dataset._anndata | Computing library size prior per batch\n",
      "[2020-08-11 20:08:12,159] INFO - scvi.dataset._anndata | Registered keys:['X', 'batch_indices', 'local_l_mean', 'local_l_var', 'labels']\n",
      "[2020-08-11 20:08:12,160] INFO - scvi.dataset._anndata | Successfully registered anndata object containing 3005 cells, 1000 genes, 1 batches, and 0 proteins.\n"
     ]
    },
    {
     "name": "stderr",
     "output_type": "stream",
     "text": [
      "/data1/galen/.pyenv/versions/miniconda3-latest/envs/scvi/lib/python3.8/site-packages/anndata/_core/anndata.py:1094: FutureWarning: is_categorical is deprecated and will be removed in a future version.  Use is_categorical_dtype instead\n",
      "  if not is_categorical(df_full[k]):\n"
     ]
    }
   ],
   "source": [
    "scvi.dataset.setup_anndata(gene_dataset)\n"
   ]
  },
  {
   "cell_type": "code",
   "execution_count": 7,
   "metadata": {},
   "outputs": [
    {
     "data": {
      "text/plain": [
       "{'X': ['_X', None],\n",
       " 'batch_indices': ['obs', '_scvi_batch'],\n",
       " 'local_l_mean': ['obs', '_scvi_local_l_mean'],\n",
       " 'local_l_var': ['obs', '_scvi_local_l_var'],\n",
       " 'labels': ['obs', '_scvi_labels']}"
      ]
     },
     "execution_count": 7,
     "metadata": {},
     "output_type": "execute_result"
    }
   ],
   "source": [
    "gene_dataset.uns['scvi_data_registry']"
   ]
  },
  {
   "cell_type": "code",
   "execution_count": null,
   "metadata": {},
   "outputs": [
    {
     "name": "stdout",
     "output_type": "stream",
     "text": [
      "[2020-08-11 20:08:37,209] INFO - scvi.inference.inference | KL warmup phase exceeds overall training phaseIf your applications rely on the posterior quality, consider training for more epochs or reducing the kl warmup.\n",
      "[2020-08-11 20:08:37,210] INFO - scvi.inference.inference | KL warmup for 400 epochs\n",
      "training: 100%|██████████| 50/50 [00:30<00:00,  1.64it/s]\n",
      "[2020-08-11 20:09:07,688] INFO - scvi.inference.inference | Training is still in warming up phase. If your applications rely on the posterior quality, consider training for more epochs or reducing the kl warmup.\n",
      "30.749072790145874\n",
      "[2020-08-11 20:09:08,013] INFO - scvi.inference.inference | KL warmup phase exceeds overall training phaseIf your applications rely on the posterior quality, consider training for more epochs or reducing the kl warmup.\n",
      "[2020-08-11 20:09:08,014] INFO - scvi.inference.inference | KL warmup for 400 epochs\n",
      "training: 100%|██████████| 50/50 [00:30<00:00,  1.66it/s]\n",
      "[2020-08-11 20:09:38,126] INFO - scvi.inference.inference | Training is still in warming up phase. If your applications rely on the posterior quality, consider training for more epochs or reducing the kl warmup.\n",
      "30.378292322158813\n",
      "[2020-08-11 20:09:38,456] INFO - scvi.inference.inference | KL warmup phase exceeds overall training phaseIf your applications rely on the posterior quality, consider training for more epochs or reducing the kl warmup.\n",
      "[2020-08-11 20:09:38,457] INFO - scvi.inference.inference | KL warmup for 400 epochs\n",
      "training: 100%|██████████| 50/50 [00:30<00:00,  1.66it/s]\n",
      "[2020-08-11 20:10:08,664] INFO - scvi.inference.inference | Training is still in warming up phase. If your applications rely on the posterior quality, consider training for more epochs or reducing the kl warmup.\n",
      "30.479244709014893\n",
      "[2020-08-11 20:10:08,983] INFO - scvi.inference.inference | KL warmup phase exceeds overall training phaseIf your applications rely on the posterior quality, consider training for more epochs or reducing the kl warmup.\n",
      "[2020-08-11 20:10:08,984] INFO - scvi.inference.inference | KL warmup for 400 epochs\n",
      "training: 100%|██████████| 50/50 [00:30<00:00,  1.66it/s]\n",
      "[2020-08-11 20:10:39,133] INFO - scvi.inference.inference | Training is still in warming up phase. If your applications rely on the posterior quality, consider training for more epochs or reducing the kl warmup.\n",
      "30.410834312438965\n",
      "[2020-08-11 20:10:39,462] INFO - scvi.inference.inference | KL warmup phase exceeds overall training phaseIf your applications rely on the posterior quality, consider training for more epochs or reducing the kl warmup.\n",
      "[2020-08-11 20:10:39,463] INFO - scvi.inference.inference | KL warmup for 400 epochs\n",
      "training: 100%|██████████| 50/50 [00:30<00:00,  1.66it/s]\n",
      "[2020-08-11 20:11:09,598] INFO - scvi.inference.inference | Training is still in warming up phase. If your applications rely on the posterior quality, consider training for more epochs or reducing the kl warmup.\n",
      "30.40609359741211\n",
      "[2020-08-11 20:11:09,915] INFO - scvi.inference.inference | KL warmup phase exceeds overall training phaseIf your applications rely on the posterior quality, consider training for more epochs or reducing the kl warmup.\n",
      "[2020-08-11 20:11:09,916] INFO - scvi.inference.inference | KL warmup for 400 epochs\n",
      "training: 100%|██████████| 100/100 [01:00<00:00,  1.65it/s]\n",
      "[2020-08-11 20:12:10,365] INFO - scvi.inference.inference | Training is still in warming up phase. If your applications rely on the posterior quality, consider training for more epochs or reducing the kl warmup.\n",
      "60.7080602645874\n",
      "[2020-08-11 20:12:10,682] INFO - scvi.inference.inference | KL warmup phase exceeds overall training phaseIf your applications rely on the posterior quality, consider training for more epochs or reducing the kl warmup.\n",
      "[2020-08-11 20:12:10,683] INFO - scvi.inference.inference | KL warmup for 400 epochs\n",
      "training: 100%|██████████| 100/100 [01:00<00:00,  1.65it/s]\n",
      "[2020-08-11 20:13:11,316] INFO - scvi.inference.inference | Training is still in warming up phase. If your applications rely on the posterior quality, consider training for more epochs or reducing the kl warmup.\n",
      "60.89237380027771\n",
      "[2020-08-11 20:13:11,635] INFO - scvi.inference.inference | KL warmup phase exceeds overall training phaseIf your applications rely on the posterior quality, consider training for more epochs or reducing the kl warmup.\n",
      "[2020-08-11 20:13:11,636] INFO - scvi.inference.inference | KL warmup for 400 epochs\n",
      "training: 100%|██████████| 100/100 [01:00<00:00,  1.65it/s]\n",
      "[2020-08-11 20:14:12,252] INFO - scvi.inference.inference | Training is still in warming up phase. If your applications rely on the posterior quality, consider training for more epochs or reducing the kl warmup.\n",
      "60.87665033340454\n",
      "[2020-08-11 20:14:12,569] INFO - scvi.inference.inference | KL warmup phase exceeds overall training phaseIf your applications rely on the posterior quality, consider training for more epochs or reducing the kl warmup.\n",
      "[2020-08-11 20:14:12,570] INFO - scvi.inference.inference | KL warmup for 400 epochs\n",
      "training: 100%|██████████| 100/100 [01:00<00:00,  1.65it/s]\n",
      "[2020-08-11 20:15:13,173] INFO - scvi.inference.inference | Training is still in warming up phase. If your applications rely on the posterior quality, consider training for more epochs or reducing the kl warmup.\n",
      "60.86265969276428\n",
      "[2020-08-11 20:15:13,491] INFO - scvi.inference.inference | KL warmup phase exceeds overall training phaseIf your applications rely on the posterior quality, consider training for more epochs or reducing the kl warmup.\n",
      "[2020-08-11 20:15:13,492] INFO - scvi.inference.inference | KL warmup for 400 epochs\n",
      "training: 100%|██████████| 100/100 [01:00<00:00,  1.65it/s]\n",
      "[2020-08-11 20:16:13,964] INFO - scvi.inference.inference | Training is still in warming up phase. If your applications rely on the posterior quality, consider training for more epochs or reducing the kl warmup.\n",
      "60.73248553276062\n",
      "[2020-08-11 20:16:14,283] INFO - scvi.inference.inference | KL warmup phase exceeds overall training phaseIf your applications rely on the posterior quality, consider training for more epochs or reducing the kl warmup.\n",
      "[2020-08-11 20:16:14,284] INFO - scvi.inference.inference | KL warmup for 400 epochs\n",
      "training: 100%|██████████| 200/200 [02:01<00:00,  1.65it/s]\n",
      "[2020-08-11 20:18:15,294] INFO - scvi.inference.inference | Training is still in warming up phase. If your applications rely on the posterior quality, consider training for more epochs or reducing the kl warmup.\n",
      "121.26855611801147\n",
      "[2020-08-11 20:18:15,613] INFO - scvi.inference.inference | KL warmup phase exceeds overall training phaseIf your applications rely on the posterior quality, consider training for more epochs or reducing the kl warmup.\n",
      "[2020-08-11 20:18:15,614] INFO - scvi.inference.inference | KL warmup for 400 epochs\n",
      "training: 100%|██████████| 200/200 [02:00<00:00,  1.65it/s]\n",
      "[2020-08-11 20:20:16,589] INFO - scvi.inference.inference | Training is still in warming up phase. If your applications rely on the posterior quality, consider training for more epochs or reducing the kl warmup.\n",
      "121.23543429374695\n",
      "[2020-08-11 20:20:16,906] INFO - scvi.inference.inference | KL warmup phase exceeds overall training phaseIf your applications rely on the posterior quality, consider training for more epochs or reducing the kl warmup.\n",
      "[2020-08-11 20:20:16,907] INFO - scvi.inference.inference | KL warmup for 400 epochs\n",
      "training:  84%|████████▎ | 167/200 [01:40<00:19,  1.69it/s]"
     ]
    }
   ],
   "source": [
    "lr = 1e-3\n",
    "use_cuda = False\n",
    "ss = gene_dataset.uns[\"scvi_summary_stats\"]\n",
    "\n",
    "import time\n",
    "\n",
    "for n_epochs in [50,100,200,400]:\n",
    "    times = []\n",
    "    for i in range(5):\n",
    "        vae = scvi.models.VAE(ss[\"n_genes\"])\n",
    "        trainer = scvi.inference.UnsupervisedTrainer(\n",
    "            vae,\n",
    "            gene_dataset,\n",
    "            train_size=0.90,\n",
    "            use_cuda=use_cuda,\n",
    "            frequency=5,\n",
    "        )\n",
    "        start = time.time()\n",
    "        trainer.train(n_epochs=n_epochs)\n",
    "        end = time.time()\n",
    "        print(end-start)\n",
    "        times.append(end-start)\n",
    "    np.save('A_refactor_scvi_{}_epochs_cpu_X_sparse.npy'.format(n_epochs), times)"
   ]
  },
  {
   "cell_type": "code",
   "execution_count": 6,
   "metadata": {},
   "outputs": [],
   "source": [
    "np.save('refactor_scvi_{}_epochs.npy'.format(n_epochs), times)"
   ]
  },
  {
   "cell_type": "code",
   "execution_count": 9,
   "metadata": {},
   "outputs": [
    {
     "data": {
      "text/plain": [
       "(3005, 1000)"
      ]
     },
     "execution_count": 9,
     "metadata": {},
     "output_type": "execute_result"
    }
   ],
   "source": [
    "gene_dataset.X.shape"
   ]
  },
  {
   "cell_type": "code",
   "execution_count": null,
   "metadata": {},
   "outputs": [],
   "source": []
  }
 ],
 "metadata": {
  "kernelspec": {
   "display_name": "Python 3",
   "language": "python",
   "name": "python3"
  },
  "language_info": {
   "codemirror_mode": {
    "name": "ipython",
    "version": 3
   },
   "file_extension": ".py",
   "mimetype": "text/x-python",
   "name": "python",
   "nbconvert_exporter": "python",
   "pygments_lexer": "ipython3",
   "version": "3.8.5"
  }
 },
 "nbformat": 4,
 "nbformat_minor": 4
}
