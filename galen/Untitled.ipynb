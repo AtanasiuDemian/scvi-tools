{
 "cells": [
  {
   "cell_type": "code",
   "execution_count": 1,
   "metadata": {},
   "outputs": [],
   "source": [
    "%load_ext autoreload\n",
    "%autoreload 2\n",
    "\n",
    "import matplotlib.pyplot as plt\n",
    "import numpy as np\n",
    "import pandas as pd\n",
    "import torch\n",
    "import anndata\n",
    "import os\n",
    "\n",
    "from scvi.dataset import PbmcDataset\n",
    "from scvi.models import AutoZIVAE\n",
    "from scvi.inference import UnsupervisedTrainer"
   ]
  },
  {
   "cell_type": "code",
   "execution_count": 2,
   "metadata": {},
   "outputs": [
    {
     "name": "stdout",
     "output_type": "stream",
     "text": [
      "[2020-06-25 12:50:11,675] INFO - scvi.dataset.dataset | File /Users/galen/scVI/data/gene_info_pbmc.csv already downloaded\n",
      "[2020-06-25 12:50:11,676] INFO - scvi.dataset.dataset | File /Users/galen/scVI/data/pbmc_metadata.pickle already downloaded\n",
      "[2020-06-25 12:50:11,704] INFO - scvi.dataset.dataset | File /Users/galen/scVI/data/10X/pbmc8k/filtered_gene_bc_matrices.tar.gz already downloaded\n",
      "[2020-06-25 12:50:11,704] INFO - scvi.dataset.dataset10X | Preprocessing dataset\n",
      "[2020-06-25 12:50:28,790] INFO - scvi.dataset.dataset10X | Finished preprocessing dataset\n",
      "[2020-06-25 12:50:28,910] INFO - scvi.dataset.dataset | Remapping batch_indices to [0,N]\n",
      "[2020-06-25 12:50:28,911] INFO - scvi.dataset.dataset | Remapping labels to [0,N]\n",
      "[2020-06-25 12:50:29,119] INFO - scvi.dataset.dataset | Computing the library size for the new data\n",
      "[2020-06-25 12:50:29,201] INFO - scvi.dataset.dataset | Downsampled from 8381 to 8381 cells\n",
      "[2020-06-25 12:50:29,252] INFO - scvi.dataset.dataset | File /Users/galen/scVI/data/10X/pbmc4k/filtered_gene_bc_matrices.tar.gz already downloaded\n",
      "[2020-06-25 12:50:29,253] INFO - scvi.dataset.dataset10X | Preprocessing dataset\n",
      "[2020-06-25 12:50:37,214] INFO - scvi.dataset.dataset10X | Finished preprocessing dataset\n",
      "[2020-06-25 12:50:37,292] INFO - scvi.dataset.dataset | Remapping batch_indices to [0,N]\n",
      "[2020-06-25 12:50:37,293] INFO - scvi.dataset.dataset | Remapping labels to [0,N]\n",
      "[2020-06-25 12:50:37,384] INFO - scvi.dataset.dataset | Computing the library size for the new data\n",
      "[2020-06-25 12:50:37,424] INFO - scvi.dataset.dataset | Downsampled from 4340 to 4340 cells\n",
      "[2020-06-25 12:50:37,450] INFO - scvi.dataset.dataset | Merging datasets. Input objects are modified in place.\n",
      "[2020-06-25 12:50:37,450] INFO - scvi.dataset.dataset | Gene names and cell measurement names are assumed to have a non-null intersection between datasets.\n",
      "[2020-06-25 12:50:37,511] INFO - scvi.dataset.dataset | Keeping 33694 genes\n",
      "[2020-06-25 12:50:37,829] INFO - scvi.dataset.dataset | Computing the library size for the new data\n",
      "[2020-06-25 12:50:37,908] INFO - scvi.dataset.dataset | Remapping batch_indices to [0,N]\n",
      "[2020-06-25 12:50:37,910] INFO - scvi.dataset.dataset | Remapping labels to [0,N]\n",
      "[2020-06-25 12:50:38,085] INFO - scvi.dataset.dataset | Computing the library size for the new data\n",
      "[2020-06-25 12:50:38,128] INFO - scvi.dataset.dataset | Remapping batch_indices to [0,N]\n",
      "[2020-06-25 12:50:38,129] INFO - scvi.dataset.dataset | Remapping labels to [0,N]\n",
      "[2020-06-25 12:50:38,403] INFO - scvi.dataset.dataset | Remapping batch_indices to [0,N]\n",
      "[2020-06-25 12:50:38,404] INFO - scvi.dataset.dataset | Remapping labels to [0,N]\n",
      "[2020-06-25 12:50:38,899] INFO - scvi.dataset.dataset | Computing the library size for the new data\n",
      "[2020-06-25 12:50:38,976] INFO - scvi.dataset.dataset | Downsampled from 12721 to 11990 cells\n",
      "[2020-06-25 12:50:39,067] INFO - scvi.dataset.dataset | Downsampling from 33694 to 3346 genes\n",
      "[2020-06-25 12:50:39,292] INFO - scvi.dataset.dataset | Computing the library size for the new data\n",
      "[2020-06-25 12:50:39,327] INFO - scvi.dataset.dataset | Filtering non-expressing cells.\n",
      "[2020-06-25 12:50:39,426] INFO - scvi.dataset.dataset | Computing the library size for the new data\n",
      "[2020-06-25 12:50:39,450] INFO - scvi.dataset.dataset | Downsampled from 11990 to 11990 cells\n",
      "[2020-06-25 12:50:39,495] INFO - scvi.dataset.dataset | extracting highly variable genes using seurat_v3 flavor\n"
     ]
    },
    {
     "name": "stderr",
     "output_type": "stream",
     "text": [
      "/Users/galen/anaconda3/envs/scvi/lib/python3.6/site-packages/anndata/_core/anndata.py:119: ImplicitModificationWarning: Transforming to str index.\n",
      "  warnings.warn(\"Transforming to str index.\", ImplicitModificationWarning)\n"
     ]
    },
    {
     "name": "stdout",
     "output_type": "stream",
     "text": [
      "[2020-06-25 12:50:39,812] INFO - scvi.dataset.dataset | Downsampling from 3346 to 1000 genes\n",
      "[2020-06-25 12:50:39,871] INFO - scvi.dataset.dataset | Computing the library size for the new data\n",
      "[2020-06-25 12:50:39,886] INFO - scvi.dataset.dataset | Filtering non-expressing cells.\n",
      "[2020-06-25 12:50:39,919] INFO - scvi.dataset.dataset | Computing the library size for the new data\n",
      "[2020-06-25 12:50:39,925] INFO - scvi.dataset.dataset | Downsampled from 11990 to 11990 cells\n"
     ]
    }
   ],
   "source": [
    "test_mode = False\n",
    "n_epochs_all = None\n",
    "save_path = \"data/\"\n",
    "\n",
    "n_genes_to_keep = 100 if test_mode else 1000\n",
    "pbmc = PbmcDataset(save_path=save_path, save_path_10X=os.path.join(save_path, \"10X\"))\n",
    "pbmc.subsample_genes(new_n_genes=n_genes_to_keep)"
   ]
  },
  {
   "cell_type": "code",
   "execution_count": 3,
   "metadata": {},
   "outputs": [
    {
     "name": "stdout",
     "output_type": "stream",
     "text": [
      "[2020-06-25 12:50:40,019] INFO - scvi.dataset.utils | Using data from adata.X\n",
      "[2020-06-25 12:50:40,020] INFO - scvi.dataset.utils | Using batches from adata.obs[\"batch_indices\"]\n",
      "[2020-06-25 12:50:40,021] INFO - scvi.dataset.utils | Using labels from adata.obs[\"cell_types\"]\n",
      "[2020-06-25 12:50:40,024] INFO - scvi.dataset.utils | Computing library size prior per batch\n",
      "[2020-06-25 12:50:40,036] INFO - scvi.dataset.utils | Successfully registered anndata object containing 11990 cells, 1000 genes, and 2 batches \n",
      "Registered keys:['X', 'batch_indices', 'local_l_mean', 'local_l_var', 'labels']\n"
     ]
    },
    {
     "name": "stderr",
     "output_type": "stream",
     "text": [
      "/Users/galen/anaconda3/envs/scvi/lib/python3.6/site-packages/anndata/_core/anndata.py:119: ImplicitModificationWarning: Transforming to str index.\n",
      "  warnings.warn(\"Transforming to str index.\", ImplicitModificationWarning)\n"
     ]
    }
   ],
   "source": [
    "from scvi.dataset.utils import setup_anndata\n",
    "\n",
    "adata = pbmc.to_anndata()\n",
    "setup_anndata(adata,batch_key = 'batch_indices', labels_key = 'cell_types')"
   ]
  },
  {
   "cell_type": "code",
   "execution_count": 4,
   "metadata": {},
   "outputs": [
    {
     "data": {
      "text/plain": [
       "AnnData object with n_obs × n_vars = 11990 × 1000\n",
       "    obs: 'barcodes', 'batch_indices', 'cell_types', '_scvi_labels', '_scvi_local_l_mean', '_scvi_local_l_var'\n",
       "    uns: 'cell_measurements_col_mappings', 'scvi_data_registry', 'scvi_summary_stats'"
      ]
     },
     "execution_count": 4,
     "metadata": {},
     "output_type": "execute_result"
    }
   ],
   "source": [
    "adata"
   ]
  },
  {
   "cell_type": "code",
   "execution_count": 5,
   "metadata": {},
   "outputs": [],
   "source": [
    "from scvi.dataset.biodataset import BioDataset"
   ]
  },
  {
   "cell_type": "code",
   "execution_count": null,
   "metadata": {},
   "outputs": [],
   "source": []
  },
  {
   "cell_type": "code",
   "execution_count": 7,
   "metadata": {},
   "outputs": [
    {
     "name": "stdout",
     "output_type": "stream",
     "text": [
      "[2020-06-25 12:52:04,199] INFO - scvi.inference.inference | KL warmup phase exceeds overall training phaseIf your applications rely on the posterior quality, consider training for more epochs or reducing the kl warmup.\n",
      "[2020-06-25 12:52:04,200] INFO - scvi.inference.inference | KL warmup for 400 epochs\n"
     ]
    },
    {
     "data": {
      "application/vnd.jupyter.widget-view+json": {
       "model_id": "e531765f679f43f8aaa8108817f1c74a",
       "version_major": 2,
       "version_minor": 0
      },
      "text/plain": [
       "HBox(children=(FloatProgress(value=0.0, description='training', max=2.0, style=ProgressStyle(description_width…"
      ]
     },
     "metadata": {},
     "output_type": "display_data"
    },
    {
     "name": "stdout",
     "output_type": "stream",
     "text": [
      "\n",
      "[2020-06-25 12:52:15,013] INFO - scvi.inference.inference | Training is still in warming up phase. If your applications rely on the posterior quality, consider training for more epochs or reducing the kl warmup.\n"
     ]
    }
   ],
   "source": [
    "autozivae = AutoZIVAE(n_input=1000, alpha_prior=0.5, beta_prior=0.5, minimal_dropout=0.01)\n",
    "autozitrainer = UnsupervisedTrainer(autozivae, adata)\n",
    "n_epochs = 2\n",
    "autozitrainer.train(n_epochs=n_epochs, lr=1e-2)"
   ]
  },
  {
   "cell_type": "code",
   "execution_count": 9,
   "metadata": {},
   "outputs": [
    {
     "name": "stdout",
     "output_type": "stream",
     "text": [
      "Fraction of predicted ZI genes : 0.458\n"
     ]
    }
   ],
   "source": [
    "from scipy.stats import beta\n",
    "outputs = autozivae.get_alphas_betas()\n",
    "alpha_posterior = outputs['alpha_posterior']\n",
    "beta_posterior = outputs['beta_posterior']\n",
    "\n",
    "# Threshold (or Kzinb/Knb+Kzinb in paper)\n",
    "threshold = 0.5\n",
    "\n",
    "# q(delta_g < 0.5) probabilities\n",
    "zi_probs = beta.cdf(0.5,alpha_posterior,beta_posterior)\n",
    "\n",
    "# ZI genes\n",
    "is_zi_pred = (zi_probs > threshold)\n",
    "\n",
    "print('Fraction of predicted ZI genes :', is_zi_pred.mean())"
   ]
  },
  {
   "cell_type": "code",
   "execution_count": 10,
   "metadata": {},
   "outputs": [
    {
     "name": "stdout",
     "output_type": "stream",
     "text": [
      "Fraction of genes with avg expression > 1 : 0.061\n",
      "Fraction of predicted ZI genes with avg expression > 1 : 0.4098360655737705\n"
     ]
    }
   ],
   "source": [
    "mask_sufficient_expression = (np.array(pbmc.X.mean(axis=0)) > 1.).reshape(-1)\n",
    "print('Fraction of genes with avg expression > 1 :', mask_sufficient_expression.mean())\n",
    "print('Fraction of predicted ZI genes with avg expression > 1 :', is_zi_pred[mask_sufficient_expression].mean())"
   ]
  },
  {
   "cell_type": "code",
   "execution_count": 13,
   "metadata": {},
   "outputs": [
    {
     "name": "stdout",
     "output_type": "stream",
     "text": [
      "[2020-06-25 12:56:38,437] INFO - scvi.inference.inference | KL warmup phase exceeds overall training phaseIf your applications rely on the posterior quality, consider training for more epochs or reducing the kl warmup.\n",
      "[2020-06-25 12:56:38,438] INFO - scvi.inference.inference | KL warmup for 400 epochs\n"
     ]
    },
    {
     "data": {
      "application/vnd.jupyter.widget-view+json": {
       "model_id": "ff548639c4754b6a8b625900c3003a6c",
       "version_major": 2,
       "version_minor": 0
      },
      "text/plain": [
       "HBox(children=(FloatProgress(value=0.0, description='training', max=2.0, style=ProgressStyle(description_width…"
      ]
     },
     "metadata": {},
     "output_type": "display_data"
    },
    {
     "name": "stdout",
     "output_type": "stream",
     "text": [
      "\n",
      "[2020-06-25 12:56:50,220] INFO - scvi.inference.inference | Training is still in warming up phase. If your applications rely on the posterior quality, consider training for more epochs or reducing the kl warmup.\n"
     ]
    }
   ],
   "source": [
    "# Model definition\n",
    "autozivae_genelabel = AutoZIVAE(n_input=pbmc.nb_genes, alpha_prior=0.5, beta_prior=0.5, minimal_dropout=0.01,\n",
    "                         dispersion='gene-label', zero_inflation='gene-label', n_labels=pbmc.n_labels)\n",
    "autozitrainer_genelabel = UnsupervisedTrainer(autozivae_genelabel, adata)\n",
    "\n",
    "# Training\n",
    "n_epochs = 2 if n_epochs_all is None else n_epochs_all\n",
    "autozitrainer_genelabel.train(n_epochs=n_epochs, lr=1e-2)\n",
    "\n",
    "# Retrieve posterior distribution parameters\n",
    "outputs_genelabel = autozivae_genelabel.get_alphas_betas()\n",
    "alpha_posterior_genelabel = outputs_genelabel['alpha_posterior']\n",
    "beta_posterior_genelabel = outputs_genelabel['beta_posterior']"
   ]
  },
  {
   "cell_type": "code",
   "execution_count": 14,
   "metadata": {},
   "outputs": [
    {
     "name": "stdout",
     "output_type": "stream",
     "text": [
      "Fraction of predicted ZI genes for cell type B cells : 0.464 \n",
      "\n",
      "Fraction of predicted ZI genes for cell type CD14+ Monocytes : 0.486 \n",
      "\n",
      "Fraction of predicted ZI genes for cell type CD4 T cells : 0.502 \n",
      "\n",
      "Fraction of predicted ZI genes for cell type CD8 T cells : 0.523 \n",
      "\n",
      "Fraction of predicted ZI genes for cell type Dendritic Cells : 0.5 \n",
      "\n",
      "Fraction of predicted ZI genes for cell type FCGR3A+ Monocytes : 0.48 \n",
      "\n",
      "Fraction of predicted ZI genes for cell type Megakaryocytes : 0.562 \n",
      "\n",
      "Fraction of predicted ZI genes for cell type NK cells : 0.564 \n",
      "\n",
      "Fraction of predicted ZI genes for cell type Other : 0.478 \n",
      "\n"
     ]
    }
   ],
   "source": [
    "# q(delta_g < 0.5) probabilities\n",
    "zi_probs_genelabel = beta.cdf(0.5,alpha_posterior_genelabel,beta_posterior_genelabel)\n",
    "\n",
    "# ZI gene-cell-types\n",
    "is_zi_pred_genelabel = (zi_probs_genelabel > threshold)\n",
    "\n",
    "for ind_cell_type, cell_type in enumerate(pbmc.cell_types):\n",
    "\n",
    "    is_zi_pred_genelabel_here = is_zi_pred_genelabel[:,ind_cell_type]\n",
    "    print('Fraction of predicted ZI genes for cell type {} :'.format(cell_type),\n",
    "          is_zi_pred_genelabel_here.mean(),'\\n')"
   ]
  },
  {
   "cell_type": "code",
   "execution_count": 15,
   "metadata": {},
   "outputs": [
    {
     "name": "stdout",
     "output_type": "stream",
     "text": [
      "Fraction of genes with avg expression > 1 for cell type B cells : 0.034\n",
      "Fraction of predicted ZI genes with avg expression > 1 for cell type B cells : 0.35294117647058826 \n",
      "\n",
      "Fraction of genes with avg expression > 1 for cell type CD14+ Monocytes : 0.08\n",
      "Fraction of predicted ZI genes with avg expression > 1 for cell type CD14+ Monocytes : 0.3 \n",
      "\n",
      "Fraction of genes with avg expression > 1 for cell type CD4 T cells : 0.037\n",
      "Fraction of predicted ZI genes with avg expression > 1 for cell type CD4 T cells : 0.35135135135135137 \n",
      "\n",
      "Fraction of genes with avg expression > 1 for cell type CD8 T cells : 0.051\n",
      "Fraction of predicted ZI genes with avg expression > 1 for cell type CD8 T cells : 0.45098039215686275 \n",
      "\n",
      "Fraction of genes with avg expression > 1 for cell type Dendritic Cells : 0.181\n",
      "Fraction of predicted ZI genes with avg expression > 1 for cell type Dendritic Cells : 0.3425414364640884 \n",
      "\n",
      "Fraction of genes with avg expression > 1 for cell type FCGR3A+ Monocytes : 0.126\n",
      "Fraction of predicted ZI genes with avg expression > 1 for cell type FCGR3A+ Monocytes : 0.36507936507936506 \n",
      "\n",
      "Fraction of genes with avg expression > 1 for cell type Megakaryocytes : 0.127\n",
      "Fraction of predicted ZI genes with avg expression > 1 for cell type Megakaryocytes : 0.3937007874015748 \n",
      "\n",
      "Fraction of genes with avg expression > 1 for cell type NK cells : 0.067\n",
      "Fraction of predicted ZI genes with avg expression > 1 for cell type NK cells : 0.29850746268656714 \n",
      "\n",
      "Fraction of genes with avg expression > 1 for cell type Other : 0.106\n",
      "Fraction of predicted ZI genes with avg expression > 1 for cell type Other : 0.32075471698113206 \n",
      "\n"
     ]
    }
   ],
   "source": [
    "# With avg expressions > 1\n",
    "for ind_cell_type, cell_type in enumerate(pbmc.cell_types):\n",
    "    mask_sufficient_expression = (np.array(pbmc.X[pbmc.labels.reshape(-1) == ind_cell_type,:].mean(axis=0)) > 1.).reshape(-1)\n",
    "    print('Fraction of genes with avg expression > 1 for cell type {} :'.format(cell_type),\n",
    "          mask_sufficient_expression.mean())\n",
    "    is_zi_pred_genelabel_here = is_zi_pred_genelabel[mask_sufficient_expression,ind_cell_type]\n",
    "    print('Fraction of predicted ZI genes with avg expression > 1 for cell type {} :'.format(cell_type),\n",
    "          is_zi_pred_genelabel_here.mean(), '\\n')"
   ]
  },
  {
   "cell_type": "code",
   "execution_count": null,
   "metadata": {},
   "outputs": [],
   "source": []
  }
 ],
 "metadata": {
  "kernelspec": {
   "display_name": "Python scvi",
   "language": "python",
   "name": "scvi"
  },
  "language_info": {
   "codemirror_mode": {
    "name": "ipython",
    "version": 3
   },
   "file_extension": ".py",
   "mimetype": "text/x-python",
   "name": "python",
   "nbconvert_exporter": "python",
   "pygments_lexer": "ipython3",
   "version": "3.6.10"
  }
 },
 "nbformat": 4,
 "nbformat_minor": 2
}
