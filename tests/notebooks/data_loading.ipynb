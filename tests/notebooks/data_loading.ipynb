{
 "cells": [
  {
   "cell_type": "markdown",
   "metadata": {},
   "source": [
    "# Data Loading Tutorial"
   ]
  },
  {
   "cell_type": "code",
   "execution_count": 2,
   "metadata": {},
   "outputs": [],
   "source": [
    "# Below is code that helps us test the notebooks\n",
    "# when not testing, we make the save_path a directory called data\n",
    "# in the scVI root directory, feel free to move anywhere"
   ]
  },
  {
   "cell_type": "code",
   "execution_count": 3,
   "metadata": {},
   "outputs": [],
   "source": [
    "def allow_notebook_for_test():\n",
    "    print(\"Testing the data loading notebook\")\n",
    "\n",
    "test_mode = False\n",
    "save_path = \"data/\"\n",
    "n_epochs = 400\n",
    "\n",
    "# Feel free to move this to any convenient location\n",
    "if not test_mode:\n",
    "    save_path = \"../../data\""
   ]
  },
  {
   "cell_type": "code",
   "execution_count": 5,
   "metadata": {},
   "outputs": [],
   "source": [
    "import anndata\n",
    "import numpy as np\n",
    "import scanpy as sc\n",
    "import scvi\n",
    "\n",
    "from scvi.dataset import setup_anndata"
   ]
  },
  {
   "cell_type": "markdown",
   "metadata": {},
   "source": [
    "## Loading Datasets\n",
    "`scvi` supports the `AnnData` file format. \n",
    "\n",
    "This tutorial will go through the following:\n",
    "\n",
    "* TLDR: Quickstart\n",
    "* Setting up your anndata object for `scvi`\n",
    "* Verifying the setup\n",
    "* Advanced explanation of `setup_anndata` and `BioDataset`"
   ]
  },
  {
   "cell_type": "markdown",
   "metadata": {},
   "source": [
    "## TLDR: Quickstart"
   ]
  },
  {
   "cell_type": "code",
   "execution_count": 7,
   "metadata": {},
   "outputs": [
    {
     "name": "stdout",
     "output_type": "stream",
     "text": [
      "[2020-07-20 22:43:35,374] INFO - scvi.dataset._anndata | Using data from adata.X\n",
      "[2020-07-20 22:43:35,375] INFO - scvi.dataset._anndata | Using batches from adata.obs[\"batch\"]\n",
      "[2020-07-20 22:43:35,377] INFO - scvi.dataset._anndata | No label_key inputted, assuming all cells have same label\n",
      "[2020-07-20 22:43:35,381] INFO - scvi.dataset._anndata | Computing library size prior per batch\n",
      "[2020-07-20 22:43:35,941] INFO - scvi.dataset._anndata | Using protein expression from adata.obsm['protein_expression']\n",
      "[2020-07-20 22:43:35,942] INFO - scvi.dataset._anndata | Using protein names from columns of adata.obsm['protein_expression']\n",
      "[2020-07-20 22:43:35,944] INFO - scvi.dataset._anndata | Successfully registered anndata object containing 10849 cells, 15792 genes, and 2 batches \n",
      "Registered keys:['X', 'batch_indices', 'local_l_mean', 'local_l_var', 'labels', 'protein_expression']\n",
      "{'n_batch': 2, 'n_cells': 10849, 'n_genes': 15792, 'n_labels': 1, 'n_proteins': 14, 'protein_names': ['CD3_TotalSeqB', 'CD4_TotalSeqB', 'CD8a_TotalSeqB', 'CD14_TotalSeqB', 'CD15_TotalSeqB', 'CD16_TotalSeqB', 'CD56_TotalSeqB', 'CD19_TotalSeqB', 'CD25_TotalSeqB', 'CD45RA_TotalSeqB', 'CD45RO_TotalSeqB', 'PD-1_TotalSeqB', 'TIGIT_TotalSeqB', 'CD127_TotalSeqB']}\n"
     ]
    }
   ],
   "source": [
    "# get your favorite anndata object\n",
    "adata = scvi.dataset.pbmcs_10x_cite_seq(save_path = save_path, run_setup_anndata = False)\n",
    "\n",
    "# run setup_anndata() \n",
    "# REMINDER: run filtering and processing before calling setup_anndata()\n",
    "setup_anndata(adata, #adata should not be a view\n",
    "              batch_key = 'batch', # key is specific to adata\n",
    "              labels_key = None, \n",
    "              X_layers_key = None,\n",
    "              protein_expression_obsm_key = 'protein_expression', # only required if using TotalVI\n",
    "              protein_names_uns_key = None,\n",
    "              copy = False)\n",
    "\n",
    "print(adata.uns['scvi_summary_stats']) #double check setup\n",
    "\n",
    "# Train!\n",
    "stats = adata.uns['scvi_summary_stats']\n",
    "vae = scvi.models.VAE(n_input = stats['n_genes'] )\n",
    "trainer = scvi.inference.UnsupervisedTrainer(\n",
    "    vae,\n",
    "    adata,\n",
    "    train_size=0.90,\n",
    "    use_cuda=False,\n",
    "    frequency=5,\n",
    ")\n",
    "trainer.train(n_epochs = n_epochs)\n",
    "\n",
    "#Save and load an already setup anndata without having to setup again!\n",
    "adata.write('my_anndata.h5ad')\n",
    "adata = anndata.read('my_anndata.h5ad')"
   ]
  },
  {
   "cell_type": "markdown",
   "metadata": {},
   "source": [
    "## Setting up your anndata object for `scvi`\n",
    "\n",
    "**First, load in your anndata. We will defer to the [anndata API](https://anndata.readthedocs.io/) for reading and loading data.** \n",
    "Here, we load an example dataset from `scanpy`."
   ]
  },
  {
   "cell_type": "code",
   "execution_count": 8,
   "metadata": {},
   "outputs": [
    {
     "data": {
      "application/vnd.jupyter.widget-view+json": {
       "model_id": "68769793c3ad41bcbf9856837df42d0e",
       "version_major": 2,
       "version_minor": 0
      },
      "text/plain": [
       "HBox(children=(FloatProgress(value=1.0, bar_style='info', description='pbmc3k_raw.h5ad', max=1.0, style=Progre…"
      ]
     },
     "metadata": {},
     "output_type": "display_data"
    },
    {
     "name": "stdout",
     "output_type": "stream",
     "text": [
      "\n",
      "AnnData object with n_obs × n_vars = 2700 × 32738\n",
      "    var: 'gene_ids'\n"
     ]
    }
   ],
   "source": [
    "import anndata\n",
    "import numpy as np\n",
    "import scanpy as sc\n",
    "import pandas as pd\n",
    "import scvi\n",
    "\n",
    "from scvi.dataset import setup_anndata\n",
    "adata = sc.datasets.pbmc3k()\n",
    "\n",
    "print(adata)"
   ]
  },
  {
   "cell_type": "markdown",
   "metadata": {},
   "source": [
    "**Then run all the necessary filtering and processing on your anndata.**"
   ]
  },
  {
   "cell_type": "code",
   "execution_count": 9,
   "metadata": {},
   "outputs": [
    {
     "name": "stdout",
     "output_type": "stream",
     "text": [
      "AnnData object with n_obs × n_vars = 2700 × 16634\n",
      "    var: 'gene_ids', 'n_counts', 'n_cells'\n"
     ]
    }
   ],
   "source": [
    "#example processing steps\n",
    "sc.pp.filter_genes(adata, min_counts = 1)\n",
    "sc.pp.filter_genes(adata, min_cells = 1)\n",
    "\n",
    "print(adata)"
   ]
  },
  {
   "cell_type": "markdown",
   "metadata": {},
   "source": [
    "**When you're done processing and filtering your anndata, simply call the `setup_anndata()` function to get it ready for `scvi`.**\n",
    "\n",
    "`setup_anndata()` takes the following arguments:\n",
    "\n",
    "- **adata**: anndata.AnnData object with your data in adata.X\n",
    "- **batch_key**: key in adata.obs for batch information. If None, will assign the same batch to all the data.\n",
    "- **labels_key**: key in adata.obs for label information. If None, will assign the same label to all the data. \n",
    "- **X_layers_key**: if not None, will use the data from adata.layers[X_layers_key] instead of the default adata.X.\n",
    "- **protein_expression_obsm_key**: key in adata.obsm containing protein expression data. Only required for TotalVI.\n",
    "- **protein_names_uns_key**: key in adata.uns containing protein names. If None, will use the column names of adata.obsm[protein_expression_obsm_key] if it is a pandas dataframe, else will assign sequential names to proteins. Only relavent but not required for TotalVI.\n",
    "- **copy**: if True, will return a copy of setup adata. Default: False\n",
    "\n",
    "`setup_anndata()` will add the following fields to your anndata. See Section 2 and Section 3 for a more advanced explanation. \n",
    "\n",
    "- **adata.uns['scvi\\_data\\_registry']**: dictionary mapping data field used by `scVI` to their respective locations in adata\n",
    "- **adata.uns['scvi\\_summary\\_stats']**: dictionary of summary statistics for adata\n",
    "- **adata.obs['\\_local\\_l\\_mean']**: per batch library size mean\n",
    "- **adata.obs['\\_local\\_l\\_var']**: per batch library size variance\n",
    "\n",
    "`setup_anndata()` will respectively add the following fields if no batch_key or labels_key was provided. Or if they were not encoded as integers.\n",
    "\n",
    "- **adata.obs['\\_scvi_labels']**: labels encoded as integers\n",
    "- **adata.obs['\\_scvi_batch']**: batch encoded as integers\n",
    "\n",
    "\n",
    "**Since all our data has the same batch and label, we simply call `setup_anndata()` on our anndata. The anndata is now ready for scvi.**\n"
   ]
  },
  {
   "cell_type": "code",
   "execution_count": 10,
   "metadata": {},
   "outputs": [
    {
     "name": "stdout",
     "output_type": "stream",
     "text": [
      "[2020-07-20 22:43:48,906] INFO - scvi.dataset._anndata | Using data from adata.X\n",
      "[2020-07-20 22:43:48,907] INFO - scvi.dataset._anndata | No batch_key inputted, assuming all cells are same batch\n",
      "[2020-07-20 22:43:48,912] INFO - scvi.dataset._anndata | No label_key inputted, assuming all cells have same label\n",
      "[2020-07-20 22:43:48,916] INFO - scvi.dataset._anndata | Computing library size prior per batch\n",
      "[2020-07-20 22:43:48,930] INFO - scvi.dataset._anndata | Successfully registered anndata object containing 2700 cells, 16634 genes, and 1 batches \n",
      "Registered keys:['X', 'batch_indices', 'local_l_mean', 'local_l_var', 'labels']\n"
     ]
    }
   ],
   "source": [
    "setup_anndata(adata)"
   ]
  },
  {
   "cell_type": "markdown",
   "metadata": {},
   "source": [
    "**If we want to use label and batch information from our anndata, simply pass the corresponding keys to `setup_anndata()`**"
   ]
  },
  {
   "cell_type": "code",
   "execution_count": 11,
   "metadata": {},
   "outputs": [
    {
     "name": "stdout",
     "output_type": "stream",
     "text": [
      "[2020-07-20 22:43:52,300] INFO - scvi.dataset._anndata | Using data from adata.X\n",
      "[2020-07-20 22:43:52,300] INFO - scvi.dataset._anndata | Using batches from adata.obs[\"random_batches\"]\n",
      "[2020-07-20 22:43:52,301] INFO - scvi.dataset._anndata | Using labels from adata.obs[\"random_labels\"]\n",
      "[2020-07-20 22:43:52,302] INFO - scvi.dataset._anndata | Computing library size prior per batch\n",
      "[2020-07-20 22:43:52,324] INFO - scvi.dataset._anndata | Successfully registered anndata object containing 2700 cells, 32738 genes, and 2 batches \n",
      "Registered keys:['X', 'batch_indices', 'local_l_mean', 'local_l_var', 'labels']\n"
     ]
    }
   ],
   "source": [
    "adata = sc.datasets.pbmc3k()\n",
    "\n",
    "#assigning cells to random batches as an example (can be string or numbers)\n",
    "adata.obs['random_batches'] = np.random.randint(0,2,adata.shape[0])\n",
    "\n",
    "#assigning cells to random labels as an example (can be strings or numbers)\n",
    "adata.obs['random_labels'] = np.random.randint(0,5,adata.shape[0])\n",
    "\n",
    "setup_anndata(adata, batch_key = 'random_batches', labels_key = 'random_labels')"
   ]
  },
  {
   "cell_type": "markdown",
   "metadata": {},
   "source": [
    "**If we are using TotalVI, we need to pass in protein_expression_obsm_key**"
   ]
  },
  {
   "cell_type": "code",
   "execution_count": 12,
   "metadata": {},
   "outputs": [
    {
     "name": "stdout",
     "output_type": "stream",
     "text": [
      "[2020-07-20 22:43:54,992] INFO - scvi.dataset._anndata | Using data from adata.X\n",
      "[2020-07-20 22:43:54,993] INFO - scvi.dataset._anndata | No batch_key inputted, assuming all cells are same batch\n",
      "[2020-07-20 22:43:54,996] INFO - scvi.dataset._anndata | No label_key inputted, assuming all cells have same label\n",
      "[2020-07-20 22:43:54,999] INFO - scvi.dataset._anndata | Computing library size prior per batch\n",
      "[2020-07-20 22:43:55,011] INFO - scvi.dataset._anndata | Using protein expression from adata.obsm['rand_protein_expressions']\n",
      "[2020-07-20 22:43:55,011] INFO - scvi.dataset._anndata | Using protein names from columns of adata.obsm['rand_protein_expressions']\n",
      "[2020-07-20 22:43:55,013] INFO - scvi.dataset._anndata | Successfully registered anndata object containing 2700 cells, 32738 genes, and 1 batches \n",
      "Registered keys:['X', 'batch_indices', 'local_l_mean', 'local_l_var', 'labels', 'protein_expression']\n"
     ]
    }
   ],
   "source": [
    "adata = sc.datasets.pbmc3k()\n",
    "\n",
    "#adding random protein expression information\n",
    "#make dataframe\n",
    "protein_expression = pd.DataFrame(np.random.randint(0,100,(adata.shape[0],5)), index = adata.obs_names)\n",
    "adata.obsm['rand_protein_expressions'] = protein_expression\n",
    "\n",
    "setup_anndata(adata, protein_expression_obsm_key = 'rand_protein_expressions')"
   ]
  },
  {
   "cell_type": "markdown",
   "metadata": {},
   "source": [
    "## Verifying registration\n",
    "\n",
    "Here we explain what `setup_anndata()` does under the hood and how you can check that your anndata was properly setup. "
   ]
  },
  {
   "cell_type": "markdown",
   "metadata": {},
   "source": [
    "**First we load in the cortex dataset from `scVI`.**\n",
    "\n",
    "`cortex()` consists of 3,005 mouse cortex cells profiled with the Smart-seq2 protocol, with the addition of UMI. To facilitate comparison with other methods, we use a filtered set of 558 highly variable genes. The `cortex()` exhibits a clear high-level subpopulation struc- ture, which has been inferred by the authors of the original publication using computational tools and annotated by inspection of specific genes or transcriptional programs.\n",
    "\n",
    "Reference: Zeisel, A. et al. Cell types in the mouse cortex and hippocampus revealed by single-cell rna-seq. Science 347, 1138–1142 (2015). "
   ]
  },
  {
   "cell_type": "code",
   "execution_count": 13,
   "metadata": {},
   "outputs": [
    {
     "name": "stdout",
     "output_type": "stream",
     "text": [
      "[2020-07-20 22:43:59,773] INFO - scvi.dataset._built_in_data._utils | Downloading file at /Users/galen/scVI/tests/notebooks/data/expression.bin\n",
      "[2020-07-20 22:44:05,791] INFO - scvi.dataset._built_in_data._cortex | Loading Cortex data from /Users/galen/scVI/tests/notebooks/data/expression.bin\n",
      "[2020-07-20 22:44:14,729] INFO - scvi.dataset._built_in_data._cortex | Finished loading Cortex data\n"
     ]
    },
    {
     "name": "stderr",
     "output_type": "stream",
     "text": [
      "/Users/galen/anaconda3/envs/scvi/lib/python3.6/site-packages/anndata/_core/anndata.py:119: ImplicitModificationWarning: Transforming to str index.\n",
      "  warnings.warn(\"Transforming to str index.\", ImplicitModificationWarning)\n"
     ]
    },
    {
     "name": "stdout",
     "output_type": "stream",
     "text": [
      "[2020-07-20 22:44:16,145] INFO - scvi.dataset._anndata | Using data from adata.X\n",
      "[2020-07-20 22:44:16,147] INFO - scvi.dataset._anndata | No batch_key inputted, assuming all cells are same batch\n",
      "[2020-07-20 22:44:16,150] INFO - scvi.dataset._anndata | Using labels from adata.obs[\"labels\"]\n",
      "[2020-07-20 22:44:16,151] INFO - scvi.dataset._anndata | Computing library size prior per batch\n",
      "[2020-07-20 22:44:16,339] INFO - scvi.dataset._anndata | Successfully registered anndata object containing 3005 cells, 19972 genes, and 1 batches \n",
      "Registered keys:['X', 'batch_indices', 'local_l_mean', 'local_l_var', 'labels']\n"
     ]
    }
   ],
   "source": [
    "adata_raw = scvi.dataset.cortex(run_setup_anndata = False) #by default, setup_anndata() is called on preloaded datasets before returning\n",
    "\n",
    "adata = setup_anndata(adata_raw, labels_key = 'labels', copy = True)"
   ]
  },
  {
   "cell_type": "markdown",
   "metadata": {},
   "source": [
    "**Looking at adata.uns['scvi\\_summary\\_stats'] we can verify that the correct number of genes, cells and batches were registered**"
   ]
  },
  {
   "cell_type": "code",
   "execution_count": 14,
   "metadata": {},
   "outputs": [
    {
     "name": "stdout",
     "output_type": "stream",
     "text": [
      "{'n_batch': 1, 'n_cells': 3005, 'n_genes': 19972, 'n_labels': 7}\n"
     ]
    }
   ],
   "source": [
    "print(adata.uns['scvi_summary_stats'])\n",
    "\n",
    "stats = adata.uns['scvi_summary_stats']\n",
    "assert stats['n_cells'] == adata.shape[0]\n",
    "assert stats['n_genes'] == adata.shape[1]\n",
    "assert stats['n_labels'] == len(np.unique(adata.obs['labels']))\n",
    "assert stats['n_batch'] == len(np.unique(adata.obs['_scvi_batch'])) # since batch_key was None, setup_anndata put batch info in _scvi_batch"
   ]
  },
  {
   "cell_type": "markdown",
   "metadata": {},
   "source": [
    "## Advanced explanation\n",
    "Here we provide an in depth explanation of `setup_anndata()` and how the fields are used under the hood in `scVI`\n",
    "\n",
    "**scvi_data_registry hold the mapping between fields needed by `scvi` and their location in anndata**\n",
    "\n",
    "Each field required for `scVI` is mapped to a two element list. \n",
    "The first element in the list is an attribute of anndata. The second is the key of the attribute containing the data. \n",
    "\n",
    "Eg. the list associated with `labels` is `['obs', 'labels']`. Thus `scVI` grabs label information from `adata.obs['labels']`\n",
    "\n",
    "If we look at the list associated with `X`, we see that it is : `['_X', None]`. The second element in the list for `X` is empty. That is because `adata._X` (which contains the same data as `adata.X` but has faster accessing) has no key associated with that field. "
   ]
  },
  {
   "cell_type": "code",
   "execution_count": 15,
   "metadata": {},
   "outputs": [
    {
     "name": "stdout",
     "output_type": "stream",
     "text": [
      "[2020-07-20 22:44:16,351] INFO - scvi.dataset._built_in_data._utils | File /Users/galen/scVI/tests/notebooks/data/expression.bin already downloaded\n",
      "[2020-07-20 22:44:16,352] INFO - scvi.dataset._built_in_data._cortex | Loading Cortex data from /Users/galen/scVI/tests/notebooks/data/expression.bin\n",
      "[2020-07-20 22:44:24,739] INFO - scvi.dataset._built_in_data._cortex | Finished loading Cortex data\n",
      "[2020-07-20 22:44:26,245] INFO - scvi.dataset._anndata | Using data from adata.X\n",
      "[2020-07-20 22:44:26,246] INFO - scvi.dataset._anndata | No batch_key inputted, assuming all cells are same batch\n",
      "[2020-07-20 22:44:26,250] INFO - scvi.dataset._anndata | Using labels from adata.obs[\"labels\"]\n",
      "[2020-07-20 22:44:26,250] INFO - scvi.dataset._anndata | Computing library size prior per batch\n",
      "[2020-07-20 22:44:26,441] INFO - scvi.dataset._anndata | Successfully registered anndata object containing 3005 cells, 19972 genes, and 1 batches \n",
      "Registered keys:['X', 'batch_indices', 'local_l_mean', 'local_l_var', 'labels']\n"
     ]
    },
    {
     "data": {
      "text/plain": [
       "{'X': [None, '_X'],\n",
       " 'batch_indices': ['obs', '_scvi_batch'],\n",
       " 'local_l_mean': ['obs', '_scvi_local_l_mean'],\n",
       " 'local_l_var': ['obs', '_scvi_local_l_var'],\n",
       " 'labels': ['obs', 'labels']}"
      ]
     },
     "execution_count": 15,
     "metadata": {},
     "output_type": "execute_result"
    }
   ],
   "source": [
    "adata_raw = scvi.dataset.cortex(run_setup_anndata = False) #by default, setup_anndata() is called on preloaded datasets before returning\n",
    "adata = setup_anndata(adata_raw, labels_key = 'labels', copy = True)\n",
    "adata.uns['scvi_data_registry']"
   ]
  },
  {
   "cell_type": "markdown",
   "metadata": {},
   "source": [
    "**Looking above, we also see that a number of fields were added to the anndata**\n",
    "\n",
    "Because no `batch_key` was passed into `setup_anndata()`, all the data was assigned the same batch and saved in `adata.obs['_scvi_batch']`"
   ]
  },
  {
   "cell_type": "code",
   "execution_count": 16,
   "metadata": {},
   "outputs": [
    {
     "name": "stdout",
     "output_type": "stream",
     "text": [
      "0       0\n",
      "1       0\n",
      "2       0\n",
      "3       0\n",
      "4       0\n",
      "       ..\n",
      "3000    0\n",
      "3001    0\n",
      "3002    0\n",
      "3003    0\n",
      "3004    0\n",
      "Name: _scvi_batch, Length: 3005, dtype: int8\n",
      "List of all batches: [0]\n"
     ]
    }
   ],
   "source": [
    "print(adata.obs['_scvi_batch'])\n",
    "print('List of all batches:' , np.unique(adata.obs['_scvi_batch']))"
   ]
  },
  {
   "cell_type": "markdown",
   "metadata": {},
   "source": [
    "Because the label information in **adata.obs[\"labels\"]** is encoded as integers, no `_scvi_labels` was added to `.obs`"
   ]
  },
  {
   "cell_type": "code",
   "execution_count": 17,
   "metadata": {},
   "outputs": [
    {
     "data": {
      "text/plain": [
       "0       2\n",
       "1       2\n",
       "2       2\n",
       "3       2\n",
       "4       2\n",
       "       ..\n",
       "3000    1\n",
       "3001    1\n",
       "3002    1\n",
       "3003    1\n",
       "3004    1\n",
       "Name: labels, Length: 3005, dtype: int64"
      ]
     },
     "execution_count": 17,
     "metadata": {},
     "output_type": "execute_result"
    }
   ],
   "source": [
    "adata.obs['labels']"
   ]
  },
  {
   "cell_type": "markdown",
   "metadata": {},
   "source": [
    "**When `scVI` is run, it will perform a check on the anndata for the correct number of fields and a simple verification that nothing was changed**\n",
    "\n",
    "For example, the following throws an error because the anndata was modified after setup:"
   ]
  },
  {
   "cell_type": "code",
   "execution_count": 18,
   "metadata": {},
   "outputs": [
    {
     "name": "stdout",
     "output_type": "stream",
     "text": [
      "[2020-07-20 22:44:34,779] INFO - scvi.dataset._anndata | Using data from adata.X\n",
      "[2020-07-20 22:44:34,780] INFO - scvi.dataset._anndata | Using batches from adata.obs[\"batch\"]\n",
      "[2020-07-20 22:44:34,782] INFO - scvi.dataset._anndata | No label_key inputted, assuming all cells have same label\n",
      "[2020-07-20 22:44:34,785] INFO - scvi.dataset._anndata | Computing library size prior per batch\n",
      "[2020-07-20 22:44:35,320] INFO - scvi.dataset._anndata | Successfully registered anndata object containing 10849 cells, 15792 genes, and 2 batches \n",
      "Registered keys:['X', 'batch_indices', 'local_l_mean', 'local_l_var', 'labels']\n"
     ]
    },
    {
     "name": "stderr",
     "output_type": "stream",
     "text": [
      "Traceback (most recent call last):\n",
      "  File \"<ipython-input-18-5f22a0d83982>\", line 18, in <module>\n",
      "    frequency=5,\n",
      "  File \"/Users/galen/scVI/scvi/inference/inference.py\", line 120, in __init__\n",
      "    ) = self.train_test_validation(model, gene_dataset, train_size, test_size)\n",
      "  File \"/Users/galen/scVI/scvi/inference/trainer.py\", line 400, in train_test_validation\n",
      "    model, gene_dataset, indices=indices_train, type_class=type_class\n",
      "  File \"/Users/galen/scVI/scvi/inference/trainer.py\", line 431, in create_posterior\n",
      "    data_loader_kwargs=self.data_loader_kwargs,\n",
      "  File \"/Users/galen/scVI/scvi/inference/posterior.py\", line 139, in __init__\n",
      "    self.gene_dataset = BioDataset(adata, getitem_tensors=self._data_and_attributes)\n",
      "  File \"/Users/galen/scVI/scvi/dataset/_biodataset.py\", line 31, in __init__\n",
      "    assert adata.shape[1] == stats[\"n_genes\"], error_msg.format(\"genes\")\n",
      "AssertionError: Number of genes in anndata different from when setup_anndata was run. Please rerun setup_anndata.\n"
     ]
    }
   ],
   "source": [
    "import traceback\n",
    "\n",
    "adata = scvi.dataset.pbmcs_10x_cite_seq(save_path = save_path, run_setup_anndata = False)\n",
    "\n",
    "setup_anndata(adata, batch_key = 'batch')\n",
    "\n",
    "adata = adata[:,:10].copy()\n",
    "stats = adata.uns['scvi_summary_stats']\n",
    "vae = scvi.models.VAE(n_input = stats['n_genes'] )\n",
    "\n",
    "#throws error because adata was modified after setup\n",
    "try:\n",
    "    trainer = scvi.inference.UnsupervisedTrainer(\n",
    "        vae,\n",
    "        adata,\n",
    "        train_size=0.90,\n",
    "        use_cuda=False,\n",
    "        frequency=5,\n",
    "    )\n",
    "    trainer.train(n_epochs = n_epochs)\n",
    "except:\n",
    "    traceback.print_exc()\n"
   ]
  },
  {
   "cell_type": "code",
   "execution_count": null,
   "metadata": {},
   "outputs": [],
   "source": []
  }
 ],
 "metadata": {
  "kernelspec": {
   "display_name": "Python scvi",
   "language": "python",
   "name": "scvi"
  },
  "language_info": {
   "codemirror_mode": {
    "name": "ipython",
    "version": 3
   },
   "file_extension": ".py",
   "mimetype": "text/x-python",
   "name": "python",
   "nbconvert_exporter": "python",
   "pygments_lexer": "ipython3",
   "version": "3.6.10"
  }
 },
 "nbformat": 4,
 "nbformat_minor": 2
}
